{
 "cells": [
  {
   "cell_type": "code",
   "execution_count": 2,
   "metadata": {},
   "outputs": [
    {
     "name": "stdout",
     "output_type": "stream",
     "text": [
      "Giáp 29 1234\n",
      "1111\n"
     ]
    }
   ],
   "source": [
    "class ConNguoi:\n",
    "    def __init__(self, ten, tuoi, cccd):\n",
    "        self.ten = ten\n",
    "        self.tuoi = tuoi\n",
    "        self.cccd = cccd\n",
    "    \n",
    "    def show(self):\n",
    "        print(self.ten, self.tuoi, self.cccd)\n",
    "    \n",
    "class BacSi(ConNguoi):\n",
    "    def __init__(self, ten, tuoi, cccd, maBacSi):\n",
    "        super().__init__(ten, tuoi, cccd)\n",
    "        self.maBacSi = maBacSi\n",
    "\n",
    "    def show(self):\n",
    "        super().show()\n",
    "        print(self.maBacSi)\n",
    "\n",
    "bacSi1 = BacSi(\"Giáp\", 29, \"1234\", \"1111\")\n",
    "bacSi1.show()\n",
    "       \n"
   ]
  },
  {
   "cell_type": "code",
   "execution_count": null,
   "metadata": {},
   "outputs": [],
   "source": []
  }
 ],
 "metadata": {
  "kernelspec": {
   "display_name": "Python 3",
   "language": "python",
   "name": "python3"
  },
  "language_info": {
   "codemirror_mode": {
    "name": "ipython",
    "version": 3
   },
   "file_extension": ".py",
   "mimetype": "text/x-python",
   "name": "python",
   "nbconvert_exporter": "python",
   "pygments_lexer": "ipython3",
   "version": "3.11.4"
  },
  "orig_nbformat": 4
 },
 "nbformat": 4,
 "nbformat_minor": 2
}
