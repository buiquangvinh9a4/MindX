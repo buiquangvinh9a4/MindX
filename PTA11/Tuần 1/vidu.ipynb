{
 "cells": [
  {
   "cell_type": "code",
   "execution_count": 8,
   "metadata": {},
   "outputs": [
    {
     "name": "stdout",
     "output_type": "stream",
     "text": [
      "Tên siêu nhân: Khủng Long\n",
      "Màu của siêu nhân: Red\n",
      "Sức mạnh của siêu nhân: 500\n",
      "Cấp độ của siêu nhân: 1\n",
      "**************************************************\n",
      "Ta đã lên 1 cấp, cấp hiện tại là 2 - 10500\n",
      "Tên siêu nhân: Khủng Long\n",
      "Màu của siêu nhân: Red\n",
      "Sức mạnh của siêu nhân: 10500\n",
      "Cấp độ của siêu nhân: 2\n",
      "**************************************************\n"
     ]
    }
   ],
   "source": [
    "class SieuNhan:\n",
    "    # luôn luôn có khai báo thuộc tính\n",
    "    def __init__(self, name, color):\n",
    "        self.name = name\n",
    "        self.color = color \n",
    "        self.power = 500\n",
    "        self.level = 1 \n",
    "\n",
    "    def show(self):\n",
    "        print(\"Tên siêu nhân:\", self.name )\n",
    "        print(\"Màu của siêu nhân:\",  self.color)\n",
    "        print(\"Sức mạnh của siêu nhân:\", self.power)\n",
    "        print(\"Cấp độ của siêu nhân:\", self.level)\n",
    "        print(\"*\" * 50)\n",
    "\n",
    "    def levelUp(self):\n",
    "        self.level += 1\n",
    "        self.power += 10000\n",
    "        print(\"Ta đã lên 1 cấp, cấp hiện tại là\", self.level, \"-\", self.power)\n",
    "    \n",
    "# khởi tạo đối tượng sn1 thuộc lớp SieuNhan\n",
    "sn1 = SieuNhan(\"Khủng Long\", \"Red\")\n",
    "# trước khi tăng cấp\n",
    "sn1.show()\n",
    "\n",
    "# sử dụng tăng cấp\n",
    "sn1.levelUp()\n",
    "\n",
    "# sau khi tăng cấp\n",
    "sn1.show()\n",
    "\n",
    "\n",
    "\n",
    "\n",
    "        \n"
   ]
  },
  {
   "cell_type": "code",
   "execution_count": 15,
   "metadata": {},
   "outputs": [
    {
     "name": "stdout",
     "output_type": "stream",
     "text": [
      "Cook cook cook\n",
      "Thông tin về Gà Công Nghiệp\n",
      "- Giống: Đực\n",
      "- Màu sắc: Đỏ\n",
      "- Tuổi: 5\n",
      "- Cân nặng: 8.7\n",
      "------------------------------\n",
      "Meow meow\n",
      "Thông tin về Mèo Ai Cập\n",
      "- Giống: Cái\n",
      "- Màu sắc: Đen\n",
      "- Tuổi: 2\n",
      "- Cân nặng: 10\n",
      "------------------------------\n",
      "Wow wow\n",
      "Thông tin về Chó Ba Tư\n",
      "- Giống: Đực\n",
      "- Màu sắc: Vàng\n",
      "- Tuổi: 3\n",
      "- Cân nặng: 20\n",
      "------------------------------\n"
     ]
    }
   ],
   "source": [
    "class VatNuoi:\n",
    "    def __init__(self, ten, giong, mauSac, tuoi, canNang):\n",
    "        self.ten = ten\n",
    "        self.giong = giong\n",
    "        self.mauSac = mauSac\n",
    "        self.tuoi = tuoi \n",
    "        self.canNang = canNang \n",
    "    \n",
    "    def show(self):\n",
    "        print(\"Thông tin về\", self.ten)\n",
    "        print(\"- Giống:\", self.giong)\n",
    "        print(\"- Màu sắc:\", self.mauSac)\n",
    "        print(\"- Tuổi:\", self.tuoi)\n",
    "        print(\"- Cân nặng:\", self.canNang)\n",
    "        print(\"-\" * 30)\n",
    "\n",
    "    def keu(self):\n",
    "        if \"Mèo\" in self.ten:\n",
    "            print(\"Meow meow\")\n",
    "        elif  \"Chó\" in self.ten:\n",
    "            print(\"Wow wow\")\n",
    "        elif \"Gà\" in self.ten:\n",
    "            print(\"Cook cook cook\")\n",
    "        else:\n",
    "            print(\"Tôi không phải con vật!\")\n",
    "\n",
    "conVat1 = VatNuoi(\"Gà Công Nghiệp\", \"Đực\", \"Đỏ\", 5, 8.7)\n",
    "conVat2 = VatNuoi(\"Mèo Ai Cập\", \"Cái\", \"Đen\", 2, 10)\n",
    "conVat3 = VatNuoi(\"Chó Ba Tư\", \"Đực\", \"Vàng\", 3, 20)\n",
    "\n",
    "lstDongVat = [conVat1, conVat2, conVat3]\n",
    "\n",
    "for conVat in lstDongVat:\n",
    "    conVat.keu()\n",
    "    conVat.show()\n",
    "\n"
   ]
  },
  {
   "cell_type": "code",
   "execution_count": null,
   "metadata": {},
   "outputs": [],
   "source": [
    "Thông tin truy cập Denise\n",
    "\n",
    "    • Học viên: Khuất Tuấn Phương\n",
    "    • Tài khoản: 23007694@mindx.edu.vn\n",
    "    • Mật khẩu mặc định: Mindx@2024\n",
    "    • Liên kết: https://base.mindx.edu.vn/login?callbackUrl=https://denise.mindx.edu.vn\n",
    "\n",
    "Trường học công nghệ MindX xin chân thành cảm ơn!"
   ]
  }
 ],
 "metadata": {
  "kernelspec": {
   "display_name": "Python 3",
   "language": "python",
   "name": "python3"
  },
  "language_info": {
   "codemirror_mode": {
    "name": "ipython",
    "version": 3
   },
   "file_extension": ".py",
   "mimetype": "text/x-python",
   "name": "python",
   "nbconvert_exporter": "python",
   "pygments_lexer": "ipython3",
   "version": "3.11.4"
  },
  "orig_nbformat": 4
 },
 "nbformat": 4,
 "nbformat_minor": 2
}
