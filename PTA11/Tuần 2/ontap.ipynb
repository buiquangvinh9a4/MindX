{
 "cells": [
  {
   "cell_type": "code",
   "execution_count": null,
   "metadata": {},
   "outputs": [],
   "source": [
    "\"\"\"\n",
    "    VD: Tạo 1 lớp có tên là HocSinh\n",
    "    Lớp HocSinh gồm:\n",
    "    - Mã học sinh:\n",
    "    - Tên học sinh:\n",
    "    - Tuổi:\n",
    "    - Quốc tịch: \n",
    "\n",
    "    HocSinh có các phương thức:\n",
    "    - xinChao():   Hiển thị \"Xin chào, tôi tên là....\"\n",
    "    - thongTinCaNhan():   Hiển thị tất cả thông tin\n",
    "    - kiemTraTuoi():   Nếu hs < 10 tuổi ->  Tôi rất trẻ\n",
    "                       Nếu hs từ 10 đến 20 tuổi -> Tôi là thanh niên\n",
    "                       Nếu hs > 20 -> Tôi đã già\n",
    "\"\"\""
   ]
  },
  {
   "cell_type": "code",
   "execution_count": 4,
   "metadata": {},
   "outputs": [
    {
     "name": "stdout",
     "output_type": "stream",
     "text": [
      "Xin chào, tôi là Dũng\n",
      "Tôi đã xuyên không 5 năm!\n",
      "Tôi còn 7 tuổi\n"
     ]
    }
   ],
   "source": [
    "class HocSinh:\n",
    "    def __init__(self, maHS, tenHS, tuoiHS, quocTichHS):\n",
    "        self.maHS = maHS\n",
    "        self.tenHS = tenHS\n",
    "        self.tuoiHS = tuoiHS\n",
    "        self.quocTichHS = quocTichHS\n",
    "\n",
    "    def xinChao(self):\n",
    "        print(f\"Xin chào, tôi là {self.tenHS}\")\n",
    "\n",
    "    def kiemTraTuoi(self):\n",
    "        if self.tuoiHS < 10:\n",
    "            print(\"Tôi rất trẻ\")\n",
    "        elif self.tuoiHS < 20:\n",
    "            print(\"Tôi là thanh niên\")\n",
    "        else:\n",
    "            print(\"Tôi đã già\")\n",
    "\n",
    "    def xuyenKhong(self, year):\n",
    "        self.tuoiHS -= year\n",
    "        print(\"Tôi đã xuyên không\", year, \"năm!\")\n",
    "        print(\"Tôi còn\", self.tuoiHS, \"tuổi\")\n",
    "\n",
    "hs1 = HocSinh(\"1111\", \"Dũng\", 12, \"Việt Nam\")\n",
    "hs1.xinChao()\n",
    "hs1.xuyenKhong(5)"
   ]
  },
  {
   "cell_type": "code",
   "execution_count": 12,
   "metadata": {},
   "outputs": [
    {
     "name": "stdout",
     "output_type": "stream",
     "text": [
      "Bạn đã nạp 100000 thành công!\n",
      "Số dư tài khoản: 100000\n",
      "Đã chuyển thành công 20000  cho STK 555555\n",
      "Số dư tài khoản: 120000\n"
     ]
    }
   ],
   "source": [
    "class Account:\n",
    "    def __init__(self, STK, tenTK):\n",
    "        self.STK = STK \n",
    "        self.tenTK = tenTK\n",
    "        self.soDu = 0\n",
    "\n",
    "    # hiển thị số dư trong tài khoản\n",
    "    def hienThiSoDu(self):\n",
    "        print(\"Số dư tài khoản:\", self.soDu)\n",
    "    \n",
    "    def napTien(self, tien):\n",
    "        if tien <= 0:\n",
    "            print(\"Số tiền nạp không hợp lệ!\")\n",
    "        else:\n",
    "            self.soDu += tien\n",
    "            print(\"Bạn đã nạp\", tien, \"thành công!\")\n",
    "            print(\"Số dư tài khoản:\", self.soDu)\n",
    "    \n",
    "    def rutTien(self, tien):\n",
    "        if tien <= self.soDu:\n",
    "            self.soDu -= tien\n",
    "            print(\"Bạn đã rút thành công\", tien)\n",
    "            print(\"Số dư tài khoản:\", self.soDu)\n",
    "        else:\n",
    "            print(\"Số tiền trong tài khoản không đủ\")\n",
    "\n",
    "    def chuyenTien(self, acc, tien):\n",
    "        self.soDu -= tien\n",
    "        acc.soDu += tien\n",
    "        print(\"Đã chuyển thành công\", tien, \" cho STK\", acc.STK)\n",
    "        \n",
    "tk1 = Account(123456, \"Khuất Tuấn Phương\")\n",
    "tk2 = Account(987654, \"Mai Việt Zũng\")\n",
    "tk3 = Account(555555, \"Nam Đẹp Zai\")\n",
    "tk3.napTien(100000)\n",
    "\n",
    "\n",
    "# Tạo hình thức chuyển tiền\n",
    "tk1.chuyenTien(tk3, 20000)\n",
    "tk3.hienThiSoDu()\n",
    "\n"
   ]
  },
  {
   "cell_type": "code",
   "execution_count": null,
   "metadata": {},
   "outputs": [],
   "source": []
  }
 ],
 "metadata": {
  "kernelspec": {
   "display_name": "Python 3",
   "language": "python",
   "name": "python3"
  },
  "language_info": {
   "codemirror_mode": {
    "name": "ipython",
    "version": 3
   },
   "file_extension": ".py",
   "mimetype": "text/x-python",
   "name": "python",
   "nbconvert_exporter": "python",
   "pygments_lexer": "ipython3",
   "version": "3.11.4"
  },
  "orig_nbformat": 4
 },
 "nbformat": 4,
 "nbformat_minor": 2
}
