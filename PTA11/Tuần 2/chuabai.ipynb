{
 "cells": [
  {
   "attachments": {},
   "cell_type": "markdown",
   "metadata": {},
   "source": [
    "Viết chương trình xây dựng một lớp Quản lý điểm học sinh gồm các thuộc tính:\n",
    "     - HoTen: \n",
    "     - Lop\n",
    "     - Truong\n",
    "     - DiemToan\n",
    "     - DiemVan\n",
    "     - DiemAnh\n",
    "Hãy gán xây dựng dữ liệu cho ít nhất 3 học sinh thông qua lớp QuanLyDiemHS. Xử lý và xuất ra màn hình thông tin của học sinh có điểm trung bình ba môn Toán,  Văn và Anh cao nhất. Nếu có nhiều học sinh có điểm trung bình của ba môn bằng nhau, hãy xuất ra thông tin của các học sinh đó."
   ]
  },
  {
   "cell_type": "code",
   "execution_count": 4,
   "metadata": {},
   "outputs": [
    {
     "name": "stdout",
     "output_type": "stream",
     "text": [
      "Họ tên: Lê Đăng Záp_Toán: 10_Văn: 10_Anh: 9\n",
      "Họ tên: Khuất Tuấn Fương_Toán: 10_Văn: 10_Anh: 9\n"
     ]
    }
   ],
   "source": [
    "class QuanLyDiemHS:\n",
    "    def __init__(self, HoTen, Lop, Truong, DiemToan, DiemVan, DiemAnh):\n",
    "        self.HoTen = HoTen\n",
    "        self.Lop = Lop \n",
    "        self.Truong = Truong \n",
    "        self.DiemToan = DiemToan \n",
    "        self.DiemVan = DiemVan \n",
    "        self.DiemAnh = DiemAnh\n",
    "\n",
    "    def diemTrungBinh(self):\n",
    "        return (self.DiemToan + self.DiemVan + self.DiemAnh) / 3\n",
    "    \n",
    "    def show(self):\n",
    "        print(f\"Họ tên: {self.HoTen}_Toán: {self.DiemToan}_Văn: {self.DiemVan}_Anh: {self.DiemAnh}\")\n",
    "    \n",
    "hs1 = QuanLyDiemHS(\"Lê Đăng Záp\", \"1A1\", \"TH Liên Quân\", 10, 10, 9)\n",
    "hs2 = QuanLyDiemHS(\"Khuất Tuấn Fương\", \"1A3\", \"TH Chơi Game Trộm\", 10, 10, 9)\n",
    "hs3 = QuanLyDiemHS(\"Mai Việt Zũng\", \"2A5\", \"TH Ăn cơm tró\", 3, 4, 5)\n",
    "hs4 = QuanLyDiemHS(\"Hồ Sỹ Bảo Name\", \"12A1\", \"THPT Bốc Phốt\", 6, 7, 8)\n",
    "\n",
    "lst = [hs1, hs2, hs3, hs4]\n",
    "diemTBCaoNhat = 0\n",
    "\n",
    "for hs in lst:     # Hàm tìm điểm trung bình cao nhất\n",
    "    diemTB = hs.diemTrungBinh()\n",
    "    if diemTB > diemTBCaoNhat:\n",
    "        diemTBCaoNhat = diemTB\n",
    "\n",
    "for hs in lst:\n",
    "    diemTB = hs.diemTrungBinh()\n",
    "    if diemTB == diemTBCaoNhat:\n",
    "        hs.show()     # Hàm in ra thông tin sinh viên có điểm trung bình cao nhất\n",
    "\n",
    "\n",
    "\n"
   ]
  },
  {
   "cell_type": "code",
   "execution_count": null,
   "metadata": {},
   "outputs": [],
   "source": []
  }
 ],
 "metadata": {
  "kernelspec": {
   "display_name": "Python 3",
   "language": "python",
   "name": "python3"
  },
  "language_info": {
   "codemirror_mode": {
    "name": "ipython",
    "version": 3
   },
   "file_extension": ".py",
   "mimetype": "text/x-python",
   "name": "python",
   "nbconvert_exporter": "python",
   "pygments_lexer": "ipython3",
   "version": "3.11.4"
  },
  "orig_nbformat": 4
 },
 "nbformat": 4,
 "nbformat_minor": 2
}
