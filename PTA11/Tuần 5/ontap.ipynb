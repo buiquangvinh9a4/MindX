{
 "cells": [
  {
   "cell_type": "code",
   "execution_count": 17,
   "metadata": {},
   "outputs": [
    {
     "name": "stdout",
     "output_type": "stream",
     "text": [
      "Tôi tên là Giáp Tuấn Phương\n",
      "Tôi 1 tuổi\n",
      "Tôi ở Gầm Cầu\n",
      "Mã HS của tôi: 1069\n",
      "Tôi có ĐTB là:  1.5\n"
     ]
    }
   ],
   "source": [
    "import datetime\n",
    "class ConNguoi:\n",
    "    # khai báo thuộc tính\n",
    "    def __init__(self):\n",
    "        self.ten = \"\"\n",
    "        self.tuoi = 0\n",
    "        self.diaChi = \"\"\n",
    "    \n",
    "    # khai báo phương thức\n",
    "    def show(self):\n",
    "        print(\"Tôi tên là\", self.ten)\n",
    "        print(\"Tôi\", self.tuoi, \"tuổi\")\n",
    "        print(\"Tôi ở\", self.diaChi)\n",
    "\n",
    "    def tinhNamSinh(self):\n",
    "        return datetime.datetime.now().year - self.tuoi \n",
    "    \n",
    "    def nhapThongTin(self):\n",
    "        self.ten = input(\"- Nhập tên: \")\n",
    "        self.tuoi = int(input(\"- Nhập tuổi: \"))\n",
    "        self.diaChi = input(\"- Nhập địa chỉ: \")\n",
    "    \n",
    "class HocSinh(ConNguoi):\n",
    "    def __init__(self):\n",
    "        super().__init__()\n",
    "        self.maHS = 0\n",
    "        self.diemTB = 0\n",
    "\n",
    "    def show(self):\n",
    "        super().show()\n",
    "        print(\"Mã HS của tôi:\", self.maHS)\n",
    "        print(\"Tôi có ĐTB là: \", self.diemTB)\n",
    "\n",
    "    def nhapThongTin(self):\n",
    "        super().nhapThongTin()\n",
    "        self.maHS = int(input(\"- Nhập mã HS: \"))\n",
    "        self.diemTB = float(input(\"- Nhập điểm TB: \"))\n",
    "\n",
    "lst_students = []\n",
    "for i in range(5):\n",
    "    nguoi = HocSinh()\n",
    "    nguoi.nhapThongTin()\n",
    "    lst_students.append(nguoi)\n",
    "\n",
    "# hiển thị ra thông tin của cả 5 người?\n",
    "# thử thách: hiển thị ra thông tin của người nào có tuổi >= 18\n",
    "    "
   ]
  },
  {
   "cell_type": "code",
   "execution_count": 12,
   "metadata": {},
   "outputs": [
    {
     "name": "stdout",
     "output_type": "stream",
     "text": [
      "2024\n"
     ]
    }
   ],
   "source": [
    "import datetime \n",
    "print(datetime.datetime.now().year)"
   ]
  },
  {
   "cell_type": "code",
   "execution_count": null,
   "metadata": {},
   "outputs": [],
   "source": []
  }
 ],
 "metadata": {
  "kernelspec": {
   "display_name": "Python 3",
   "language": "python",
   "name": "python3"
  },
  "language_info": {
   "codemirror_mode": {
    "name": "ipython",
    "version": 3
   },
   "file_extension": ".py",
   "mimetype": "text/x-python",
   "name": "python",
   "nbconvert_exporter": "python",
   "pygments_lexer": "ipython3",
   "version": "3.11.4"
  },
  "orig_nbformat": 4
 },
 "nbformat": 4,
 "nbformat_minor": 2
}
