{
 "cells": [
  {
   "cell_type": "code",
   "execution_count": 13,
   "id": "d9603305",
   "metadata": {},
   "outputs": [],
   "source": [
    "# Bai 2\n",
    "class MathList:\n",
    "    # khởi tạo thuộc tính: thuộc tính list\n",
    "    def __init__(self, lst):\n",
    "        self.lst = lst\n",
    "        \n",
    "    def __str__(self):   # phương thức hiển thị ra xâu\n",
    "        s = \"\"\n",
    "        for number in self.lst:\n",
    "            s = s + str(number) + \", \"\n",
    "        return s\n",
    "    \n",
    "    def __add__(self, num_add):    # phương thức cộng với 1 phần tử\n",
    "        new_lst = []\n",
    "        for number in self.lst:\n",
    "            number = number + num_add\n",
    "            new_lst.append(number)\n",
    "        return new_lst\n",
    "            \n",
    "        \n",
    "# [1, 2, 3, 4, 5]\n",
    "# [2, 2, 2, 2, 2]\n",
    "# [3, 4, 5, 6, 7]"
   ]
  },
  {
   "cell_type": "code",
   "execution_count": 14,
   "id": "516b1fb9",
   "metadata": {},
   "outputs": [
    {
     "name": "stdout",
     "output_type": "stream",
     "text": [
      "[3, 4, 5, 6, 7]\n"
     ]
    }
   ],
   "source": [
    "lst1 = MathList([1, 2, 3, 4, 5])\n",
    "lst1 = lst1 + 2\n",
    "print(lst1)"
   ]
  },
  {
   "cell_type": "code",
   "execution_count": null,
   "id": "1a557308",
   "metadata": {},
   "outputs": [],
   "source": []
  }
 ],
 "metadata": {
  "kernelspec": {
   "display_name": "Python 3 (ipykernel)",
   "language": "python",
   "name": "python3"
  },
  "language_info": {
   "codemirror_mode": {
    "name": "ipython",
    "version": 3
   },
   "file_extension": ".py",
   "mimetype": "text/x-python",
   "name": "python",
   "nbconvert_exporter": "python",
   "pygments_lexer": "ipython3",
   "version": "3.10.9"
  }
 },
 "nbformat": 4,
 "nbformat_minor": 5
}
