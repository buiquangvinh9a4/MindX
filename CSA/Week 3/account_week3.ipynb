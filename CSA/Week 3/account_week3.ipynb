{
 "cells": [
  {
   "cell_type": "code",
   "execution_count": 14,
   "id": "5dff5172",
   "metadata": {},
   "outputs": [],
   "source": [
    "import datetime\n",
    "class User:\n",
    "    def __init__(self):\n",
    "        self.fullname = \"\"\n",
    "        self.email = \"\"\n",
    "        self.birthdate = \"\"\n",
    "\n",
    "    def input_user_info(self):\n",
    "        self.fullname = input(\"- Họ tên đầy đủ: \")\n",
    "        self.email = input(\"- Địa chỉ thư: \")\n",
    "        print(\"- Ngày tháng năm sinh: \")\n",
    "        d = int(input(\" + Nhập ngày: \"))\n",
    "        m = int(input(\" + Nhập tháng: \"))\n",
    "        y = int(input(\" + Nhập năm: \"))\n",
    "        self.birthdate = datetime.datetime(y, m, d)\n",
    "\n",
    "    def display_user_info(self):\n",
    "        print(f\"Họ tên: {self.fullname}\")\n",
    "        print(f\"Email: {self.email}\")\n",
    "        print(f\"Ngày sinh: {self.birthdate}\")\n",
    "\n",
    "class Account(User):\n",
    "    def __init__(self):\n",
    "        User.__init__(self)\n",
    "        self.username = \"\"\n",
    "        self.password = \"\"\n",
    "\n",
    "    def register_account(self):\n",
    "        User.input_user_info(self)\n",
    "        self.username = input(\"- Nhập username: \")\n",
    "        \n",
    "        while True:\n",
    "            self.password = input(\"- Nhập password: \")\n",
    "            checkLength = len(self.password) >= 8\n",
    "            isDigit = any(char.isdigit() for char in self.password)\n",
    "            isUpper = any(char.isupper() for char in self.password)\n",
    "            isLower = any(char.islower() for char in self.password)\n",
    "            \n",
    "            if checkLength and isDigit and isUpper and isLower:\n",
    "                print(\"-\" * 50 )\n",
    "                print(\"Đăng ký thành công\")\n",
    "                print(\"-\" * 50 )\n",
    "                break\n",
    "            print(\"Password không hợp lệ. Vui lòng nhập lại!\")\n",
    "\n",
    "    def display_user_info(self):\n",
    "        User.display_user_info(self)\n",
    "        print(f\"Tên người dùng: {self.username}\")\n",
    "        print(f\"Mật khẩu: {self.password}\")\n",
    "        print(\"-\" * 50 )"
   ]
  },
  {
   "cell_type": "code",
   "execution_count": null,
   "id": "ae66611a",
   "metadata": {},
   "outputs": [
    {
     "name": "stdout",
     "output_type": "stream",
     "text": [
      "Nhập số người cần đăng ký: 3\n",
      "Mời đăng ký tài khoản số 1: \n",
      "- Họ tên đầy đủ: 34234\n",
      "- Địa chỉ thư: 3244\n",
      "- Ngày tháng năm sinh: \n",
      " + Nhập ngày: 11\n",
      " + Nhập tháng: 1\n",
      " + Nhập năm: 1\n",
      "- Nhập username: 2\n",
      "- Nhập password: fadsadAASDADa123\n",
      "--------------------------------------------------\n",
      "Đăng ký thành công\n",
      "--------------------------------------------------\n",
      "Mời đăng ký tài khoản số 2: \n"
     ]
    }
   ],
   "source": [
    "n = int(input(\"Nhập số người cần đăng ký: \"))\n",
    "acc_lst = []      # chứa danh sách các tài khoản\n",
    "\n",
    "for i in range(n):\n",
    "    print(f\"Mời đăng ký tài khoản số {i + 1}: \")\n",
    "    acc1 = Account()\n",
    "    acc1.register_account()\n",
    "    acc_lst.append(acc1)\n",
    "\n",
    "best_lst = []\n",
    "# danh sách các khách hàng tiềm năng (<25)\n",
    "for acc in acc_lst:\n",
    "    today = datetime.datetime.now().year\n",
    "    year_self = acc.birthdate.year\n",
    "    if today - year_self < 25:\n",
    "        best_lst.append(acc)\n",
    "\n",
    "for acc in best_lst:\n",
    "    acc.display_user_info()\n",
    "    "
   ]
  },
  {
   "cell_type": "code",
   "execution_count": 10,
   "id": "47495183",
   "metadata": {},
   "outputs": [
    {
     "data": {
      "text/plain": [
       "True"
      ]
     },
     "execution_count": 10,
     "metadata": {},
     "output_type": "execute_result"
    }
   ],
   "source": [
    "password = \"tinhdep1trai\"\n",
    "isDigit = any(char.islower() for char in password)\n",
    "isDigit"
   ]
  },
  {
   "cell_type": "code",
   "execution_count": 18,
   "id": "b9390397",
   "metadata": {},
   "outputs": [
    {
     "data": {
      "text/plain": [
       "2023"
      ]
     },
     "execution_count": 18,
     "metadata": {},
     "output_type": "execute_result"
    }
   ],
   "source": [
    "today = datetime.datetime.now()\n",
    "today.year"
   ]
  },
  {
   "cell_type": "code",
   "execution_count": null,
   "id": "91f8d86b",
   "metadata": {},
   "outputs": [],
   "source": []
  }
 ],
 "metadata": {
  "kernelspec": {
   "display_name": "Python 3 (ipykernel)",
   "language": "python",
   "name": "python3"
  },
  "language_info": {
   "codemirror_mode": {
    "name": "ipython",
    "version": 3
   },
   "file_extension": ".py",
   "mimetype": "text/x-python",
   "name": "python",
   "nbconvert_exporter": "python",
   "pygments_lexer": "ipython3",
   "version": "3.10.9"
  }
 },
 "nbformat": 4,
 "nbformat_minor": 5
}
