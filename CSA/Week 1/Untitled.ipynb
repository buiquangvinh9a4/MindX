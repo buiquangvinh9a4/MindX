{
 "cells": [
  {
   "cell_type": "code",
   "execution_count": 20,
   "id": "f7090975",
   "metadata": {},
   "outputs": [
    {
     "name": "stdout",
     "output_type": "stream",
     "text": [
      "- Enter name: SongoKu\n",
      "- Enter level: 100\n",
      "- Enter hair color: Red\n",
      "Hi, my name is SongoKu, level: 100, hairColor: Red\n"
     ]
    }
   ],
   "source": [
    "class DragonBall:\n",
    "    # khai báo thuộc tính\n",
    "    def __init__(self):\n",
    "        self.name = \"unknown\"\n",
    "        self.level = 0\n",
    "        self.hairColor = \"black\"\n",
    "    \n",
    "    # khai báo phương thức\n",
    "    def inputData(self):\n",
    "        self.name = input(\"- Enter name: \")\n",
    "        self.level = int(input(\"- Enter level: \"))\n",
    "        self.hairColor = input(\"- Enter hair color: \")\n",
    "    \n",
    "    def superSaiyan(self):\n",
    "        self.level = self.level + 1\n",
    "        self.hairColor = \"yellow\"\n",
    "    \n",
    "    def sayHi(self):\n",
    "        print(f\"Hi, my name is {self.name}, level: {self.level}, hairColor: {self.hairColor}\")\n",
    "        \n",
    "\n",
    "\n",
    "SonGoKu = DragonBall()\n",
    "Beerus = DragonBall()\n",
    "\n",
    "SonGoKu.inputData()\n",
    "\n",
    "SonGoKu.superSaiyan()\n",
    "select = input(\"Bạn có muốn rút tiếp không (Có/Không)\")\n",
    "if select == \"Có\":\n",
    "    SonGoKu.superSaiyan()\n",
    "\n",
    "\n",
    "SonGoKu.sayHi()\n",
    "\n",
    "        "
   ]
  },
  {
   "cell_type": "code",
   "execution_count": 27,
   "id": "558c53cc",
   "metadata": {},
   "outputs": [
    {
     "name": "stdout",
     "output_type": "stream",
     "text": [
      "- Enter your username: 32424\n",
      "- Enter your password: 123\n",
      "10000\n"
     ]
    }
   ],
   "source": [
    "class BankAccount:\n",
    "    # khai báo thuộc tính\n",
    "    def __init__(self):\n",
    "        self.username = \"unknown\"\n",
    "        self.password = \"\"\n",
    "        self.money = 10000\n",
    "        \n",
    "    # khai báo phương thức\n",
    "    def signUp(self):\n",
    "        self.username = input(\"- Enter your username: \")\n",
    "        self.password = input(\"- Enter your password: \")\n",
    "    \n",
    "    def showInfo(self):\n",
    "        print(f\"Username: {self.username}\")\n",
    "        print(f\"Password: {self.password}\")\n",
    "        print(f\"Money: {self.money}\")\n",
    "        \n",
    "    def addMoney(self):\n",
    "        _money = int(input(\"- Enter your money: \"))\n",
    "        self.money += _money\n",
    "        print(f\"Money: {self.money}\")\n",
    "    \n",
    "    def withdrawMoney(self):\n",
    "        _money = int(input(\"- Enter your money: \"))\n",
    "        while self.money < _money:\n",
    "            _money = int(input(\"- Enter your money: \"))\n",
    "            if self.money >= _money:\n",
    "                break\n",
    "        self.money -= _money\n",
    "        print(f\"Money: {self.money}\")\n",
    "        \n",
    "Account1 = BankAccount()\n",
    "Account1.signUp()\n",
    "\n",
    "print(Account1.money)\n",
    "\n",
    "    \n",
    "    "
   ]
  },
  {
   "cell_type": "code",
   "execution_count": null,
   "id": "7d28a032",
   "metadata": {},
   "outputs": [],
   "source": []
  }
 ],
 "metadata": {
  "kernelspec": {
   "display_name": "Python 3 (ipykernel)",
   "language": "python",
   "name": "python3"
  },
  "language_info": {
   "codemirror_mode": {
    "name": "ipython",
    "version": 3
   },
   "file_extension": ".py",
   "mimetype": "text/x-python",
   "name": "python",
   "nbconvert_exporter": "python",
   "pygments_lexer": "ipython3",
   "version": "3.10.9"
  }
 },
 "nbformat": 4,
 "nbformat_minor": 5
}
