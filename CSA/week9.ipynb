{
 "cells": [
  {
   "cell_type": "code",
   "execution_count": 3,
   "id": "88fea19f",
   "metadata": {},
   "outputs": [],
   "source": [
    "import pandas as pd\n",
    "\n",
    "col_list = ['Name', 'Division', 'Region', 'Area', 'Population']\n",
    "province_list = [\n",
    "('Thành phố Hà Nội', 'Thành phố Trung ương', 'Đồng bằng sông Hồng', 3358.6, 8093.9),\n",
    "('Tỉnh Hà Giang', 'Tỉnh', 'Đông Bắc Bộ', 7929.5, 858.1),\n",
    "('Tỉnh Cao Bằng', 'Tỉnh', 'Đông Bắc Bộ', 6700.3, 530.9),\n",
    "('Tỉnh Bắc Kạn', 'Tỉnh', 'Đông Bắc Bộ', 4860.0, 314.4),\n",
    "('Tỉnh Tuyên Quang', 'Tỉnh', 'Đông Bắc Bộ', 5867.9, 786.3),\n",
    "('Tỉnh Lào Cai', 'Tỉnh', 'Tây Bắc Bộ', 6364.0, 733.3),\n",
    "('Tỉnh Điện Biên', 'Tỉnh', 'Tây Bắc Bộ', 9541.3, 601.7),\n",
    "('Tỉnh Lai Châu', 'Tỉnh', 'Tây Bắc Bộ', 9068.8, 462.6),\n",
    "('Tỉnh Sơn La', 'Tỉnh', 'Tây Bắc Bộ', 14123.5, 1252.7),\n",
    "('Tỉnh Yên Bái', 'Tỉnh', 'Tây Bắc Bộ', 6887.5, 823.0),\n",
    "('Tỉnh Hoà Bình', 'Tỉnh', 'Tây Bắc Bộ', 4590.6, 855.8),\n",
    "('Tỉnh Thái Nguyên', 'Tỉnh', 'Đông Bắc Bộ', 3526.6, 1290.9),\n",
    "('Tỉnh Lạng Sơn', 'Tỉnh', 'Đông Bắc Bộ', 8310.1, 782.8),\n",
    "('Tỉnh Quảng Ninh', 'Tỉnh', 'Đông Bắc Bộ', 6178.2, 1324.8),\n",
    "('Tỉnh Bắc Giang', 'Tỉnh', 'Đông Bắc Bộ', 3895.6, 1810.4),\n",
    "('Tỉnh Phú Thọ', 'Tỉnh', 'Đông Bắc Bộ', 3534.6, 1466.4),\n",
    "('Tỉnh Vĩnh Phúc', 'Tỉnh', 'Đồng bằng sông Hồng', 1235.9, 1154.8),\n",
    "('Tỉnh Bắc Ninh', 'Tỉnh', 'Đồng bằng sông Hồng', 822.7, 1378.6),\n",
    "('Tỉnh Hải Dương', 'Tỉnh', 'Đồng bằng sông Hồng', 1668.2, 1896.9),\n",
    "('Thành phố Hải Phòng', 'Thành phố Trung ương', 'Đồng bằng sông Hồng', 1561.8, 2033.3),\n",
    "('Tỉnh Hưng Yên', 'Tỉnh', 'Đồng bằng sông Hồng', 930.2, 1255.8),\n",
    "('Tỉnh Thái Bình', 'Tỉnh', 'Đồng bằng sông Hồng', 1586.4, 1862.2),\n",
    "('Tỉnh Hà Nam', 'Tỉnh', 'Đồng bằng sông Hồng', 861.9, 854.5),\n",
    "('Tỉnh Nam Định', 'Tỉnh', 'Đồng bằng sông Hồng', 1668.6, 1780.9),\n",
    "('Tỉnh Ninh Bình', 'Tỉnh', 'Đồng bằng sông Hồng', 1386.8, 984.5),\n",
    "('Tỉnh Thanh Hóa', 'Tỉnh', 'Bắc Trung Bộ', 11114.6, 3645.8),\n",
    "('Tỉnh Nghệ An', 'Tỉnh', 'Bắc Trung Bộ', 16481.4, 3337.2),\n",
    "('Tỉnh Hà Tĩnh', 'Tỉnh', 'Bắc Trung Bộ', 5990.7, 1290.3),\n",
    "('Tỉnh Quảng Bình', 'Tỉnh', 'Bắc Trung Bộ', 8000.0, 896.6),\n",
    "('Tỉnh Quảng Trị', 'Tỉnh', 'Bắc Trung Bộ', 4621.7, 633.4),\n",
    "('Tỉnh Thừa Thiên Huế', 'Tỉnh', 'Bắc Trung Bộ', 4902.4, 1129.5),\n",
    "('Thành phố Đà Nẵng', 'Thành phố Trung ương', 'Nam Trung Bộ', 1284.9, 1141.1),\n",
    "('Tỉnh Quảng Nam', 'Tỉnh', 'Nam Trung Bộ', 10574.7, 1497.5),\n",
    "('Tỉnh Quảng Ngãi', 'Tỉnh', 'Nam Trung Bộ', 5155.8, 1231.9),\n",
    "('Tỉnh Bình Định', 'Tỉnh', 'Nam Trung Bộ', 6066.2, 1487.8),\n",
    "('Tỉnh Phú Yên', 'Tỉnh', 'Nam Trung Bộ', 5023.4, 873.2),\n",
    "('Tỉnh Khánh Hòa', 'Tỉnh', 'Nam Trung Bộ', 5137.8, 1232.8),\n",
    "('Tỉnh Ninh Thuận', 'Tỉnh', 'Nam Trung Bộ', 3355.3, 591.0),\n",
    "('Tỉnh Bình Thuận', 'Tỉnh', 'Nam Trung Bộ', 7943.9, 1232.3),\n",
    "('Tỉnh Kon Tum', 'Tỉnh', 'Tây Nguyên', 9674.2, 543.4),\n",
    "('Tỉnh Gia Lai', 'Tỉnh', 'Tây Nguyên', 15511.0, 1520.2),\n",
    "('Tỉnh Đắk Lắk', 'Tỉnh', 'Tây Nguyên', 13030.5, 1872.6),\n",
    "('Tỉnh Đắk Nông', 'Tỉnh', 'Tây Nguyên', 6509.3, 625.8),\n",
    "('Tỉnh Lâm Đồng', 'Tỉnh', 'Tây Nguyên', 9783.3, 1299.3),\n",
    "('Tỉnh Bình Phước', 'Tỉnh', 'Đông Nam Bộ', 6876.8, 997.8),\n",
    "('Tỉnh Tây Ninh', 'Tỉnh', 'Đông Nam Bộ', 4041.3, 1171.7),\n",
    "('Tỉnh Bình Dương', 'Tỉnh', 'Đông Nam Bộ', 2694.6, 2456.3),\n",
    "('Tỉnh Đồng Nai', 'Tỉnh', 'Đông Nam Bộ', 5863.6, 3113.7),\n",
    "('Tỉnh Bà Rịa - Vũng Tàu', 'Tỉnh', 'Đông Nam Bộ', 1981.0, 1152.2),\n",
    "('Thành phố Hồ Chí Minh', 'Thành phố Trung ương', 'Đông Nam Bộ', 2061.4, 9038.6),\n",
    "('Tỉnh Long An', 'Tỉnh', 'Đồng bằng sông Cửu Long', 4494.9, 1695.1),\n",
    "('Tỉnh Tiền Giang', 'Tỉnh', 'Đồng bằng sông Cửu Long', 2510.6, 1766.3),\n",
    "('Tỉnh Bến Tre', 'Tỉnh', 'Đồng bằng sông Cửu Long', 2394.8, 1289.1),\n",
    "('Tỉnh Trà Vinh', 'Tỉnh', 'Đồng bằng sông Cửu Long', 2358.3, 1009.3),\n",
    "('Tỉnh Vĩnh Long', 'Tỉnh', 'Đồng bằng sông Cửu Long', 1525.7, 1022.6),\n",
    "('Tỉnh Đồng Tháp', 'Tỉnh', 'Đồng bằng sông Cửu Long', 3383.8, 1598.8),\n",
    "('Tỉnh An Giang', 'Tỉnh', 'Đồng bằng sông Cửu Long', 3536.7, 1907.4),\n",
    "('Tỉnh Kiên Giang', 'Tỉnh', 'Đồng bằng sông Cửu Long', 6348.8, 1723.7),\n",
    "('Thành phố Cần Thơ', 'Thành phố Trung ương', 'Đồng bằng sông Cửu Long', 1439.0, 1236.0),\n",
    "('Tỉnh Hậu Giang', 'Tỉnh', 'Đồng bằng sông Cửu Long', 1621.7, 732.2),\n",
    "('Tỉnh Sóc Trăng', 'Tỉnh', 'Đồng bằng sông Cửu Long', 3311.9, 1199.5),\n",
    "('Tỉnh Bạc Liêu', 'Tỉnh', 'Đồng bằng sông Cửu Long', 2669.0, 908.2),\n",
    "('Tỉnh Cà Mau', 'Tỉnh', 'Đồng bằng sông Cửu Long', 5221.2, 1194.3)\n",
    "]\n",
    "\n",
    "df = pd.DataFrame(province_list, columns = col_list)\n",
    "df.to_excel(\"provinces.xlsx\", index = False)"
   ]
  },
  {
   "cell_type": "code",
   "execution_count": 4,
   "id": "b8b2ef31",
   "metadata": {},
   "outputs": [
    {
     "name": "stdout",
     "output_type": "stream",
     "text": [
      "                 Name              Division  ...    Area  Population\n",
      "0    Thành phố Hà Nội  Thành phố Trung ương  ...  3358.6      8093.9\n",
      "1       Tỉnh Hà Giang                  Tỉnh  ...  7929.5       858.1\n",
      "2       Tỉnh Cao Bằng                  Tỉnh  ...  6700.3       530.9\n",
      "3        Tỉnh Bắc Kạn                  Tỉnh  ...  4860.0       314.4\n",
      "4    Tỉnh Tuyên Quang                  Tỉnh  ...  5867.9       786.3\n",
      "..                ...                   ...  ...     ...         ...\n",
      "58  Thành phố Cần Thơ  Thành phố Trung ương  ...  1439.0      1236.0\n",
      "59     Tỉnh Hậu Giang                  Tỉnh  ...  1621.7       732.2\n",
      "60     Tỉnh Sóc Trăng                  Tỉnh  ...  3311.9      1199.5\n",
      "61      Tỉnh Bạc Liêu                  Tỉnh  ...  2669.0       908.2\n",
      "62        Tỉnh Cà Mau                  Tỉnh  ...  5221.2      1194.3\n",
      "\n",
      "[63 rows x 5 columns]\n"
     ]
    }
   ],
   "source": [
    "import pandas as pd\n",
    "\n",
    "file = pd.read_excel(\"provinces.xlsx\")\n",
    "print(file)"
   ]
  },
  {
   "cell_type": "code",
   "execution_count": 5,
   "id": "8cf68b1b",
   "metadata": {},
   "outputs": [
    {
     "name": "stdout",
     "output_type": "stream",
     "text": [
      "               Name              Division  ...    Area  Population\n",
      "0  Thành phố Hà Nội  Thành phố Trung ương  ...  3358.6      8093.9\n",
      "1     Tỉnh Hà Giang                  Tỉnh  ...  7929.5       858.1\n",
      "2     Tỉnh Cao Bằng                  Tỉnh  ...  6700.3       530.9\n",
      "3      Tỉnh Bắc Kạn                  Tỉnh  ...  4860.0       314.4\n",
      "4  Tỉnh Tuyên Quang                  Tỉnh  ...  5867.9       786.3\n",
      "\n",
      "[5 rows x 5 columns]\n"
     ]
    }
   ],
   "source": [
    "print(file.head(5))"
   ]
  },
  {
   "cell_type": "code",
   "execution_count": 6,
   "id": "3faa8b65",
   "metadata": {},
   "outputs": [
    {
     "name": "stdout",
     "output_type": "stream",
     "text": [
      "Qua\n"
     ]
    }
   ],
   "source": [
    "s = \"Bùi Quang Vinh\"\n",
    "print(s[4:7])"
   ]
  },
  {
   "cell_type": "code",
   "execution_count": 7,
   "id": "fb7deb16",
   "metadata": {},
   "outputs": [
    {
     "name": "stdout",
     "output_type": "stream",
     "text": [
      "            Name       Region\n",
      "1  Tỉnh Hà Giang  Đông Bắc Bộ\n",
      "3   Tỉnh Bắc Kạn  Đông Bắc Bộ\n",
      "5   Tỉnh Lào Cai   Tây Bắc Bộ\n"
     ]
    }
   ],
   "source": [
    "# lấy dòng 1, 3, 5 và cột \"Name\", \"Region\"\n",
    "# cú pháp:  df.loc[danh sách dòng ,  danh sách cột]\n",
    "\n",
    "tmp = file.loc[[1, 3, 5], [\"Name\", \"Region\"]]\n",
    "print(tmp)"
   ]
  },
  {
   "cell_type": "code",
   "execution_count": 8,
   "id": "1863a4d6",
   "metadata": {},
   "outputs": [
    {
     "name": "stdout",
     "output_type": "stream",
     "text": [
      "            Name       Region\n",
      "1  Tỉnh Hà Giang  Đông Bắc Bộ\n",
      "3   Tỉnh Bắc Kạn  Đông Bắc Bộ\n",
      "5   Tỉnh Lào Cai   Tây Bắc Bộ\n"
     ]
    }
   ],
   "source": [
    "# cú pháp: df.iloc[danh sách dòng, danh sách cột (số)]\n",
    "\n",
    "tmp = file.iloc[[1, 3, 5], [0, 2]]\n",
    "print(tmp)"
   ]
  },
  {
   "cell_type": "code",
   "execution_count": 12,
   "id": "0d706ece",
   "metadata": {},
   "outputs": [
    {
     "name": "stdout",
     "output_type": "stream",
     "text": [
      "              Name Division      Region     Area  Population\n",
      "5     Tỉnh Lào Cai     Tỉnh  Tây Bắc Bộ   6364.0       733.3\n",
      "6   Tỉnh Điện Biên     Tỉnh  Tây Bắc Bộ   9541.3       601.7\n",
      "7    Tỉnh Lai Châu     Tỉnh  Tây Bắc Bộ   9068.8       462.6\n",
      "8      Tỉnh Sơn La     Tỉnh  Tây Bắc Bộ  14123.5      1252.7\n",
      "9     Tỉnh Yên Bái     Tỉnh  Tây Bắc Bộ   6887.5       823.0\n",
      "10   Tỉnh Hoà Bình     Tỉnh  Tây Bắc Bộ   4590.6       855.8\n"
     ]
    }
   ],
   "source": [
    "rows = file[\"Region\"] == \"Tây Bắc Bộ\"\n",
    "print(file[rows])"
   ]
  },
  {
   "cell_type": "code",
   "execution_count": 23,
   "id": "fb06e8d1",
   "metadata": {},
   "outputs": [
    {
     "name": "stdout",
     "output_type": "stream",
     "text": [
      "15    3534.6\n",
      "Name: Area, dtype: float64\n",
      "0    3358.6\n",
      "Name: Area, dtype: float64\n"
     ]
    }
   ],
   "source": [
    "# 1. Truy xuất từ dòng đầu -> dòng 10\n",
    "print(file[:10])\n",
    "\n",
    "# 2. Truy xuất cột Name và Region\n",
    "print(file[[\"Name\", \"Region\"]])\n",
    "\n",
    "# 3. Truy xuất dữ liệu từ dòng 58 đến hết và các cột Name, Area, Population\n",
    "tmp = file.loc[58: , [\"Name\", \"Area\", \"Population\"]]\n",
    "print(tmp)\n",
    "\n",
    "# 4. Truy xuất dữ liệu của tất cả các dòng và cột Population < 1000\n",
    "row = file[\"Population\"] < 1000\n",
    "print(file[row])\n",
    "\n",
    "# 5. Area \"Tỉnh Phú Thọ\" and Area \"Thành phố Hà Nội\"\n",
    "row1 = file[\"Name\"] == \"Tỉnh Phú Thọ\"\n",
    "row2 = file[\"Name\"] == \"Thành phố Hà Nội\"\n",
    "\n",
    "print(file[row1][\"Area\"])\n",
    "print(file[row2][\"Area\"])"
   ]
  },
  {
   "cell_type": "code",
   "execution_count": 25,
   "id": "e8db2b67",
   "metadata": {},
   "outputs": [
    {
     "name": "stdout",
     "output_type": "stream",
     "text": [
      "0     3358.6\n",
      "1     7929.5\n",
      "2     6700.3\n",
      "3     4860.0\n",
      "4     5867.9\n",
      "       ...  \n",
      "58    1439.0\n",
      "59    1621.7\n",
      "60    3311.9\n",
      "61    2669.0\n",
      "62    5221.2\n",
      "Name: Area, Length: 63, dtype: float64\n",
      "330955.80000000005\n"
     ]
    }
   ],
   "source": [
    "# Lấy ra danh sách diện tích các tỉnh\n",
    "result = df[\"Area\"]\n",
    "print(result)\n",
    "\n",
    "# Tính tổng diện tích bằng hàm sum\n",
    "print(result.sum())"
   ]
  },
  {
   "cell_type": "code",
   "execution_count": 27,
   "id": "e96d48f1",
   "metadata": {},
   "outputs": [
    {
     "name": "stdout",
     "output_type": "stream",
     "text": [
      "Thành phố Hà Nội, Tỉnh Hà Giang, Tỉnh Cao Bằng, Tỉnh Bắc Kạn, Tỉnh Tuyên Quang, Tỉnh Lào Cai, Tỉnh Điện Biên, Tỉnh Lai Châu, Tỉnh Sơn La, Tỉnh Yên Bái, Tỉnh Hoà Bình, Tỉnh Thái Nguyên, Tỉnh Lạng Sơn, Tỉnh Quảng Ninh, Tỉnh Bắc Giang, Tỉnh Phú Thọ, Tỉnh Vĩnh Phúc, Tỉnh Bắc Ninh, Tỉnh Hải Dương, Thành phố Hải Phòng, Tỉnh Hưng Yên, Tỉnh Thái Bình, Tỉnh Hà Nam, Tỉnh Nam Định, Tỉnh Ninh Bình, Tỉnh Thanh Hóa, Tỉnh Nghệ An, Tỉnh Hà Tĩnh, Tỉnh Quảng Bình, Tỉnh Quảng Trị, Tỉnh Thừa Thiên Huế, Thành phố Đà Nẵng, Tỉnh Quảng Nam, Tỉnh Quảng Ngãi, Tỉnh Bình Định, Tỉnh Phú Yên, Tỉnh Khánh Hòa, Tỉnh Ninh Thuận, Tỉnh Bình Thuận, Tỉnh Kon Tum, Tỉnh Gia Lai, Tỉnh Đắk Lắk, Tỉnh Đắk Nông, Tỉnh Lâm Đồng, Tỉnh Bình Phước, Tỉnh Tây Ninh, Tỉnh Bình Dương, Tỉnh Đồng Nai, Tỉnh Bà Rịa - Vũng Tàu, Thành phố Hồ Chí Minh, Tỉnh Long An, Tỉnh Tiền Giang, Tỉnh Bến Tre, Tỉnh Trà Vinh, Tỉnh Vĩnh Long, Tỉnh Đồng Tháp, Tỉnh An Giang, Tỉnh Kiên Giang, Thành phố Cần Thơ, Tỉnh Hậu Giang, Tỉnh Sóc Trăng, Tỉnh Bạc Liêu, Tỉnh Cà Mau, "
     ]
    }
   ],
   "source": [
    "# 1\n",
    "row1 = file[\"Name\"]  # list\n",
    "\n",
    "for name in row1:\n",
    "    print(name, end = \", \")"
   ]
  },
  {
   "cell_type": "code",
   "execution_count": 28,
   "id": "e2f64b6e",
   "metadata": {},
   "outputs": [
    {
     "name": "stdout",
     "output_type": "stream",
     "text": [
      "Đồng bằng sông Cửu Long    13\n",
      "Đồng bằng sông Hồng        10\n",
      "Đông Bắc Bộ                 9\n",
      "Nam Trung Bộ                8\n",
      "Tây Bắc Bộ                  6\n",
      "Bắc Trung Bộ                6\n",
      "Đông Nam Bộ                 6\n",
      "Tây Nguyên                  5\n",
      "Name: Region, dtype: int64\n"
     ]
    }
   ],
   "source": [
    "# 3\n",
    "print(file[\"Region\"].value_counts())"
   ]
  },
  {
   "cell_type": "code",
   "execution_count": 33,
   "id": "ee05fc6e",
   "metadata": {},
   "outputs": [
    {
     "name": "stdout",
     "output_type": "stream",
     "text": [
      "9038.6\n",
      "314.4\n",
      "49    Thành phố Hồ Chí Minh\n",
      "Name: Name, dtype: object\n",
      "3    Tỉnh Bắc Kạn\n",
      "Name: Name, dtype: object\n"
     ]
    }
   ],
   "source": [
    "# 4    Max()  Min()\n",
    "popuMax = file[\"Population\"].max()\n",
    "popuMin = file[\"Population\"].min()\n",
    "print(popuMax)\n",
    "print(popuMin)\n",
    "\n",
    "# sử dụng điều kiện\n",
    "resultMax = file[\"Population\"] == popuMax\n",
    "resultMin = file[\"Population\"] == popuMin\n",
    "\n",
    "print(file[resultMax][\"Name\"])\n",
    "print(file[resultMin][\"Name\"])"
   ]
  },
  {
   "cell_type": "code",
   "execution_count": 18,
   "id": "ffd63548",
   "metadata": {},
   "outputs": [
    {
     "name": "stdout",
     "output_type": "stream",
     "text": [
      "               Name    Area  Population\n",
      "2     Tỉnh Cao Bằng  6700.3       530.9\n",
      "3      Tỉnh Bắc Kạn  4860.0       314.4\n",
      "4  Tỉnh Tuyên Quang  5867.9       786.3\n",
      "5      Tỉnh Lào Cai  6364.0       733.3\n"
     ]
    }
   ],
   "source": [
    "import pandas as pd \n",
    "\n",
    "df = pd.read_excel(\"provinces.xlsx\")\n",
    "\n",
    "a = df.iloc[2:6 , [0, 3, 4]]\n",
    "print(a)\n",
    "\n",
    "\n"
   ]
  },
  {
   "cell_type": "code",
   "execution_count": 4,
   "id": "877e0540",
   "metadata": {},
   "outputs": [
    {
     "name": "stdout",
     "output_type": "stream",
     "text": [
      "Quang\n"
     ]
    }
   ],
   "source": [
    "s = \"Bùi Quang Vinh\"\n",
    "print(s[4:9:1])"
   ]
  },
  {
   "cell_type": "code",
   "execution_count": 36,
   "id": "a563358e",
   "metadata": {},
   "outputs": [
    {
     "name": "stdout",
     "output_type": "stream",
     "text": [
      "29\n",
      "5023.4\n"
     ]
    }
   ],
   "source": [
    "# rows = df[\"Area\"] >= 5000\n",
    "# result = df[rows][[\"Name\", \"Area\"]]\n",
    "# result\n",
    "\n",
    "#df[df[\"Area\"] >= 5000][[\"Name\", \"Area\"]]\n",
    "\n",
    "result = df.loc[df[\"Area\"] >= 5000  , [\"Name\", \"Area\"] ]\n",
    "print(len(result))\n",
    "print(result[\"Area\"].min())"
   ]
  },
  {
   "cell_type": "code",
   "execution_count": 38,
   "id": "2785d4d4",
   "metadata": {},
   "outputs": [
    {
     "data": {
      "text/plain": [
       "False    34\n",
       "True     29\n",
       "Name: Area, dtype: int64"
      ]
     },
     "execution_count": 38,
     "metadata": {},
     "output_type": "execute_result"
    }
   ],
   "source": [
    "rows = df[\"Area\"] >= 5000\n",
    "rows.value_counts()"
   ]
  },
  {
   "cell_type": "code",
   "execution_count": 39,
   "id": "1ae310ae",
   "metadata": {},
   "outputs": [
    {
     "data": {
      "text/plain": [
       "count       63.000000\n",
       "mean      5253.266667\n",
       "std       3674.486135\n",
       "min        822.700000\n",
       "25%       2376.550000\n",
       "50%       4621.700000\n",
       "75%       6788.550000\n",
       "max      16481.400000\n",
       "Name: Area, dtype: float64"
      ]
     },
     "execution_count": 39,
     "metadata": {},
     "output_type": "execute_result"
    }
   ],
   "source": [
    "df[\"Area\"].describe()"
   ]
  },
  {
   "cell_type": "code",
   "execution_count": null,
   "id": "a348f1c0",
   "metadata": {},
   "outputs": [],
   "source": []
  }
 ],
 "metadata": {
  "kernelspec": {
   "display_name": "Python 3 (ipykernel)",
   "language": "python",
   "name": "python3"
  },
  "language_info": {
   "codemirror_mode": {
    "name": "ipython",
    "version": 3
   },
   "file_extension": ".py",
   "mimetype": "text/x-python",
   "name": "python",
   "nbconvert_exporter": "python",
   "pygments_lexer": "ipython3",
   "version": "3.10.9"
  }
 },
 "nbformat": 4,
 "nbformat_minor": 5
}
