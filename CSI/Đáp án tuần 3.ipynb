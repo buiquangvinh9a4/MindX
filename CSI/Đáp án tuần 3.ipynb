{
 "cells": [
  {
   "cell_type": "code",
   "execution_count": 68,
   "id": "eac8d1d7",
   "metadata": {},
   "outputs": [
    {
     "name": "stdout",
     "output_type": "stream",
     "text": [
      "5 1986\n",
      "500 200 50 20 2\n",
      "3 2 1 1 8 "
     ]
    }
   ],
   "source": [
    "s1 = input()\n",
    "n = int(s1.split()[0])\n",
    "gia = int(s1.split()[1])\n",
    "\n",
    "s2 = input()\n",
    "menhgia = []\n",
    "for word in s2.split():\n",
    "    menhgia.append(int(word))\n",
    "\n",
    "tra = [0] * n\n",
    "gia_p = gia\n",
    "i = 0\n",
    "while gia_p > 0 and i < n:\n",
    "    tmp = gia_p // menhgia[i]\n",
    "    tra[i] += tmp\n",
    "    gia_p = gia_p % menhgia[i]\n",
    "    i += 1\n",
    "if gia_p != 0:\n",
    "    print('-1')\n",
    "else:\n",
    "    for number in tra:\n",
    "        print(number, end = ' ')\n",
    "\n",
    "    "
   ]
  },
  {
   "cell_type": "markdown",
   "id": "601c8fe7",
   "metadata": {},
   "source": [
    "##### print(1%)"
   ]
  },
  {
   "cell_type": "code",
   "execution_count": null,
   "id": "e65a2bd3",
   "metadata": {},
   "outputs": [],
   "source": []
  }
 ],
 "metadata": {
  "kernelspec": {
   "display_name": "Python 3 (ipykernel)",
   "language": "python",
   "name": "python3"
  },
  "language_info": {
   "codemirror_mode": {
    "name": "ipython",
    "version": 3
   },
   "file_extension": ".py",
   "mimetype": "text/x-python",
   "name": "python",
   "nbconvert_exporter": "python",
   "pygments_lexer": "ipython3",
   "version": "3.10.10"
  }
 },
 "nbformat": 4,
 "nbformat_minor": 5
}
