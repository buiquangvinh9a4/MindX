{
 "cells": [
  {
   "cell_type": "code",
   "execution_count": 1,
   "id": "23a8455b",
   "metadata": {},
   "outputs": [],
   "source": [
    "import time\n",
    "import numpy as np\n",
    "from random import randint\n",
    "import matplotlib.pyplot as plt"
   ]
  },
  {
   "cell_type": "code",
   "execution_count": 2,
   "id": "9fc7699d",
   "metadata": {},
   "outputs": [
    {
     "name": "stdout",
     "output_type": "stream",
     "text": [
      "[7098864, 33233317, 23691065, 63791076, 31222555, 19963921, 68529156, 91392638, 29504273, 24741418, 23834091, 45698368, 59825144, 17291208, 96311923, 20003496, 72878460, 14265306, 40024215, 48451387, 66219531, 35982555, 77301323, 24631275, 36521663, 29409143, 22064045, 59693879, 13012806, 34950840, 40688489, 361801, 62542769, 25051272, 69005179, 44344778, 4117421, 59264272, 63700217, 91955642, 26520095, 88332766, 75433190, 74654702, 16041590, 43858145, 7381810, 83399625, 83995844, 58154299, 83174410, 33065577, 50030906, 30903314, 67714732, 65393612, 67058705, 9137521, 57891236, 38354083, 65468410, 21824973, 85833343, 66381553, 72731901, 65213933, 90359770, 96250901, 18557690, 90882346, 22990190, 58684122, 13458793, 63183557, 76919580, 20240608, 47686263, 27881084, 69534910, 79978251, 41745948, 49027597, 86365586, 13891757, 51839073, 49905451, 82280821, 12398112, 71392753, 33571010, 7053012, 33958049, 73311541, 46634567, 72105583, 12299705, 58431445, 94985763, 13472150, 25900749]\n"
     ]
    }
   ],
   "source": [
    "number_list = [5, 9, 1, 12, 30, 35, 75, 10, 15, 20, 4, 0, 20, 0, 20, 3, 6, 14]\n",
    "\n",
    "def test_list(length):\n",
    "    number_list = [randint(10, 100000000) for i in range(length)]\n",
    "    return number_list\n",
    "\n",
    "lst1 = test_list(100)\n",
    "print(lst1)"
   ]
  },
  {
   "cell_type": "markdown",
   "id": "973837bb",
   "metadata": {},
   "source": [
    "<h2> Selection Sort </h2>"
   ]
  },
  {
   "cell_type": "code",
   "execution_count": 14,
   "id": "1b853d2a",
   "metadata": {},
   "outputs": [
    {
     "name": "stdout",
     "output_type": "stream",
     "text": [
      "- Với data rộng 10, thời gian chạy Bubble Sort: 0.0000138283 giây\n",
      "- Với data rộng 10, thời gian chạy Merge Sort: 0.0000278950 giây\n",
      "- Với data rộng 40, thời gian chạy Bubble Sort: 0.0001409054 giây\n",
      "- Với data rộng 40, thời gian chạy Merge Sort: 0.0001082420 giây\n",
      "- Với data rộng 90, thời gian chạy Bubble Sort: 0.0007486343 giây\n",
      "- Với data rộng 90, thời gian chạy Merge Sort: 0.0002799034 giây\n",
      "- Với data rộng 160, thời gian chạy Bubble Sort: 0.0018858910 giây\n",
      "- Với data rộng 160, thời gian chạy Merge Sort: 0.0002939701 giây\n",
      "- Với data rộng 250, thời gian chạy Bubble Sort: 0.0031700134 giây\n",
      "- Với data rộng 250, thời gian chạy Merge Sort: 0.0004589558 giây\n",
      "- Với data rộng 360, thời gian chạy Bubble Sort: 0.0071690083 giây\n",
      "- Với data rộng 360, thời gian chạy Merge Sort: 0.0006952286 giây\n",
      "- Với data rộng 490, thời gian chạy Bubble Sort: 0.0125598907 giây\n",
      "- Với data rộng 490, thời gian chạy Merge Sort: 0.0009760857 giây\n",
      "- Với data rộng 640, thời gian chạy Bubble Sort: 0.0234329700 giây\n",
      "- Với data rộng 640, thời gian chạy Merge Sort: 0.0020017624 giây\n",
      "- Với data rộng 810, thời gian chạy Bubble Sort: 0.0386760235 giây\n",
      "- Với data rộng 810, thời gian chạy Merge Sort: 0.0017538071 giây\n",
      "- Với data rộng 1000, thời gian chạy Bubble Sort: 0.0568678379 giây\n",
      "- Với data rộng 1000, thời gian chạy Merge Sort: 0.0021171570 giây\n"
     ]
    }
   ],
   "source": [
    "def selectionSort(lst):\n",
    "    _min = lst[0]           # khởi tạo phần tử nhỏ nhất ở vị trí 0\n",
    "    for i in range(len(lst) - 1):   \n",
    "        i_min = i        # khởi tạo vị trí nhỏ nhất là i_min\n",
    "        for j in range(i + 1, len(lst)):\n",
    "            if lst[j] < lst[i_min]:\n",
    "                i_min = j           # i_min được cập nhật lại tại vị trí j\n",
    "        if i != i_min:  # nếu 2 vị trí !=, tráo đổi lst[i] với lst[i_min]\n",
    "            lst[i], lst[i_min] = lst[i_min], lst[i]\n",
    "    \n",
    "    \n",
    "def bubbleSort(arr):\n",
    "    for i in range(len(arr)-1, 0, -1):  # i is the index between the sorted and unsorted part\n",
    "        for j in range(i):              # loop j through the pairs in the unsorted part\n",
    "            if arr[j] > arr[j+1]:\n",
    "                arr[j], arr[j+1] = arr[j+1], arr[j]\n",
    "                \n",
    "def insertionSort(arr):\n",
    "    for i in range(1, len(arr)):  # arr[i] is the element to be inserted\n",
    "        j = i\n",
    "        while j > 0 and arr[j] < arr[j-1]:  # move the element to the left until found the correct position\n",
    "            arr[j], arr[j-1] = arr[j-1], arr[j]\n",
    "            j -= 1\n",
    "\n",
    "\n",
    "# merge 2 sorted portions of arr\n",
    "def merge(arr, left, right, mid):\n",
    "\n",
    "    # make shallow copy of 2 portions for convenient merging\n",
    "    arr1 = arr[left:mid]\n",
    "    arr2 = arr[mid:right]\n",
    "    \n",
    "    n1 = len(arr1)\n",
    "    n2 = len(arr2)\n",
    "    i = j = 0\n",
    "    k = left\n",
    " \n",
    "    # traverse arr1 and arr2 until one is empty\n",
    "    while i < n1 and j < n2:\n",
    "        if arr1[i] < arr2[j]:\n",
    "            arr[k] = arr1[i]\n",
    "            i += 1\n",
    "        else:\n",
    "            arr[k] = arr2[j]\n",
    "            j += 1\n",
    "        k +=  1\n",
    "     \n",
    "    # get remaining elements\n",
    "    arr[k:k+n1-i] = arr1[i:n1]\n",
    "    k += n1-i\n",
    "    arr[k:k+n2-j] = arr2[j:n2]\n",
    "    \n",
    "\n",
    "def merge_sort(arr, left, right):\n",
    "    \n",
    "    # special cases, arr is sorted\n",
    "    if right-left <= 1:  # stop condition for recursion\n",
    "        return\n",
    "    \n",
    "    # split arr into 2 halves, then sort each half individually\n",
    "    mid = (left+right)//2\n",
    "    merge_sort(arr, left, mid)   # recursive call\n",
    "    merge_sort(arr, mid, right)  # recursive call\n",
    "\n",
    "    # merge 2 sorted halves\n",
    "    merge(arr, left, right, mid)\n",
    "\n",
    "\n",
    "lst_time_select = []\n",
    "count_data_select = []\n",
    "\n",
    "lst_time_bubble = []\n",
    "count_data_bubble = []\n",
    "\n",
    "lst_time_insert = []\n",
    "count_data_insert = []\n",
    "\n",
    "lst_time_merge = []\n",
    "count_data_merge = []\n",
    "\n",
    "for i in range(1, 11):\n",
    "#     lst = test_list(100 * i ** 2)\n",
    "    \n",
    "    \n",
    "#     start_time = time.time()\n",
    "    \n",
    "#     selectionSort(lst)\n",
    "    \n",
    "#     end_time = time.time()\n",
    "#     elapsed_time = end_time - start_time\n",
    "#     print(f\"- Với data rộng {len(lst)}, thời gian chạy Selection Sort: {elapsed_time:.10f} giây\")\n",
    "    \n",
    "#     lst_time_select.append(elapsed_time)\n",
    "#     count_data_select.append(len(lst))\n",
    "    #-------------------------\n",
    "    lst = test_list(10 * i ** 2)\n",
    "    start_time = time.time()\n",
    "    \n",
    "    bubbleSort(lst)\n",
    "    \n",
    "    end_time = time.time()\n",
    "    elapsed_time = end_time - start_time\n",
    "    print(f\"- Với data rộng {len(lst)}, thời gian chạy Bubble Sort: {elapsed_time:.10f} giây\")\n",
    "    \n",
    "    lst_time_bubble.append(elapsed_time)\n",
    "    count_data_bubble.append(len(lst))\n",
    "    \n",
    "    #-------------------------\n",
    "#     lst = test_list(100 * i ** 2)\n",
    "#     start_time = time.time()\n",
    "    \n",
    "#     insertionSort(lst)\n",
    "    \n",
    "#     end_time = time.time()\n",
    "#     elapsed_time = end_time - start_time\n",
    "#     print(f\"- Với data rộng {len(lst)}, thời gian chạy Insertion Sort: {elapsed_time:.10f} giây\")\n",
    "    \n",
    "#     lst_time_insert.append(elapsed_time)\n",
    "#     count_data_insert.append(len(lst))\n",
    "    \n",
    "    #-------------------------\n",
    "    lst = test_list(10 * i ** 2)\n",
    "    start_time = time.time()\n",
    "    \n",
    "    merge_sort(lst, 0, len(lst) - 1)\n",
    "    \n",
    "    end_time = time.time()\n",
    "    elapsed_time = end_time - start_time\n",
    "    print(f\"- Với data rộng {len(lst)}, thời gian chạy Merge Sort: {elapsed_time:.10f} giây\")\n",
    "    \n",
    "    lst_time_merge.append(elapsed_time)\n",
    "    count_data_merge.append(len(lst))\n",
    "    \n",
    "\n",
    "\n",
    "\n",
    "\n",
    "\n"
   ]
  },
  {
   "cell_type": "code",
   "execution_count": 15,
   "id": "aa3575f5",
   "metadata": {},
   "outputs": [
    {
     "data": {
      "text/plain": [
       "Text(0, 0.5, 'Time Process')"
      ]
     },
     "execution_count": 15,
     "metadata": {},
     "output_type": "execute_result"
    },
    {
     "data": {
      "image/png": "[encoded data removed]",
      "text/plain": [
       "<Figure size 640x480 with 1 Axes>"
      ]
     },
     "metadata": {},
     "output_type": "display_data"
    }
   ],
   "source": [
    "# plt.plot(count_data_select, lst_time_select, label = 'selection sort', color = 'red')\n",
    "# plt.plot(count_data_insert, lst_time_insert, label = 'insertion sort', color = 'green')\n",
    "plt.plot(count_data_bubble, lst_time_bubble, label = 'bubble sort', color = 'blue')\n",
    "plt.plot(count_data_merge, lst_time_merge, label = 'merge sort', color = 'orange')\n",
    "plt.legend()\n",
    "plt.xlabel('Data Length')\n",
    "plt.ylabel('Time Process')\n",
    "# print(count_data)\n",
    "# print(lst_time)"
   ]
  },
  {
   "cell_type": "code",
   "execution_count": null,
   "id": "5b1a5d4f",
   "metadata": {},
   "outputs": [],
   "source": [
    "def selectionSort(lst):\n",
    "    for i in range(len(lst) - 1):   \n",
    "        i_min = i        # khởi tạo vị trí nhỏ nhất là i_min\n",
    "        for j in range(i + 1, len(lst)):\n",
    "            if lst[j] < lst[i_min]:\n",
    "                i_min = j           # i_min được cập nhật lại tại vị trí j\n",
    "        if i != i_min:  # nếu 2 vị trí !=, tráo đổi lst[i] với lst[i_min]\n",
    "            lst[i], lst[i_min] = lst[i_min], lst[i]"
   ]
  },
  {
   "cell_type": "code",
   "execution_count": null,
   "id": "55457144",
   "metadata": {},
   "outputs": [],
   "source": [
    "def bubbleSort(arr):\n",
    "    for i in range(len(arr)-1, 0, -1):  # i is the index between the sorted and unsorted part\n",
    "        for j in range(i):              # loop j through the pairs in the unsorted part\n",
    "            if arr[j] > arr[j+1]:\n",
    "                arr[j], arr[j+1] = arr[j+1], arr[j]\n",
    "\n",
    "lst = [4, 1, 0, 7, 8, 5]\n",
    "print(lst)\n",
    "bubbleSort(lst)\n",
    "print(lst)"
   ]
  },
  {
   "cell_type": "code",
   "execution_count": null,
   "id": "434d4637",
   "metadata": {},
   "outputs": [],
   "source": [
    "\n",
    "\n",
    "lst_time_insert1 = []\n",
    "count_data_insert1 = []\n",
    "\n",
    "for i in range(1, 11):\n",
    "    lst = test_list(200 * i ** 2)\n",
    "    \n",
    "    \n",
    "    #-------------------------\n",
    "    start_time = time.time()\n",
    "    \n",
    "    insertionSort(lst)\n",
    "    \n",
    "    end_time = time.time()\n",
    "    elapsed_time = end_time - start_time\n",
    "    print(f\"- Với data rộng {len(lst)}, thời gian chạy Insertion Sort: {elapsed_time:.10f} giây\")\n",
    "    \n",
    "    lst_time_insert1.append(elapsed_time)\n",
    "    count_data_insert1.append(len(lst))"
   ]
  },
  {
   "cell_type": "code",
   "execution_count": 83,
   "id": "ce155d43",
   "metadata": {},
   "outputs": [
    {
     "name": "stdout",
     "output_type": "stream",
     "text": [
      "Với data rộng 10, thời gian chạy: 0.0000000000 giây\n",
      "Với data rộng 100, thời gian chạy: 0.0000000000 giây\n",
      "Với data rộng 1000, thời gian chạy: 0.0829935074 giây\n",
      "Với data rộng 10000, thời gian chạy: 7.5836513042 giây\n",
      "Với data rộng 100000, thời gian chạy: 810.2434563637 giây\n",
      "Unexpected exception formatting exception. Falling back to standard exception\n"
     ]
    },
    {
     "name": "stderr",
     "output_type": "stream",
     "text": [
      "Traceback (most recent call last):\n",
      "  File \"C:\\Users\\ADMIN\\AppData\\Local\\Packages\\PythonSoftwareFoundation.Python.3.10_qbz5n2kfra8p0\\LocalCache\\local-packages\\Python310\\site-packages\\IPython\\core\\interactiveshell.py\", line 3460, in run_code\n",
      "    exec(code_obj, self.user_global_ns, self.user_ns)\n",
      "  File \"C:\\Users\\ADMIN\\AppData\\Local\\Temp\\ipykernel_12732\\1739248505.py\", line 10, in <module>\n",
      "    selectionSort(lst)\n",
      "  File \"C:\\Users\\ADMIN\\AppData\\Local\\Temp\\ipykernel_12732\\335752966.py\", line -1, in selectionSort\n",
      "KeyboardInterrupt\n",
      "\n",
      "During handling of the above exception, another exception occurred:\n",
      "\n",
      "Traceback (most recent call last):\n",
      "  File \"C:\\Users\\ADMIN\\AppData\\Local\\Packages\\PythonSoftwareFoundation.Python.3.10_qbz5n2kfra8p0\\LocalCache\\local-packages\\Python310\\site-packages\\IPython\\core\\interactiveshell.py\", line 2057, in showtraceback\n",
      "    stb = self.InteractiveTB.structured_traceback(\n",
      "  File \"C:\\Users\\ADMIN\\AppData\\Local\\Packages\\PythonSoftwareFoundation.Python.3.10_qbz5n2kfra8p0\\LocalCache\\local-packages\\Python310\\site-packages\\IPython\\core\\ultratb.py\", line 1118, in structured_traceback\n",
      "    return FormattedTB.structured_traceback(\n",
      "  File \"C:\\Users\\ADMIN\\AppData\\Local\\Packages\\PythonSoftwareFoundation.Python.3.10_qbz5n2kfra8p0\\LocalCache\\local-packages\\Python310\\site-packages\\IPython\\core\\ultratb.py\", line 1012, in structured_traceback\n",
      "    return VerboseTB.structured_traceback(\n",
      "  File \"C:\\Users\\ADMIN\\AppData\\Local\\Packages\\PythonSoftwareFoundation.Python.3.10_qbz5n2kfra8p0\\LocalCache\\local-packages\\Python310\\site-packages\\IPython\\core\\ultratb.py\", line 865, in structured_traceback\n",
      "    formatted_exception = self.format_exception_as_a_whole(etype, evalue, etb, number_of_lines_of_context,\n",
      "  File \"C:\\Users\\ADMIN\\AppData\\Local\\Packages\\PythonSoftwareFoundation.Python.3.10_qbz5n2kfra8p0\\LocalCache\\local-packages\\Python310\\site-packages\\IPython\\core\\ultratb.py\", line 818, in format_exception_as_a_whole\n",
      "    frames.append(self.format_record(r))\n",
      "  File \"C:\\Users\\ADMIN\\AppData\\Local\\Packages\\PythonSoftwareFoundation.Python.3.10_qbz5n2kfra8p0\\LocalCache\\local-packages\\Python310\\site-packages\\IPython\\core\\ultratb.py\", line 736, in format_record\n",
      "    result += ''.join(_format_traceback_lines(frame_info.lines, Colors, self.has_colors, lvals))\n",
      "  File \"C:\\Users\\ADMIN\\AppData\\Local\\Packages\\PythonSoftwareFoundation.Python.3.10_qbz5n2kfra8p0\\LocalCache\\local-packages\\Python310\\site-packages\\stack_data\\utils.py\", line 144, in cached_property_wrapper\n",
      "    value = obj.__dict__[self.func.__name__] = self.func(obj)\n",
      "  File \"C:\\Users\\ADMIN\\AppData\\Local\\Packages\\PythonSoftwareFoundation.Python.3.10_qbz5n2kfra8p0\\LocalCache\\local-packages\\Python310\\site-packages\\stack_data\\core.py\", line 734, in lines\n",
      "    pieces = self.included_pieces\n",
      "  File \"C:\\Users\\ADMIN\\AppData\\Local\\Packages\\PythonSoftwareFoundation.Python.3.10_qbz5n2kfra8p0\\LocalCache\\local-packages\\Python310\\site-packages\\stack_data\\utils.py\", line 144, in cached_property_wrapper\n",
      "    value = obj.__dict__[self.func.__name__] = self.func(obj)\n",
      "  File \"C:\\Users\\ADMIN\\AppData\\Local\\Packages\\PythonSoftwareFoundation.Python.3.10_qbz5n2kfra8p0\\LocalCache\\local-packages\\Python310\\site-packages\\stack_data\\core.py\", line 681, in included_pieces\n",
      "    pos = scope_pieces.index(self.executing_piece)\n",
      "  File \"C:\\Users\\ADMIN\\AppData\\Local\\Packages\\PythonSoftwareFoundation.Python.3.10_qbz5n2kfra8p0\\LocalCache\\local-packages\\Python310\\site-packages\\stack_data\\utils.py\", line 144, in cached_property_wrapper\n",
      "    value = obj.__dict__[self.func.__name__] = self.func(obj)\n",
      "  File \"C:\\Users\\ADMIN\\AppData\\Local\\Packages\\PythonSoftwareFoundation.Python.3.10_qbz5n2kfra8p0\\LocalCache\\local-packages\\Python310\\site-packages\\stack_data\\core.py\", line 660, in executing_piece\n",
      "    return only(\n",
      "  File \"C:\\Users\\ADMIN\\AppData\\Local\\Packages\\PythonSoftwareFoundation.Python.3.10_qbz5n2kfra8p0\\LocalCache\\local-packages\\Python310\\site-packages\\executing\\executing.py\", line 190, in only\n",
      "    raise NotOneValueFound('Expected one value, found 0')\n",
      "executing.executing.NotOneValueFound: Expected one value, found 0\n"
     ]
    }
   ],
   "source": []
  },
  {
   "cell_type": "code",
   "execution_count": 82,
   "id": "ff70b506",
   "metadata": {},
   "outputs": [
    {
     "data": {
      "text/plain": [
       "Text(0, 0.5, 'Time Process')"
      ]
     },
     "execution_count": 82,
     "metadata": {},
     "output_type": "execute_result"
    },
    {
     "data": {
      "image/png": "[encoded data removed]",
      "text/plain": [
       "<Figure size 640x480 with 1 Axes>"
      ]
     },
     "metadata": {},
     "output_type": "display_data"
    }
   ],
   "source": [
    "plt.plot(count_data_select, lst_time_select, label = 'selection sort', color = 'red')\n",
    "plt.plot(count_data_insert, lst_time_insert, label = 'insertion sort', color = 'orange')\n",
    "plt.plot(count_data_bubble, lst_time_bubble, label = 'bubble sort', color = 'blue')\n",
    "plt.legend()\n",
    "plt.xlabel('Data Length')\n",
    "plt.ylabel('Time Process')\n",
    "# print(count_data)\n",
    "# print(lst_time)"
   ]
  },
  {
   "cell_type": "code",
   "execution_count": null,
   "id": "f9764485",
   "metadata": {},
   "outputs": [],
   "source": [
    "import time\n",
    "\n",
    "start_time = time.time()\n",
    "    \n",
    "# Code của các bạn\n",
    "    \n",
    "end_time = time.time()\n",
    "elapsed_time = end_time - start_time\n",
    "print(f\"Thời gian chạy: {elapsed_time:.10f} giây\")\n",
    "    \n"
   ]
  },
  {
   "cell_type": "code",
   "execution_count": 29,
   "id": "825f3dce",
   "metadata": {},
   "outputs": [
    {
     "name": "stdout",
     "output_type": "stream",
     "text": [
      "5\n",
      "*\n",
      "***\n",
      "*****\n",
      "*******\n",
      "*********\n",
      "*******\n",
      "*****\n",
      "***\n",
      "*\n",
      "\n"
     ]
    }
   ],
   "source": [
    "n = int(input())\n",
    "\n",
    "# for i in range(n):\n",
    "#     print(str(' ' * (n - i - 1)) + str('*' * (2 * i + 1)))\n",
    "    \n",
    "for i in range(n):\n",
    "    print('*' * (2 * i + 1))\n",
    "for i in range(n - 1, -1, -1):\n",
    "    print('*' * (2 * i - 1))"
   ]
  },
  {
   "cell_type": "code",
   "execution_count": null,
   "id": "270e3f03",
   "metadata": {},
   "outputs": [],
   "source": []
  }
 ],
 "metadata": {
  "kernelspec": {
   "display_name": "Python 3 (ipykernel)",
   "language": "python",
   "name": "python3"
  },
  "language_info": {
   "codemirror_mode": {
    "name": "ipython",
    "version": 3
   },
   "file_extension": ".py",
   "mimetype": "text/x-python",
   "name": "python",
   "nbconvert_exporter": "python",
   "pygments_lexer": "ipython3",
   "version": "3.10.9"
  }
 },
 "nbformat": 4,
 "nbformat_minor": 5
}
