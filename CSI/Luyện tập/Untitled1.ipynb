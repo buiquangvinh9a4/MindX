{
 "cells": [
  {
   "cell_type": "code",
   "execution_count": 1,
   "id": "d6a82409",
   "metadata": {},
   "outputs": [],
   "source": [
    "import time\n",
    "import numpy as np\n",
    "from random import randint\n",
    "import matplotlib.pyplot as plt\n",
    "\n",
    "def test_list(length):\n",
    "    number_list = [randint(10000, 100000000) for i in range(length)]\n",
    "    return number_list"
   ]
  },
  {
   "cell_type": "markdown",
   "id": "24420d7c",
   "metadata": {},
   "source": [
    "<h2> Merge Sort </h2>"
   ]
  },
  {
   "cell_type": "code",
   "execution_count": 2,
   "id": "3629a0bc",
   "metadata": {},
   "outputs": [],
   "source": [
    "# merge 2 sorted portions of arr\n",
    "def merge(arr, left, right, mid):\n",
    "\n",
    "    # make shallow copy of 2 portions for convenient merging\n",
    "    arr1 = arr[left:mid]\n",
    "    arr2 = arr[mid:right]\n",
    "    \n",
    "    n1 = len(arr1)\n",
    "    n2 = len(arr2)\n",
    "    i = j = 0\n",
    "    k = left\n",
    " \n",
    "    # traverse arr1 and arr2 until one is empty\n",
    "    while i < n1 and j < n2:\n",
    "        if arr1[i] < arr2[j]:\n",
    "            arr[k] = arr1[i]\n",
    "            i += 1\n",
    "        else:\n",
    "            arr[k] = arr2[j]\n",
    "            j += 1\n",
    "        k +=  1\n",
    "     \n",
    "    # get remaining elements\n",
    "    arr[k:k+n1-i] = arr1[i:n1]\n",
    "    k += n1-i\n",
    "    arr[k:k+n2-j] = arr2[j:n2]\n",
    "    \n",
    "\n",
    "def merge_sort(arr, left, right):\n",
    "    \n",
    "    # special cases, arr is sorted\n",
    "    if right-left <= 1:  # stop condition for recursion\n",
    "        return\n",
    "    \n",
    "    # split arr into 2 halves, then sort each half individually\n",
    "    mid = (left+right)//2\n",
    "    merge_sort(arr, left, mid)   # recursive call\n",
    "    merge_sort(arr, mid, right)  # recursive call\n",
    "\n",
    "    # merge 2 sorted halves\n",
    "    merge(arr, left, right, mid)"
   ]
  },
  {
   "cell_type": "markdown",
   "id": "59344a60",
   "metadata": {},
   "source": [
    "<h2> Quick Sort </h2>"
   ]
  },
  {
   "cell_type": "code",
   "execution_count": 3,
   "id": "61136ddb",
   "metadata": {},
   "outputs": [],
   "source": [
    "# choose pivot, move every smaller element to the left side\n",
    "# return the index of pivot after moving\n",
    "def partition(arr, left, right):\n",
    "    pivot = arr[left]  # choose pivot as the left-most element\n",
    "    i = left\n",
    "    for j in range(left+1, right):\n",
    "        if arr[j] < pivot:  # if found smaller element...\n",
    "            i += 1\n",
    "            arr[i], arr[j] = arr[j], arr[i]  # ... move it to the left side\n",
    "    arr[i], arr[left] = arr[left], arr[i]    # after finishing, swap pivot to its position\n",
    "    return i\n",
    "\n",
    "\n",
    "def quick_sort(arr, left, right):\n",
    "    \n",
    "    if right-left <= 1:  # array already sorted / stop condition for recursion\n",
    "        return\n",
    "    \n",
    "    # split arr into 2 parts\n",
    "    partition_index = partition(arr, left, right)\n",
    "    \n",
    "    # sort each part individually\n",
    "    quick_sort(arr, left, partition_index)     # recursive call\n",
    "    quick_sort(arr, partition_index+1, right)  # recursive call"
   ]
  },
  {
   "cell_type": "code",
   "execution_count": 4,
   "id": "5375d76b",
   "metadata": {},
   "outputs": [],
   "source": [
    "def bubbleSort(arr):\n",
    "    for i in range(len(arr)-1, 0, -1):  # i is the index between the sorted and unsorted part\n",
    "        for j in range(i):              # loop j through the pairs in the unsorted part\n",
    "            if arr[j] > arr[j+1]:\n",
    "                arr[j], arr[j+1] = arr[j+1], arr[j]\n",
    "def insertionSort(arr):\n",
    "    for i in range(1, len(arr)):  # arr[i] is the element to be inserted\n",
    "        j = i\n",
    "        while j > 0 and arr[j] < arr[j-1]:  # move the element to the left until found the correct position\n",
    "            arr[j], arr[j-1] = arr[j-1], arr[j]\n",
    "            j -= 1"
   ]
  },
  {
   "cell_type": "code",
   "execution_count": null,
   "id": "d25f56e0",
   "metadata": {},
   "outputs": [
    {
     "name": "stdout",
     "output_type": "stream",
     "text": [
      "- Với data rộng 4, thời gian chạy Merge Sort: 0.0000000000 giây\n",
      "- Với data rộng 4, thời gian chạy Quick Sort: 0.0000000000 giây\n",
      "- Với data rộng 16, thời gian chạy Merge Sort: 0.0010025501 giây\n",
      "- Với data rộng 16, thời gian chạy Quick Sort: 0.0000000000 giây\n",
      "- Với data rộng 64, thời gian chạy Merge Sort: 0.0000000000 giây\n",
      "- Với data rộng 64, thời gian chạy Quick Sort: 0.0000000000 giây\n",
      "- Với data rộng 256, thời gian chạy Merge Sort: 0.0009949207 giây\n",
      "- Với data rộng 256, thời gian chạy Quick Sort: 0.0060079098 giây\n",
      "- Với data rộng 1024, thời gian chạy Merge Sort: 0.0060009956 giây\n",
      "- Với data rộng 1024, thời gian chạy Quick Sort: 0.0590422153 giây\n",
      "- Với data rộng 4096, thời gian chạy Merge Sort: 0.0290029049 giây\n"
     ]
    }
   ],
   "source": [
    "\n",
    "\n",
    "for i in range(1, 11):\n",
    "    _list = test_list(4 ** i)\n",
    "    # Bubble Sort \n",
    "    start_time = time.time()\n",
    "    \n",
    "    \n",
    "    merge_sort(_list, 0, len(_list) - 1)\n",
    "\n",
    "\n",
    "    \n",
    "    end_time = time.time()\n",
    "    elapsed_time = end_time - start_time\n",
    "    print(f\"- Với data rộng {len(_list)}, thời gian chạy Merge Sort: {elapsed_time:.10f} giây\")\n",
    "    \n",
    "    # Quick Sort\n",
    "    # Bubble Sort \n",
    "    start_time = time.time()\n",
    "    \n",
    "    quick_sort(_list, 0, len(_list) - 1)\n",
    "\n",
    "\n",
    "    \n",
    "    end_time = time.time()\n",
    "    elapsed_time = end_time - start_time\n",
    "    print(f\"- Với data rộng {len(_list)}, thời gian chạy Quick Sort: {elapsed_time:.10f} giây\")"
   ]
  },
  {
   "cell_type": "code",
   "execution_count": null,
   "id": "372fc0f9",
   "metadata": {},
   "outputs": [],
   "source": []
  },
  {
   "cell_type": "code",
   "execution_count": null,
   "id": "825b7dbc",
   "metadata": {},
   "outputs": [],
   "source": []
  }
 ],
 "metadata": {
  "kernelspec": {
   "display_name": "Python 3 (ipykernel)",
   "language": "python",
   "name": "python3"
  },
  "language_info": {
   "codemirror_mode": {
    "name": "ipython",
    "version": 3
   },
   "file_extension": ".py",
   "mimetype": "text/x-python",
   "name": "python",
   "nbconvert_exporter": "python",
   "pygments_lexer": "ipython3",
   "version": "3.10.11"
  }
 },
 "nbformat": 4,
 "nbformat_minor": 5
}
