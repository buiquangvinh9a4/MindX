{
 "cells": [
  {
   "cell_type": "code",
   "execution_count": null,
   "id": "5ab5fb2d",
   "metadata": {},
   "outputs": [],
   "source": [
    "\"\"\"\n",
    "    # -> lst_count = [1, 2, 1, 1, 0, 2, 1, 2, 0, 1]   -> len = 9 -> max(lst)\n",
    "    \n",
    "    lst_sorted = []\n",
    "    ý tưởng: duyệt lần lượt mảng lst_count và thêm vào lst_sorted\n",
    "    - lst_count[0] = 1 -> lst_sorted = [0]\n",
    "    - lst_count[1] = 2 -> lst_sorted = [0, 1, 1]\n",
    "    - lst_count[2] = 1 -> lst_sorted = [0, 1, 1, 2]\n",
    "    - lst_count[3] = 1 -> lst_sorted = [0, 1, 1, 2, 3]\n",
    "    - lst_count[4] = 0 -> lst_sorted = [0, 1, 1, 2, 3]\n",
    "    - lst_count[5] = 2 -> lst_sorted = [0, 1, 1, 2, 3, 5, 5]\n",
    "    - lst_count[6] = 1 -> lst_sorted = [0, 1, 1, 2, 3, 5, 5, 6]\n",
    "    - lst_count[7] = 2 -> lst_sorted = [0, 1, 1, 2, 3, 5, 5, 6, 7, 7]\n",
    "    - lst_count[8] = 2 -> lst_sorted = [0, 1, 1, 2, 3, 5, 5, 6, 7, 7]\n",
    "    - lst_count[9] = 1 -> lst_sorted = [0, 1, 1, 2, 3, 5, 5, 6, 7, 7, 9]\n",
    "    \n",
    "    # Lưu ý: Không dùng append() hoặc một số hàm có sẵn của list\n",
    "      \n",
    "\"\"\""
   ]
  },
  {
   "cell_type": "code",
   "execution_count": 15,
   "id": "2f812e3f",
   "metadata": {},
   "outputs": [
    {
     "name": "stdout",
     "output_type": "stream",
     "text": [
      "[1, 5, 6, 5, 2, 7, 7, 9, 0, 1, 3]\n",
      "[0, 1, 1, 2, 3, 5, 5, 6, 7, 7, 9]\n"
     ]
    }
   ],
   "source": [
    "# Duyệt dãy list, đếm lần lượt từng giá trị\n",
    "\n",
    "def countingSort(lst):\n",
    "    _max = lst[0]      # tìm max\n",
    "    for i in range(1, len(lst)):\n",
    "        if lst[i] > _max:\n",
    "            _max = lst[i]\n",
    "\n",
    "    lst_count = [0] * (_max + 1)        # mảng có 9  -> i = 10\n",
    "    for i in range(len(lst)):      # 0 -> 10\n",
    "        lst_count[lst[i]] += 1\n",
    "\n",
    "    lst_sorted = []\n",
    "    for i in range(_max + 1):\n",
    "        lst_sorted = lst_sorted + [i] * lst_count[i]\n",
    "    \n",
    "    return lst_sorted\n",
    "\n",
    "\n",
    "lst = [1, 5, 6, 5, 2, 7, 7, 9, 0, 1, 3]\n",
    "print(lst)\n",
    "lst = countingSort(lst)\n",
    "print(lst)\n",
    "\n",
    "\n",
    "#print(lst_count)"
   ]
  },
  {
   "cell_type": "code",
   "execution_count": 12,
   "id": "b9150f32",
   "metadata": {},
   "outputs": [
    {
     "name": "stdout",
     "output_type": "stream",
     "text": [
      "[0, 1, 1, 2, 3, 5, 5, 6, 7, 7, 9]\n"
     ]
    }
   ],
   "source": [
    "print(lst_sorted)"
   ]
  },
  {
   "cell_type": "code",
   "execution_count": 9,
   "id": "ede2b32f",
   "metadata": {},
   "outputs": [
    {
     "name": "stdout",
     "output_type": "stream",
     "text": [
      "[0, 0, 1, 1, 1, 2, 2, 2, 2]\n"
     ]
    }
   ],
   "source": [
    "a = [0, 0, 1, 1, 1]\n",
    "a = a + [2] * 4\n",
    "print(a)"
   ]
  },
  {
   "cell_type": "code",
   "execution_count": null,
   "id": "e3235286",
   "metadata": {},
   "outputs": [],
   "source": []
  }
 ],
 "metadata": {
  "kernelspec": {
   "display_name": "Python 3 (ipykernel)",
   "language": "python",
   "name": "python3"
  },
  "language_info": {
   "codemirror_mode": {
    "name": "ipython",
    "version": 3
   },
   "file_extension": ".py",
   "mimetype": "text/x-python",
   "name": "python",
   "nbconvert_exporter": "python",
   "pygments_lexer": "ipython3",
   "version": "3.10.11"
  }
 },
 "nbformat": 4,
 "nbformat_minor": 5
}
