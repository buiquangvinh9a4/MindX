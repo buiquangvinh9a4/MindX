{
 "cells": [
  {
   "cell_type": "markdown",
   "id": "5b35efe4",
   "metadata": {},
   "source": [
    "**Câu 1: Bài toán mảnh vườn**"
   ]
  },
  {
   "cell_type": "code",
   "execution_count": null,
   "id": "45fed223",
   "metadata": {},
   "outputs": [],
   "source": [
    "n = int(input())\n",
    "m = int(input())\n",
    "a = int(input())\n",
    "\n",
    "print(n * m * a)"
   ]
  },
  {
   "cell_type": "markdown",
   "id": "f4a678d3",
   "metadata": {},
   "source": [
    "**Câu 2: Xét GPA**"
   ]
  },
  {
   "cell_type": "code",
   "execution_count": 3,
   "id": "9db22df8",
   "metadata": {},
   "outputs": [
    {
     "name": "stdout",
     "output_type": "stream",
     "text": [
      "4\n",
      "Xuất sắc\n"
     ]
    }
   ],
   "source": [
    "gpa = float(input())\n",
    "\n",
    "if gpa < 0 or gpa > 4.00:\n",
    "    print('Điểm không hợp lệ')\n",
    "elif gpa >= 3.6:\n",
    "    print('Xuất sắc')\n",
    "elif gpa >= 3.2:\n",
    "    print('Giỏi')\n",
    "elif gpa >= 2.5:\n",
    "    print('Khá')\n",
    "elif gpa >= 2.0:\n",
    "    print('Trung bình')\n",
    "else:\n",
    "    print('Yếu')"
   ]
  },
  {
   "cell_type": "markdown",
   "id": "ed3866b5",
   "metadata": {},
   "source": [
    "**Câu 3: Đếm và tính tổng các số nguyên tố**"
   ]
  },
  {
   "cell_type": "code",
   "execution_count": 4,
   "id": "600af032",
   "metadata": {},
   "outputs": [
    {
     "name": "stdout",
     "output_type": "stream",
     "text": [
      "5\n",
      "1\n",
      "2\n",
      "3\n",
      "4\n",
      "5\n",
      "Có 3 số nguyên tố, tổng là 10\n"
     ]
    }
   ],
   "source": [
    "import math\n",
    "def snt(n):\n",
    "    if n < 2:\n",
    "        return False\n",
    "    else:\n",
    "    \n",
    "        for i in range(2, n):\n",
    "            if n % i == 0:\n",
    "                return False\n",
    "        return True\n",
    "\n",
    "\n",
    "n = int(input())\n",
    "lst = []\n",
    "\n",
    "for i in range(n):\n",
    "    lst.append(int(input()))\n",
    "    \n",
    "count = sum = 0    \n",
    "for number in lst:\n",
    "    if snt(number):\n",
    "        count += 1\n",
    "        sum += number\n",
    "\n",
    "if count > 0:\n",
    "    print(f'Có {count} số nguyên tố, tổng là {sum}')    \n",
    "else:\n",
    "    print('Không có số nguyên tố!')           \n",
    "        "
   ]
  },
  {
   "cell_type": "markdown",
   "id": "8e23ad08",
   "metadata": {},
   "source": [
    "**Câu 4: Dãy không giảm**"
   ]
  },
  {
   "cell_type": "code",
   "execution_count": 5,
   "id": "e4b93ade",
   "metadata": {},
   "outputs": [
    {
     "name": "stdout",
     "output_type": "stream",
     "text": [
      "5\n",
      "1\n",
      "2\n",
      "2\n",
      "3\n",
      "4\n",
      "Có\n"
     ]
    }
   ],
   "source": [
    "def is_increasing(lst):\n",
    "    for i in range(len(lst) - 1):\n",
    "        if lst[i] > lst[i + 1]:\n",
    "            return False\n",
    "    return True\n",
    "\n",
    "n = int(input())\n",
    "lst = []\n",
    "\n",
    "for i in range(n):\n",
    "    lst.append(int(input()))\n",
    "    \n",
    "if is_increasing(lst):\n",
    "    print('Có')\n",
    "else:\n",
    "    print('Không')"
   ]
  },
  {
   "cell_type": "markdown",
   "id": "aa59ef06",
   "metadata": {},
   "source": [
    "**Câu 5: Kiểm tra số Amstrong**"
   ]
  },
  {
   "cell_type": "code",
   "execution_count": 6,
   "id": "41dfb8f5",
   "metadata": {},
   "outputs": [
    {
     "name": "stdout",
     "output_type": "stream",
     "text": [
      "153\n",
      "Có "
     ]
    }
   ],
   "source": [
    "def sumNum(n):\n",
    "    k = len(str(n))\n",
    "    p = n\n",
    "    s = 0\n",
    "    while p > 0:\n",
    "        tmp = p % 10\n",
    "        p //= 10\n",
    "        s = s + tmp**k\n",
    "    return s\n",
    "\n",
    "a = int(input())\n",
    "\n",
    "if a == sumNum(a):\n",
    "    print('Có', end = ' ')\n",
    "else:\n",
    "    print('Không', end = ' ')\n",
    "    "
   ]
  },
  {
   "cell_type": "markdown",
   "id": "e9419e61",
   "metadata": {},
   "source": [
    "**Câu 6: Thống kê học sinh**"
   ]
  },
  {
   "cell_type": "code",
   "execution_count": 7,
   "id": "f3ddcf5e",
   "metadata": {},
   "outputs": [
    {
     "name": "stdout",
     "output_type": "stream",
     "text": [
      "5\n",
      "7.6\n",
      "9.75\n",
      "4.25\n",
      "6.25\n",
      "9.25\n",
      "Học sinh giỏi nhất ở vị trí: 2\n",
      "Học sinh kém nhất ở vị trí: 3\n"
     ]
    }
   ],
   "source": [
    "def search(lst, s):\n",
    "    i = 1\n",
    "    for score in lst:\n",
    "        if score == s:\n",
    "            break\n",
    "        else:\n",
    "            i += 1\n",
    "    return i\n",
    "\n",
    "n = int(input())\n",
    "lst = []\n",
    "\n",
    "for i in range(n):\n",
    "    lst.append(float(input()))\n",
    "    \n",
    "Max = max(lst)\n",
    "Min = min(lst)\n",
    "\n",
    "if Max == Min:\n",
    "    print('Lớp học đều!')\n",
    "else:\n",
    "    i_max = search(lst, Max)\n",
    "    i_min = search(lst, Min)\n",
    "    print(f'Học sinh giỏi nhất ở vị trí: {i_max}')\n",
    "    print(f'Học sinh kém nhất ở vị trí: {i_min}')\n",
    "            "
   ]
  },
  {
   "cell_type": "code",
   "execution_count": null,
   "id": "499004cc",
   "metadata": {},
   "outputs": [],
   "source": []
  }
 ],
 "metadata": {
  "kernelspec": {
   "display_name": "Python 3 (ipykernel)",
   "language": "python",
   "name": "python3"
  },
  "language_info": {
   "codemirror_mode": {
    "name": "ipython",
    "version": 3
   },
   "file_extension": ".py",
   "mimetype": "text/x-python",
   "name": "python",
   "nbconvert_exporter": "python",
   "pygments_lexer": "ipython3",
   "version": "3.10.10"
  }
 },
 "nbformat": 4,
 "nbformat_minor": 5
}
