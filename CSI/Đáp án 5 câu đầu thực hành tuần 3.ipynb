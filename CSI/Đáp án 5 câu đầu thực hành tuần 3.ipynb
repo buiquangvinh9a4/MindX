{
 "cells": [
  {
   "cell_type": "markdown",
   "id": "ebb357c4",
   "metadata": {},
   "source": [
    "<h1 style=\"color:blue\">Bài thực hành tuần 2 </h1>"
   ]
  },
  {
   "cell_type": "markdown",
   "id": "7b142fc2",
   "metadata": {},
   "source": [
    "<h2>Bài 7: Rút gọn phân số </h2>"
   ]
  },
  {
   "cell_type": "code",
   "execution_count": 3,
   "id": "e2b61643",
   "metadata": {},
   "outputs": [
    {
     "name": "stdout",
     "output_type": "stream",
     "text": [
      "4\n",
      "-24\n",
      "-1 6\n"
     ]
    }
   ],
   "source": [
    "import math\n",
    "\n",
    "def rutgon(a, b):\n",
    "    if a == 0:\n",
    "        a = a\n",
    "        if b < 0:\n",
    "            b = -b\n",
    "    else:\n",
    "        c = math.gcd(a, b)\n",
    "        a = int(a / c)\n",
    "        b = int(b / c)\n",
    "        if (a < 0 and b < 0) or (a > 0 and b < 0):\n",
    "            a = -a\n",
    "            b = -b\n",
    "    return a, b\n",
    "\n",
    "a = int(input())\n",
    "b = int(input())\n",
    "c, d = rutgon(a, b)\n",
    "print(c, d)\n"
   ]
  },
  {
   "cell_type": "markdown",
   "id": "80200e26",
   "metadata": {},
   "source": [
    "<h2>Bài 8: Chuyển đổi nhị phân -> Thập phân </h2>"
   ]
  },
  {
   "cell_type": "code",
   "execution_count": 4,
   "id": "b543f692",
   "metadata": {},
   "outputs": [
    {
     "name": "stdout",
     "output_type": "stream",
     "text": [
      "25\n",
      "11001"
     ]
    }
   ],
   "source": [
    "def dec_to_bin(n):\n",
    "    if n < 2:\n",
    "        print(n, end = '')\n",
    "    else:\n",
    "        dec_to_bin(n // 2)\n",
    "        print(n % 2, end = '')\n",
    "\n",
    "n = int(input())\n",
    "dec_to_bin(n)\n",
    "    "
   ]
  },
  {
   "cell_type": "markdown",
   "id": "5dfe0eb3",
   "metadata": {},
   "source": [
    "<h2>Bài 9: Thống kê sách </h2>"
   ]
  },
  {
   "cell_type": "code",
   "execution_count": 5,
   "id": "fe2a2230",
   "metadata": {},
   "outputs": [
    {
     "name": "stdout",
     "output_type": "stream",
     "text": [
      "2\n",
      "3\n",
      "Tiếng Anh Easy\n",
      "50\n",
      "Đắc nhân tâm\n",
      "100\n",
      "Nhà giả kim\n",
      "75\n",
      "Code dạo kí sự\n",
      "12\n",
      "Binh pháp tôn tử\n",
      "45\n",
      "Đắc nhân tâm : 100\n",
      "Nhà giả kim : 75\n",
      "Tiếng Anh Easy : 50\n",
      "Binh pháp tôn tử : 45\n",
      "Code dạo kí sự : 12\n"
     ]
    }
   ],
   "source": [
    "def nhapThongTin(n):\n",
    "    ds = {}\n",
    "    for i in range(n):\n",
    "        tenSach = input()\n",
    "        soLuong = int(input())\n",
    "        ds.update({tenSach:soLuong})\n",
    "    return ds\n",
    "\n",
    "def thongKe(CH1, CH2):\n",
    "    ds = {}\n",
    "    for key, value in CH1.items():\n",
    "        if key not in ds.keys():\n",
    "            ds[key] = value\n",
    "        else:\n",
    "            ds[key] += value\n",
    "    for key, value in CH2.items():\n",
    "        if key not in ds.keys():\n",
    "            ds[key] = value\n",
    "        else:\n",
    "            ds[key] += value\n",
    "    return ds\n",
    "\n",
    "def hienThi(CH1, CH2):\n",
    "    tk = thongKe(CH1, CH2)\n",
    "    tk_sort = dict(sorted(tk.items(), key = lambda x : x[1], reverse = True))\n",
    "    for key, value in tk_sort.items():\n",
    "        print(f'{key} : {value}')\n",
    "            \n",
    "\n",
    "n = int(input())\n",
    "m = int(input())\n",
    "\n",
    "CH1 = nhapThongTin(n)\n",
    "CH2 = nhapThongTin(m)\n",
    "hienThi(CH1, CH2)"
   ]
  },
  {
   "cell_type": "markdown",
   "id": "df858fb3",
   "metadata": {},
   "source": [
    "<h2>Bài 10: Tìm ngày trước sau </h2>"
   ]
  },
  {
   "cell_type": "code",
   "execution_count": 6,
   "id": "9961857d",
   "metadata": {},
   "outputs": [
    {
     "name": "stdout",
     "output_type": "stream",
     "text": [
      "14\n",
      "2\n",
      "2023\n",
      "13/02/2023\n",
      "15/02/2023\n"
     ]
    }
   ],
   "source": [
    "def dayOfMonth(m):\n",
    "    dayofMonth = 31\n",
    "    if m == 2:\n",
    "        if isLeapYear:\n",
    "            dayofMonth = 29\n",
    "        else:\n",
    "            dayofMonth = 28\n",
    "    elif m == 4 or m == 6 or m == 9 or m == 11:\n",
    "        dayofMonth = 30\n",
    "    return dayofMonth\n",
    "\n",
    "def convertNumber(number):\n",
    "    if len(str(number)) == 1:\n",
    "        number = '0' + str(number)\n",
    "    return number\n",
    "\n",
    "d = int(input())\n",
    "m = int(input())\n",
    "y = int(input())\n",
    "\n",
    "d1 = d2 = d\n",
    "m1 = m2 = m\n",
    "y1 = y2 = y\n",
    "\n",
    "isLeapYear = False\n",
    "if (y % 4 == 0 and y % 100 != 0) or (y % 400 == 0):\n",
    "    isLeapYear = True\n",
    "    \n",
    "if (d == 31 and dayOfMonth(m) == 31) or (d == 30 and dayOfMonth(m) == 30)  or (d == 29 and dayOfMonth(m) == 29) or (d == 28 and dayOfMonth(m) == 28):\n",
    "    d1 = 1\n",
    "    m1 += 1\n",
    "    if m1 > 12:\n",
    "        m1 = 1\n",
    "        y1 += 1   \n",
    "else:\n",
    "    d1 += 1   \n",
    "    \n",
    "if d == 1:\n",
    "    m2 -= 1\n",
    "    d2 = dayOfMonth(m2)\n",
    "    if m2 == 0:\n",
    "        m2 = 12\n",
    "        y2 -= 1\n",
    "else:\n",
    "    d2 -= 1\n",
    "\n",
    "print(f'{convertNumber(d2)}/{convertNumber(m2)}/{y2}')\n",
    "print(f'{convertNumber(d1)}/{convertNumber(m1)}/{y1}')\n"
   ]
  },
  {
   "cell_type": "markdown",
   "id": "0a872fe5",
   "metadata": {},
   "source": [
    "<h1 style=\"color:blue\">Bài thực hành tuần 3</h1>"
   ]
  },
  {
   "cell_type": "markdown",
   "id": "0a27331e",
   "metadata": {},
   "source": [
    "<h2>Bài 1: In list theo chiều xuôi</h2>"
   ]
  },
  {
   "cell_type": "code",
   "execution_count": null,
   "id": "f3cc3ab9",
   "metadata": {},
   "outputs": [],
   "source": []
  },
  {
   "cell_type": "code",
   "execution_count": 7,
   "id": "b64b4d3b",
   "metadata": {},
   "outputs": [
    {
     "name": "stdout",
     "output_type": "stream",
     "text": [
      "5\n",
      "1\n",
      "2\n",
      "3\n",
      "4\n",
      "5\n",
      "1 2 3 4 5 "
     ]
    }
   ],
   "source": [
    "n = int(input())\n",
    "lst = []\n",
    "\n",
    "for i in range(n):\n",
    "    x = int(input())\n",
    "    lst.append(x)\n",
    "\n",
    "for number in lst:\n",
    "    print(number, end = ' ')"
   ]
  },
  {
   "cell_type": "markdown",
   "id": "31734ca7",
   "metadata": {},
   "source": [
    "<h2>Bài 2: Bình phương các phần tử trong List</h2>"
   ]
  },
  {
   "cell_type": "code",
   "execution_count": 8,
   "id": "1c9f55fa",
   "metadata": {},
   "outputs": [
    {
     "name": "stdout",
     "output_type": "stream",
     "text": [
      "5\n",
      "1\n",
      "2\n",
      "3\n",
      "4\n",
      "5\n",
      "1 4 9 16 25 "
     ]
    }
   ],
   "source": [
    "n = int(input())\n",
    "lst = []\n",
    "\n",
    "for i in range(n):\n",
    "    x = int(input())\n",
    "    lst.append(x)\n",
    "\n",
    "for number in lst:\n",
    "    print(number ** 2, end = ' ')"
   ]
  },
  {
   "cell_type": "markdown",
   "id": "aedf9158",
   "metadata": {},
   "source": [
    "<h2>Bài 3: Sắp xếp dãy giảm dần</h2>"
   ]
  },
  {
   "cell_type": "code",
   "execution_count": 9,
   "id": "2e3d82a3",
   "metadata": {},
   "outputs": [
    {
     "name": "stdout",
     "output_type": "stream",
     "text": [
      "5\n",
      "5\n",
      "8\n",
      "1\n",
      "0\n",
      "2\n",
      "8 5 2 1 0 "
     ]
    }
   ],
   "source": [
    "n = int(input())\n",
    "lst = []\n",
    "\n",
    "for i in range(n):\n",
    "    x = int(input())\n",
    "    lst.append(x)\n",
    "\n",
    "lst_sorted = sorted(lst, reverse = True)\n",
    "for number in lst_sorted:\n",
    "    print(number, end = ' ')"
   ]
  },
  {
   "cell_type": "markdown",
   "id": "5b2748f8",
   "metadata": {},
   "source": [
    "<h2>Bài 4: Xử lý chính tả cho danh sách</h2>"
   ]
  },
  {
   "cell_type": "code",
   "execution_count": 11,
   "id": "111fab32",
   "metadata": {},
   "outputs": [
    {
     "name": "stdout",
     "output_type": "stream",
     "text": [
      "3\n",
      "123456\n",
      "lê tHỊ mai\n",
      "64243\n",
      "hoàng văn ĐôNG\n",
      "345642\n",
      "LÊ MAI hươnG\n",
      "123456 : Lê Thị Mai\n",
      "64243 : Hoàng Văn Đông\n",
      "345642 : Lê Mai Hương\n"
     ]
    }
   ],
   "source": [
    "def nhapThongTin():\n",
    "    n = int(input())\n",
    "    ds = {}\n",
    "    for i in range(n):\n",
    "        masv = int(input())\n",
    "        ten = input()\n",
    "        ds.update({masv:ten})\n",
    "    return ds\n",
    "\n",
    "def xuLyChinhTa(ds):\n",
    "    ds_xuly = ds\n",
    "    for msv, ten in ds_xuly.items():\n",
    "        ds_xuly[msv] = ten.title()\n",
    "    return ds_xuly\n",
    "\n",
    "def xuatThongTin(ds):\n",
    "    for masv, ten in ds.items():\n",
    "        print(f'{masv} : {ten}')\n",
    "\n",
    "ds = nhapThongTin()\n",
    "ds_xuly = xuLyChinhTa(ds)\n",
    "xuatThongTin(ds_xuly)\n",
    "        "
   ]
  },
  {
   "cell_type": "markdown",
   "id": "f9830c25",
   "metadata": {},
   "source": [
    "<h2>Bài 5: Thừa số nguyên tố</h2>"
   ]
  },
  {
   "cell_type": "code",
   "execution_count": 12,
   "id": "2bca3ec9",
   "metadata": {},
   "outputs": [
    {
     "name": "stdout",
     "output_type": "stream",
     "text": [
      "100\n",
      "2 2 5 5 "
     ]
    }
   ],
   "source": [
    "def phanTichSoNguyen(n):\n",
    "    i = 2\n",
    "    while n > 1:\n",
    "        if n % i == 0:\n",
    "            print(i, end = ' ')\n",
    "            n = int(n / i)\n",
    "        else:\n",
    "            i += 1\n",
    "\n",
    "n = int(input())     \n",
    "        \n",
    "phanTichSoNguyen(n)"
   ]
  },
  {
   "cell_type": "code",
   "execution_count": null,
   "id": "136bc8a5",
   "metadata": {},
   "outputs": [],
   "source": []
  }
 ],
 "metadata": {
  "kernelspec": {
   "display_name": "Python 3 (ipykernel)",
   "language": "python",
   "name": "python3"
  },
  "language_info": {
   "codemirror_mode": {
    "name": "ipython",
    "version": 3
   },
   "file_extension": ".py",
   "mimetype": "text/x-python",
   "name": "python",
   "nbconvert_exporter": "python",
   "pygments_lexer": "ipython3",
   "version": "3.10.10"
  }
 },
 "nbformat": 4,
 "nbformat_minor": 5
}
