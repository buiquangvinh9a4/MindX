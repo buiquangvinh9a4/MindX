{
 "cells": [
  {
   "cell_type": "markdown",
   "metadata": {},
   "source": [
    "## <center>Computer Science Intensive Course - MindX</center>\n",
    "![](./assets/logo.png)\n",
    "# <center>BÀI 10. TREE VÀ GRAPH</center>"
   ]
  },
  {
   "cell_type": "markdown",
   "metadata": {},
   "source": [
    "# 1. Tree (Cây)\n",
    "\n",
    "**Tree** là một cấu trúc dữ liệu có tính phân cấp. Một số ví dụ của tree:\n",
    "\n",
    "![](./assets/animal-tree.jpg)\n",
    "<div style='text-align: right'><i>Ảnh: dinhnghia.info</i></div>\n",
    "<center><i>Cây phát sinh giới động vật</i></center><br>\n",
    "\n",
    "![](./assets/html-tree.png)\n",
    "<div style='text-align: right'><i>Ảnh: runestone.academy</i></div>\n",
    "<center><i>Cây tổ chức các phần tử trong trang web</i></center>\n",
    "\n",
    "Từ các ví dụ trên, ta có thể rút ra một số **tính chất** của cây:\n",
    "- Cây bắt đầu từ một phần tử *gốc*. Phần tử này có thể không có hoặc có nhiều phần tử con.\n",
    "- Mỗi phần tử nằm sau phần tử gốc cũng có thể không có hoặc có nhiều phần tử con, nhưng mỗi phần tử đều chỉ có đúng một phần tử cha.\n",
    "- Các phần tử không có phần tử con được gọi là phần tử *lá*.\n",
    "- Mỗi phần tử còn được gọi là *node*."
   ]
  },
  {
   "cell_type": "markdown",
   "metadata": {},
   "source": [
    "### Ứng Dụng\n",
    "\n",
    "**Tree** là một cấu trúc dữ liệu phổ biến và được ứng dụng trên nhiều bài toán thực tế:\n",
    "- Lưu trữ cây thư mục trên các hệ thống Windows, Linux, ...\n",
    "- Lưu trữ dữ liệu có tính chất phân cấp: cấu trúc cấp bậc trong một tổ chức, dữ liệu dạng HTML, XML, JSON,...\n",
    "- Hỗ trợ thực hiện các thuật toán:\n",
    "  + Tính toán giá trị của biểu thức\n",
    "  + Tìm kiếm trên cây nhị phân\n",
    "  + Biên dịch code của ngôn ngữ lập trình thành mã máy\n",
    "  + Các thuật toán machine learning trên cây\n",
    "- Làm nền tảng cho các cấu trúc dữ liệu khác: AVL tree, Heap, Priority Queue,..."
   ]
  },
  {
   "cell_type": "markdown",
   "metadata": {},
   "source": [
    "### Code\n",
    "\n",
    "Python không hỗ trợ cấu trúc dữ liệu sẵn có dạng tree. Tuy nhiên, ta có thể tự cài đặt tree một cách đơn giản như sau:"
   ]
  },
  {
   "cell_type": "code",
   "execution_count": 4,
   "metadata": {},
   "outputs": [
    {
     "name": "stdout",
     "output_type": "stream",
     "text": [
      "Fifa\n",
      "--Châu Á\n",
      "----Việt Nam\n",
      "----Nhật Bản\n",
      "----Indonesia\n",
      "--Châu Âu\n",
      "----Anh\n",
      "----Pháp\n",
      "----Bỉ\n"
     ]
    }
   ],
   "source": [
    "# tạo ra cây bằng class\n",
    "\n",
    "class TreeNode:\n",
    "    def __init__(self, data):\n",
    "        self.data = data\n",
    "        self.children = []\n",
    "\n",
    "# khởi tạo cây\n",
    "# B1: khởi tạo gốc (root) và các con của gốc\n",
    "root = TreeNode(\"Fifa\")\n",
    "r1 = TreeNode(\"Châu Á\")\n",
    "r2 = TreeNode(\"Châu Âu\")  \n",
    "root.children = [r1, r2]   # gán các con của node root vào children\n",
    "\n",
    "# B2.1: khởi tạo các con của node \"Châu Á\"\n",
    "ca1 = TreeNode(\"Việt Nam\")\n",
    "ca2 = TreeNode(\"Nhật Bản\") \n",
    "ca3 = TreeNode(\"Indonesia\")\n",
    "r1.children = [ca1, ca2, ca3]   # gán các con của node r1 vào children\n",
    "\n",
    "# B2.2: khởi tạo các con của node \"Châu Âu\"\n",
    "cca1 = TreeNode(\"Anh\")\n",
    "cca2 = TreeNode(\"Pháp\")\n",
    "cca3 = TreeNode(\"Bỉ\") \n",
    "r2.children = [cca1, cca2, cca3]   # gán các con của node r2 vào children\n",
    "\n",
    "\n",
    "# Hàm hiển thị cây\n",
    "def traverse_tree(tree_node, level=0):\n",
    "    \n",
    "    print('--'*level, end='')\n",
    "    print('{}'.format(tree_node.data))\n",
    "    \n",
    "    for node in tree_node.children:\n",
    "        traverse_tree(node, level+1)  # recursive call\n",
    "\n",
    "traverse_tree(root)\n"
   ]
  },
  {
   "cell_type": "code",
   "execution_count": 1,
   "metadata": {},
   "outputs": [],
   "source": [
    "class treeNode:\n",
    "    def __init__(self, data):\n",
    "        self.data = data\n",
    "        self.children = []\n",
    "\n",
    "# Khởi tạo các node rời rạc \n",
    "root = treeNode(\"D:\")\n",
    "code = treeNode(\"code\")\n",
    "ielts = treeNode(\"ielts\")\n",
    "tangai = treeNode(\"tan gai\")\n",
    "cplus = treeNode(\"C++\")\n",
    "python = treeNode(\"python\")\n",
    "java = treeNode(\"java\")\n",
    "speaking = treeNode(\"speaking\")\n",
    "reading = treeNode(\"reading\")\n",
    "band = treeNode(\"Band 7.5\")\n",
    "hust = treeNode(\"Gái Bách Khoa\")\n",
    "nuce = treeNode(\"Gái Xây Dựng\")\n",
    "pro = treeNode(\"Minh Tiến\")\n",
    "\n",
    "# Ghép các node vào 1 cây\n",
    "root.children = [code, ielts, tangai]\n",
    "code.children = [cplus, python, java]\n",
    "ielts.children = [speaking, reading]\n",
    "speaking.children = [band]\n",
    "tangai.children = [hust, nuce]\n",
    "hust.children = [pro]"
   ]
  },
  {
   "cell_type": "markdown",
   "metadata": {},
   "source": [
    "Để in ra các giá trị trong tree, ta đệ quy để duyệt qua các phần tử:"
   ]
  },
  {
   "cell_type": "code",
   "execution_count": 2,
   "metadata": {},
   "outputs": [
    {
     "name": "stdout",
     "output_type": "stream",
     "text": [
      "D:\n",
      "--code\n",
      "----C++\n",
      "----python\n",
      "----java\n",
      "--ielts\n",
      "----speaking\n",
      "------Band 7.5\n",
      "----reading\n",
      "--tan gai\n",
      "----Gái Bách Khoa\n",
      "------Minh Tiến\n",
      "----Gái Xây Dựng\n"
     ]
    }
   ],
   "source": [
    "def traverse_tree(tree_node, level=0):\n",
    "    \n",
    "    print('--'*level, end='')\n",
    "    print('{}'.format(tree_node.data))\n",
    "    \n",
    "    for node in tree_node.children:\n",
    "        traverse_tree(node, level+1)  # recursive call\n",
    "    \n",
    "    \n",
    "traverse_tree(root)"
   ]
  },
  {
   "cell_type": "markdown",
   "metadata": {},
   "source": [
    "# 2. Graph (Đồ Thị)\n",
    "\n",
    "**Graph** là một cấu trúc dữ liệu gồm các *đỉnh (vertex)* được nối với nhau bởi các *cạnh (edge)*.\n",
    "\n",
    "![](./assets/graph.png)\n",
    "<div style='text-align: right'><i>Ảnh: geeksforgeeks.org</i></div>\n",
    "\n",
    "**Tính chất**:\n",
    "- Mỗi cạnh của một graph kết nối đúng hai đỉnh với nhau. Hai đỉnh được nối bằng cạnh được gọi là *liền kề* nhau.\n",
    "- Một đỉnh có thể được kết nối với nhiều đỉnh khác hoặc không kết nối với đỉnh nào."
   ]
  },
  {
   "cell_type": "markdown",
   "metadata": {},
   "source": [
    "### Ứng Dụng\n",
    "\n",
    "Do cấu tạo và tính chất như trên, graph được dùng để thể hiện dữ liệu có dạng mạng lưới:\n",
    "- Bản đồ đường bộ như Google Maps: mỗi con đường là một cạnh, mỗi giao lộ là một đỉnh.\n",
    "- Bản đồ đường dây điện, đường ống nước,...\n",
    "- Quan hệ bạn bè trên mạng xã hội như Facebook: mỗi quan hệ bạn bè là một cạnh, mỗi tài khoản là một đỉnh.\n",
    "- Kết nối giữa các máy tính trong cùng mạng LAN, giữa các server Internet."
   ]
  },
  {
   "cell_type": "markdown",
   "metadata": {},
   "source": [
    "### Lưu Trữ\n",
    "\n",
    "Có nhiều mô hình khác nhau để lưu trữ một đồ thị. Một trong những cách thông dụng là lưu trữ theo dạng **_danh sách kề_**: từ mỗi đỉnh, ta lưu trữ tất cả các đỉnh liền kề với nó.\n",
    "\n",
    "**Ví dụ**: Ta lưu trữ đồ thị trong hình minh họa trên theo dạng danh sách kề trong Python như sau:"
   ]
  },
  {
   "cell_type": "code",
   "execution_count": 8,
   "metadata": {},
   "outputs": [
    {
     "name": "stdout",
     "output_type": "stream",
     "text": [
      "E không kề với A\n"
     ]
    }
   ],
   "source": [
    "\n",
    "graph = {\n",
    "    \"A\": [\"B\", \"C\", \"D\"] ,\n",
    "    \"B\": [\"A\", \"C\"],\n",
    "    \"C\": [\"A\", \"B\", \"E\", \"F\"],\n",
    "    \"D\": [\"A\"],\n",
    "    \"E\": [\"C\", \"F\"],\n",
    "    \"F\": [\"C\", \"E\"]\n",
    "}\n",
    "\n",
    "# Yêu cầu: Nhập vào 2 đỉnh. Kiểm tra xem 2 đỉnh này có kề nhau hay không?\n",
    "vertex1 = input(\"Nhập vào đỉnh 1: \")   # A\n",
    "vertex2 = input(\"Nhập vào đỉnh 2: \")   # C\n",
    "\n",
    "# xử lý như nào đây?\n",
    "if vertex2 in graph[vertex1]:\n",
    "    print(f\"{vertex1} kề với {vertex2}\")\n",
    "else:\n",
    "    print(f\"{vertex1} không kề với {vertex2}\")\n",
    "\n",
    "\n",
    "# Bài toán số 2: Kiểm tra xem đỉnh 1 có kết nối với đỉnh 2 hay không?\n",
    "vertex1 = input(\"Nhập vào đỉnh 1: \")   # A\n",
    "vertex2 = input(\"Nhập vào đỉnh 2: \")   # C"
   ]
  },
  {
   "cell_type": "markdown",
   "metadata": {},
   "source": [
    "Như vậy, ở một đỉnh bất kỳ như đỉnh *3*, ta tìm được ba đỉnh liền kề với *3* là *1, 2, 4*."
   ]
  },
  {
   "cell_type": "markdown",
   "metadata": {},
   "source": [
    "### Code\n",
    "\n",
    "Một bài toán thường gặp trên đồ thị là kiểm tra hai đỉnh bất kì có kết nối với nhau hay không. Ví dụ, đối với đồ thị bên dưới, đỉnh *0* và *3* có kết nối với nhau; còn đỉnh *4* và *2* không kết nối với nhau.  \n",
    "\n",
    "Cho một đồ thị được lưu dưới dạng danh sách kề, ta thực hiện kiểm tra hai đỉnh A và B có kết nối với nhau hay không bằng cách đi từ A, lần theo các cạnh để đi đến các đỉnh liền kề cho đến khi tìm được B. Nếu đã duyệt qua tất cả các đỉnh có thể từ A mà vẫn không tìm được B, ta kết luận A và B không kết nối với nhau.\n",
    "\n",
    "![](./assets/disconnected-graph.png)"
   ]
  },
  {
   "cell_type": "code",
   "execution_count": 9,
   "metadata": {},
   "outputs": [
    {
     "name": "stdout",
     "output_type": "stream",
     "text": [
      "[1, 4]\n"
     ]
    }
   ],
   "source": [
    "dict_1 = {0: [1,4],\n",
    "          1: [0, 4, 3, 2],\n",
    "          4: [0, 1, 3],\n",
    "          3: [4, 1, 2],\n",
    "          2: [1, 3],\n",
    "          5: [2]}            #  vertex1 = 0   ->   vertex2 = 5 \n",
    "\n",
    "print(dict_1[0])"
   ]
  },
  {
   "cell_type": "code",
   "execution_count": 7,
   "metadata": {},
   "outputs": [
    {
     "name": "stdout",
     "output_type": "stream",
     "text": [
      "Nhập vào đỉnh 1: 0\n",
      "Nhập vào đỉnh 2: 3\n",
      "0 không liền kề 3\n"
     ]
    }
   ],
   "source": [
    "dinh1 = int(input('Nhập vào đỉnh 1: '))   # 0\n",
    "dinh2 = int(input('Nhập vào đỉnh 2: '))   # 3\n",
    "\n",
    "if dinh2 in graph[dinh1]:\n",
    "    print(f'{dinh1} liền kề {dinh2}')\n",
    "else:\n",
    "    print(f'{dinh1} không liền kề {dinh2}')\n",
    "    \n",
    "\n",
    "\n"
   ]
  },
  {
   "cell_type": "code",
   "execution_count": 11,
   "metadata": {},
   "outputs": [
    {
     "name": "stdout",
     "output_type": "stream",
     "text": [
      "0 is connected to 5: True\n"
     ]
    }
   ],
   "source": [
    "graph = {0: [1,4],\n",
    "          1: [0, 4, 3, 2],\n",
    "          4: [0, 1, 3],\n",
    "          3: [4, 1, 2],\n",
    "          2: [1, 3, 5],\n",
    "          5: [2]}            #  vertex1 = 0   ->   vertex2 = 5 \n",
    "\n",
    "\n",
    "def is_connected_recursive(vertex1, vertex2, graph, visited):\n",
    "    \n",
    "    if vertex2 == vertex1:  # found the vertex\n",
    "        return True\n",
    "\n",
    "    # check that the current vertex is visited\n",
    "    visited.add(vertex1)\n",
    "    \n",
    "    # check every adjacent vertices\n",
    "    for vertex in graph[vertex1]:\n",
    "        # if this vertex is not visited => visit every adjacent vertices from it and get finding result\n",
    "        if vertex not in visited and is_connected_recursive(vertex, vertex2, graph, visited) == True:\n",
    "            return True\n",
    "    \n",
    "    # not found after visiting all possible vertices\n",
    "    return False\n",
    "\n",
    "def is_connected(vertex1, vertex2, graph):\n",
    "    # initialize a set of visited vertices\n",
    "    return is_connected_recursive(vertex1, vertex2, graph, set())\n",
    "\n",
    "dinh1 = int(input('Nhập vào đỉnh 1: '))   # 0\n",
    "dinh2 = int(input('Nhập vào đỉnh 2: '))   # 3\n",
    "# driver code\n",
    "print('{} is connected to {}: {}'.format(dinh1, dinh2, is_connected(dinh1, dinh2, graph)))"
   ]
  },
  {
   "cell_type": "markdown",
   "metadata": {},
   "source": [
    "**Mở rộng**:  \n",
    "\n",
    "Cấu trúc dữ liệu *graph* có nhiều biến thể khác nhau như:\n",
    "- *Đồ thị có trọng số*: mỗi cạnh được gắn liền với một số.  \n",
    "  Ví dụ: trong bản đồ đường bộ, đoạn đường từ A đến B có thể dài hơn từ A đến C, trọng số trên cạnh AB và AC thể hiện độ dài của đoạn đường.\n",
    "- *Đồ thị có hướng*.  \n",
    "  Ví dụ: nếu đoạn đường từ A đến B là đường một chiều, ta chỉ có thể đi hướng A->B mà không đi được hướng B->A.\n",
    "- ... và nhiều biến thể khác.\n",
    "\n",
    "Tuy nhiên, để đơn giản, chương trình học chỉ sử dụng đồ thị vô hướng (không có hướng) và không có trọng số.  \n",
    "\n",
    "**Liên hệ**:  \n",
    "\n",
    "Nếu ta cài đặt cấu trúc dữ liệu *tree* sao cho phần tử con có thể truy ngược về phần tử cha, ta có thể thấy *tree* là một dạng đặc biệt của đồ thị vô hướng không có trọng số."
   ]
  },
  {
   "cell_type": "markdown",
   "metadata": {},
   "source": [
    "# 3. Thực Hành"
   ]
  },
  {
   "cell_type": "markdown",
   "metadata": {},
   "source": [
    "## 3.1. Tầng Lá\n",
    "\n",
    "Trong một cây, phần tử lá là phần tử không có phần tử con.  \n",
    "Tầng của một phần tử được định nghĩa bằng khoảng cách từ phần tử đó đến phần tử gốc.  \n",
    "\n",
    "**Ví dụ**:\n",
    "Trong cây tổ chức một file HTML ở hình trên bài học, ta có:\n",
    "- *meta, title, li, h1, a* là các phần tử lá\n",
    "- *root* nằm ở tầng 0; *head, body* nằm ở tầng 1; *li, a* nằm ở tầng 3\n",
    "\n",
    "**Yêu cầu**: Cho một cây như bên dưới, hãy tìm các phần tử lá và tầng của mỗi phần tử."
   ]
  },
  {
   "cell_type": "code",
   "execution_count": 3,
   "metadata": {},
   "outputs": [],
   "source": [
    "class TreeNode:\n",
    "    def __init__(self, data):\n",
    "        self.data = data\n",
    "        self.children = []\n",
    "\n",
    "root = TreeNode('html')\n",
    "root.children = [TreeNode('head'), TreeNode('body')]\n",
    "root.children[0].children = [TreeNode('meta'), TreeNode('title')]\n",
    "root.children[1].children = [TreeNode('h1'), TreeNode('h2'), TreeNode('ul')]\n",
    "root.children[1].children[2].children = [TreeNode('li'), TreeNode('li')]"
   ]
  },
  {
   "cell_type": "code",
   "execution_count": 4,
   "metadata": {},
   "outputs": [
    {
     "name": "stdout",
     "output_type": "stream",
     "text": [
      "(node, level)\n",
      "('meta', 2)\n",
      "('title', 2)\n",
      "('h1', 2)\n",
      "('h2', 2)\n",
      "('li', 3)\n",
      "('li', 3)\n"
     ]
    }
   ],
   "source": [
    "# SOLUTION\n",
    "def get_leaves(tree_node, level=0):\n",
    "    if len(tree_node.children) == 0:  # if node has no child => node is leaf\n",
    "        print((tree_node.data, level))\n",
    "    else:                             # keep traversing children of current node\n",
    "        for node in tree_node.children:\n",
    "            get_leaves(node, level+1)  # recursive call\n",
    "\n",
    "\n",
    "# driver code\n",
    "print('(node, level)')\n",
    "get_leaves(root)"
   ]
  },
  {
   "cell_type": "markdown",
   "metadata": {},
   "source": [
    "## 3.2. Khoảng Cách Giữa Hai Đỉnh\n",
    "\n",
    "**Yêu cầu**: Chỉnh sửa hàm <code>is_connected()</code> trên hai đỉnh của đồ thị phía trên để trả về kết quả là khoảng cách tìm được giữa hai đỉnh. Khoảng cách này là số cạnh mà ta phải đi qua từ <code>vertex1</code> đến <code>vertex2</code>. Trả về -1 nếu hai đỉnh không liên kết với nhau.\n",
    "\n",
    "![](./assets/disconnected-graph.png)\n",
    "\n",
    "Trả lời câu hỏi sau khi hoàn tất: *Khoảng cách ta tìm được từ thuật toán trên có phải là khoảng cách ngắn nhất giữa hai đỉnh không?*"
   ]
  },
  {
   "cell_type": "code",
   "execution_count": 5,
   "metadata": {},
   "outputs": [],
   "source": [
    "graph = {\n",
    "    0: [4],\n",
    "    1: [2],\n",
    "    2: [1],\n",
    "    3: [4],\n",
    "    4: [0, 3]\n",
    "}"
   ]
  },
  {
   "cell_type": "code",
   "execution_count": 6,
   "metadata": {},
   "outputs": [
    {
     "name": "stdout",
     "output_type": "stream",
     "text": [
      "Distance between 0 and 3: 2\n",
      "Distance between 4 and 2: -1\n"
     ]
    }
   ],
   "source": [
    "# SOLUTION\n",
    "\n",
    "def find_distance_recursive(vertex1, vertex2, graph, visited, distance):\n",
    "    \n",
    "    if vertex2 == vertex1:  # found the vertex\n",
    "        return 0\n",
    "\n",
    "    # check that the current vertex is visited\n",
    "    visited.add(vertex1)\n",
    "    \n",
    "    # check every adjacent vertices\n",
    "    for vertex in graph[vertex1]:\n",
    "        # if this vertex is not visited => visit every adjacent vertices from it and get finding result\n",
    "        if vertex not in visited:\n",
    "            additional_distance = find_distance_recursive(vertex, vertex2, graph, visited, distance)\n",
    "            if additional_distance != -1:  # if found: add new distance to current distance\n",
    "                return distance + 1 + additional_distance\n",
    "    \n",
    "    # not found after visiting all possible vertices\n",
    "    return -1\n",
    "\n",
    "\n",
    "def find_distance(vertex1, vertex2, graph):\n",
    "    \n",
    "    # initialize an empty set of visited vertices, initial distance = 0\n",
    "    return find_distance_recursive(vertex1, vertex2, graph, set(), 0)\n",
    "\n",
    "\n",
    "# driver code\n",
    "print('Distance between {} and {}: {}'.format(0, 3, find_distance(0, 3, graph)))\n",
    "print('Distance between {} and {}: {}'.format(4, 2, find_distance(4, 2, graph)))"
   ]
  },
  {
   "cell_type": "code",
   "execution_count": null,
   "metadata": {},
   "outputs": [],
   "source": []
  }
 ],
 "metadata": {
  "kernelspec": {
   "display_name": "Python 3 (ipykernel)",
   "language": "python",
   "name": "python3"
  },
  "language_info": {
   "codemirror_mode": {
    "name": "ipython",
    "version": 3
   },
   "file_extension": ".py",
   "mimetype": "text/x-python",
   "name": "python",
   "nbconvert_exporter": "python",
   "pygments_lexer": "ipython3",
   "version": "3.10.13"
  }
 },
 "nbformat": 4,
 "nbformat_minor": 4
}
