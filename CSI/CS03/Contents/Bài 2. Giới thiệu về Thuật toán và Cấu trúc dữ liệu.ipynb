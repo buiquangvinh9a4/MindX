{
 "cells": [
  {
   "cell_type": "markdown",
   "metadata": {
    "id": "8jvxqSy3eBlT"
   },
   "source": [
    "## <center>Computer Science Intensive Course - MindX</center>\n",
    "![](./assets/logo.png)\n",
    "# <center>BÀI 2. GIỚI THIỆU VỀ THUẬT TOÁN VÀ CẤU TRÚC DỮ LIỆU</center>"
   ]
  },
  {
   "cell_type": "code",
   "execution_count": null,
   "metadata": {
    "id": "YgMLO_Z4eBlV"
   },
   "outputs": [],
   "source": [
    "# RUN THIS CELL FIRST\n",
    "import time\n",
    "import math"
   ]
  },
  {
   "cell_type": "markdown",
   "metadata": {
    "id": "XydCizy5eBlW"
   },
   "source": [
    "# 1. Thuật toán và Độ phức tạp\n",
    "Độ phức tạp của thuật toán là thước đo độ hiệu quả của thuật toán dựa theo kích cỡ tập dữ liệu đầu vào.  "
   ]
  },
  {
   "cell_type": "markdown",
   "metadata": {
    "id": "9OUCgCa7eBlW"
   },
   "source": [
    "## 1.1. Độ Phức Tạp Về Thời Gian\n",
    "Độ phức tạp về thời gian thể hiện số phép toán mà thuật toán phải xử lý, từ đó ảnh hưởng đến thời gian thi hành của thuật toán.  \n",
    "  \n",
    "**Ví dụ**: Bài toán tính tổng các số nguyên từ 1 đến n (n > 1)"
   ]
  },
  {
   "cell_type": "code",
   "execution_count": 21,
   "metadata": {
    "id": "GMQO7WxxeBlX",
    "outputId": "9831705b-269b-4588-f86c-6c4f9ec77f3c"
   },
   "outputs": [
    {
     "name": "stdout",
     "output_type": "stream",
     "text": [
      "6\n"
     ]
    }
   ],
   "source": [
    "# METHOD 1: Using a loop | Time complexity O(n)\n",
    "def cal_sum_n_v1(num):\n",
    "    count = 0        # 1\n",
    "    result = 0        # 1\n",
    "    for i in range(num+1):     #   2 * n  \n",
    "        result += i      # 1\n",
    "        count += 1       # 1\n",
    "    return count    # 1\n",
    "                    \n",
    "\n",
    "print(cal_sum_n_v1(5))"
   ]
  },
  {
   "cell_type": "code",
   "execution_count": null,
   "metadata": {
    "id": "Ed6Aw4ZZeBlX",
    "outputId": "9189d4a7-a318-488c-fa96-a3c3dc5d3683"
   },
   "outputs": [
    {
     "data": {
      "text/plain": [
       "15"
      ]
     },
     "execution_count": 3,
     "metadata": {
      "tags": []
     },
     "output_type": "execute_result"
    }
   ],
   "source": [
    "# METHOD 2: Using a math equation | Time complexity O(1)\n",
    "def cal_sum_n_v2(num):\n",
    "    result = (num + 1) * num // 2\n",
    "    return result\n",
    "\n",
    "cal_sum_n_v2(5)"
   ]
  },
  {
   "cell_type": "markdown",
   "metadata": {
    "id": "Ise-me59eBlY"
   },
   "source": [
    "Thời gian thực hiện của hai thuật toán trên:"
   ]
  },
  {
   "cell_type": "code",
   "execution_count": 20,
   "metadata": {
    "id": "EsOXavnYeBlY"
   },
   "outputs": [
    {
     "name": "stdout",
     "output_type": "stream",
     "text": [
      "- Thời gian chạy: 17.5096440315 giây\n"
     ]
    },
    {
     "data": {
      "text/plain": [
       "' \\n                        Fibo    vs    Fibo2\\n    n = 5  ->   0.0000259876   ->   0.0000259876\\n    n = 15  ->  0.0000259876   ->   0.0002059937\\n    n = 25  ->  0.0000269413   ->   0.0280430317\\n    n = 35   -> 0.0000300407   ->   2.5885729790\\n    n = 39   -> 0.0000300407\\n'"
      ]
     },
     "execution_count": 20,
     "metadata": {},
     "output_type": "execute_result"
    }
   ],
   "source": [
    "import time\n",
    "\n",
    "def fibo(n):     # -> O(n)\n",
    "    if n <= 2:       # 1\n",
    "        return 1\n",
    "    else:\n",
    "        lst = [1, 1]      # 1\n",
    "        for i in range(2, n):        # n - 2\n",
    "            lst.append(lst[i-1] + lst[i-2])\n",
    "        return lst[-1]\n",
    "    \n",
    "def fibo2(n):         # -> O(2^n)\n",
    "    if n <= 1:\n",
    "        return 1\n",
    "    return fibo2(n - 1) + fibo2(n - 2)\n",
    "\n",
    "import time\n",
    "\n",
    "start_time = time.time()\n",
    "\n",
    "fibo2(39)\n",
    "\n",
    "end_time = time.time()\n",
    "elapsed_time = end_time - start_time\n",
    "print(f\"- Thời gian chạy: {elapsed_time:.10f} giây\")\n",
    "\n",
    "\"\"\" \n",
    "                        Fibo    vs    Fibo2\n",
    "    n = 5  ->   0.0000259876   ->   0.0000259876\n",
    "    n = 15  ->  0.0000259876   ->   0.0002059937\n",
    "    n = 25  ->  0.0000269413   ->   0.0280430317\n",
    "    n = 35   -> 0.0000300407   ->   2.5885729790\n",
    "    n = 39   -> 0.0000300407   ->   17.5096440315\n",
    "\"\"\""
   ]
  },
  {
   "cell_type": "code",
   "execution_count": null,
   "metadata": {
    "id": "sQDF8F8oeBlY",
    "outputId": "46ba9757-ba87-441c-afd6-f3153b1e7976"
   },
   "outputs": [
    {
     "name": "stdout",
     "output_type": "stream",
     "text": [
      "Execution time for ONE MILLION numbers:\n",
      "- O(n) algorithm: 0.06578874588012695 secs | result = 500000500000\n",
      "- O(1) algorithm: 0.0 secs | result = 500000500000\n",
      "\n",
      "Execution time for TEN MILLION numbers:\n",
      "- O(n) algorithm: 0.5449199676513672 secs | result = 50000005000000\n",
      "- O(1) algorithm: 0.0 secs | result = 50000005000000\n",
      "\n",
      "Execution time for ONE HUNDRED MILLION numbers:\n",
      "- O(n) algorithm: 6.239806413650513 secs | result = 5000000050000000\n",
      "- O(1) algorithm: 0.0 secs | result = 5000000050000000\n",
      "\n"
     ]
    }
   ],
   "source": [
    "BIG_NUMS = {'ONE MILLION': 1000000, 'TEN MILLION': 10000000, 'ONE HUNDRED MILLION': 100000000}\n",
    "\n",
    "for name, num in BIG_NUMS.items():\n",
    "    print(\"Execution time for {} numbers:\".format(name))\n",
    "    time1, res1 = cal_time(lambda: cal_sum_n_v1(num))\n",
    "    time2, res2 = cal_time(lambda: cal_sum_n_v2(num))\n",
    "    print(\"- O(n) algorithm: {} secs | result = {}\".format(time1, res1))\n",
    "    print(\"- O(1) algorithm: {} secs | result = {}\".format(time2, res2))\n",
    "    print()"
   ]
  },
  {
   "cell_type": "markdown",
   "metadata": {
    "id": "fNDR-jCveBlZ"
   },
   "source": [
    "## 1.2. Độ Phức Tạp Về Không Gian\n",
    "Độ phức tạp về không gian thể hiện lượng không gian nhớ mà thuật toán cần để xử lý.\n",
    "  \n",
    "**Ví dụ**: Đối với hai thuật toán trên, độ phức tạp về không gian là O(1), do thuật toán không sử dụng thêm bộ nhớ khi kích cỡ input tăng lên.  \n",
    "Tuy nhiên, nếu ta dùng list để lưu các số từ 1 đến n và tính tổng, độ phức tạp về không gian sẽ là O(n)"
   ]
  },
  {
   "cell_type": "code",
   "execution_count": null,
   "metadata": {
    "id": "wIWZyujMeBlZ",
    "outputId": "7a94e351-3f73-4c87-efc0-70ebfb9509f8"
   },
   "outputs": [
    {
     "data": {
      "text/plain": [
       "15"
      ]
     },
     "execution_count": 29,
     "metadata": {
      "tags": []
     },
     "output_type": "execute_result"
    }
   ],
   "source": [
    "# METHOD 3: Using a list for storing numbers | Space complexity O(n)\n",
    "def cal_sum_n_v3(num):\n",
    "    number_list = [i for i in range(num+1)]\n",
    "    result = 0\n",
    "    for i in number_list:\n",
    "        result += i\n",
    "    return result\n",
    "\n",
    "cal_sum_n_v3(5)"
   ]
  },
  {
   "cell_type": "markdown",
   "metadata": {
    "id": "zeja6cFoeBla"
   },
   "source": [
    "## 1.3. Một Số Lớp Về Độ Phức Tạp"
   ]
  },
  {
   "cell_type": "markdown",
   "metadata": {
    "id": "plRmSwubeBla"
   },
   "source": [
    "Biết được độ phức tạp giúp ta ước tính được thời gian chạy và lượng bộ nhớ cần thiết để thuật toán xử lý.  \n",
    "  \n",
    "Bảng sau thể hiện một số lớp về độ phức tạp của thuật toán và thời gian chạy ước tính trên thực tế:\n",
    "\n",
    "| Độ phức tạp      | Thời gian chạy ước tính (N=100) |\n",
    "| :----------      | :-----------         |\n",
    "| O(1)             | 10<sup>-9</sup> giây |\n",
    "| O(log(n))        | 10<sup>-7</sup> giây |\n",
    "| O(n)             | 10<sup>-6</sup> giây |\n",
    "| O(n.log(n))      | 10<sup>-5</sup> giây |\n",
    "| O(n<sup>2</sup>) | 10<sup>-4</sup> giây |\n",
    "| O(n<sup>6</sup>) | 3 phút               |\n",
    "| O(2<sup>n</sup>) | 10<sup>14</sup> năm  |\n",
    "| O(n!)            | 10<sup>142</sup> năm |"
   ]
  },
  {
   "cell_type": "markdown",
   "metadata": {
    "id": "Vd5TU_BbeBla"
   },
   "source": [
    "## 1.4. Tính Toán Độ Phức Tạp"
   ]
  },
  {
   "cell_type": "markdown",
   "metadata": {
    "id": "f4SG_2rPeBla"
   },
   "source": [
    "Độ phức tạp về không gian được tính theo lượng bộ nhớ thuật toán cần sử dụng.  \n",
    "Độ phức tạp về thời gian được tính theo số phép toán mà thuật toán phải xử lý.  \n",
    "*Lưu ý*: Nếu số phép toán hoặc không gian lưu trữ không phụ thuộc vào độ lớn dữ liệu đầu vào, thuật toán có độ phức tạp là O(1)  \n",
    "  \n",
    "**Ví dụ**: Bài toán tìm số lớn thứ hai trong dãy số."
   ]
  },
  {
   "cell_type": "code",
   "execution_count": null,
   "metadata": {
    "id": "ZTf-1MHreBlb",
    "outputId": "8777df38-dbcc-4ecc-f7b3-393542d77cce"
   },
   "outputs": [
    {
     "data": {
      "text/plain": [
       "6"
      ]
     },
     "execution_count": 30,
     "metadata": {
      "tags": []
     },
     "output_type": "execute_result"
    }
   ],
   "source": [
    "def find_second_biggest(arr):\n",
    "\n",
    "    n = len(arr)\n",
    "\n",
    "    # find biggest number\n",
    "    biggest = arr[0]\n",
    "    for el in arr:\n",
    "        biggest = max(biggest, el)\n",
    "\n",
    "    # find second biggest number\n",
    "    second = None\n",
    "    for el in arr:\n",
    "        if el == biggest:\n",
    "            continue\n",
    "        if second == None:\n",
    "            second = el\n",
    "        else:\n",
    "            second = max(el, second)\n",
    "            \n",
    "    return second\n",
    "\n",
    "# call the function\n",
    "find_second_biggest([4, 6, 2, 6, 1, 8, -1, -10, 0])"
   ]
  },
  {
   "cell_type": "markdown",
   "metadata": {
    "id": "qBLmRb19eBlb"
   },
   "source": [
    "**Độ phức tạp về không gian**:  \n",
    "Thuật toán sử dụng một mảng có *n* phần tử, các biến *n, biggest, el, second*. Như vậy độ phức tạp về không gian là *O(n+4)*.  \n",
    "Tuy nhiên, ta thường quan tâm đến độ phức tạp khi *n* lớn hoặc rất lớn, khi đó các giá trị hằng số trở nên không còn quan trọng (tương tự như cách tính *lim* đến dương vô cùng trong toán học). Do đó, độ phức tạp *O(n+4)* được viết dưới dạng *O(n)*."
   ]
  },
  {
   "cell_type": "markdown",
   "metadata": {
    "id": "02QmYXdmeBlc"
   },
   "source": [
    "**Độ phức tạp về thời gian**:  \n",
    "Thuật toán sử dụng hai vòng lặp for:\n",
    "- Vòng lặp thứ nhất lặp qua *n* phần tử của mảng, mỗi lần lặp thực hiện một phép so sánh *max* và phép gán, tổng cộng thực hiện *2n* phép toán.\n",
    "- Vòng lặp thứ hai lặp qua *n* phần tử của mảng, mỗi lần lặp thực hiện khoảng hai phép so sánh và một phép gán, tổng cộng thực hiện *3n* phép toán.\n",
    "\n",
    "Ngoài ra, thuật toán còn thực hiện 3 phép gán bên ngoài và một lệnh *return*, tổng cộng 4 phép toán.  \n",
    "Như vậy, độ phức tạp về thời gian của thuật toán này là *O(2n+3n+4)* = *O(5n+4)*. Tương tự như độ phức tạp về không gian, khi *n* rất lớn, ta viết *O(5n+4)* dưới dạng *O(n)*."
   ]
  },
  {
   "cell_type": "markdown",
   "metadata": {
    "id": "P0kDEPtCeBlc"
   },
   "source": [
    "**Tổng kết**: Thuật toán trên có độ phức tạp về thời gian là O(n) và độ phức tạp về không gian là O(n)."
   ]
  },
  {
   "cell_type": "markdown",
   "metadata": {
    "id": "jfh_NPiKeBlc"
   },
   "source": [
    "## 1.5. Độ Phức Tạp Của Các Hàm Có Sẵn\n",
    "\n",
    "Python hỗ trợ nhiều hàm để hỗ trợ việc tính toán:\n",
    "- Thư viện có sẵn (không cần import): *sum(), max(), len()*, ...\n",
    "- Thư viện **math**: *sum(), factorial(), gcd()*, ...\n",
    "- Thư viện **numpy**: *sum(), prod(), power()*, ...\n",
    "\n",
    "Độ phức tạp của các hàm này tùy thuộc vào cách cài đặt của từng hàm. Tuy nhiên, với cùng một độ phức tạp, những hàm có sẵn thường thực hiện nhanh hơn hàm tự viết.  \n",
    "\n",
    "**Ví dụ**: Tính tổng các số trong một *list*. Độ phức tạp *O(n)*."
   ]
  },
  {
   "cell_type": "code",
   "execution_count": null,
   "metadata": {
    "id": "XjoeKzUVeBld"
   },
   "outputs": [],
   "source": [
    "# hand-coded\n",
    "def cal_sum_list(number_list):\n",
    "    result = 0\n",
    "    for i in number_list:\n",
    "        result += i\n",
    "    return result"
   ]
  },
  {
   "cell_type": "code",
   "execution_count": null,
   "metadata": {
    "id": "8sU6ENCAeBld",
    "outputId": "1f7bd80b-8179-4af6-d672-d188e9005061"
   },
   "outputs": [
    {
     "name": "stdout",
     "output_type": "stream",
     "text": [
      "Execution time for TEN MILLION numbers:\n",
      "- Hand-coded function: 0.4893827438354492 secs | result = 50000005000000\n",
      "- Provided sum() function: 0.23433709144592285 secs | result = 50000005000000\n",
      "\n"
     ]
    }
   ],
   "source": [
    "# testing execution time\n",
    "num = BIG_NUMS['TEN MILLION']\n",
    "number_list = [i for i in range(num+1)]\n",
    "\n",
    "print(\"Execution time for TEN MILLION numbers:\".format(name))\n",
    "time1, res1 = cal_time(lambda: cal_sum_list(number_list))\n",
    "time2, res2 = cal_time(lambda: sum(number_list))\n",
    "print(\"- Hand-coded function: {} secs | result = {}\".format(time1, res1))\n",
    "print(\"- Provided sum() function: {} secs | result = {}\".format(time2, res2))\n",
    "print()"
   ]
  },
  {
   "cell_type": "markdown",
   "metadata": {
    "id": "IqbUAC2JeBle"
   },
   "source": [
    "**Lý giải**:\n",
    "- Code Python được thực thi bằng cách biên dịch sang code C, sau đó mới biên dịch sang mã máy và chạy. Do đó, code C thực thi nhanh hơn nhiều so với code Python.  \n",
    "- Đối với những hàm cho sẵn, người ta thường tối ưu hóa bằng cách biên dịch sang code C trước, sau đó mới chạy vòng lặp ở code C, vì vòng lặp trên C chạy nhanh hơn nhiều so với Python.\n",
    "\n",
    "Như vậy, để tối ưu hóa code Python, ta nên ưu tiên sử dụng những hàm có sẵn nếu phù hợp với bài toán."
   ]
  },
  {
   "cell_type": "markdown",
   "metadata": {
    "id": "7RANFWlueBle"
   },
   "source": [
    "# 2. Cấu Trúc Dữ Liệu\n",
    "Cấu trúc dữ liệu là một cách tổ chức cao hơn của những kiểu dữ liệu cơ bản như int, float, boolean,...  \n",
    "Cấu trúc dữ liệu hỗ trợ thuật toán thực thi khi xử lý. Đối với nhiều bài toán, cấu trúc dữ liệu đầu vào ảnh hưởng lớn đến độ phức tạp của thuật toán."
   ]
  },
  {
   "cell_type": "markdown",
   "metadata": {
    "id": "j3jfI5xReBle"
   },
   "source": [
    "**Ví dụ 1**: Đối với bài toán tìm số lớn thứ hai, cấu trúc dữ liệu *list* hỗ trợ lưu trữ tập hợp các số để thực hiện việc tìm kiếm."
   ]
  },
  {
   "cell_type": "markdown",
   "metadata": {
    "id": "RBNyzQWyeBle"
   },
   "source": [
    "**Ví dụ 2**: Với bài toán tìm tên thứ trong tuần dựa theo số, cấu trúc dữ liệu *dictionary* hỗ trợ tìm kiếm nhanh mà không cần qua nhiều câu lệnh *if*."
   ]
  },
  {
   "cell_type": "code",
   "execution_count": null,
   "metadata": {
    "id": "-KGlsRiBeBlf",
    "outputId": "f8702cc7-8664-4d27-b2d0-9c6a799caae0"
   },
   "outputs": [
    {
     "data": {
      "text/plain": [
       "'Sunday'"
      ]
     },
     "execution_count": 31,
     "metadata": {
      "tags": []
     },
     "output_type": "execute_result"
    }
   ],
   "source": [
    "def day_in_week(day_int):\n",
    "    DAYS = {2: \"Monday\", 3: \"Tuesday\", 4: \"Wednesday\", 5: \"Thursday\", 6: \"Friday\", 7: \"Saturday\", 8: \"Sunday\"}\n",
    "    return DAYS[day_int]\n",
    "\n",
    "day_in_week(8)"
   ]
  },
  {
   "cell_type": "markdown",
   "metadata": {
    "id": "QLtGDhXPeBlf"
   },
   "source": [
    "Một số cấu trúc dữ liệu thường dùng có sẵn trong Python là **list, tuple,string, set, dictionary**"
   ]
  },
  {
   "cell_type": "markdown",
   "metadata": {
    "id": "3_SzMn8leBlf"
   },
   "source": [
    "# 3. Thực Hành: Một Số Thuật Toán"
   ]
  },
  {
   "cell_type": "markdown",
   "metadata": {
    "id": "zSEgtEnVeBlf"
   },
   "source": [
    "## 3.1. Dãy Fibonacci\n",
    "Dãy Fibonacci là một dãy số nguyên dương bắt đầu với hai phần tử là [1, 1]. Các phần tử sau bằng tổng của hai phần tử trước đó.  \n",
    "Một số phần tử đầu tiên của dãy Fibonacci:  \n",
    "&nbsp;&nbsp;&nbsp;1, 1, 2, 3, 5, 8, 13, 21, 34,...\n",
    "\n",
    "**Yêu cầu**: Nhập vào một số nguyên dương *n > 0*. In ra *n* phần tử đầu tiên của dãy Fibonacci."
   ]
  },
  {
   "cell_type": "code",
   "execution_count": null,
   "metadata": {
    "id": "TWPED35peBlf",
    "outputId": "04aa7542-db52-495b-ad05-c133cd89fd41"
   },
   "outputs": [
    {
     "name": "stdout",
     "output_type": "stream",
     "text": [
      "1 1 2 3 5 8 13 21 34 55 "
     ]
    }
   ],
   "source": [
    "# METHOD 1: Using list\n",
    "# Time complexity: O(n)\n",
    "# Space complexity: O(n)\n",
    "def fibo_v1(num):\n",
    "\n",
    "    # trivial cases\n",
    "    print(1, end=' ')\n",
    "    if num == 1:\n",
    "        return\n",
    "    print(1, end=' ')\n",
    "    \n",
    "    # common cases\n",
    "    fibo = [1, 1]\n",
    "    for _ in range(num-2):\n",
    "        fibo.append(fibo[-1] + fibo[-2])\n",
    "        print(fibo[-1], end=' ')\n",
    "    \n",
    "fibo_v1(10)"
   ]
  },
  {
   "cell_type": "code",
   "execution_count": null,
   "metadata": {
    "id": "S7-vHOYHeBlg",
    "outputId": "52da8bc8-d24f-42ad-d2e3-653d9d67ac98"
   },
   "outputs": [
    {
     "name": "stdout",
     "output_type": "stream",
     "text": [
      "1 1 2 3 5 8 13 21 34 55 "
     ]
    }
   ],
   "source": [
    "# METHOD 2: Not using list\n",
    "# Time complexity: O(n)\n",
    "# Space complexity: O(1)\n",
    "def fibo_v2(num):\n",
    "\n",
    "    # trivial cases\n",
    "    print(1, end=' ')\n",
    "    if num == 1:\n",
    "        return\n",
    "    print(1, end=' ')\n",
    "    \n",
    "    # common cases\n",
    "    i = 1\n",
    "    j = 1\n",
    "    for _ in range(num-2):\n",
    "        i, j = j, i+j\n",
    "        print(j, end=' ')\n",
    "    \n",
    "fibo_v2(10)"
   ]
  },
  {
   "cell_type": "markdown",
   "metadata": {
    "id": "3hZKe8FJeBlg"
   },
   "source": [
    "## 3.2. Số Nguyên Tố\n",
    "\n",
    "Số nguyên tố là số nguyên dương lớn hơn 1 chỉ chia hết cho 1 và chính nó.  \n",
    "**Yêu cầu**: Nhập vào một số nguyên dương *n > 0*. Kiểm tra *n* có phải là số nguyên tố hay không"
   ]
  },
  {
   "cell_type": "code",
   "execution_count": null,
   "metadata": {
    "id": "MeLDeuoEeBlg",
    "outputId": "2c024e69-5716-4b04-e766-299220208ae1"
   },
   "outputs": [
    {
     "name": "stdout",
     "output_type": "stream",
     "text": [
      "37 is a prime number\n"
     ]
    }
   ],
   "source": [
    "# METHOD: Check every possible divisor\n",
    "# Time complexity: O(n)\n",
    "# Space complexity: O(1)\n",
    "def is_prime_v1(num):\n",
    "    \n",
    "    # trivial case\n",
    "    if num == 1:\n",
    "        return False\n",
    "    \n",
    "    # common cases\n",
    "    result = True\n",
    "    for i in range(2, num):\n",
    "        if num % i == 0:\n",
    "            result = False\n",
    "            \n",
    "    return result\n",
    "\n",
    "# call the function\n",
    "n = 37\n",
    "if is_prime_v1(n):\n",
    "    print(\"{} is a prime number\".format(n))\n",
    "else:\n",
    "    print(\"{} is NOT a prime number\".format(n))"
   ]
  },
  {
   "cell_type": "code",
   "execution_count": null,
   "metadata": {
    "id": "Css8AG89eBlg",
    "outputId": "0aca9a9f-54d0-4d2c-efbe-09fd4c35e012"
   },
   "outputs": [
    {
     "name": "stdout",
     "output_type": "stream",
     "text": [
      "4 is NOT a prime number\n"
     ]
    }
   ],
   "source": [
    "# IMPROVEMENT 1: Check every possible divisor until found a divisor (kỹ thuật nhánh cận)\n",
    "# Time complexity: still O(n), but can give result faster in many cases where n is not prime\n",
    "def is_prime_v2(num):\n",
    "    \n",
    "    # trivial case\n",
    "    if num == 1:\n",
    "        return False\n",
    "    \n",
    "    # common cases\n",
    "    result = True\n",
    "    for i in range(2, num):\n",
    "        if num % i == 0:\n",
    "            result = False\n",
    "            break\n",
    "            \n",
    "    return result\n",
    "\n",
    "# call the function\n",
    "n = 4\n",
    "if is_prime_v2(n):\n",
    "    print(\"{} is a prime number\".format(n))\n",
    "else:\n",
    "    print(\"{} is NOT a prime number\".format(n))"
   ]
  },
  {
   "cell_type": "code",
   "execution_count": null,
   "metadata": {
    "id": "FK6lo5AdeBlh",
    "outputId": "4883bd96-fb2d-4dae-8692-f6c5d3004ef8"
   },
   "outputs": [
    {
     "name": "stdout",
     "output_type": "stream",
     "text": [
      "999999937 is a prime number\n"
     ]
    }
   ],
   "source": [
    "# IMPROVEMENT 2: Only loop to sqrt(n), as n is not divisible by any number > sqrt(n)\n",
    "# Time complexity: O(sqrt(n)) = O(n^(1/2))\n",
    "def is_prime_v3(num):\n",
    "    \n",
    "    # trivial case\n",
    "    if num == 1:\n",
    "        return False\n",
    "    \n",
    "    # common cases\n",
    "    result = True\n",
    "    for i in range(2, int(math.sqrt(num))+1):\n",
    "        if num % i == 0:\n",
    "            result = False\n",
    "            break\n",
    "            \n",
    "    return result\n",
    "\n",
    "# call the function\n",
    "n = 999999937\n",
    "if is_prime_v3(n):\n",
    "    print(\"{} is a prime number\".format(n))\n",
    "else:\n",
    "    print(\"{} is NOT a prime number\".format(n))"
   ]
  },
  {
   "cell_type": "markdown",
   "metadata": {
    "id": "vC2hwD5aeBlh"
   },
   "source": [
    "## 3.3. Tổng Các Số Nguyên Tố\n",
    "**Yêu cầu**: Nhập vào một số nguyên dương *n > 0*. Tính tổng các số nguyên tố bé hơn *n*."
   ]
  },
  {
   "cell_type": "code",
   "execution_count": null,
   "metadata": {
    "id": "Cu3Z9iT2eBli",
    "outputId": "24069418-a7db-4a55-f52c-b6b9a20e4420"
   },
   "outputs": [
    {
     "data": {
      "text/plain": [
       "1060"
      ]
     },
     "execution_count": 22,
     "metadata": {
      "tags": []
     },
     "output_type": "execute_result"
    }
   ],
   "source": [
    "# METHOD 1: Check every number if they are prime, using previously implemented function\n",
    "# Time complexity: O(n*sqrt(n)) = O(n^(3/2))\n",
    "# Space complexity: O(1)\n",
    "def sum_primes_v1(num):\n",
    "    \n",
    "    # trivial case\n",
    "    if num < 3:\n",
    "        return 0\n",
    "    \n",
    "    # common cases\n",
    "    result = 0\n",
    "    for i in range(2, num):\n",
    "        if is_prime_v3(i):\n",
    "            result += i\n",
    "                \n",
    "    return result\n",
    "\n",
    "\n",
    "sum_primes_v1(100)"
   ]
  },
  {
   "cell_type": "code",
   "execution_count": null,
   "metadata": {
    "id": "4Gbq-DGGeBli",
    "outputId": "9f587d93-f9d0-4d1e-9da4-6cce4e2a6c6c"
   },
   "outputs": [
    {
     "data": {
      "text/plain": [
       "1060"
      ]
     },
     "execution_count": 31,
     "metadata": {
      "tags": []
     },
     "output_type": "execute_result"
    }
   ],
   "source": [
    "# METHOD 2: Sieve of Eratosthenes (Sàng số nguyên tố)\n",
    "# Details & Visualization: https://en.wikipedia.org/wiki/Sieve_of_Eratosthenes\n",
    "# Time complexity: O(n*log(log(n)) | Details: https://www.geeksforgeeks.org/how-is-the-time-complexity-of-sieve-of-eratosthenes-is-nloglogn/\n",
    "# Space complexity: O(n)\n",
    "def sum_primes_v2(num):\n",
    "    \n",
    "    # trivial case\n",
    "    if num < 3:\n",
    "        return 0\n",
    "    \n",
    "    # initialize prime array\n",
    "    prime_arr = [True] * num  # init every number to be prime\n",
    "    prime_arr[0] = False          # 0 is not prime\n",
    "    prime_arr[1] = False          # 1 is not prime\n",
    "    \n",
    "    # loop through the array\n",
    "    result = 0\n",
    "    for i in range(2, num):\n",
    "        if prime_arr[i]:\n",
    "            result += i  # i is a prime\n",
    "            for j in range(i, ((num-1)//i)+1):\n",
    "                prime_arr[i*j] = False  # every multiple of i is not a prime\n",
    "                \n",
    "    return result"
   ]
  },
  {
   "cell_type": "code",
   "execution_count": 10,
   "metadata": {
    "id": "2kBE67IweBli"
   },
   "outputs": [
    {
     "name": "stdout",
     "output_type": "stream",
     "text": [
      "5 53\n",
      "5 53\n"
     ]
    }
   ],
   "source": [
    "# 5  53\n",
    "n = input()\n",
    "s = n.split()\n",
    "number1 = int(s[0])\n",
    "number2 = int(s[1])\n",
    "print(number1, number2)"
   ]
  },
  {
   "cell_type": "code",
   "execution_count": null,
   "metadata": {},
   "outputs": [],
   "source": [
    "# đối với các câu lệnh cơ bản: Thời gian thực hiện là 1 lần \n",
    "\"\"\"\n",
    "    Phép gán, các toán tử,....\n",
    "    \n",
    "\"\"\"\n",
    "n = int(input())   # 1\n",
    "s = 0              # 1\n",
    "for i in range(1, n + 1):       # n\n",
    "    for j in range(1, n + 1):   # n  -> n * n * 1 = n^2\n",
    "        s += i       # 1   \n",
    "    \n",
    "for i in range(1, n + 1):   # n * 2  -> 2n\n",
    "    s += i  \n",
    "    print(s)\n",
    "print(s)    # 1 \n",
    "\n",
    "# T(n) = 1 + 1 + n^2 + 2n + 1 = n^2 + 2n + 3\n",
    "# Quy tắc loại bỏ hằng số:  n^2 + n\n",
    "# Quy tắc mấy Max:  T(n) = O(n^2)"
   ]
  },
  {
   "cell_type": "code",
   "execution_count": 17,
   "metadata": {},
   "outputs": [
    {
     "name": "stdout",
     "output_type": "stream",
     "text": [
      "{'Bách': 123456, 'Minh': 5431343, 'Thắng': 99998888}\n",
      "{'Bách': 123456, 'Minh': 5431343, 'Thắng': 99998888, 'Vinh': 99900000}\n",
      "dict_keys(['Bách', 'Minh', 'Thắng', 'Vinh'])\n",
      "dict_values([123456, 5431343, 99998888, 99900000])\n",
      "123456\n",
      "['Bùi', 'Quang', 'Vinh']\n"
     ]
    }
   ],
   "source": [
    "dic = {'Bách': 123456, 'Minh': 5431343, 'Thắng':99998888}\n",
    "print(dic)\n",
    "\n",
    "# update\n",
    "dic.update({'Vinh': 99900000})\n",
    "print(dic)\n",
    "\n",
    "# keys()\n",
    "print(dic.keys())\n",
    "\n",
    "# values()\n",
    "print(dic.values())\n",
    "\n",
    "# lấy ra giá trị khi biết key\n",
    "print(dic['Bách'])\n",
    "\n",
    "\n"
   ]
  },
  {
   "cell_type": "code",
   "execution_count": 24,
   "metadata": {},
   "outputs": [
    {
     "name": "stdout",
     "output_type": "stream",
     "text": [
      "['Quang', 'Việt']\n"
     ]
    }
   ],
   "source": [
    "# string\n",
    "n = 'Bùi Quang Việt Vinh'\n",
    "s = n.split()\n",
    "s.remove('Bùi')\n",
    "s.remove('Vinh')\n",
    "print(s)"
   ]
  },
  {
   "cell_type": "code",
   "execution_count": 9,
   "metadata": {},
   "outputs": [
    {
     "name": "stdout",
     "output_type": "stream",
     "text": [
      "41412\n",
      "Không\n"
     ]
    }
   ],
   "source": [
    "# Chữa bài số Amstrong\n",
    "\n",
    "# B1: tìm hệ số k (số lượng các chữ số có trong n)\n",
    "\n",
    "n = int(input())\n",
    "k = 0\n",
    "m = n\n",
    "\n",
    "while (m > 0):\n",
    "    m = m // 10\n",
    "    k = k + 1\n",
    "\n",
    "# B2: tính tổng các luỹ thừa bậc k các chữ số của n\n",
    "m = n\n",
    "_sum = 0\n",
    "while (m > 0):\n",
    "    tmp = m % 10  # lấy chữ số hàng đơn vị\n",
    "    _sum = _sum + (tmp ** k)   # cộng luỹ thừa đơn vị vào _sum\n",
    "    m = m // 10     # loại bỏ chữ số hàng đơn vị\n",
    "    \n",
    "# B3: kiểm tra n với biến _sum\n",
    "if n == _sum:\n",
    "    print('Có')\n",
    "else:\n",
    "    print('Không')\n",
    "\n",
    "\n",
    "\n"
   ]
  },
  {
   "cell_type": "code",
   "execution_count": null,
   "metadata": {},
   "outputs": [],
   "source": [
    "day = int(input())\n",
    "month = int(input())\n",
    "year = int(input())\n",
    "\n",
    "last_day = {\n",
    "    'm1': 31,\n",
    "    'm3': 31,\n",
    "    'm4': 30,\n",
    "    'm5': 31,\n",
    "    'm6': 30,\n",
    "    'm7': 31,\n",
    "    'm8': 31,\n",
    "    'm9': 30,\n",
    "    'm10': 31,\n",
    "    'm11': 30,\n",
    "    'm12': 31\n",
    "}\n",
    "\n",
    "def format_num(num):\n",
    "    return str(num).zfill(2)\n",
    "\n",
    "def get_last(m, y):\n",
    "    if m != 2: return last_day[f\"m{m}\"]\n",
    "    else:\n",
    "        if int(y % 4) == 0: return 29\n",
    "        else: return 28\n",
    "    \n",
    "def convert_prev():\n",
    "    if month == 1 and day == 1:\n",
    "        # prev is 12, last year\n",
    "        return f\"{get_last(12, year)}/12/{year - 1}\"\n",
    "    elif day == 1:\n",
    "        return f\"{get_last(month - 1, year)}/{format_num(month - 1)}/{year}\"\n",
    "    else: return f\"{format_num(day - 1)}/{format_num(month)}/{year}\"\n",
    "\n",
    "def convert_next():\n",
    "    if month == 12 and day == get_last(month, year):\n",
    "        # next is 1, next year\n",
    "        return f\"01/01/{year + 1}\"\n",
    "    elif day == get_last(month, year):\n",
    "        return f\"01/{format_num(month + 1)}/{year}\"\n",
    "    else: return f\"{format_num(day + 1)}/{format_num(month)}/{year}\"\n",
    "\n",
    "print(convert_prev())\n",
    "print(convert_next())"
   ]
  },
  {
   "cell_type": "code",
   "execution_count": 19,
   "metadata": {},
   "outputs": [
    {
     "name": "stdout",
     "output_type": "stream",
     "text": [
      "31\n",
      "12\n",
      "2067\n",
      "1 1 2068\n"
     ]
    }
   ],
   "source": [
    "# thực hiện lùi ngày trước sau\n",
    "d = int(input())\n",
    "m = int(input())\n",
    "y = int(input())\n",
    "\n",
    "\n",
    "# B1: kiểm tra năm nhuận\n",
    "isLeapYear = False\n",
    "if (y % 4 == 0 and y % 100 != 0) or (y % 400 == 0):\n",
    "    isLeapYear = True\n",
    "\n",
    "\n",
    "# B2: tính số ngày của 1 tháng\n",
    "def dayOfMonthFun(m, y):\n",
    "    dayOfMonth = 31\n",
    "    if m in [4, 6, 9, 11]:\n",
    "        dayOfMonth = 30\n",
    "    elif m == 2:\n",
    "        if isLeapYear == True:\n",
    "            dayOfMonth = 29\n",
    "        else:\n",
    "            dayOfMonth = 28\n",
    "    return dayOfMonth\n",
    "    \n",
    "# B3: lùi ngày - tiến ngày\n",
    "d_next = d\n",
    "m_next = m\n",
    "y_next = y\n",
    "\n",
    "if d == dayOfMonthFun(m, y):  # giả sử d = 31, mà tháng 3 cũng có 31 ngày\n",
    "    d_next = 1\n",
    "    m_next = m_next + 1\n",
    "    if m_next > 12:     # giả sử 31/12, tăng lên là 1/1\n",
    "        m_next = 1\n",
    "        y_next = y_next + 1\n",
    "else:\n",
    "    d_next = d_next + 1   # trường hợp cơ bản\n",
    "    \n",
    "print(d_next, m_next, y_next)"
   ]
  },
  {
   "cell_type": "code",
   "execution_count": null,
   "metadata": {},
   "outputs": [],
   "source": [
    "# một ví dụ mô phỏng về cách tính toán độ phức tạp\n",
    "n = 10\n",
    "s = 0               # 1\n",
    "for i in range(n):     # 10   -> n * 2 = 2n\n",
    "    s = s + i           # 1\n",
    "    count = count + 1   # 1\n",
    "# Độ phức tạp: O(2n + 1)\n",
    "    \n",
    "\"\"\"\n",
    "    các câu lệnh cơ bản (phép so sánh, phép gán, khai báo,..): 1 \n",
    "    với vòng for: số lượng lần lặp  *  số câu lệnh trong 1 lần lặp\n",
    "    số lượng phép toán = tổng các phép toán độc lập\n",
    "\"\"\"    \n",
    "\n",
    "\"\"\"\n",
    "    2 quy tắc để chuẩn hoá độ phức tạp về thang đo:\n",
    "    VD:  O(2n + 1)  -> O(n)\n",
    "    \n",
    "    1. Quy tắc lấy max\n",
    "    - Xác định hệ số mũ của từng phần tử\n",
    "    - Chọn phần tử có hệ số mũ lớn nhất\n",
    "    VD: O(2n + 1):\n",
    "       +   2n -> mũ 1\n",
    "       +   1  -> 1 * n^0 -> mũ 0\n",
    "       \n",
    "    -> lấy 2n -> O(2n)\n",
    "    \n",
    "    2. Quy tắc loại bỏ hằng số\n",
    "    - Loại bỏ hệ số của độ phức tạp\n",
    "    \n",
    "    VD:  O(2n)  -> O(n)\n",
    "    \n",
    "    \n",
    "    T(n) = 5n^4 + 3n^2 + n -> O(n^4)\n",
    "    \n",
    "\"\"\""
   ]
  },
  {
   "cell_type": "code",
   "execution_count": 25,
   "metadata": {},
   "outputs": [
    {
     "name": "stdout",
     "output_type": "stream",
     "text": [
      "- Thời gian chạy: 0.1098172665 giây\n"
     ]
    }
   ],
   "source": [
    "# Giải bài toán Fibonacci:\n",
    "\"\"\"\n",
    "    Nhập vào một số nguyên dương n. Hãy hiển thị ra số Fibonacci thứ n\n",
    "    \n",
    "    VD: dãy fibonacci:  1, 1, 2, 3, 5, 8, 13, 21, 34,...\n",
    "    \n",
    "    \n",
    "    \n",
    "    Theo 2 cách::\n",
    "    - C1: Sử dụng đệ quy (google.com)\n",
    "    - C2: Sử dụng vòng lặp\n",
    "    \n",
    "    Sau đó, đánh giá độ phức tạp của 2 thuật toán và đưa ra kết luận về thời gian.\n",
    "\"\"\"\n",
    "\n",
    "import time\n",
    "\n",
    "n = int(input())\n",
    "\n",
    "start_time = time.time()\n",
    "\n",
    "# your code....\n",
    "\n",
    "end_time = time.time()\n",
    "elapsed_time = end_time - start_time\n",
    "print(f\"- Thời gian chạy: {elapsed_time:.10f} giây\")"
   ]
  },
  {
   "cell_type": "code",
   "execution_count": 28,
   "metadata": {},
   "outputs": [
    {
     "name": "stdout",
     "output_type": "stream",
     "text": [
      "55\n",
      "55\n"
     ]
    }
   ],
   "source": [
    "# hàm fibo sử dụng đệ quy   -> O(2^n)\n",
    "def fibo(n):\n",
    "    if n <= 2:\n",
    "        return 1\n",
    "    return fibo(n - 1) + fibo(n - 2)\n",
    "\n",
    "\n",
    "# hàm fibo sử dụng vòng lặp    -> O(n)\n",
    "def fibo_loop(n):\n",
    "    f1 = 1   # 2\n",
    "    f2 = 1\n",
    "    for i in range(3, n + 1):     # n - 2    -> 3(n - 2) = 3n - 4 -> O(n)\n",
    "        f3 = f1 + f2              # 3\n",
    "        f1 = f2\n",
    "        f2 = f3\n",
    "    return f3\n",
    "\n",
    "print(fibo(10))\n",
    "print(fibo_loop(10))"
   ]
  },
  {
   "cell_type": "code",
   "execution_count": 31,
   "metadata": {},
   "outputs": [],
   "source": [
    "import time\n",
    "\n",
    "def checkTime(number):\n",
    "    start_time1 = time.time()\n",
    "    \n",
    "    fibo_loop(number)\n",
    "    \n",
    "    end_time1 = time.time()\n",
    "    elapsed_time1 = end_time1 - start_time1\n",
    "    print(f\"- Thời gian chạy của vòng lặp: {elapsed_time1:.10f} giây\")\n",
    "    \n",
    "    start_time2 = time.time()\n",
    "    \n",
    "    fibo(number)\n",
    "    \n",
    "    end_time2 = time.time()\n",
    "    elapsed_time2 = end_time2 - start_time2\n",
    "    print(f\"- Thời gian chạy của đệ quy: {elapsed_time2:.10f} giây\")"
   ]
  },
  {
   "cell_type": "code",
   "execution_count": 36,
   "metadata": {},
   "outputs": [
    {
     "name": "stdout",
     "output_type": "stream",
     "text": [
      "- Thời gian chạy của vòng lặp: 0.0000061989 giây\n",
      "- Thời gian chạy của đệ quy: 17.4162349701 giây\n"
     ]
    }
   ],
   "source": [
    "checkTime(40)"
   ]
  },
  {
   "cell_type": "code",
   "execution_count": null,
   "metadata": {},
   "outputs": [],
   "source": []
  }
 ],
 "metadata": {
  "colab": {
   "collapsed_sections": [],
   "name": "Bài 2. Giới thiệu về Thuật toán và Cấu trúc dữ liệu.ipynb",
   "provenance": []
  },
  "kernelspec": {
   "display_name": "Python 3 (ipykernel)",
   "language": "python",
   "name": "python3"
  },
  "language_info": {
   "codemirror_mode": {
    "name": "ipython",
    "version": 3
   },
   "file_extension": ".py",
   "mimetype": "text/x-python",
   "name": "python",
   "nbconvert_exporter": "python",
   "pygments_lexer": "ipython3",
   "version": "3.10.13"
  }
 },
 "nbformat": 4,
 "nbformat_minor": 1
}
