{
 "cells": [
  {
   "cell_type": "code",
   "execution_count": 1,
   "metadata": {},
   "outputs": [],
   "source": [
    "# get the index of the smallest element, from the specified index to the end of list\n",
    "def find_min(data_list, from_index):\n",
    "    min_ind = from_index\n",
    "    for i in range(from_index+1, len(data_list)):\n",
    "        if data_list[i] < data_list[min_ind]:\n",
    "            min_ind = i\n",
    "    return min_ind\n",
    "\n",
    "\n",
    "def selection_sort(data_list):\n",
    "    for i in range(len(data_list)-1):                                   # n\n",
    "        min_ind = find_min(data_list, i)  # get the index of the min     n\n",
    "        if min_ind != i:                  # swap current item and the min\n",
    "            data_list[i], data_list[min_ind] = data_list[min_ind], data_list[i]\n",
    "            \n",
    "\n",
    "def bubble_sort(arr):\n",
    "    for i in range(len(arr)-1, 0, -1):  # i is the index between the sorted and unsorted part\n",
    "        for j in range(i):              # loop j through the pairs in the unsorted part\n",
    "            if arr[j] < arr[j+1]:\n",
    "                arr[j], arr[j+1] = arr[j+1], arr[j]   # swap\n",
    "\n",
    "def insertion_sort(arr):\n",
    "    for i in range(1, len(arr)):  # arr[i] is the element to be inserted\n",
    "        j = i\n",
    "        while j > 0 and arr[j] < arr[j-1]:  # move the element to the left until found the correct position\n",
    "            arr[j], arr[j-1] = arr[j-1], arr[j]\n",
    "            j -= 1\n",
    "def counting_sort(arr):\n",
    "    \n",
    "    # trivial cases\n",
    "    if len(arr) <= 1:\n",
    "        return\n",
    "    \n",
    "    # get the maximal value as the range of counting indices\n",
    "    max_val = max(arr)\n",
    " \n",
    "    # count occurences of each value\n",
    "    count = [0] * (max_val+1)\n",
    "    for el in arr:\n",
    "        count[el] += 1\n",
    " \n",
    "    # traverse `count` to place the values back to `arr`\n",
    "    index = 0\n",
    "    for i in range(max_val+1):\n",
    "        for j in range(count[i]):\n",
    "            arr[index] = i\n",
    "            index += 1"
   ]
  },
  {
   "cell_type": "code",
   "execution_count": 2,
   "metadata": {},
   "outputs": [
    {
     "data": {
      "text/plain": [
       "[707, 84, 476, 673, 387, 580, 20, 2, 909, 118]"
      ]
     },
     "execution_count": 2,
     "metadata": {},
     "output_type": "execute_result"
    }
   ],
   "source": [
    "import random\n",
    "# ----- Khởi tạo phần tử cho 2 list với độ dài lenList\n",
    "def create_list(length):\n",
    "    lst = []\n",
    "    for i in range(length):\n",
    "        lst.append(random.randint(0, 1000))\n",
    "    return lst\n",
    "\n",
    "create_list(10)"
   ]
  },
  {
   "cell_type": "code",
   "execution_count": 17,
   "metadata": {},
   "outputs": [
    {
     "name": "stdout",
     "output_type": "stream",
     "text": [
      "- Thời gian chạy với len(100000000): 43.7948560715 giây\n"
     ]
    }
   ],
   "source": [
    "import time\n",
    "\n",
    "start_time = time.time()\n",
    "\n",
    "length = 100000000  # độ dài của list\n",
    "\n",
    "lst = create_list(length)     # tạo ra list\n",
    "\n",
    "#counting_sort(lst)\n",
    "sorted(lst)\n",
    "\n",
    "end_time = time.time()\n",
    "elapsed_time = end_time - start_time\n",
    "print(f\"- Thời gian chạy với len({length}): {elapsed_time:.10f} giây\")"
   ]
  },
  {
   "cell_type": "code",
   "execution_count": 8,
   "metadata": {},
   "outputs": [
    {
     "data": {
      "text/plain": [
       "[-1, 1, 1, 2, 4, 5, 6, 7]"
      ]
     },
     "execution_count": 8,
     "metadata": {},
     "output_type": "execute_result"
    }
   ],
   "source": [
    "lst = [1, 5, 1, 4, 2, -1, 6, 7]\n",
    "lst_new = sorted(lst)\n",
    "lst_new"
   ]
  },
  {
   "attachments": {},
   "cell_type": "markdown",
   "metadata": {},
   "source": []
  }
 ],
 "metadata": {
  "kernelspec": {
   "display_name": "base",
   "language": "python",
   "name": "python3"
  },
  "language_info": {
   "codemirror_mode": {
    "name": "ipython",
    "version": 3
   },
   "file_extension": ".py",
   "mimetype": "text/x-python",
   "name": "python",
   "nbconvert_exporter": "python",
   "pygments_lexer": "ipython3",
   "version": "3.11.4"
  },
  "orig_nbformat": 4
 },
 "nbformat": 4,
 "nbformat_minor": 2
}
