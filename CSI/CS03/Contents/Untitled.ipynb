{
 "cells": [
  {
   "cell_type": "code",
   "execution_count": 7,
   "id": "6b8181b3",
   "metadata": {},
   "outputs": [
    {
     "data": {
      "text/plain": [
       "[1, 2]"
      ]
     },
     "execution_count": 7,
     "metadata": {},
     "output_type": "execute_result"
    }
   ],
   "source": [
    "# Input/output : khi viết function, luôn return ra giá trị trong mọi trường hợp\n",
    "# Là hữu hạn\n",
    "\n",
    "# [1, 2, 3, 4]  -> target = 5\n",
    "\n",
    "def twoNumbers(nums, target):\n",
    "    for i in range(len(nums) - 1):  \n",
    "        for j in range(i + 1, len(nums)):    # \n",
    "            if nums[i] + nums[j] == target:\n",
    "                return [i, j]\n",
    "\n",
    "    return []\n",
    "  \n",
    "nums = [4, 3, 3]\n",
    "target = 6\n",
    "\n",
    "twoNumbers(nums, target) # -> [1, 2]"
   ]
  },
  {
   "cell_type": "code",
   "execution_count": 9,
   "id": "9e305d9a",
   "metadata": {},
   "outputs": [
    {
     "ename": "TypeError",
     "evalue": "cannot unpack non-iterable int object",
     "output_type": "error",
     "traceback": [
      "\u001b[0;31m---------------------------------------------------------------------------\u001b[0m",
      "\u001b[0;31mTypeError\u001b[0m                                 Traceback (most recent call last)",
      "Cell \u001b[0;32mIn[9], line 29\u001b[0m\n\u001b[1;32m     27\u001b[0m nums \u001b[38;5;241m=\u001b[39m [\u001b[38;5;241m4\u001b[39m, \u001b[38;5;241m3\u001b[39m, \u001b[38;5;241m3\u001b[39m]\n\u001b[1;32m     28\u001b[0m target \u001b[38;5;241m=\u001b[39m \u001b[38;5;241m6\u001b[39m\n\u001b[0;32m---> 29\u001b[0m \u001b[43mtest2\u001b[49m\u001b[43m(\u001b[49m\u001b[43mnums\u001b[49m\u001b[43m,\u001b[49m\u001b[43m \u001b[49m\u001b[43mtarget\u001b[49m\u001b[43m)\u001b[49m\n",
      "Cell \u001b[0;32mIn[9], line 21\u001b[0m, in \u001b[0;36mtest2\u001b[0;34m(nums, target)\u001b[0m\n\u001b[1;32m     19\u001b[0m nums\u001b[38;5;241m.\u001b[39msort()\n\u001b[1;32m     20\u001b[0m \u001b[38;5;28;01mfor\u001b[39;00m i \u001b[38;5;129;01min\u001b[39;00m \u001b[38;5;28mrange\u001b[39m (\u001b[38;5;28mlen\u001b[39m(nums)):\n\u001b[0;32m---> 21\u001b[0m     (k1,v1)\u001b[38;5;241m=\u001b[39mnums[i]\n\u001b[1;32m     22\u001b[0m     tmp\u001b[38;5;241m=\u001b[39mbinary_search(nums, target\u001b[38;5;241m-\u001b[39mk1,\u001b[38;5;241m0\u001b[39m,i\u001b[38;5;241m-\u001b[39m\u001b[38;5;241m1\u001b[39m)\n\u001b[1;32m     23\u001b[0m     \u001b[38;5;28;01mif\u001b[39;00m (tmp\u001b[38;5;241m!=\u001b[39m\u001b[38;5;241m-\u001b[39m\u001b[38;5;241m1\u001b[39m):\n",
      "\u001b[0;31mTypeError\u001b[0m: cannot unpack non-iterable int object"
     ]
    }
   ],
   "source": [
    "# C2 su dung sort + binary_search: DPT : O(n log n)\n",
    "# Cách tính độ phức tạp: Chuẩn bị cần thuật toán sort DPT là O(nlogn).Ta có 1 vòng for để chạy 1 giá trị x, sau đó sử dụng thuật toán chặt nhị phân để tìm giá trị còn lại trong dãy mất log n => DPT là O(n log n)\n",
    "\n",
    "def binary_search(nums, x,lo,ri):\n",
    "    l=lo\n",
    "    r=ri\n",
    "    pos=-1\n",
    "    while (l<=r):\n",
    "        mid=int(l+r)//2\n",
    "        (key,value)=nums[mid]\n",
    "        if (key < x): l=mid+1\n",
    "        else:\n",
    "            if (key>x): r=mid-1\n",
    "            else: return value\n",
    "    return -1\n",
    "\n",
    "\n",
    "def test2(nums, target):\n",
    "    nums.sort()\n",
    "    for i in range (len(nums)):\n",
    "        (k1,v1)=nums[i]\n",
    "        tmp=binary_search(nums, target-k1,0,i-1)\n",
    "        if (tmp!=-1):\n",
    "            return [v1,tmp]\n",
    "    return[]\n",
    "\n",
    "nums = [4, 3, 3]\n",
    "target = 6\n",
    "test2(nums, target)\n"
   ]
  },
  {
   "cell_type": "code",
   "execution_count": 6,
   "id": "65cd6bd8",
   "metadata": {},
   "outputs": [
    {
     "name": "stdout",
     "output_type": "stream",
     "text": [
      "200\n",
      "1\n",
      "0\n"
     ]
    }
   ],
   "source": [
    "from collections import deque\n",
    "\n",
    "def enter(n):\n",
    "    n = int(input())\n",
    "\n",
    "def solution(n):\n",
    "    queue = deque()\n",
    "    queue.append(1)\n",
    "\n",
    "    res = 0\n",
    "    while len(queue) > 0:\n",
    "        cur = queue.popleft()\n",
    "        print(cur)\n",
    "\n",
    "        if cur <= n:\n",
    "            ++res\n",
    "            queue.append(cur * 10)\n",
    "            queue.append(cur * 10 + 1)\n",
    "\n",
    "    print(res)\n",
    "\n",
    "n = 0\n",
    "\n",
    "enter(n)\n",
    "solution(n)\n"
   ]
  },
  {
   "cell_type": "code",
   "execution_count": null,
   "id": "ec311c33",
   "metadata": {},
   "outputs": [],
   "source": []
  }
 ],
 "metadata": {
  "kernelspec": {
   "display_name": "Python 3 (ipykernel)",
   "language": "python",
   "name": "python3"
  },
  "language_info": {
   "codemirror_mode": {
    "name": "ipython",
    "version": 3
   },
   "file_extension": ".py",
   "mimetype": "text/x-python",
   "name": "python",
   "nbconvert_exporter": "python",
   "pygments_lexer": "ipython3",
   "version": "3.10.9"
  }
 },
 "nbformat": 4,
 "nbformat_minor": 5
}
