{
 "cells": [
  {
   "cell_type": "code",
   "execution_count": 1,
   "id": "6338c19c",
   "metadata": {},
   "outputs": [
    {
     "data": {
      "text/plain": [
       "'\\n    Các cấu trúc dữ liệu đơn giản:\\n    - List\\n    - Dictionary\\n    - Tuple / Set\\n    - Stack / Queue / Tree / Graph\\n    \\n    Thuật toán: \\n    - Tìm kiếm tuần tự/nhị phân \\n    - Sắp xếp: Insertion Sort/Bubble Sort/Selection Sort\\n               Merge Sort/Quick Sort/ Counting Sort....\\n    - Duyệt Tree / Graph \\n    - Tìm đường đi ngắn nhất\\n    \\n    \\n    Buổi 1:\\n    - Ôn tập Python \\n    - Đánh giá một thuật toán bằng hàm thời gian\\n\\n'"
      ]
     },
     "execution_count": 1,
     "metadata": {},
     "output_type": "execute_result"
    }
   ],
   "source": [
    "\"\"\"\n",
    "    Các cấu trúc dữ liệu đơn giản:\n",
    "    - List / Tuple (Cấu trúc dữ liệu có thứ tự)\n",
    "    - Dictionary / Set   (Cấu trúc dữ liệu không có thứ tự)\n",
    "    \n",
    "    \n",
    "    - Stack (Ngăn xếp) / Queue (Hàng đợi) / Tree (Cây) / Graph (Đồ thị)\n",
    "    \n",
    "    Mục tiêu khoá học: Giúp các bạn lập trình với tốc độ tối ưu (thời gian) \n",
    "    \n",
    "    Thuật toán: \n",
    "    - Tìm kiếm tuần tự/nhị phân \n",
    "    - Sắp xếp: Insertion Sort/Bubble Sort/Selection Sort\n",
    "               Merge Sort/Quick Sort/ Counting Sort....\n",
    "    - Duyệt Tree / Graph \n",
    "    - Tìm đường đi ngắn nhất\n",
    "    \n",
    "    \n",
    "    Buổi 1 + 2:\n",
    "    - Ôn tập Python\n",
    "    - Đánh giá một thuật toán bằng hàm thời gian (độ phức tạp của thuật toán)\n",
    "\n",
    "\"\"\""
   ]
  },
  {
   "cell_type": "code",
   "execution_count": 12,
   "id": "b0dd83cb",
   "metadata": {},
   "outputs": [
    {
     "name": "stdout",
     "output_type": "stream",
     "text": [
      "3\n",
      "- Thời gian chạy: 0.0005760193 giây\n"
     ]
    }
   ],
   "source": [
    "\"\"\"\n",
    "    Python:\n",
    "    - Kiểu dữ liệu/ toán tử\n",
    "    - Cấu trúc điều khiển: If/else, Loop\n",
    "    - Cấu trúc dữ liệu đơn giản: List, Dictionary \n",
    "    - Hàm (Function) và Modules  (math, random, numpy,....)\n",
    "    - Vào/ra File \n",
    "    -> Basic \n",
    "    \n",
    "    - Lập trình hướng đối tượng (OOP)\n",
    "    - Pandas / Matplotlib (Xử lý dữ liệu)   .... SQL\n",
    "    -> Advanced\n",
    "    \n",
    "\"\"\"\n",
    "\n",
    "\"\"\"\n",
    "    Bài tập:\n",
    "    - Nhập một số nguyên dương n từ bàn phím. Hãy tìm và in ra \n",
    "    số Fibbonaci thứ n.\n",
    "    \n",
    "    Fib(n) = Fibo(n - 1) + Fibo(n - 2)\n",
    "    VD: 1, 1, 2, 3, 5, 8, 13, 21, 34,...\n",
    "    Với n = 4  -> Fib(4) = 3\n",
    "    \n",
    "    Với thuật toán của bạn, hãy thử với:\n",
    "    - n = 5\n",
    "    - n = 20\n",
    "    - n = 35\n",
    "    - n = 40\n",
    "    \n",
    "    \n",
    "\n",
    "\"\"\"\n",
    "# Nhập n. Hãy hiển thị số Fibonacci thứ \n",
    "\n",
    "# cách 1:  hàm đệ quy  - hàm tự gọi lại trong thân chính nó\n",
    "def fib(n):\n",
    "    if n <= 2:\n",
    "        return 1\n",
    "    return fib(n - 1) + fib(n - 2)  # 2^n\n",
    "\n",
    "#print(fib(4))\n",
    "\n",
    "# cách 2\n",
    "n = 5         # 1\n",
    "lst = [1, 1]      # 1\n",
    "for i in range(2, n):    # (n - 2) * 2  + 2  -> O(n)\n",
    "    x = lst[i - 1] + lst[i - 2]   #1 \n",
    "    lst.append(x)   # 1\n",
    "    \n",
    "\"\"\"\n",
    "    n = 5:  1\n",
    "    lst = [1, 1]:    1\n",
    "    \n",
    "    for (n - 2):   2 ->   O(n)\n",
    "\"\"\"\n",
    "    \n",
    "#print(lst[n - 1])\n",
    "\n",
    "\n",
    "# cách 3\n",
    "n = 4\n",
    "f1 = 1\n",
    "f2 = 1\n",
    "f3 = 1\n",
    "for i in range(2, n):\n",
    "    f3 = f1 + f2\n",
    "    f1 = f2\n",
    "    f2 = f3\n",
    "print(f3)\n",
    "\n",
    "\"\"\"\n",
    "\n",
    "\n",
    "\"\"\"\n"
   ]
  },
  {
   "cell_type": "code",
   "execution_count": 33,
   "id": "9b0290c6",
   "metadata": {},
   "outputs": [
    {
     "name": "stdout",
     "output_type": "stream",
     "text": [
      "102334155\n",
      "- Thời gian chạy: 0.0002229214 giây\n"
     ]
    }
   ],
   "source": [
    "import time\n",
    "\n",
    "start_time = time.time()\n",
    "\n",
    "\n",
    "n = 40\n",
    "f1 = 1\n",
    "f2 = 1\n",
    "f3 = 1\n",
    "for i in range(2, n):\n",
    "    f3 = f1 + f2\n",
    "    f1 = f2\n",
    "    f2 = f3\n",
    "print(f3)\n",
    "\n",
    "\n",
    "end_time = time.time()\n",
    "elapsed_time = end_time - start_time\n",
    "print(f\"- Thời gian chạy: {elapsed_time:.10f} giây\")"
   ]
  },
  {
   "cell_type": "code",
   "execution_count": 34,
   "id": "32fe3805",
   "metadata": {},
   "outputs": [
    {
     "data": {
      "text/plain": [
       "'\\n Đánh giá thuật toán: Độ phức tạp (BigO)\\n \\n Một số độ phức tạp:\\n  - O(1)\\n  - O(logn) \\n  - O(n)\\n  - O(nlogn)\\n  - O(n^2)  \\n  - O(n^3)\\n  - O(2^n)\\n  \\n  \\n  2 quy tắc để đánh giá độ phức tạp\\n  \\n  1. Quy tắc lấy max (ẩn)\\n  2. Quy tắc loại bỏ hằng số \\n  \\n    O(3n - 1)  -> O(n)\\n\\n    1. O(3n^1 - 1n^0) -> O(3n)\\n    2. O(3n)  ->  O(n)\\n    \\n    \\n    O(2n^2 + 6n + 1)\\n    1. O(2n^2)\\n    2. O(n^2)\\n\\n\\n\\n'"
      ]
     },
     "execution_count": 34,
     "metadata": {},
     "output_type": "execute_result"
    }
   ],
   "source": [
    "\"\"\"\n",
    " Đánh giá thuật toán: Độ phức tạp (BigO - O)\n",
    " \n",
    " Một số độ phức tạp:\n",
    "  - O(1)\n",
    "  - O(logn) \n",
    "  - O(n)\n",
    "  - O(nlogn)\n",
    "  - O(n^2)  \n",
    "  - O(n^3)\n",
    "  - O(2^n)\n",
    "  \n",
    "  \n",
    "  2 quy tắc để đánh giá độ phức tạp\n",
    "  \n",
    "  1. Quy tắc lấy max (ẩn)\n",
    "  2. Quy tắc loại bỏ hằng số \n",
    "  \n",
    "    O(3n - 1)  -> O(n)\n",
    "\n",
    "    1. O(3n^1 - 1n^0) -> O(3n)\n",
    "    2. O(3n)  ->  O(n)\n",
    "    \n",
    "    \n",
    "    O(2n^2 + 6n + 1)\n",
    "    1. O(2n^2)\n",
    "    2. O(n^2)\n",
    "\n",
    "\n",
    "\n",
    "\"\"\""
   ]
  },
  {
   "cell_type": "code",
   "execution_count": 35,
   "id": "94ca0f09",
   "metadata": {},
   "outputs": [
    {
     "data": {
      "text/plain": [
       "'\\n    Thiết kế thuật toán thực hiện:\\n    - Nhập 2 số a và b từ bàn phím\\n    - Tìm UCLN của 2 số a và b\\n    \\n    Sau khi thiết kế, đánh giá độ phức tạp của thuật toán\\n\\n'"
      ]
     },
     "execution_count": 35,
     "metadata": {},
     "output_type": "execute_result"
    }
   ],
   "source": [
    "\"\"\"\n",
    "    Thiết kế thuật toán thực hiện:\n",
    "    - Nhập 2 số a và b từ bàn phím\n",
    "    - Tìm UCLN của 2 số a và b\n",
    "    \n",
    "    Sau khi thiết kế, đánh giá độ phức tạp của thuật toán\n",
    "\n",
    "\"\"\""
   ]
  },
  {
   "cell_type": "code",
   "execution_count": 48,
   "id": "bf8d73de",
   "metadata": {},
   "outputs": [
    {
     "name": "stdout",
     "output_type": "stream",
     "text": [
      "2422\n",
      "- Thời gian chạy: 0.0003440380 giây\n"
     ]
    }
   ],
   "source": [
    "def gcd(a, b):\n",
    "    if a % b == 0:\n",
    "        return b\n",
    "    return gcd(b, a  % b)  # logn\n",
    "\n",
    "\n",
    "a = 24\n",
    "b = 32\n",
    "\n",
    "\"\"\"\n",
    "   VD: a = 24\n",
    "       b = 32\n",
    "    gcd(24, 32) \n",
    "    gcd(32, 24)    32 % 24\n",
    "    gcd(24, 8)     24 % 8 ->   8\n",
    "\"\"\"\n",
    "\n",
    "import time\n",
    "\n",
    "start_time = time.time()\n",
    "\n",
    "a = 7266\n",
    "b = 9688\n",
    "\n",
    "while a != b:\n",
    "    if a < b:\n",
    "        b = b - a\n",
    "    else:\n",
    "        a = a - b\n",
    "        \n",
    "print(a)\n",
    "\n",
    "\n",
    "end_time = time.time()\n",
    "elapsed_time = end_time - start_time\n",
    "print(f\"- Thời gian chạy: {elapsed_time:.10f} giây\")\n"
   ]
  },
  {
   "cell_type": "code",
   "execution_count": 16,
   "id": "8fe01813",
   "metadata": {},
   "outputs": [
    {
     "name": "stdout",
     "output_type": "stream",
     "text": [
      "- Thời gian chạy: 0.0001506805 giây\n"
     ]
    }
   ],
   "source": [
    "import time\n",
    "\n",
    "start_time = time.time()\n",
    "\n",
    "# cách 2\n",
    "n = 41\n",
    "lst = [1, 1]\n",
    "for i in range(2, n):\n",
    "    x = lst[i - 1] + lst[i - 2]\n",
    "    lst.append(x)\n",
    "\n",
    "end_time = time.time()\n",
    "elapsed_time = end_time - start_time\n",
    "print(f\"- Thời gian chạy: {elapsed_time:.10f} giây\")\n",
    "\n"
   ]
  },
  {
   "cell_type": "code",
   "execution_count": null,
   "id": "5ea59669",
   "metadata": {},
   "outputs": [],
   "source": [
    "n = 41\n",
    "lst = [1, 1]\n",
    "for i in range(2, n):\n",
    "    x = lst[i - 1] + lst[i - 2]\n",
    "    lst.append(x)"
   ]
  },
  {
   "cell_type": "code",
   "execution_count": 17,
   "id": "fe628c90",
   "metadata": {},
   "outputs": [
    {
     "name": "stdout",
     "output_type": "stream",
     "text": [
      "Hello\n",
      "Hello\n",
      "Hello\n",
      "Hello\n",
      "Hello\n",
      "Hello\n",
      "Hello\n",
      "Hello\n",
      "Hello\n",
      "Hello\n",
      "Hello\n",
      "Hello\n",
      "Hello\n",
      "Hello\n",
      "Hello\n",
      "Hello\n",
      "Hello\n",
      "Hello\n",
      "Hello\n",
      "Hello\n",
      "Hello\n",
      "Hello\n",
      "Hello\n",
      "Hello\n",
      "Hello\n",
      "Hello\n",
      "Hello\n",
      "Hello\n",
      "Hello\n",
      "Hello\n",
      "Hello\n",
      "Hello\n",
      "Hello\n",
      "Hello\n",
      "Hello\n",
      "Hello\n",
      "Hello\n",
      "Hello\n",
      "Hello\n",
      "Hello\n",
      "Hello\n",
      "Hello\n",
      "Hello\n",
      "Hello\n",
      "Hello\n",
      "Hello\n",
      "Hello\n",
      "Hello\n",
      "Hello\n",
      "Hello\n"
     ]
    }
   ],
   "source": [
    "\"\"\"\n",
    " PHƯƠNG PHÁP ĐỂ ĐÁNH GIÁ THỜI GIAN THỰC HIỆN THUẬT TOÁN (SỐ PHÉP TOÁN THỰC HIỆN)\n",
    " \n",
    " 1. Những câu lệnh cơ bản (phép gán, if..else, hiển thị, nhập xuất)\n",
    "      -> Tốn O(1)\n",
    "       \n",
    " 2. Những câu lệnh lặp\n",
    "      -> Tốn số lần lặp * số phép toán trong vòng lặp\n",
    "      \n",
    "=> Thời gian = Tổng các phép toán\n",
    "\n",
    "\n",
    "    2 quy tắc để đánh giá độ phức tạp về quy chuẩn\n",
    "\n",
    "      1. Quy tắc lấy max (ẩn)\n",
    "      \n",
    "      # O(2n^2 + n + 5)  -> O(2n^2)\n",
    "      \n",
    "      2. Quy tắc loại bỏ hằng số \n",
    "      \n",
    "      # O(2n^2)    -> O(n^2)\n",
    "\"\"\"\n",
    "n = 10\n",
    "for i in range(n):    # n  -> O(n^2)\n",
    "    for j in range(n - 5):   # (n - 5)\n",
    "        print(\"Hello\")   # 1"
   ]
  },
  {
   "cell_type": "code",
   "execution_count": 38,
   "id": "623d1ba2",
   "metadata": {},
   "outputs": [
    {
     "name": "stdout",
     "output_type": "stream",
     "text": [
      "True\n",
      "- Thời gian chạy: 7.5101423264 giây\n"
     ]
    }
   ],
   "source": [
    "# Thiết kế thuật toán giải quyết bài toán sau\n",
    "\n",
    "\"\"\"\n",
    "    Nhập một số nguyên dương n từ bàn phím.\n",
    "    Kiểm tra n có phải là một số nguyên tố hay không.\n",
    "    \n",
    "    Note: Số nguyên tố là số nguyên dương, chỉ chia hết cho 1 và chính nó.\n",
    "    \n",
    "    Hiển thị \"Có\" nếu n là số nguyên tố, ngược lại \"Không\".\n",
    "    \n",
    "\"\"\"\n",
    "# YÊU CẦU: Đánh giá thuật toán bằng đơn vị độ phức tạp\n",
    "# Thử với các số n khác nhau (từ 0 -> 10^6)\n",
    "\n",
    "\n",
    "import time\n",
    "\n",
    "start_time = time.time()\n",
    "\n",
    "# n = 5, n = 100, n = 1234, n = 1000000\n",
    "# def isPrimeNumber(n):\n",
    "#     if n < 2:\n",
    "#         return False\n",
    "#     else:\n",
    "#         for i in range(2, int(n ** 1/2) + 1):  \n",
    "#             if n % i == 0:\n",
    "#                 return False\n",
    "#         return True\n",
    "    \n",
    "# print(isPrimeNumber(479001599))\n",
    "#cách 2: Chạy đến n//2 -> O(n/2) ~ O(n)\n",
    "def isPrimeNumber(n):\n",
    "    if n < 2:\n",
    "        return False\n",
    "    else:\n",
    "        for i in range(2, n // 2 + 1):   # n/2 -> O(1/2 * n) -> O(n)\n",
    "            if n % i == 0:\n",
    "                return False\n",
    "        return True\n",
    "    \n",
    "print(isPrimeNumber(479001599))\n",
    "end_time = time.time()\n",
    "elapsed_time = end_time - start_time\n",
    "print(f\"- Thời gian chạy: {elapsed_time:.10f} giây\")\n",
    "\n",
    "\n",
    "# cách 1: Basic -> Theo định nghĩa -> Đếm ước -> O(n)\n",
    "# n = 12\n",
    "# count = 0\n",
    "\n",
    "# for i in range(1, n + 1):\n",
    "#     if n % i == 0:\n",
    "#         count += 1\n",
    "\n",
    "# if count == 2:\n",
    "#     print(\"Yes\")\n",
    "# else:\n",
    "#     print(\"No\")\n",
    "\n",
    "\n",
    "# cách 2: Chạy đến n//2 -> O(n/2) ~ O(n)\n",
    "# def isPrimeNumber(n):\n",
    "#     if n < 2:\n",
    "#         return False\n",
    "#     else:\n",
    "#         for i in range(2, n // 2 + 1):   # n/2 -> O(1/2 * n) -> O(n)\n",
    "#             if n % i == 0:\n",
    "#                 return False\n",
    "#         return True\n",
    "    \n",
    "# print(isPrimeNumber(1000000))"
   ]
  },
  {
   "cell_type": "code",
   "execution_count": 64,
   "id": "80ec194d",
   "metadata": {},
   "outputs": [
    {
     "name": "stdout",
     "output_type": "stream",
     "text": [
      "[35, 29, 37, 35, 25, 47, 17, 12, 16, 16, 8, 42, 7, 7, 30, 1, 31, 30, 30, 0]\n"
     ]
    }
   ],
   "source": [
    "\"\"\"\n",
    "    Cho 1 danh sách LIST và phần tử k.\n",
    "    Hãy tìm và hiển thị vị trí của phần tử k trong LIST\n",
    "    \n",
    "    VD:  LIST = [1, 2, 6, 8, 9, 10],  k = 8\n",
    "         -> Vị trí của k trong LIST = 3\n",
    "\n",
    "    2 cách:\n",
    "    - Cách 1: Duyệt từ đầu tới cuối, khi nào bằng thì thôi\n",
    "    - Cách 2: Quyển sách thần kì -> Tìm kiếm nhị \n",
    "\"\"\"\n",
    "from random import randint\n",
    "\n",
    "lst = []\n",
    "lenList = 20  # số lượng phần tử trong list     # k là số cần tìm\n",
    "for i in range(lenList):\n",
    "    lst.append(randint(0, 50))\n",
    "print(lst)"
   ]
  },
  {
   "cell_type": "code",
   "execution_count": 66,
   "id": "b7041cd7",
   "metadata": {},
   "outputs": [
    {
     "name": "stdout",
     "output_type": "stream",
     "text": [
      "1\n"
     ]
    }
   ],
   "source": [
    "# Cách 1: Duyệt từ đầu tới cuối   -> O(n)\n",
    "\"\"\"\n",
    "    - Tồi nhất: k nằm ở cuối LIST -> O(n)\n",
    "    - Tốt nhất: k nằm ở đầu LIST -> O(1)\n",
    "\"\"\"\n",
    "index = -1\n",
    "k = 29\n",
    "for i in range(lenList):\n",
    "    if lst[i] == k:\n",
    "        index = i\n",
    "        break\n",
    "print(index)\n",
    "\n",
    "\n",
    "# Cách 2: Thuật toán tìm kiếm nhị phân -> O(logn)\n",
    "def binarySearch(left, right, lst, k):\n",
    "    mid = (left + right) // 2\n",
    "    if lst[mid] == k:\n",
    "        return mid\n",
    "    elif lst[mid] < k:\n",
    "        return binarySearch(mid + 1, right, lst, k)\n",
    "    elif lst[mid] > k:\n",
    "        return binarySearch(left, mid, lst, k)\n",
    "    else:\n",
    "        return -1\n",
    "    "
   ]
  },
  {
   "cell_type": "code",
   "execution_count": null,
   "id": "ec8f84b0",
   "metadata": {},
   "outputs": [],
   "source": []
  }
 ],
 "metadata": {
  "kernelspec": {
   "display_name": "Python 3 (ipykernel)",
   "language": "python",
   "name": "python3"
  },
  "language_info": {
   "codemirror_mode": {
    "name": "ipython",
    "version": 3
   },
   "file_extension": ".py",
   "mimetype": "text/x-python",
   "name": "python",
   "nbconvert_exporter": "python",
   "pygments_lexer": "ipython3",
   "version": "3.10.9"
  }
 },
 "nbformat": 4,
 "nbformat_minor": 5
}
