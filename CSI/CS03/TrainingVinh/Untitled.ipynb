{
 "cells": [
  {
   "cell_type": "code",
   "execution_count": 8,
   "id": "0aa5bcbf",
   "metadata": {},
   "outputs": [
    {
     "name": "stdout",
     "output_type": "stream",
     "text": [
      "-1\n"
     ]
    }
   ],
   "source": [
    "\n",
    "# def binary_search(lst, left, right, item):\n",
    "\n",
    "#     if left <= right:\n",
    "#         mid = (left + right) // 2\n",
    "#         mid_item = lst[mid]\n",
    "#         if mid_item == item:\n",
    "#             return mid\n",
    "#         elif mid_item < item:\n",
    "#             return binary_search(lst, mid + 1, right, item)\n",
    "#         elif mid_item > item:\n",
    "#             return binary_search(lst, left, mid - 1, item)\n",
    "    \n",
    "#     return -1\n",
    "def binary_search(data_list, value, left, right):\n",
    " \n",
    "    if left <= right:  # while searching range has at least 1 item...\n",
    "        \n",
    "        # get the middle item\n",
    "        mid = (left + right) // 2\n",
    "        mid_item = data_list[mid]\n",
    "        \n",
    "        # do comparisons\n",
    "        if mid_item == value:\n",
    "            return mid          # stop condition: value found\n",
    "        elif mid_item < value:\n",
    "            return binary_search(data_list, value, mid+1, right)  # recursive call => update searching range\n",
    "        elif mid_item > value:\n",
    "            return binary_search(data_list, value, left, mid-1)   # recursive call => update searching range\n",
    "        \n",
    "    return -1  # stop condition: value not found\n",
    "\n",
    "lst = [1, 2, 3, 5, 7, 10, 11, 34, 67, 100, 120]\n",
    "print(binary_search(lst, 1200, 0, len(lst) - 1))"
   ]
  },
  {
   "cell_type": "code",
   "execution_count": null,
   "id": "b5200de6",
   "metadata": {},
   "outputs": [],
   "source": []
  }
 ],
 "metadata": {
  "kernelspec": {
   "display_name": "Python 3 (ipykernel)",
   "language": "python",
   "name": "python3"
  },
  "language_info": {
   "codemirror_mode": {
    "name": "ipython",
    "version": 3
   },
   "file_extension": ".py",
   "mimetype": "text/x-python",
   "name": "python",
   "nbconvert_exporter": "python",
   "pygments_lexer": "ipython3",
   "version": "3.10.10"
  }
 },
 "nbformat": 4,
 "nbformat_minor": 5
}
