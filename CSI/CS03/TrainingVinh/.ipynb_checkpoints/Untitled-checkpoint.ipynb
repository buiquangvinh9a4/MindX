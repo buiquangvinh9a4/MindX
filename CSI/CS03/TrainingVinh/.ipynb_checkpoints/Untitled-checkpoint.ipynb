{
 "cells": [
  {
   "cell_type": "code",
   "execution_count": null,
   "id": "c9097d75",
   "metadata": {},
   "outputs": [],
   "source": [
    "\n",
    "def binary_search(lst, left, right, item):\n",
    "    l = len(lst)\n",
    "    mid = l // 2\n",
    "    \n",
    "    if mid == item:\n",
    "        return mid\n",
    "    elif mid < item:\n",
    "        return binary_search(lst, mid + 1, right, item)\n",
    "    else:\n",
    "        return bi\n",
    "\n",
    "\n",
    "lst = [1, 2, 3, 5, 7, 10, 11, 34, 67, 100, 120]"
   ]
  }
 ],
 "metadata": {
  "kernelspec": {
   "display_name": "Python 3 (ipykernel)",
   "language": "python",
   "name": "python3"
  },
  "language_info": {
   "codemirror_mode": {
    "name": "ipython",
    "version": 3
   },
   "file_extension": ".py",
   "mimetype": "text/x-python",
   "name": "python",
   "nbconvert_exporter": "python",
   "pygments_lexer": "ipython3",
   "version": "3.10.10"
  }
 },
 "nbformat": 4,
 "nbformat_minor": 5
}
