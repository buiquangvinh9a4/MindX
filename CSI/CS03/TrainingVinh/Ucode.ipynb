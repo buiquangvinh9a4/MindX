{
 "cells": [
  {
   "cell_type": "code",
   "execution_count": 5,
   "id": "27d70457",
   "metadata": {},
   "outputs": [
    {
     "name": "stdout",
     "output_type": "stream",
     "text": [
      "8\n"
     ]
    }
   ],
   "source": [
    "# cảnh sát và tội phạm\n",
    "n = int(input())\n",
    "a = []\n",
    "\n",
    "for i in range(n):\n",
    "    a.append(int(input()))\n",
    "\n",
    "s = 0\n",
    "c = 0\n",
    "for num in a:\n",
    "    s += num\n",
    "    if s < 0:\n",
    "        c += 1\n",
    "        s = 0\n",
    "print(c)\n",
    "\n"
   ]
  },
  {
   "cell_type": "code",
   "execution_count": 59,
   "id": "d51788f4",
   "metadata": {},
   "outputs": [
    {
     "name": "stdout",
     "output_type": "stream",
     "text": [
      "5\n",
      "X 0 X 0 X\n",
      "X 0 0 X X\n",
      "0 0 X 0 0\n",
      "0 X 0 X 0\n",
      "0 0 X X 0\n",
      "[['X', 'X', '0', '0', '0'], ['0', '0', '0', 'X', '0'], ['X', '0', 'X', '0', 'X'], ['0', 'X', '0', 'X', 'X'], ['X', 'X', '0', '0', '0']]\n",
      "2 3\n",
      "3 4 "
     ]
    }
   ],
   "source": [
    "\n",
    "\n",
    "n = int(input())\n",
    "\n",
    "a = []\n",
    "\n",
    "for i in range(n):\n",
    "    x = input()\n",
    "    a1 = x.split(' ')\n",
    "    a.append(a1)\n",
    "    \n",
    "h = []\n",
    "for i in range(n):\n",
    "    row = []\n",
    "    for j in range(n):\n",
    "        row = row + [a[j][i]]\n",
    "    h = h + [row]\n",
    "\n",
    "lst_count = []\n",
    "for i in range(n):\n",
    "    count = 0\n",
    "    for j in range(n):\n",
    "        if h[i][j] == 'X':\n",
    "            count += 1\n",
    "    lst_count.append(count)\n",
    "\n",
    "\n",
    "maxx = max(lst_count)\n",
    "count_maxx = lst_count.count(maxx)\n",
    "print(count_maxx, maxx)\n",
    "\n",
    "for i in range(n):\n",
    "    if lst_count[i] == maxx:\n",
    "        print(i + 1, end = ' ')\n",
    "        \n",
    "\n",
    "\n"
   ]
  },
  {
   "cell_type": "code",
   "execution_count": null,
   "id": "2b9163ab",
   "metadata": {},
   "outputs": [],
   "source": []
  },
  {
   "cell_type": "code",
   "execution_count": null,
   "id": "541c3518",
   "metadata": {},
   "outputs": [],
   "source": []
  }
 ],
 "metadata": {
  "kernelspec": {
   "display_name": "Python 3 (ipykernel)",
   "language": "python",
   "name": "python3"
  },
  "language_info": {
   "codemirror_mode": {
    "name": "ipython",
    "version": 3
   },
   "file_extension": ".py",
   "mimetype": "text/x-python",
   "name": "python",
   "nbconvert_exporter": "python",
   "pygments_lexer": "ipython3",
   "version": "3.10.10"
  }
 },
 "nbformat": 4,
 "nbformat_minor": 5
}
