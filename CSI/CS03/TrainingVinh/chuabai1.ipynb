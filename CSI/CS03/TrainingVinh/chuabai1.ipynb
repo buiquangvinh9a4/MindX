{
 "cells": [
  {
   "cell_type": "markdown",
   "id": "5ab550f6",
   "metadata": {},
   "source": [
    "**Bài 1: Họ và tên**"
   ]
  },
  {
   "cell_type": "code",
   "execution_count": 2,
   "id": "9d867d32",
   "metadata": {},
   "outputs": [
    {
     "name": "stdout",
     "output_type": "stream",
     "text": [
      "Nhập tên:Vinh\n",
      "Tên đệm: Quang\n",
      "Họ: Bùi\n",
      "Bùi Quang Vinh\n"
     ]
    }
   ],
   "source": [
    "ten = input('Nhập tên: ')\n",
    "tendem = input('Tên đệm: ')\n",
    "ho = input('Họ: ')\n",
    "\n",
    "# output: họ_tên đệm_tên\n",
    "print(ho + ' ' + tendem + ' ' + ten)"
   ]
  },
  {
   "cell_type": "markdown",
   "id": "6506afef",
   "metadata": {},
   "source": [
    "**Bài 2: Max2**"
   ]
  },
  {
   "cell_type": "code",
   "execution_count": 4,
   "id": "618276f3",
   "metadata": {},
   "outputs": [
    {
     "name": "stdout",
     "output_type": "stream",
     "text": [
      "55\n"
     ]
    }
   ],
   "source": [
    "a = [11, 22, 11, 66, -15, 55, 55]\n",
    "Max = a[0]\n",
    "Max2 = -1\n",
    "\n",
    "for number in a:\n",
    "    if Max < number:\n",
    "        Max2 = Max\n",
    "        Max = number\n",
    "    elif Max2 < number and number != Max:\n",
    "        Max2 = number\n",
    "\n",
    "print(Max2)\n",
    "\n",
    "    \n"
   ]
  },
  {
   "cell_type": "markdown",
   "id": "d528af06",
   "metadata": {},
   "source": [
    "**Bài 3: Kiểm tra số nguyên**"
   ]
  },
  {
   "cell_type": "code",
   "execution_count": 7,
   "id": "001b2475",
   "metadata": {},
   "outputs": [
    {
     "name": "stdout",
     "output_type": "stream",
     "text": [
      "Nhập vào số cần kiểm tra: 3.02\n",
      "Đây là số thực\n"
     ]
    }
   ],
   "source": [
    "number = float(input('Nhập vào số cần kiểm tra: '))\n",
    "\n",
    "# number = 3.00\n",
    "# epkieu_number = int(number) = 3\n",
    "# so sánh number với epkieu_number -> số thực\n",
    "\n",
    "epkieu_number = int(number)\n",
    "if epkieu_number == number:\n",
    "    print('Đây là số nguyên')\n",
    "else:\n",
    "    print('Đây là số thực')\n"
   ]
  },
  {
   "cell_type": "markdown",
   "id": "946a7a42",
   "metadata": {},
   "source": [
    "**Bài 4: Kiểm tra số nguyên tố**"
   ]
  },
  {
   "cell_type": "code",
   "execution_count": 9,
   "id": "718696cf",
   "metadata": {},
   "outputs": [
    {
     "name": "stdout",
     "output_type": "stream",
     "text": [
      "25\n",
      "25 không phải là số nguyên tố\n"
     ]
    }
   ],
   "source": [
    "number = int(input())\n",
    "\n",
    "def isPrimeNumber(number):\n",
    "    count_uoc = 0\n",
    "    for i in range(1, number + 1, 1):\n",
    "        if number % i == 0:\n",
    "            count_uoc += 1\n",
    "    if count_uoc == 2:\n",
    "        return True\n",
    "    else:\n",
    "        return False\n",
    "\n",
    "if isPrimeNumber(number) == True:\n",
    "    print(f'{number} là số nguyên tố')\n",
    "else:\n",
    "    print(f'{number} không phải là số nguyên tố')"
   ]
  },
  {
   "cell_type": "code",
   "execution_count": null,
   "id": "b295a70f",
   "metadata": {},
   "outputs": [],
   "source": []
  },
  {
   "cell_type": "code",
   "execution_count": null,
   "id": "8f26dd54",
   "metadata": {},
   "outputs": [],
   "source": []
  }
 ],
 "metadata": {
  "kernelspec": {
   "display_name": "Python 3 (ipykernel)",
   "language": "python",
   "name": "python3"
  },
  "language_info": {
   "codemirror_mode": {
    "name": "ipython",
    "version": 3
   },
   "file_extension": ".py",
   "mimetype": "text/x-python",
   "name": "python",
   "nbconvert_exporter": "python",
   "pygments_lexer": "ipython3",
   "version": "3.10.10"
  }
 },
 "nbformat": 4,
 "nbformat_minor": 5
}
