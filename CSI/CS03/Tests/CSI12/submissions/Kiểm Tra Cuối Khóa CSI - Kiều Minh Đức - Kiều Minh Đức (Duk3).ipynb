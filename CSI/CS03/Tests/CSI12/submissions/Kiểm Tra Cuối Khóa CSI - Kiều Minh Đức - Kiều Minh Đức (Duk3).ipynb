{
 "cells": [
  {
   "attachments": {},
   "cell_type": "markdown",
   "metadata": {},
   "source": [
    "## <center>Computer Science Intensive Course - MindX</center>\n",
    "![](./assets-final-test/logo.png)\n",
    "# <center>KIỂM TRA CUỐI KHÓA</center>"
   ]
  },
  {
   "attachments": {},
   "cell_type": "markdown",
   "metadata": {},
   "source": [
    "## Bài 1. Sherlock và Mảng\n",
    "\n",
    "Watson cho Sherlock một mảng các số nguyên với thử thách: Tìm một phần tử trong mảng sao cho tổng các giá trị bên trái phần tử này bằng tổng các giá trị bên phải.  \n",
    "\n",
    "**Ví dụ**:\n",
    "- Cho mảng *arr = [5, 6, 8, 11]*. Ta tìm được phần tử *8* thỏa điều kiện: *5 + 6 = 11*.\n",
    "- Cho mảng *arr = [1]*. Phần tử *1* thỏa điều kiện vì tổng các phần tử bên trái và bên phải được coi như bằng 0.\n",
    "\n",
    "**Yêu cầu**: Cho một mảng các số nguyên, hãy kiểm tra mảng có tồn tại phần tử thỏa mãn điều kiện trên hay không.  \n",
    "\n",
    "**Input**: Một mảng chứa *1 ≤ n ≤ 10<sup>5</sup>* số nguyên. Mỗi phần tử có giá trị trong đoạn _[1, 2.10<sup>4</sup>]_.  \n",
    "**Output**: Trả về một string là *'YES'* hoặc *'NO'* tương ứng với kết quả tìm được.  \n",
    "**Ví dụ**:  \n",
    "- Input: <code>[5, 6, 8, 11]</code>\n",
    "- Output: <code>'YES'</code>"
   ]
  },
  {
   "cell_type": "code",
   "execution_count": 17,
   "metadata": {},
   "outputs": [],
   "source": [
    "def balancedSums(arr: list[int]) -> str:\n",
    "    assert 1 <= len(arr) <= 10**5\n",
    "    if len(arr) == 1:\n",
    "        return 'YES'\n",
    "    if len(arr) == 2:\n",
    "        return 'NO'\n",
    "    for i in range(1, len(arr) - 1):\n",
    "        if sum(arr[:i]) == sum(arr[(i+1):]):\n",
    "            return 'YES'\n",
    "    return 'NO'"
   ]
  },
  {
   "attachments": {},
   "cell_type": "markdown",
   "metadata": {},
   "source": [
    "## Bài 2. Tổng Lớn Bé\n",
    "\n",
    "Cho 5 số nguyên dương, hãy tìm tổng nhỏ nhất và lớn nhất có thể tính được từ 4 trong 5 số đã cho.  \n",
    "\n",
    "**Ví dụ**: Cho năm số *1, 3, 5, 7, 9*. Tổng nhỏ nhất thu được là *1 + 3 + 5 + 7 = 16* và lớn nhất là *3 + 5 + 7 + 9 = 24*.  \n",
    "\n",
    "**Input**: Một list chứa đúng 5 số nguyên dương, mỗi phần tử có giá trị trong đoạn _[1, 10<sup>9</sup>]_.  \n",
    "**Output**: In ra tổng nhỏ nhất và tổng lớn nhất, cách nhau bởi một khoảng trắng.  "
   ]
  },
  {
   "cell_type": "code",
   "execution_count": 18,
   "metadata": {},
   "outputs": [],
   "source": [
    "def miniMaxSum(arr: list[int]):\n",
    "    assert len(arr) == 5\n",
    "    arr.sort()\n",
    "    a = arr[:4]\n",
    "    b = arr[1:]\n",
    "    min_sum = sum(a)\n",
    "    max_sum = sum(b)\n",
    "    print('{} {}'.format(min_sum, max_sum))"
   ]
  },
  {
   "attachments": {},
   "cell_type": "markdown",
   "metadata": {},
   "source": [
    "## Bài 3. Median\n",
    "\n",
    "Median của một dãy số là phần tử nằm chính giữa dãy đó sau khi sắp xếp: Số phần tử nằm bên trái median bằng số phần tử nằm bên phải median.  \n",
    "\n",
    "**Yêu cầu**: Cho một dãy số có số phần tử lẻ, hãy tìm median của dãy.  \n",
    "\n",
    "**Input**: Một dãy số dưới dạng list chứa *1 ≤ n ≤ 1000001* phần tử, *n* lẻ, mỗi phần tử có giá trị trong đoạn _[-10000, 10000]_.  \n",
    "**Output**: Một số nguyên là giá trị của median trong dãy số.  \n",
    "**Ví dụ**:  \n",
    "- Input: <code>[0, 1, 2, 4, 6, 5, 3]</code>\n",
    "- Output: <code>3</code>\n",
    "- Giải thích: Dãy số sau khi sắp xếp là _[0, 1, 2, 3, 4, 5, 6]_. Phần tử chính giữa có giá trị là *3*."
   ]
  },
  {
   "cell_type": "code",
   "execution_count": 15,
   "metadata": {},
   "outputs": [],
   "source": [
    "def merge(arr, left, right, mid):\n",
    "\n",
    "    # make shallow copy of 2 portions for convenient merging\n",
    "    arr1 = arr[left:mid]\n",
    "    arr2 = arr[mid:right]\n",
    "    \n",
    "    n1 = len(arr1)\n",
    "    n2 = len(arr2)\n",
    "    i = j = 0\n",
    "    k = left\n",
    " \n",
    "    # traverse arr1 and arr2 until one is empty\n",
    "    while i < n1 and j < n2:\n",
    "        if arr1[i] < arr2[j]:\n",
    "            arr[k] = arr1[i]\n",
    "            i += 1\n",
    "        else:\n",
    "            arr[k] = arr2[j]\n",
    "            j += 1\n",
    "        k +=  1\n",
    "     \n",
    "    # get remaining elements\n",
    "    arr[k:k+n1-i] = arr1[i:n1]\n",
    "    k += n1-i\n",
    "    arr[k:k+n2-j] = arr2[j:n2]\n",
    "    \n",
    "\n",
    "def merge_sort(arr: list, left, right) -> list:\n",
    "    \n",
    "    # special cases, arr is sorted\n",
    "    if right-left <= 1:  # stop condition for recursion\n",
    "        return\n",
    "    \n",
    "    # split arr into 2 halves, then sort each half individually\n",
    "    mid = (left+right)//2\n",
    "    merge_sort(arr, left, mid)   # recursive call\n",
    "    merge_sort(arr, mid, right)  # recursive call\n",
    "\n",
    "    # merge 2 sorted halves\n",
    "    merge(arr, left, right, mid)\n",
    "\n",
    "\n",
    "def findMedian(arr: list[int]) -> int:\n",
    "    assert len(arr) % 2 == 1\n",
    "    arr = merge_sort(arr, 0, len(arr) -1)\n",
    "    median = arr[int((len(arr) - 1) / 2)]\n",
    "    return median  # int"
   ]
  },
  {
   "attachments": {},
   "cell_type": "markdown",
   "metadata": {},
   "source": [
    "## Bài 4. Đếm Thung Lũng\n",
    "\n",
    "Một nhà thám hiểm ghi lại mỗi bước đi trên hành trình. Mỗi bước được ghi lại là một bước đi lên (*U*) hoặc đi xuống (*D*). Nhà thám hiểm luôn bắt đầu và kết thúc chuyến hành trình tại mực nước biển, mỗi bước lên hoặc xuống làm thay đổi đúng một đơn vị độ cao. Ta định nghĩa:\n",
    "- Một dãy núi là một số bước liên tục trên mực nước biển, bắt đầu từ một bước đi lên từ mực nước biển và kết thúc bằng một bước đi xuống chạm mực nước biển.\n",
    "- Một thung lũng là một số bước liên tục dưới mực nước biển, bắt đầu từ một bước đi xuống từ mực nước biển và kết thúc bằng một bước đi lên đến mực nước biển.\n",
    "\n",
    "**Yêu cầu**: Cho một chuỗi kí tự chỉ bao gồm hai chữ cái *U* hoặc *D* thể hiện các bước đi, hãy đếm số thung lũng mà nhà thám hiểm đã đi qua.  \n",
    "\n",
    "**Input**: Một số nguyên *2 ≤ n ≤ 10<sup>6</sup>* là số bước đi và một chuỗi kí tự có kích thước *n* thể hiện hành trình của nhà thám hiểm.  \n",
    "**Output**: Trả về một số nguyên là số thung lũng đếm được trên hành trình.  \n",
    "**Ví dụ**: \n",
    "- Input: <code>8, 'UDDDUDUU'</code>\n",
    "- Output: <code>1</code>\n",
    "- Giải thích: Ta kí hiệu _ là mực nước biển, / là bước lên và \\ là bước xuống. Hành trình trên có thể được tạm vẽ như sau:\n",
    "<pre>\n",
    "__/\\&nbsp;&nbsp;&nbsp;&nbsp;&nbsp;&nbsp;__\n",
    "&nbsp;&nbsp;&nbsp;&nbsp;\\&nbsp;&nbsp;&nbsp;&nbsp;/\n",
    "&nbsp;&nbsp;&nbsp;&nbsp;&nbsp;\\/\\/\n",
    "</pre>\n",
    "  Có một thung lũng trong hành trình."
   ]
  },
  {
   "attachments": {},
   "cell_type": "markdown",
   "metadata": {},
   "source": [
    "**Thuật toán**:\n",
    "\n",
    "Nhận xét:\n",
    "- Do chuyến thám hiểm luôn bắt đầu và kết thúc tại mực nước biển, ta đảm bảo mọi dãy núi và thung lũng đều được đi trọn vẹn.  \n",
    "- Do các bước đi chỉ có thể là lên hoặc xuống, nhà thám hiểm bắt buộc phải thoát ra khỏi thung lũng hiện tại trước khi đến thung lũng khác.\n",
    "\n",
    "Như vậy, số thung lũng bằng số lần nhà thám hiểm bước vào thung lũng. Điều kiện để bước vào thung lũng là một bước xuống (*D*) tại độ cao bằng 0. Ta dùng một biến *height* để lưu độ cao ở mỗi bước trên hành trình."
   ]
  },
  {
   "cell_type": "code",
   "execution_count": 16,
   "metadata": {},
   "outputs": [],
   "source": [
    "def countingValleys(n: int, s: str) -> int:\n",
    "    count = 0\n",
    "    h = 0\n",
    "    for i in range(0, n):\n",
    "        if s[i] == 'U':\n",
    "            h += 1\n",
    "        elif s[i] == 'D':\n",
    "            if h == 0:\n",
    "                count += 1\n",
    "                h -= 1\n",
    "            else: \n",
    "                h -= 1\n",
    "    return count  # int"
   ]
  },
  {
   "attachments": {},
   "cell_type": "markdown",
   "metadata": {},
   "source": [
    "# END"
   ]
  }
 ],
 "metadata": {
  "kernelspec": {
   "display_name": "Python 3 (ipykernel)",
   "language": "python",
   "name": "python3"
  },
  "language_info": {
   "codemirror_mode": {
    "name": "ipython",
    "version": 3
   },
   "file_extension": ".py",
   "mimetype": "text/x-python",
   "name": "python",
   "nbconvert_exporter": "python",
   "pygments_lexer": "ipython3",
   "version": "3.11.9"
  }
 },
 "nbformat": 4,
 "nbformat_minor": 4
}
