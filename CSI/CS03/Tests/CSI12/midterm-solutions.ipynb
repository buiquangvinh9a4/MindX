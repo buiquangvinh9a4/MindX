{
 "cells": [
  {
   "cell_type": "markdown",
   "metadata": {},
   "source": [
    "## <center>Computer Science Intensive Course - MindX</center>\n",
    "![](./assets/logo.png)\n",
    "# <center>KIỂM TRA GIỮA KHÓA - ĐÁP ÁN</center>"
   ]
  },
  {
   "cell_type": "code",
   "execution_count": 16,
   "metadata": {},
   "outputs": [
    {
     "name": "stdout",
     "output_type": "stream",
     "text": [
      "3\n"
     ]
    }
   ],
   "source": [
    "def balancedSums(arr):\n",
    "    \n",
    "    # calculate the total sum\n",
    "    sum_val = sum(arr)\n",
    "    \n",
    "    # loop through array elements\n",
    "    left_sum = 0\n",
    "    for el in arr:\n",
    "        # check if sum of elements in the left equal the right\n",
    "        if left_sum == sum_val - left_sum - el:\n",
    "            return 'YES'\n",
    "        # add current element to the left sum\n",
    "        left_sum += el\n",
    "        \n",
    "    # no element satisfies the criteria\n",
    "    return 'NO'\n",
    "\n",
    "\n",
    "balancedSums([5, 6, 8, 11])"
   ]
  },
  {
   "cell_type": "code",
   "execution_count": 1,
   "metadata": {},
   "outputs": [
    {
     "name": "stdout",
     "output_type": "stream",
     "text": [
      "16 24\n"
     ]
    }
   ],
   "source": [
    "def miniMaxSum(arr):\n",
    "    \n",
    "    # calculate min, max values and the total sum\n",
    "    min_val = min(arr)\n",
    "    max_val = max(arr)\n",
    "    sum_val = sum(arr)\n",
    "    \n",
    "    # calculate min and max sum\n",
    "    min_sum = sum_val - max_val\n",
    "    max_sum = sum_val - min_val\n",
    "    \n",
    "    print('{} {}'.format(min_sum, max_sum))\n",
    "\n",
    "\n",
    "miniMaxSum([1, 3, 5, 7, 9])"
   ]
  },
  {
   "cell_type": "code",
   "execution_count": null,
   "metadata": {},
   "outputs": [],
   "source": [
    "def findMedian(arr):\n",
    "    return sorted(arr)[len(arr)//2]\n",
    "\n",
    "\n",
    "findMedian([0, 1, 2, 4, 6, 5, 3])"
   ]
  },
  {
   "cell_type": "code",
   "execution_count": null,
   "metadata": {},
   "outputs": [],
   "source": [
    "def countingValleys(n, s):\n",
    "    \n",
    "    # init valley count and the current height\n",
    "    count = 0\n",
    "    height = 0\n",
    "    \n",
    "    # loop through the path\n",
    "    for ch in s:\n",
    "        if ch == 'D':  # if go down...\n",
    "            if height == 0:  # count valley when going down from 0\n",
    "                count += 1\n",
    "            height -= 1  # decrease height\n",
    "        else:          # go up otherwise\n",
    "            height += 1  # increase height\n",
    "    \n",
    "    return count\n",
    "\n",
    "\n",
    "countingValleys(8, 'UDDDUDUU')"
   ]
  }
 ],
 "metadata": {
  "kernelspec": {
   "display_name": "Python 3 (ipykernel)",
   "language": "python",
   "name": "python3"
  },
  "language_info": {
   "codemirror_mode": {
    "name": "ipython",
    "version": 3
   },
   "file_extension": ".py",
   "mimetype": "text/x-python",
   "name": "python",
   "nbconvert_exporter": "python",
   "pygments_lexer": "ipython3",
   "version": "3.10.13"
  }
 },
 "nbformat": 4,
 "nbformat_minor": 4
}
