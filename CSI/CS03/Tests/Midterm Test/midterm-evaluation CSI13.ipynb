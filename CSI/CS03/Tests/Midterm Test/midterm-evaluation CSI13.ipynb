{
 "cells": [
  {
   "cell_type": "markdown",
   "metadata": {},
   "source": []
  },
  {
   "cell_type": "markdown",
   "metadata": {},
   "source": [
    "## <center>Computer Science Intensive Course - MindX</center>\n",
    "![](./assets/logo.png)\n",
    "# <center>KIỂM TRA GIỮA KHÓA - ĐÁNH GIÁ ĐIỂM</center>"
   ]
  },
  {
   "cell_type": "code",
   "execution_count": 1,
   "metadata": {},
   "outputs": [],
   "source": [
    "import pandas as pd\n",
    "from os import listdir\n",
    "from os.path import isfile, join"
   ]
  },
  {
   "cell_type": "markdown",
   "metadata": {},
   "source": [
    "## Load bài giải mẫu và test case\n",
    "\n",
    "Chạy phần **Chấm điểm** ngay sau khi chạy phần này để kiểm tra test case hoạt động đúng. Sau đó mới chạy phần **Load bài nộp** để chấm điểm học viên."
   ]
  },
  {
   "cell_type": "code",
   "execution_count": 2,
   "metadata": {},
   "outputs": [],
   "source": [
    "%run midterm-solutions-CSI13.ipynb import find_mode, find_word\n",
    "%run midterm-testcases.ipynb\n",
    "\n",
    "current_submission = 'midterm-solutions-CSI13.ipynb'"
   ]
  },
  {
   "cell_type": "markdown",
   "metadata": {},
   "source": [
    "## Load bài nộp\n",
    "\n",
    "- Load các bài nộp trong thư mục <code>path</code>.\n",
    "- Chấm điểm từng bài bằng cách thay đổi index khi gán giá trị cho biến <code>current_submission</code>."
   ]
  },
  {
   "cell_type": "code",
   "execution_count": 14,
   "metadata": {},
   "outputs": [
    {
     "data": {
      "text/plain": [
       "['submissions/NguyenMinhHung.ipynb',\n",
       " 'submissions/TranNamAnh-CSIMidtermTest.ipynb',\n",
       " 'submissions/KiemTraGiuaKhoa-CSI13.ipynb',\n",
       " 'submissions/VuLaiDung-CSIMidtermTest.ipynb']"
      ]
     },
     "execution_count": 14,
     "metadata": {},
     "output_type": "execute_result"
    }
   ],
   "source": [
    "path = '/Users/macos/Documents/HNUE/Programming/MindX/CSI/CS03/Tests/Midterm Test/submissions'  # change this path\n",
    "submissions = ['submissions/{}'.format(f) for f in listdir(path) if isfile(join(path, f))]\n",
    "submissions"
   ]
  },
  {
   "cell_type": "code",
   "execution_count": 15,
   "metadata": {},
   "outputs": [
    {
     "name": "stdout",
     "output_type": "stream",
     "text": [
      "Invalid submission or Wrong answer!\n",
      "Invalid submission or Wrong answer!\n"
     ]
    }
   ],
   "source": [
    "current_submission = submissions[3]  # change the index\n",
    "%run $current_submission import find_mode, find_word"
   ]
  },
  {
   "cell_type": "markdown",
   "metadata": {},
   "source": [
    "## Chấm điểm"
   ]
  },
  {
   "cell_type": "code",
   "execution_count": 16,
   "metadata": {},
   "outputs": [
    {
     "name": "stdout",
     "output_type": "stream",
     "text": [
      "Testing on submissions/VuLaiDung-CSIMidtermTest.ipynb\n",
      "===============================================\n",
      "Testing on problem 1/6...\n",
      "Testing on problem 2/6...\n",
      "===============================================\n",
      "Total Test Cases Passed: 3/60\n",
      "Total Points: 6/120\n"
     ]
    },
    {
     "data": {
      "text/html": [
       "<div>\n",
       "<style scoped>\n",
       "    .dataframe tbody tr th:only-of-type {\n",
       "        vertical-align: middle;\n",
       "    }\n",
       "\n",
       "    .dataframe tbody tr th {\n",
       "        vertical-align: top;\n",
       "    }\n",
       "\n",
       "    .dataframe thead th {\n",
       "        text-align: right;\n",
       "    }\n",
       "</style>\n",
       "<table border=\"1\" class=\"dataframe\">\n",
       "  <thead>\n",
       "    <tr style=\"text-align: right;\">\n",
       "      <th></th>\n",
       "      <th>Problem 1</th>\n",
       "      <th>Problem 2</th>\n",
       "    </tr>\n",
       "  </thead>\n",
       "  <tbody>\n",
       "    <tr>\n",
       "      <th>Test 1</th>\n",
       "      <td>WRONG ANSWER</td>\n",
       "      <td>PASSED</td>\n",
       "    </tr>\n",
       "    <tr>\n",
       "      <th>Test 2</th>\n",
       "      <td>WRONG ANSWER</td>\n",
       "      <td>PASSED</td>\n",
       "    </tr>\n",
       "    <tr>\n",
       "      <th>Test 3</th>\n",
       "      <td>WRONG ANSWER</td>\n",
       "      <td>PASSED</td>\n",
       "    </tr>\n",
       "    <tr>\n",
       "      <th>Test 4</th>\n",
       "      <td>WRONG ANSWER</td>\n",
       "      <td>WRONG ANSWER</td>\n",
       "    </tr>\n",
       "    <tr>\n",
       "      <th>Test 5</th>\n",
       "      <td>WRONG ANSWER</td>\n",
       "      <td>WRONG ANSWER</td>\n",
       "    </tr>\n",
       "    <tr>\n",
       "      <th>Test 6</th>\n",
       "      <td>WRONG ANSWER</td>\n",
       "      <td>EXCEPTION: 'dict' object has no attribute 'app...</td>\n",
       "    </tr>\n",
       "    <tr>\n",
       "      <th>Test 7</th>\n",
       "      <td>WRONG ANSWER</td>\n",
       "      <td>EXCEPTION: 'dict' object has no attribute 'app...</td>\n",
       "    </tr>\n",
       "    <tr>\n",
       "      <th>Test 8</th>\n",
       "      <td>TIME LIMIT EXCEEDED</td>\n",
       "      <td>EXCEPTION: 'dict' object has no attribute 'app...</td>\n",
       "    </tr>\n",
       "    <tr>\n",
       "      <th>Test 9</th>\n",
       "      <td>TIME LIMIT EXCEEDED</td>\n",
       "      <td>EXCEPTION: 'dict' object has no attribute 'app...</td>\n",
       "    </tr>\n",
       "    <tr>\n",
       "      <th>Test 10</th>\n",
       "      <td>TIME LIMIT EXCEEDED</td>\n",
       "      <td>EXCEPTION: 'dict' object has no attribute 'app...</td>\n",
       "    </tr>\n",
       "    <tr>\n",
       "      <th>Total</th>\n",
       "      <td>0</td>\n",
       "      <td>3</td>\n",
       "    </tr>\n",
       "  </tbody>\n",
       "</table>\n",
       "</div>"
      ],
      "text/plain": [
       "                   Problem 1  \\\n",
       "Test 1          WRONG ANSWER   \n",
       "Test 2          WRONG ANSWER   \n",
       "Test 3          WRONG ANSWER   \n",
       "Test 4          WRONG ANSWER   \n",
       "Test 5          WRONG ANSWER   \n",
       "Test 6          WRONG ANSWER   \n",
       "Test 7          WRONG ANSWER   \n",
       "Test 8   TIME LIMIT EXCEEDED   \n",
       "Test 9   TIME LIMIT EXCEEDED   \n",
       "Test 10  TIME LIMIT EXCEEDED   \n",
       "Total                      0   \n",
       "\n",
       "                                                 Problem 2  \n",
       "Test 1                                              PASSED  \n",
       "Test 2                                              PASSED  \n",
       "Test 3                                              PASSED  \n",
       "Test 4                                        WRONG ANSWER  \n",
       "Test 5                                        WRONG ANSWER  \n",
       "Test 6   EXCEPTION: 'dict' object has no attribute 'app...  \n",
       "Test 7   EXCEPTION: 'dict' object has no attribute 'app...  \n",
       "Test 8   EXCEPTION: 'dict' object has no attribute 'app...  \n",
       "Test 9   EXCEPTION: 'dict' object has no attribute 'app...  \n",
       "Test 10  EXCEPTION: 'dict' object has no attribute 'app...  \n",
       "Total                                                    3  "
      ]
     },
     "execution_count": 16,
     "metadata": {},
     "output_type": "execute_result"
    }
   ],
   "source": [
    "def evaluate():\n",
    "    \n",
    "    print('Testing on {}'.format(current_submission))\n",
    "    print('===============================================')\n",
    "\n",
    "    func_list = [find_mode, find_word]\n",
    "    test_func_list = [test1, test5]\n",
    "    result_df = pd.DataFrame()\n",
    "\n",
    "    for i, func in enumerate(func_list):\n",
    "        print('Testing on problem {}/6...'.format(i+1))\n",
    "        result_df['Problem {}'.format(i+1)] = test_func_list[i](func)\n",
    "\n",
    "    index_list = ['Test {}'.format(i+1) for i in range(10)]\n",
    "    index_list += ['Total']\n",
    "    result_df.set_index(pd.Index(index_list), inplace=True)\n",
    "\n",
    "    tests_passed = result_df.loc['Total', :].sum()\n",
    "    print('===============================================')\n",
    "    print('Total Test Cases Passed: {}/60'.format(tests_passed))\n",
    "    print('Total Points: {}/120'.format(tests_passed*2))\n",
    "\n",
    "    return result_df\n",
    "\n",
    "\n",
    "evaluate()"
   ]
  },
  {
   "cell_type": "code",
   "execution_count": null,
   "metadata": {},
   "outputs": [],
   "source": []
  }
 ],
 "metadata": {
  "kernelspec": {
   "display_name": "Python 3 (ipykernel)",
   "language": "python",
   "name": "python3"
  },
  "language_info": {
   "codemirror_mode": {
    "name": "ipython",
    "version": 3
   },
   "file_extension": ".py",
   "mimetype": "text/x-python",
   "name": "python",
   "nbconvert_exporter": "python",
   "pygments_lexer": "ipython3",
   "version": "3.10.13"
  }
 },
 "nbformat": 4,
 "nbformat_minor": 4
}
