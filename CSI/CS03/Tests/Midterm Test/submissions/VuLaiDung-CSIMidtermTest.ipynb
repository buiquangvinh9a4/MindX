{
 "cells": [
  {
   "attachments": {},
   "cell_type": "markdown",
   "metadata": {},
   "source": [
    "## <center>Computer Science Intensive Course - MindX</center>\n",
    "![](./assets/logo.png)\n",
    "# <center>KIỂM TRA GIỮA KHÓA</center>"
   ]
  },
  {
   "attachments": {},
   "cell_type": "markdown",
   "metadata": {},
   "source": [
    "**Hướng dẫn làm bài**:\n",
    "- Dùng kiến thức đã học để cài đặt các thuật toán giải quyết yêu cầu đề bài.\n",
    "- Nộp đáp án của mỗi bài dưới dạng function. Giữ nguyên tên và parameter được cho sẵn. Trả về kết quả bằng lệnh <code>return</code>, không dùng <code>print()</code> trong bài nộp.\n",
    "- Không <code>import</code> thư viện. Chỉ dùng các cấu trúc dữ liệu và hàm cho sẵn trong Python.\n",
    "  + Hợp lệ: <code>arr = list([1, 2, 3])</code>, <code>sorted_arr = sorted(arr)</code>, <code>index = arr.index(2)</code>\n",
    "  + Không hợp lệ: <code>import numpy</code>, <code>math.sqrt(9)</code> \n",
    "- Đáp án phải được tìm bằng thuật toán, không dùng kết quả ngẫu nhiên.\n",
    "- Có thể sử dụng hàm <code>help()</code> để xem thông tin về các cấu trúc dữ liệu và hàm. Ví dụ: <code>help(sorted)</code>\n",
    "\n",
    "**Đánh giá điểm**:\n",
    "- Mỗi bài được chạy trên 10 test cases với kích thước input tăng dần.  \n",
    "  Bài nộp được chấp nhận trên một test case nếu trả về đúng kết quả trong thời gian tối đa **1 giây**.\n",
    "- Có tổng cộng 20 test cases cho 2 bài, mỗi test case 2 điểm. Điểm cao nhất có thể đạt được là **40 điểm**.\n",
    "\n",
    "**Nộp bài**:\n",
    "- Chạy đoạn test cho sẵn để kiểm tra bài nộp hợp lệ.\n",
    "- Định dạng tên file: <code>FullName-CSIMidtermTest.ipynb</code>\n",
    "\n",
    "**Chúc các bạn thành công!**"
   ]
  },
  {
   "attachments": {},
   "cell_type": "markdown",
   "metadata": {},
   "source": [
    "## Bài 1. Tìm Mode\n",
    "\n",
    "Mode của một tập hợp được định nghĩa là phần tử xuất hiện lặp lại nhiều lần nhất trong tập hợp đó. Một tập hợp có thể:\n",
    "- Không có mode vì không có phần tử nào lặp lại. Ví dụ: <code>[1, 2, 3, 4]</code>\n",
    "- Có một mode. Ví dụ: <code>[1, 2, 2, 2, 3, 3]</code> có mode là <code>2</code>\n",
    "- Có nhiều mode. Ví dụ: <code>[1, 2, 1, 2, 3]</code> có mode là <code>1</code> và <code>2</code>\n",
    "\n",
    "**Yêu cầu**: Cho một danh sách các số nguyên, tìm mode có giá trị lớn nhất trong danh sách.\n",
    "\n",
    "**Input**: Một <code>list</code> chứa *0 < n < 10<sup>6</sup>* số nguyên. Mỗi phần tử có giá trị trong khoảng [-10<sup>9</sup>, 10<sup>9</sup>].  \n",
    "**Output**: Một số nguyên duy nhất là mode có giá trị lớn nhất trong danh sách. Trả về <code>None</code> nếu không tìm thấy.  \n",
    "**Ví dụ**:\n",
    "- Input: <code>[1, 2, 3, 2, 3]</code>\n",
    "- Output: <code>3</code>\n",
    "- Giải thích: Danh sách có hai mode là <code>2</code> và <code>3</code>. Ta trả về mode lớn nhất là <code>3</code>"
   ]
  },
  {
   "cell_type": "code",
   "execution_count": 13,
   "metadata": {},
   "outputs": [],
   "source": [
    "\n",
    "def find_mode(arr):\n",
    "    x = []\n",
    "    y = []\n",
    "    \n",
    "    for i in range(len(arr)):\n",
    "        x.append(arr.count(arr[i]))\n",
    "        \n",
    "    \n",
    "    for i in range(len(x)):\n",
    "      if x[i] == max(x):\n",
    "        y.append(arr[i])  \n",
    "      else:\n",
    "        return None  \n",
    "    \n",
    "    return y[0]\n",
    "\n",
    "\n",
    "      "
   ]
  },
  {
   "cell_type": "code",
   "execution_count": 15,
   "metadata": {},
   "outputs": [
    {
     "name": "stdout",
     "output_type": "stream",
     "text": [
      "Invalid submission or Wrong answer!\n"
     ]
    }
   ],
   "source": [
    "# test before submission\n",
    "try:\n",
    "    assert(find_mode([1, 2, 3, 2, 3]) == 3)\n",
    "    print('Correct answer on sample test!')\n",
    "except:\n",
    "    print('Invalid submission or Wrong answer!')"
   ]
  },
  {
   "attachments": {},
   "cell_type": "markdown",
   "metadata": {},
   "source": [
    "## Bài 2. Tìm Từ\n",
    "\n",
    "Cho một đoạn văn gồm nhiều từ và dấu câu, mỗi từ trong đoạn văn cách nhau bằng ít nhất một dấu cách.  \n",
    "\n",
    "**Yêu cầu**: Tìm các từ xuất hiện đúng <code>k</code> lần trong đoạn văn.  \n",
    "\n",
    "**Input**: Một số nguyên *0 < k < 10<sup>6</sup>* và một đoạn văn dưới dạng <code>str</code> với độ dài < 10<sup>6</sup> ký tự.  \n",
    "**Output**: Một <code>str</code> chứa các từ xuất hiện đúng <code>k</code> lần trong đoạn văn, mỗi từ cách nhau bằng một dấu cách, sắp xếp theo thứ tự bảng chữ cái. Định dạng các từ theo dạng viết thường (lowercase). Trả về <code>str</code> rỗng (<code>\"\"</code>) nếu không tìm thấy.  \n",
    "**Ví dụ**:\n",
    "- Input: <code>2</code>, <code>\"The cat is chasing the rat. The dog is also chasing the rat.\"</code>\n",
    "- Output: <code>\"chasing is rat\"</code>\n",
    "- Giải thích: Mỗi từ trong output xuất hiện đúng 2 lần trong đoạn văn."
   ]
  },
  {
   "cell_type": "code",
   "execution_count": 2,
   "metadata": {},
   "outputs": [],
   "source": [
    "def find_word(frequency, inp_str):\n",
    "    \n",
    "\n",
    "   inp_str = inp_str.lower()\n",
    "   inp_str = inp_str.replace(\".\", \"\")\n",
    "\n",
    "   lst = inp_str.split()\n",
    "\n",
    "   dic = {}\n",
    "   \n",
    "   for word in lst:\n",
    "       if word not in dic:\n",
    "           dic[word] = 1\n",
    "       else: \n",
    "           dic[word] += 1\n",
    "        \n",
    "\n",
    "\n",
    "   final_ans = []\n",
    "   \n",
    "   for word, count in dic.items():\n",
    "           if count == k:\n",
    "               dic.append(word)\n",
    "    \n",
    "   result = ' '.join(final_ans)\n",
    "   return result\n",
    "      \n",
    "    \n",
    "    \n",
    "    \n",
    "    \n",
    "    "
   ]
  },
  {
   "cell_type": "code",
   "execution_count": 11,
   "metadata": {},
   "outputs": [
    {
     "name": "stdout",
     "output_type": "stream",
     "text": [
      "Invalid submission or Wrong answer!\n"
     ]
    }
   ],
   "source": [
    "# test before submission\n",
    "try:\n",
    "    assert(find_word(2, \"The cat is chasing the rat. The dog is also chasing the rat.\") == \"is chasing rat\")\n",
    "    print('Correct answer on sample test!')\n",
    "except:\n",
    "    print('Invalid submission or Wrong answer!')"
   ]
  },
  {
   "attachments": {},
   "cell_type": "markdown",
   "metadata": {},
   "source": [
    "# END"
   ]
  }
 ],
 "metadata": {
  "kernelspec": {
   "display_name": "Python 3 (ipykernel)",
   "language": "python",
   "name": "python3"
  },
  "language_info": {
   "codemirror_mode": {
    "name": "ipython",
    "version": 3
   },
   "file_extension": ".py",
   "mimetype": "text/x-python",
   "name": "python",
   "nbconvert_exporter": "python",
   "pygments_lexer": "ipython3",
   "version": "3.12.4"
  }
 },
 "nbformat": 4,
 "nbformat_minor": 4
}
