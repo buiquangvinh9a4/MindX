{
  "cells": [
    {
      "cell_type": "code",
      "execution_count": 1,
      "metadata": {
        "colab": {
          "base_uri": "https://localhost:8080/"
        },
        "id": "0j0V58NzMfp5",
        "outputId": "e1bdd77d-6fa8-4789-e6d2-03f7b84a1d56"
      },
      "outputs": [],
      "source": [
        "#Bai1:\n",
        "def find_mode(lst):\n",
        "    count_dict = {}\n",
        "    for num in lst:\n",
        "        if num in count_dict:\n",
        "            count_dict[num] += 1\n",
        "        else:\n",
        "            count_dict[num] = 1\n",
        "\n",
        "    max_count = max(count_dict.values())\n",
        "    mode = [key for key, value in count_dict.items() if value == max_count]\n",
        "\n",
        "    if len(mode) == 1:\n",
        "        return mode[0]\n",
        "    else:\n",
        "        return None\n",
        "\n",
        "\n"
      ]
    },
    {
      "cell_type": "code",
      "execution_count": 2,
      "metadata": {
        "colab": {
          "base_uri": "https://localhost:8080/"
        },
        "id": "adAt0FoQMhOw",
        "outputId": "834919e2-00d2-4aad-a3a8-464e934fc61d"
      },
      "outputs": [],
      "source": [
        "#Bai 2:\n",
        "def find_words(k,text):\n",
        "  words = text.split()\n",
        "\n",
        "  word_count = {}\n",
        "  for word in words:\n",
        "    word = word.lower()\n",
        "    word_count[word] = word_count.get(word, 0) + 1\n",
        "\n",
        "  result = sorted([ word for word, count in word_count.items() if count == k])\n",
        "\n",
        "  return ' '.join(result)\n",
        "\n",
        "\n",
        "\n",
        "\n",
        "\n"
      ]
    },
    {
      "cell_type": "code",
      "execution_count": 14,
      "metadata": {
        "id": "5mNNCDuqP_OB"
      },
      "outputs": [],
      "source": []
    }
  ],
  "metadata": {
    "colab": {
      "provenance": []
    },
    "kernelspec": {
      "display_name": "Python 3",
      "name": "python3"
    },
    "language_info": {
      "codemirror_mode": {
        "name": "ipython",
        "version": 3
      },
      "file_extension": ".py",
      "mimetype": "text/x-python",
      "name": "python",
      "nbconvert_exporter": "python",
      "pygments_lexer": "ipython3",
      "version": "3.10.13"
    }
  },
  "nbformat": 4,
  "nbformat_minor": 0
}
