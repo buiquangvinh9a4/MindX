{
 "cells": [
  {
   "cell_type": "markdown",
   "metadata": {},
   "source": [
    "## <center>Computer Science Intensive Course - MindX</center>\n",
    "![](./assets/logo.png)\n",
    "# <center>KIỂM TRA GIỮA KHÓA - ĐÁP ÁN</center>"
   ]
  },
  {
   "cell_type": "markdown",
   "metadata": {},
   "source": [
    "## Bài 1. Tìm Mode\n",
    "\n",
    "**Thuật toán**:  \n",
    "Vừa đếm tần suất các phần tử vừa kiểm tra phần tử đang đếm có xuất hiện nhiều nhất không.\n",
    "  + Nếu xuất hiện nhiều hơn mode hiện tại: Cập nhật tần suất cao nhất; Cập nhật danh sách mode chỉ còn phần tử đang đếm.\n",
    "  + Nếu xuất hiện bằng mode hiện tại: Thêm phần tử hiện tại vào danh sách mode."
   ]
  },
  {
   "cell_type": "code",
   "execution_count": 16,
   "metadata": {},
   "outputs": [
    {
     "name": "stdout",
     "output_type": "stream",
     "text": [
      "3\n"
     ]
    }
   ],
   "source": [
    "# SOLUTION\n",
    "def find_mode(arr):\n",
    "\n",
    "    # handle trivial cases\n",
    "    if len(arr) < 2:\n",
    "        return None\n",
    "    \n",
    "    # init\n",
    "    count = {}      # occurences of each value\n",
    "    max_occur = 2   # largest number of occurences\n",
    "    mode_list = []  # list of modes in the sequence\n",
    "    \n",
    "    # traverse arr to find modes\n",
    "    for el in arr:\n",
    "        count[el] = count.get(el, 0) + 1  # count the element\n",
    "        if count[el] > max_occur:         # found element with more occurences\n",
    "            max_occur = count[el]         # => update max_occur and reset mode_list\n",
    "            mode_list = [el]\n",
    "        elif count[el] == max_occur:      # found element with same occurences as current modes\n",
    "            mode_list.append(el)          # => add to mode_list\n",
    "    \n",
    "    # return result\n",
    "    if len(mode_list) == 0:\n",
    "        return None\n",
    "    \n",
    "    mode_list.sort()    \n",
    "    return mode_list[-1]\n",
    "\n",
    "\n",
    "# driver code\n",
    "# print(find_mode([1, 2, 3, 3, 2]))"
   ]
  },
  {
   "cell_type": "markdown",
   "metadata": {},
   "source": [
    "## Bài 5. Tìm Từ\n",
    "\n",
    "**Thuật toán**:  \n",
    "- Lọc các từ trong string.\n",
    "- Đếm từng từ.\n",
    "- Nhập các từ có tần suất mong đợi vào kết quả."
   ]
  },
  {
   "cell_type": "code",
   "execution_count": 37,
   "metadata": {},
   "outputs": [
    {
     "data": {
      "text/plain": [
       "'is chasing rat'"
      ]
     },
     "execution_count": 37,
     "metadata": {},
     "output_type": "execute_result"
    }
   ],
   "source": [
    "# SOLUTION\n",
    "def find_word(frequency, inp_str):\n",
    "    \n",
    "    # get list of words from string\n",
    "    word_list = inp_str.lower().split(' ')    \n",
    "    for i, word in enumerate(word_list):\n",
    "        word_list[i] = ''.join(c for c in word if c.isalpha())\n",
    "    \n",
    "    # count occurences of each words\n",
    "    word_count = {}\n",
    "    for word in word_list:\n",
    "        if word != '':\n",
    "            word_count[word] = word_count.get(word, 0) + 1\n",
    "    \n",
    "    # get result\n",
    "    result = []\n",
    "    for word, count in word_count.items():\n",
    "        if count == frequency:\n",
    "            result += [word]\n",
    "    result.sort()\n",
    "\n",
    "    return ' '.join(result)\n",
    "\n",
    "\n",
    "# driver code\n",
    "# find_word(2, \"The cat is chasing the rat. The dog is also chasing the rat.\")"
   ]
  },
  {
   "cell_type": "code",
   "execution_count": null,
   "metadata": {},
   "outputs": [],
   "source": []
  }
 ],
 "metadata": {
  "kernelspec": {
   "display_name": "Python 3 (ipykernel)",
   "language": "python",
   "name": "python3"
  },
  "language_info": {
   "codemirror_mode": {
    "name": "ipython",
    "version": 3
   },
   "file_extension": ".py",
   "mimetype": "text/x-python",
   "name": "python",
   "nbconvert_exporter": "python",
   "pygments_lexer": "ipython3",
   "version": "3.10.11"
  }
 },
 "nbformat": 4,
 "nbformat_minor": 4
}
