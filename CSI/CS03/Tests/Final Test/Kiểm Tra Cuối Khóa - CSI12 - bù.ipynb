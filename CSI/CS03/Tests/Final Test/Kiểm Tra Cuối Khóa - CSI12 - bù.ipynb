{
 "cells": [
  {
   "attachments": {},
   "cell_type": "markdown",
   "metadata": {},
   "source": [
    "## <center>Computer Science Intensive Course - MindX</center>\n",
    "![](./assets-final-test/logo.png)\n",
    "# <center>KIỂM TRA CUỐI KHÓA</center>"
   ]
  },
  {
   "attachments": {},
   "cell_type": "markdown",
   "metadata": {},
   "source": [
    "## Bài 1. Sherlock và Mảng\n",
    "\n",
    "Watson cho Sherlock một mảng các số nguyên với thử thách: Tìm một phần tử trong mảng sao cho tổng các giá trị bên trái phần tử này bằng tổng các giá trị bên phải.  \n",
    "\n",
    "**Ví dụ**:\n",
    "- Cho mảng *arr = [5, 6, 8, 11]*. Ta tìm được phần tử *8* thỏa điều kiện: *5 + 6 = 11*.\n",
    "- Cho mảng *arr = [1]*. Phần tử *1* thỏa điều kiện vì tổng các phần tử bên trái và bên phải được coi như bằng 0.\n",
    "\n",
    "**Yêu cầu**: Cho một mảng các số nguyên, hãy kiểm tra mảng có tồn tại phần tử thỏa mãn điều kiện trên hay không.  \n",
    "\n",
    "**Input**: Một mảng chứa *1 ≤ n ≤ 10<sup>5</sup>* số nguyên. Mỗi phần tử có giá trị trong đoạn _[1, 2.10<sup>4</sup>]_.  \n",
    "**Output**: Trả về một string là *'YES'* hoặc *'NO'* tương ứng với kết quả tìm được.  \n",
    "**Ví dụ**:  \n",
    "- Input: <code>[5, 6, 8, 11]</code>\n",
    "- Output: <code>'YES'</code>"
   ]
  },
  {
   "cell_type": "code",
   "execution_count": 13,
   "metadata": {},
   "outputs": [],
   "source": [
    "def balancedSums(arr):\n",
    "    \n",
    "    # YOUR CODE HERE\n",
    "\n",
    "    return result  # 'YES' or 'NO'"
   ]
  },
  {
   "attachments": {},
   "cell_type": "markdown",
   "metadata": {},
   "source": [
    "## Bài 2. Tổng Lớn Bé\n",
    "\n",
    "Cho 5 số nguyên dương, hãy tìm tổng nhỏ nhất và lớn nhất có thể tính được từ 4 trong 5 số đã cho.  \n",
    "\n",
    "**Ví dụ**: Cho năm số *1, 3, 5, 7, 9*. Tổng nhỏ nhất thu được là *1 + 3 + 5 + 7 = 16* và lớn nhất là *3 + 5 + 7 + 9 = 24*.  \n",
    "\n",
    "**Input**: Một list chứa đúng 5 số nguyên dương, mỗi phần tử có giá trị trong đoạn _[1, 10<sup>9</sup>]_.  \n",
    "**Output**: In ra tổng nhỏ nhất và tổng lớn nhất, cách nhau bởi một khoảng trắng.  "
   ]
  },
  {
   "cell_type": "code",
   "execution_count": 1,
   "metadata": {},
   "outputs": [],
   "source": [
    "def miniMaxSum(arr):\n",
    "    \n",
    "    # YOUR CODE HERE\n",
    "    \n",
    "    print('{} {}'.format(min_sum, max_sum))"
   ]
  }
 ],
 "metadata": {
  "kernelspec": {
   "display_name": "Python 3 (ipykernel)",
   "language": "python",
   "name": "python3"
  },
  "language_info": {
   "codemirror_mode": {
    "name": "ipython",
    "version": 3
   },
   "file_extension": ".py",
   "mimetype": "text/x-python",
   "name": "python",
   "nbconvert_exporter": "python",
   "pygments_lexer": "ipython3",
   "version": "3.10.9"
  }
 },
 "nbformat": 4,
 "nbformat_minor": 4
}
