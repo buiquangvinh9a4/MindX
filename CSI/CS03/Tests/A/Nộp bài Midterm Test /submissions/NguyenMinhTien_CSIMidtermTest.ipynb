{
 "cells": [
  {
   "cell_type": "markdown",
   "metadata": {
    "id": "rad8j2PiRGmy"
   },
   "source": [
    "## <center>Computer Science Intensive Course - MindX</center>\n",
    "![](./assets/logo.png)\n",
    "# <center>KIỂM TRA GIỮA KHÓA</center>"
   ]
  },
  {
   "cell_type": "markdown",
   "metadata": {
    "id": "5fs5cNSQRGm0"
   },
   "source": [
    "**Hướng dẫn làm bài**:\n",
    "- Dùng kiến thức đã học để cài đặt các thuật toán giải quyết yêu cầu đề bài.\n",
    "- Nộp đáp án của mỗi bài dưới dạng function. Giữ nguyên tên và parameter được cho sẵn. Trả về kết quả bằng lệnh <code>return</code>, không dùng <code>print()</code> trong bài nộp.\n",
    "- Không <code>import</code> thư viện. Chỉ dùng các cấu trúc dữ liệu và hàm cho sẵn trong Python.\n",
    "  + Hợp lệ: <code>arr = list([1, 2, 3])</code>, <code>sorted_arr = sorted(arr)</code>, <code>index = arr.index(2)</code>\n",
    "  + Không hợp lệ: <code>import numpy</code>, <code>math.sqrt(9)</code>\n",
    "- Đáp án phải được tìm bằng thuật toán, không dùng kết quả ngẫu nhiên.\n",
    "- Có thể sử dụng hàm <code>help()</code> để xem thông tin về các cấu trúc dữ liệu và hàm. Ví dụ: <code>help(sorted)</code>\n",
    "\n",
    "**Đánh giá điểm**:\n",
    "- Mỗi bài được chạy trên 10 test cases với kích thước input tăng dần.  \n",
    "  Bài nộp được chấp nhận trên một test case nếu trả về đúng kết quả trong thời gian tối đa **1 giây**.\n",
    "- Có tổng cộng 60 test cases cho 6 bài, mỗi test case 2 điểm. Điểm cao nhất có thể đạt được là **120 điểm**.\n",
    "\n",
    "**Nộp bài**:\n",
    "- Chạy đoạn test cho sẵn để kiểm tra bài nộp hợp lệ.\n",
    "- Định dạng tên file: <code>FullName-CSIMidtermTest.ipynb</code>\n",
    "\n",
    "**Chúc các bạn thành công!**"
   ]
  },
  {
   "cell_type": "markdown",
   "metadata": {
    "id": "82s6LUkxRGm1"
   },
   "source": [
    "## Bài 1. Tìm Mode\n",
    "\n",
    "Mode của một tập hợp được định nghĩa là phần tử xuất hiện lặp lại nhiều lần nhất trong tập hợp đó. Một tập hợp có thể:\n",
    "- Không có mode vì không có phần tử nào lặp lại. Ví dụ: <code>[1, 2, 3, 4]</code>\n",
    "- Có một mode. Ví dụ: <code>[1, 2, 2, 2, 3, 3]</code> có mode là <code>2</code>\n",
    "- Có nhiều mode. Ví dụ: <code>[1, 2, 1, 2, 3]</code> có mode là <code>1</code> và <code>2</code>\n",
    "\n",
    "**Yêu cầu**: Cho một danh sách các số nguyên, tìm mode có giá trị lớn nhất trong danh sách.\n",
    "\n",
    "**Input**: Một <code>list</code> chứa *0 < n < 10<sup>6</sup>* số nguyên. Mỗi phần tử có giá trị trong khoảng [-10<sup>9</sup>, 10<sup>9</sup>].  \n",
    "**Output**: Một số nguyên duy nhất là mode có giá trị lớn nhất trong danh sách. Trả về <code>None</code> nếu không tìm thấy.  \n",
    "**Ví dụ**:\n",
    "- Input: <code>[1, 2, 3, 2, 3]</code>\n",
    "- Output: <code>3</code>\n",
    "- Giải thích: Danh sách có hai mode là <code>2</code> và <code>3</code>. Ta trả về mode lớn nhất là <code>3</code>"
   ]
  },
  {
   "cell_type": "code",
   "execution_count": null,
   "metadata": {
    "id": "DBz_WEfPRGm1"
   },
   "outputs": [],
   "source": [
    "def find_mode(arr):\n",
    "    # handle trivial cases\n",
    "    if len(arr) < 2:\n",
    "        return None\n",
    "\n",
    "    # init\n",
    "    count = {}      # occurences of each value\n",
    "    max_occur = 2   # largest number of occurences\n",
    "    mode_list = []  # list of modes in the sequence\n",
    "\n",
    "    # traverse arr to find modes\n",
    "    for el in arr:\n",
    "        count[el] = count.get(el, 0) + 1  # count the element\n",
    "        if count[el] > max_occur:         # found element with more occurences\n",
    "            max_occur = count[el]         # => update max_occur and reset mode_list\n",
    "            mode_list = [el]\n",
    "        elif count[el] == max_occur:      # found element with same occurences as current modes\n",
    "            mode_list.append(el)          # => add to mode_list\n",
    "\n",
    "    # return result\n",
    "    if len(mode_list) == 0:\n",
    "        return None\n",
    "\n",
    "    mode_list.sort()\n",
    "    return mode_list[-1]"
   ]
  },
  {
   "cell_type": "code",
   "execution_count": null,
   "metadata": {
    "id": "BsWYIDxnRGm2",
    "outputId": "f6168d81-9185-4deb-97a2-2051bd764885"
   },
   "outputs": [
    {
     "name": "stdout",
     "output_type": "stream",
     "text": [
      "Correct answer on sample test!\n"
     ]
    }
   ],
   "source": [
    "# test before submission\n",
    "try:\n",
    "    assert(find_mode([1, 2, 3, 2, 3]) == 3)\n",
    "    print('Correct answer on sample test!')\n",
    "except:\n",
    "    print('Invalid submission or Wrong answer!')"
   ]
  },
  {
   "cell_type": "markdown",
   "metadata": {
    "id": "-O41BwKQRGm3"
   },
   "source": [
    "## Bài 2. Mua Kem\n",
    "\n",
    "Thủy và An được cho <code>m</code> đồng để mua kem. Quầy kem có <code>n</code> loại kem với mệnh giá không trùng nhau.\n",
    "\n",
    "**Yêu cầu**: Hãy giúp Thủy và An dùng hết <code>m</code> đồng để mua 2 cây kem khác loại.\n",
    "\n",
    "**Input**: Một số nguyên *0 < m < 10<sup>9</sup>* và <code>list</code> chứa *0 < n < 10<sup>5</sup>* mệnh giá số nguyên, mỗi mệnh giá nằm trong khoảng [1, 10<sup>9</sup>].  \n",
    "**Output**: Hai số nguyên là index của hai loại kem, index nhỏ hơn đứng trước. Test cases đảm bảo tồn tại ít nhất một đáp án.  \n",
    "**Ví dụ**:\n",
    "- Input: <code>4</code>, <code>[1, 4, 5, 3, 2]</code>\n",
    "- Output: <code>0, 3</code>\n",
    "- Giải thích: Các mệnh giá tại index 0 và 3 là <code>1, 3</code>, với <code>m = 4 = 1 + 3</code>"
   ]
  },
  {
   "cell_type": "code",
   "execution_count": 4,
   "metadata": {
    "id": "UQxz29FERGm3"
   },
   "outputs": [],
   "source": [
    "def buy_icecream(budget, prices):\n",
    "    dd={};\n",
    "    for x in range(len(prices)):\n",
    "      tmp=budget-prices[x]\n",
    "      if tmp in dd:\n",
    "        return {dd[tmp],x}\n",
    "      dd[prices[x]]=x\n",
    "\n",
    "# def buy_icecream(budget, prices):\n",
    "#     # traverse the price list\n",
    "#     for i, el in enumerate(prices):\n",
    "#         if budget > el:  # if budget is enough for another icecream...\n",
    "#             try:\n",
    "#                 index = prices.index(budget-el)  # ... find that icecream\n",
    "#                 if i != index:\n",
    "#                     return i, index\n",
    "#             except:\n",
    "#                 pass"
   ]
  },
  {
   "cell_type": "code",
   "execution_count": null,
   "metadata": {
    "id": "2B4tEM7-SrY9"
   },
   "outputs": [],
   "source": []
  },
  {
   "cell_type": "code",
   "execution_count": 5,
   "metadata": {
    "colab": {
     "base_uri": "https://localhost:8080/"
    },
    "id": "gIaSMD_HRGm3",
    "outputId": "339d22c6-4a9c-46c0-da69-62733049d777"
   },
   "outputs": [
    {
     "name": "stdout",
     "output_type": "stream",
     "text": [
      "Correct answer on sample test!\n"
     ]
    }
   ],
   "source": [
    "# test before submission\n",
    "try:\n",
    "    index1, index2 = buy_icecream(8, [1, 4, 5, 3, 2])\n",
    "    assert(index1 == 2 and index2 == 3)\n",
    "    print('Correct answer on sample test!')\n",
    "except:\n",
    "    print('Invalid submission or Wrong answer!')"
   ]
  },
  {
   "cell_type": "markdown",
   "metadata": {
    "id": "yy_LfpClRGm3"
   },
   "source": [
    "## Bài 3. Tìm Tổng\n",
    "\n",
    "Dãy con liên tục là một dãy các phần tử liên tiếp nhau của một dãy nào đó. Một dãy con liên tục có độ dài nhỏ nhất bằng một và độ dài lớn nhất bằng dãy chứa nó.\n",
    "\n",
    "**Yêu cầu**: Cho một dãy các số nguyên, kiểm tra có tồn tại dãy con liên tục có tổng các phần tử bằng một giá trị cho trước hay không.\n",
    "\n",
    "**Input**: Một số nguyên *0 < k < 10<sup>9</sup>* và một <code>list</code> chứa *0 < n < 10<sup>5</sup>* số nguyên. Mỗi phần tử có giá trị trong khoảng [1, 10<sup>5</sup>].  \n",
    "**Output**: Trả về <code>True</code> nếu tồn tại một dãy con liên tục có tổng các phần tử bằng <code>k</code>. Ngược lại trả về <code>False</code>.  \n",
    "**Ví dụ**:  \n",
    "\n",
    "Ví dụ 1:\n",
    "- Input: <code>8, [1, 5, 3, 2, 5]</code>\n",
    "- Output: <code>True</code>\n",
    "- Giải thích: Tồn tại một dãy con liên tục là <code>[5, 3]</code> có tổng bằng <code>8</code>.\n",
    "\n",
    "Ví dụ 2:\n",
    "- Input: <code>5, [1, 5, 3, 2, 5]</code>\n",
    "- Output: <code>True</code>\n",
    "- Giải thích: Tồn tại ba dãy con liên tục là <code>[5]</code>, <code>[3, 2]</code> và <code>[5]</code> có tổng bằng <code>5</code>."
   ]
  },
  {
   "cell_type": "code",
   "execution_count": 10,
   "metadata": {
    "id": "t-2FBqj3RGm4"
   },
   "outputs": [],
   "source": [
    "def has_sequence_with_sum(target_sum, arr):\n",
    "    dd={0:1}\n",
    "    sum=0\n",
    "    for x in arr:\n",
    "      sum+=x\n",
    "      tmp=sum-target_sum\n",
    "      if tmp in dd : return True\n",
    "      dd[sum]=1\n",
    "    return False"
   ]
  },
  {
   "cell_type": "code",
   "execution_count": 74,
   "metadata": {
    "colab": {
     "base_uri": "https://localhost:8080/"
    },
    "id": "6xe9a98URGm4",
    "outputId": "a733c48d-b3e7-46b2-ed58-e2ee4f862e6a"
   },
   "outputs": [
    {
     "name": "stdout",
     "output_type": "stream",
     "text": [
      "Correct answer on sample test!\n"
     ]
    }
   ],
   "source": [
    "# test before submission\n",
    "try:\n",
    "    assert(has_sequence_with_sum(10, [1, 5, 3, 2, 5]) == True)\n",
    "    print('Correct answer on sample test!')\n",
    "except:\n",
    "    print('Invalid submission or Wrong answer!')"
   ]
  },
  {
   "cell_type": "markdown",
   "metadata": {
    "id": "egsXpFM-RGm4"
   },
   "source": [
    "## Bài 4. Đổi Chỗ\n",
    "\n",
    "Trong các thuật toán đã học, ta thường đổi chỗ các phần tử trong quá trình sắp xếp để đưa chúng về vị trí thích hợp. Một bước đổi chỗ *(swap)* được định nghĩa là quá trình hoán đổi vị trí giữa hai phần tử khác nhau trong dãy.  \n",
    "\n",
    "Ví dụ ta có mảng <code>arr = [2, 5, 3, 1]</code>, một bước đổi chỗ thực hiện trên hai phần tử <code>arr[1]</code> và <code>arr[3]</code> sẽ biến mảng <code>arr</code> thành <code>[2, 1, 3, 5]</code>.\n",
    "\n",
    "**Yêu cầu**: Cho một dãy các số nguyên không trùng nhau, hãy tìm số lần đổi chỗ ít nhất để đưa dãy về trạng thái đã sắp xếp theo thứ tự tăng dần.\n",
    "\n",
    "**Input**: Một <code>list</code> chứa *0 < n < 10<sup>5</sup>* số nguyên. Mỗi phần tử có giá trị trong khoảng [-10<sup>9</sup>, 10<sup>9</sup>].  \n",
    "**Output**: Trả về một số nguyên là số lần đổi chỗ ít nhất để đưa dãy về trạng thái đã sắp xếp tăng dần.  \n",
    "**Ví dụ**:  \n",
    "\n",
    "Ví dụ 1:\n",
    "- Input: <code>[2, 5, 3, 1]</code>\n",
    "- Output: <code>2</code>\n",
    "- Giải thích: Ta thực hiện hai bước đổi chỗ như sau:\n",
    "  <pre>\n",
    "  swap(0, 3) => arr = [1, 5, 3, 2]\n",
    "  swap(1, 3) => arr = [1, 2, 3, 5]\n",
    "  </pre>\n",
    "\n",
    "Ví dụ 2:\n",
    "- Input: <code>[5, 2, 3, 1]</code>\n",
    "- Output: <code>1</code>\n",
    "- Giải thích: Ta thực hiện 1 bước đổi chỗ cho phần tử đầu và phần tử cuối."
   ]
  },
  {
   "cell_type": "code",
   "execution_count": 68,
   "metadata": {
    "id": "xKiOFtgeRGm4"
   },
   "outputs": [],
   "source": [
    "def count_swap(arr):\n",
    "    arr2={}\n",
    "    for x in range (len(arr)): arr2[x]=arr[x]\n",
    "    arr2=sorted(arr2.items(), key=lambda x:x[1])\n",
    "\n",
    "    vs=[]\n",
    "    for i in range(len(arr)):\n",
    "      vs.append(0)\n",
    "    ans=0\n",
    "    for i in range(len(arr)):\n",
    "      if (vs[i] | arr2[i][0]==i):\n",
    "          continue\n",
    "\n",
    "      res=0\n",
    "      j=i\n",
    "      while vs[j]==0 :\n",
    "        vs[j]=1\n",
    "        j=arr2[j][0]\n",
    "        res+=1\n",
    "      if (res>0): ans+=res-1\n",
    "\n",
    "    return ans\n",
    "\n"
   ]
  },
  {
   "cell_type": "code",
   "execution_count": 76,
   "metadata": {
    "colab": {
     "base_uri": "https://localhost:8080/"
    },
    "id": "hXuExtdGRGm4",
    "outputId": "2ce317ec-abcc-4cde-b15c-2a1e98b4f4bc"
   },
   "outputs": [
    {
     "name": "stdout",
     "output_type": "stream",
     "text": [
      "Correct answer on sample test!\n"
     ]
    }
   ],
   "source": [
    "# test before submission\n",
    "try:\n",
    "    assert(count_swap([2,1]) == 1)\n",
    "    print('Correct answer on sample test!')\n",
    "except:\n",
    "    print('Invalid submission or Wrong answer!')"
   ]
  },
  {
   "cell_type": "markdown",
   "metadata": {
    "id": "-odBIMVORGm4"
   },
   "source": [
    "## Bài 5. Tìm Từ\n",
    "\n",
    "Cho một đoạn văn gồm nhiều từ và dấu câu, mỗi từ trong đoạn văn cách nhau bằng ít nhất một dấu cách.  \n",
    "\n",
    "**Yêu cầu**: Tìm các từ xuất hiện đúng <code>k</code> lần trong đoạn văn.  \n",
    "\n",
    "**Input**: Một số nguyên *0 < k < 10<sup>6</sup>* và một đoạn văn dưới dạng <code>str</code> với độ dài < 10<sup>6</sup> ký tự.  \n",
    "**Output**: Một <code>str</code> chứa các từ xuất hiện đúng <code>k</code> lần trong đoạn văn, mỗi từ cách nhau bằng một dấu cách, sắp xếp theo thứ tự bảng chữ cái. Định dạng các từ theo dạng viết thường (lowercase). Trả về <code>str</code> rỗng (<code>\"\"</code>) nếu không tìm thấy.  \n",
    "**Ví dụ**:\n",
    "- Input: <code>2</code>, <code>\"The cat is chasing the rat. The dog is also chasing the rat.\"</code>\n",
    "- Output: <code>\"chasing is rat\"</code>\n",
    "- Giải thích: Mỗi từ trong output xuất hiện đúng 2 lần trong đoạn văn."
   ]
  },
  {
   "cell_type": "code",
   "execution_count": 57,
   "metadata": {
    "id": "Wg9jg_9cRGm4"
   },
   "outputs": [],
   "source": [
    "def find_word(frequency, inp_str):\n",
    "    counts={}\n",
    "\n",
    "    arr_str=inp_str.lower().replace('.','').split(\" \")\n",
    "    # print (arr_str)\n",
    "    for x in arr_str:\n",
    "      if x in counts:\n",
    "        counts[x]+=1\n",
    "      else: counts[x]=1\n",
    "    ans=\"\"\n",
    "    for x in arr_str:\n",
    "      if counts[x]==frequency:\n",
    "        ans+=x+' '\n",
    "      counts[x]=0\n",
    "    return ans[:-1]\n",
    "\n"
   ]
  },
  {
   "cell_type": "code",
   "execution_count": 58,
   "metadata": {
    "colab": {
     "base_uri": "https://localhost:8080/"
    },
    "id": "pSlHnwwSRGm5",
    "outputId": "a51a2b7e-2451-40cc-e2ad-854be91aecf4"
   },
   "outputs": [
    {
     "name": "stdout",
     "output_type": "stream",
     "text": [
      "Correct answer on sample test!\n"
     ]
    }
   ],
   "source": [
    "# test before submission\n",
    "try:\n",
    "    assert(find_word(10, \"The cat is chasing the rat. The dog is also chasing the rat.\") == \"\")\n",
    "    print('Correct answer on sample test!')\n",
    "except:\n",
    "    print('Invalid submission or Wrong answer!')"
   ]
  },
  {
   "cell_type": "markdown",
   "metadata": {
    "id": "AvQ8RnVKRGm5"
   },
   "source": [
    "## Bài 6. Khoảng Cách Ngắn Nhất\n",
    "\n",
    "Ta định nghĩa khoảng cách giữa hai số *a* và *b* là giá trị tuyệt đối của hiệu hai số: *distance(a, b) = |b - a|*.\n",
    "\n",
    "**Yêu cầu**: Cho một dãy các số nguyên, tìm khoảng cách ngắn nhất giữa hai phần tử trong dãy số.\n",
    "\n",
    "**Input**: Một <code>list</code> chứa *1 < n < 10<sup>5</sup>* số nguyên. Mỗi phần tử có giá trị trong khoảng [-10<sup>9</sup>, 10<sup>9</sup>].  \n",
    "**Output**: Trả về một số nguyên duy nhất là khoảng cách ngắn nhất giữa hai phần tử.  \n",
    "**Ví dụ**:  \n",
    "\n",
    "Ví dụ 1:\n",
    "- Input: <code>[1, 5, 3, 2]</code>\n",
    "- Output: <code>1</code>\n",
    "- Giải thích: Các cặp phần tử <code>(1, 2)</code> và <code>(3, 2)</code> có khoảng cách là <code>1</code> và là khoảng cách ngắn nhất.\n",
    "\n",
    "Ví dụ 2:\n",
    "- Input: <code>[1, 5, 3, 2, 5]</code>\n",
    "- Output: <code>0</code>\n",
    "- Giải thích: Cặp phần tử <code>(5, 5)</code> có khoảng cách là <code>0</code> và là khoảng cách ngắn nhất."
   ]
  },
  {
   "cell_type": "code",
   "execution_count": 72,
   "metadata": {
    "id": "Wp5CdiT_RGm5"
   },
   "outputs": [],
   "source": [
    "def find_closest_distance(arr):\n",
    "    if (len(arr)<2):\n",
    "      return 0\n",
    "    arr2 = sorted(arr)\n",
    "    ans=2e9+10\n",
    "    for i in range(1,len(arr2)):\n",
    "      ans=min(ans,arr2[i]-arr2[i-1])\n",
    "    return ans"
   ]
  },
  {
   "cell_type": "code",
   "execution_count": 73,
   "metadata": {
    "colab": {
     "base_uri": "https://localhost:8080/"
    },
    "id": "dmWcPczxRGm5",
    "outputId": "96574f9a-59b9-4f3e-8f51-7dc1433fc682"
   },
   "outputs": [
    {
     "name": "stdout",
     "output_type": "stream",
     "text": [
      "Correct answer on sample test!\n"
     ]
    }
   ],
   "source": [
    "# test before submission\n",
    "try:\n",
    "    assert(find_closest_distance([1]) == 0)\n",
    "    print('Correct answer on sample test!')\n",
    "except:\n",
    "    print('Invalid submission or Wrong answer!')"
   ]
  },
  {
   "cell_type": "markdown",
   "metadata": {
    "id": "8QwvdmFGRGm5"
   },
   "source": [
    "# END"
   ]
  }
 ],
 "metadata": {
  "colab": {
   "provenance": []
  },
  "kernelspec": {
   "display_name": "Python 3 (ipykernel)",
   "language": "python",
   "name": "python3"
  },
  "language_info": {
   "codemirror_mode": {
    "name": "ipython",
    "version": 3
   },
   "file_extension": ".py",
   "mimetype": "text/x-python",
   "name": "python",
   "nbconvert_exporter": "python",
   "pygments_lexer": "ipython3",
   "version": "3.10.9"
  }
 },
 "nbformat": 4,
 "nbformat_minor": 1
}
