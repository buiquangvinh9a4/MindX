{
 "cells": [
  {
   "cell_type": "markdown",
   "metadata": {
    "id": "o829SJvvQ2j-"
   },
   "source": [
    "## <center>Computer Science Intensive Course - MindX</center>\n",
    "![](./assets/logo.png)\n",
    "# <center>KIỂM TRA GIỮA KHÓA</center>"
   ]
  },
  {
   "cell_type": "markdown",
   "metadata": {
    "id": "TMX44HwjQ2j_"
   },
   "source": [
    "**Hướng dẫn làm bài**:\n",
    "- Dùng kiến thức đã học để cài đặt các thuật toán giải quyết yêu cầu đề bài.\n",
    "- Nộp đáp án của mỗi bài dưới dạng function. Giữ nguyên tên và parameter được cho sẵn. Trả về kết quả bằng lệnh <code>return</code>, không dùng <code>print()</code> trong bài nộp.\n",
    "- Không <code>import</code> thư viện. Chỉ dùng các cấu trúc dữ liệu và hàm cho sẵn trong Python.\n",
    "  + Hợp lệ: <code>arr = list([1, 2, 3])</code>, <code>sorted_arr = sorted(arr)</code>, <code>index = arr.index(2)</code>\n",
    "  + Không hợp lệ: <code>import numpy</code>, <code>math.sqrt(9)</code>\n",
    "- Đáp án phải được tìm bằng thuật toán, không dùng kết quả ngẫu nhiên.\n",
    "- Có thể sử dụng hàm <code>help()</code> để xem thông tin về các cấu trúc dữ liệu và hàm. Ví dụ: <code>help(sorted)</code>\n",
    "\n",
    "**Đánh giá điểm**:\n",
    "- Mỗi bài được chạy trên 10 test cases với kích thước input tăng dần.  \n",
    "  Bài nộp được chấp nhận trên một test case nếu trả về đúng kết quả trong thời gian tối đa **1 giây**.\n",
    "- Có tổng cộng 60 test cases cho 6 bài, mỗi test case 2 điểm. Điểm cao nhất có thể đạt được là **120 điểm**.\n",
    "\n",
    "**Nộp bài**:\n",
    "- Chạy đoạn test cho sẵn để kiểm tra bài nộp hợp lệ.\n",
    "- Định dạng tên file: <code>FullName-CSIMidtermTest.ipynb</code>\n",
    "\n",
    "**Chúc các bạn thành công!**"
   ]
  },
  {
   "cell_type": "markdown",
   "metadata": {
    "id": "k0ajy9l_Q2j_"
   },
   "source": [
    "## Bài 1. Tìm Mode\n",
    "\n",
    "Mode của một tập hợp được định nghĩa là phần tử xuất hiện lặp lại nhiều lần nhất trong tập hợp đó. Một tập hợp có thể:\n",
    "- Không có mode vì không có phần tử nào lặp lại. Ví dụ: <code>[1, 2, 3, 4]</code>\n",
    "- Có một mode. Ví dụ: <code>[1, 2, 2, 2, 3, 3]</code> có mode là <code>2</code>\n",
    "- Có nhiều mode. Ví dụ: <code>[1, 2, 1, 2, 3]</code> có mode là <code>1</code> và <code>2</code>\n",
    "\n",
    "**Yêu cầu**: Cho một danh sách các số nguyên, tìm mode có giá trị lớn nhất trong danh sách.\n",
    "\n",
    "**Input**: Một <code>list</code> chứa *0 < n < 10<sup>6</sup>* số nguyên. Mỗi phần tử có giá trị trong khoảng [-10<sup>9</sup>, 10<sup>9</sup>].  \n",
    "**Output**: Một số nguyên duy nhất là mode có giá trị lớn nhất trong danh sách. Trả về <code>None</code> nếu không tìm thấy.  \n",
    "**Ví dụ**:\n",
    "- Input: <code>[1, 2, 3, 2, 3]</code>\n",
    "- Output: <code>3</code>\n",
    "- Giải thích: Danh sách có hai mode là <code>2</code> và <code>3</code>. Ta trả về mode lớn nhất là <code>3</code>"
   ]
  },
  {
   "cell_type": "code",
   "execution_count": 1,
   "metadata": {
    "executionInfo": {
     "elapsed": 3,
     "status": "ok",
     "timestamp": 1699150930508,
     "user": {
      "displayName": "Bảo Lâm Nguyễn Hà (BLam)",
      "userId": "15465939600187015693"
     },
     "user_tz": -420
    },
    "id": "iZTjxKPsQ2kA"
   },
   "outputs": [],
   "source": [
    "def find_mode(arr):\n",
    "    # handle trivial cases\n",
    "    if len(arr) < 2:\n",
    "        return None\n",
    "\n",
    "    # init\n",
    "    count = {}      # occurences of each value\n",
    "    max_occur = 2   # largest number of occurences\n",
    "    mode_list = []  # list of modes in the sequence\n",
    "\n",
    "    # traverse arr to find modes\n",
    "    for el in arr:\n",
    "        count[el] = count.get(el, 0) + 1  # count the element\n",
    "        if count[el] > max_occur:         # found element with more occurences\n",
    "            max_occur = count[el]         # => update max_occur and reset mode_list\n",
    "            mode_list = [el]\n",
    "        elif count[el] == max_occur:      # found element with same occurences as current modes\n",
    "            mode_list.append(el)          # => add to mode_list\n",
    "\n",
    "    # return result\n",
    "    if len(mode_list) == 0:\n",
    "        return None\n",
    "\n",
    "    mode_list.sort()\n",
    "    return mode_list[-1]"
   ]
  },
  {
   "cell_type": "code",
   "execution_count": 9,
   "metadata": {
    "colab": {
     "base_uri": "https://localhost:8080/"
    },
    "executionInfo": {
     "elapsed": 1,
     "status": "ok",
     "timestamp": 1699150982927,
     "user": {
      "displayName": "Bảo Lâm Nguyễn Hà (BLam)",
      "userId": "15465939600187015693"
     },
     "user_tz": -420
    },
    "id": "CK3D4nlHQ2kA",
    "outputId": "e657ebd3-dc16-4ad4-c763-1479eddde198"
   },
   "outputs": [
    {
     "name": "stdout",
     "output_type": "stream",
     "text": [
      "Correct answer on sample test!\n"
     ]
    }
   ],
   "source": [
    "# test before submission\n",
    "try:\n",
    "    assert(find_mode([1, 2, 3, 2, 3]) == 3)\n",
    "    print('Correct answer on sample test!')\n",
    "except:\n",
    "    print('Invalid submission or Wrong answer!')"
   ]
  },
  {
   "cell_type": "markdown",
   "metadata": {
    "id": "vfFF6UFEQ2kB"
   },
   "source": [
    "## Bài 2. Mua Kem\n",
    "\n",
    "Thủy và An được cho <code>m</code> đồng để mua kem. Quầy kem có <code>n</code> loại kem với mệnh giá không trùng nhau.\n",
    "\n",
    "**Yêu cầu**: Hãy giúp Thủy và An dùng hết <code>m</code> đồng để mua 2 cây kem khác loại.\n",
    "\n",
    "**Input**: Một số nguyên *0 < m < 10<sup>9</sup>* và <code>list</code> chứa *0 < n < 10<sup>5</sup>* mệnh giá số nguyên, mỗi mệnh giá nằm trong khoảng [1, 10<sup>9</sup>].  \n",
    "**Output**: Hai số nguyên là index của hai loại kem, index nhỏ hơn đứng trước. Test cases đảm bảo tồn tại ít nhất một đáp án.  \n",
    "**Ví dụ**:\n",
    "- Input: <code>4</code>, <code>[1, 4, 5, 3, 2]</code>\n",
    "- Output: <code>0, 3</code>\n",
    "- Giải thích: Các mệnh giá tại index 0 và 3 là <code>1, 3</code>, với <code>m = 4 = 1 + 3</code>"
   ]
  },
  {
   "cell_type": "code",
   "execution_count": 80,
   "metadata": {
    "executionInfo": {
     "elapsed": 387,
     "status": "ok",
     "timestamp": 1699154468092,
     "user": {
      "displayName": "Bảo Lâm Nguyễn Hà (BLam)",
      "userId": "15465939600187015693"
     },
     "user_tz": -420
    },
    "id": "DHvGdA-2Q2kB"
   },
   "outputs": [],
   "source": [
    "def buy_icecream(budget, prices):\n",
    "  for i in range(len(prices)):\n",
    "    first_price = prices[i]\n",
    "    another_price = budget - first_price\n",
    "    found = False\n",
    "    a_index = -1\n",
    "    try:\n",
    "      a_index = prices.index(another_price)\n",
    "      found = True\n",
    "    except ValueError:\n",
    "      a_index = -1\n",
    "      found = False\n",
    "    if found == True and a_index != -1: return [i, a_index]"
   ]
  },
  {
   "cell_type": "code",
   "execution_count": 81,
   "metadata": {
    "colab": {
     "base_uri": "https://localhost:8080/"
    },
    "executionInfo": {
     "elapsed": 386,
     "status": "ok",
     "timestamp": 1699154473438,
     "user": {
      "displayName": "Bảo Lâm Nguyễn Hà (BLam)",
      "userId": "15465939600187015693"
     },
     "user_tz": -420
    },
    "id": "6CBoai50Q2kB",
    "outputId": "74a65551-59b5-4320-a4c5-5aa7f047f93a"
   },
   "outputs": [
    {
     "name": "stdout",
     "output_type": "stream",
     "text": [
      "Correct answer on sample test!\n"
     ]
    }
   ],
   "source": [
    "# test before submission\n",
    "try:\n",
    "    index1, index2 = buy_icecream(4, [1, 4, 5, 3, 2])\n",
    "    assert(index1 == 0 and index2 == 3)\n",
    "    print('Correct answer on sample test!')\n",
    "except:\n",
    "    print('Invalid submission or Wrong answer!')"
   ]
  },
  {
   "cell_type": "markdown",
   "metadata": {
    "id": "F9NNlCIRQ2kB"
   },
   "source": [
    "## Bài 3. Tìm Tổng\n",
    "\n",
    "Dãy con liên tục là một dãy các phần tử liên tiếp nhau của một dãy nào đó. Một dãy con liên tục có độ dài nhỏ nhất bằng một và độ dài lớn nhất bằng dãy chứa nó.\n",
    "\n",
    "**Yêu cầu**: Cho một dãy các số nguyên, kiểm tra có tồn tại dãy con liên tục có tổng các phần tử bằng một giá trị cho trước hay không.\n",
    "\n",
    "**Input**: Một số nguyên *0 < k < 10<sup>9</sup>* và một <code>list</code> chứa *0 < n < 10<sup>5</sup>* số nguyên. Mỗi phần tử có giá trị trong khoảng [1, 10<sup>5</sup>].  \n",
    "**Output**: Trả về <code>True</code> nếu tồn tại một dãy con liên tục có tổng các phần tử bằng <code>k</code>. Ngược lại trả về <code>False</code>.  \n",
    "**Ví dụ**:  \n",
    "\n",
    "Ví dụ 1:\n",
    "- Input: <code>8, [1, 5, 3, 2, 5]</code>\n",
    "- Output: <code>True</code>\n",
    "- Giải thích: Tồn tại một dãy con liên tục là <code>[5, 3]</code> có tổng bằng <code>8</code>.\n",
    "\n",
    "Ví dụ 2:\n",
    "- Input: <code>5, [1, 5, 3, 2, 5]</code>\n",
    "- Output: <code>True</code>\n",
    "- Giải thích: Tồn tại ba dãy con liên tục là <code>[5]</code>, <code>[3, 2]</code> và <code>[5]</code> có tổng bằng <code>5</code>."
   ]
  },
  {
   "cell_type": "code",
   "execution_count": 79,
   "metadata": {
    "executionInfo": {
     "elapsed": 301,
     "status": "ok",
     "timestamp": 1699154449270,
     "user": {
      "displayName": "Bảo Lâm Nguyễn Hà (BLam)",
      "userId": "15465939600187015693"
     },
     "user_tz": -420
    },
    "id": "IkDwiR_JQ2kB"
   },
   "outputs": [],
   "source": [
    "def has_sequence_with_sum(target_sum, arr):\n",
    "    # prefix sum\n",
    "    arr = sorted(arr)\n",
    "    p_arr = [arr[0]]\n",
    "    for i in range(1, len(arr)):\n",
    "      p_arr.append(p_arr[i - 1] + arr[i])\n",
    "    for i in range(len(p_arr)):\n",
    "      val = p_arr[i]\n",
    "      if val == target_sum: return True\n",
    "      remaining = abs(target_sum - val)\n",
    "      try:\n",
    "        found_index = p_arr.index(remaining)\n",
    "        return True\n",
    "      except ValueError:\n",
    "        ()\n",
    "    return False"
   ]
  },
  {
   "cell_type": "code",
   "execution_count": 69,
   "metadata": {
    "colab": {
     "base_uri": "https://localhost:8080/"
    },
    "executionInfo": {
     "elapsed": 2,
     "status": "ok",
     "timestamp": 1699154134099,
     "user": {
      "displayName": "Bảo Lâm Nguyễn Hà (BLam)",
      "userId": "15465939600187015693"
     },
     "user_tz": -420
    },
    "id": "h73yBNltQ2kB",
    "outputId": "41078d41-a117-41ef-8e10-dec693b257af"
   },
   "outputs": [
    {
     "name": "stdout",
     "output_type": "stream",
     "text": [
      "Correct answer on sample test!\n"
     ]
    }
   ],
   "source": [
    "# test before submission\n",
    "try:\n",
    "    assert(has_sequence_with_sum(8, [1, 5, 3, 2, 5]) == True)\n",
    "    print('Correct answer on sample test!')\n",
    "except:\n",
    "    print('Invalid submission or Wrong answer!')"
   ]
  },
  {
   "cell_type": "markdown",
   "metadata": {
    "id": "T9mrzcT3Q2kB"
   },
   "source": [
    "## Bài 4. Đổi Chỗ\n",
    "\n",
    "Trong các thuật toán đã học, ta thường đổi chỗ các phần tử trong quá trình sắp xếp để đưa chúng về vị trí thích hợp. Một bước đổi chỗ *(swap)* được định nghĩa là quá trình hoán đổi vị trí giữa hai phần tử khác nhau trong dãy.  \n",
    "\n",
    "Ví dụ ta có mảng <code>arr = [2, 5, 3, 1]</code>, một bước đổi chỗ thực hiện trên hai phần tử <code>arr[1]</code> và <code>arr[3]</code> sẽ biến mảng <code>arr</code> thành <code>[2, 1, 3, 5]</code>.\n",
    "\n",
    "**Yêu cầu**: Cho một dãy các số nguyên không trùng nhau, hãy tìm số lần đổi chỗ ít nhất để đưa dãy về trạng thái đã sắp xếp theo thứ tự tăng dần.\n",
    "\n",
    "**Input**: Một <code>list</code> chứa *0 < n < 10<sup>5</sup>* số nguyên. Mỗi phần tử có giá trị trong khoảng [-10<sup>9</sup>, 10<sup>9</sup>].  \n",
    "**Output**: Trả về một số nguyên là số lần đổi chỗ ít nhất để đưa dãy về trạng thái đã sắp xếp tăng dần.  \n",
    "**Ví dụ**:  \n",
    "\n",
    "Ví dụ 1:\n",
    "- Input: <code>[2, 5, 3, 1]</code>\n",
    "- Output: <code>2</code>\n",
    "- Giải thích: Ta thực hiện hai bước đổi chỗ như sau:\n",
    "  <pre>\n",
    "  swap(0, 3) => arr = [1, 5, 3, 2]\n",
    "  swap(1, 3) => arr = [1, 2, 3, 5]\n",
    "  </pre>\n",
    "\n",
    "Ví dụ 2:\n",
    "- Input: <code>[5, 2, 3, 1]</code>\n",
    "- Output: <code>1</code>\n",
    "- Giải thích: Ta thực hiện 1 bước đổi chỗ cho phần tử đầu và phần tử cuối."
   ]
  },
  {
   "cell_type": "code",
   "execution_count": 142,
   "metadata": {
    "colab": {
     "base_uri": "https://localhost:8080/"
    },
    "executionInfo": {
     "elapsed": 2,
     "status": "ok",
     "timestamp": 1699156831435,
     "user": {
      "displayName": "Bảo Lâm Nguyễn Hà (BLam)",
      "userId": "15465939600187015693"
     },
     "user_tz": -420
    },
    "id": "nk5RwvT8Q2kB",
    "outputId": "5894e642-46fd-4472-e311-baba64faeeda"
   },
   "outputs": [
    {
     "data": {
      "text/plain": [
       "4"
      ]
     },
     "execution_count": 142,
     "metadata": {},
     "output_type": "execute_result"
    }
   ],
   "source": [
    "def count_swap(arr):\n",
    "  def insertion_sort(arr):\n",
    "    cnt = 0\n",
    "    for i in range(1, len(arr)):  # arr[i] is the element to be inserted\n",
    "        j = i\n",
    "        while j > 0 and arr[j] < arr[j-1]:  # move the element to the left until found the correct position\n",
    "            arr[j], arr[j-1] = arr[j-1], arr[j]\n",
    "            j -= 1\n",
    "            cnt += 1\n",
    "    return cnt\n",
    "  return insertion_sort(arr)"
   ]
  },
  {
   "cell_type": "code",
   "execution_count": 126,
   "metadata": {
    "colab": {
     "base_uri": "https://localhost:8080/"
    },
    "executionInfo": {
     "elapsed": 360,
     "status": "ok",
     "timestamp": 1699156490675,
     "user": {
      "displayName": "Bảo Lâm Nguyễn Hà (BLam)",
      "userId": "15465939600187015693"
     },
     "user_tz": -420
    },
    "id": "YbojxjI2Q2kC",
    "outputId": "b4678f74-6008-44ac-dfb9-f555ee62bc96"
   },
   "outputs": [
    {
     "name": "stdout",
     "output_type": "stream",
     "text": [
      "Invalid submission or Wrong answer!\n"
     ]
    }
   ],
   "source": [
    "# test before submission\n",
    "try:\n",
    "    assert(count_swap([2, 5, 3, 1]) == 2)\n",
    "    print('Correct answer on sample test!')\n",
    "except:\n",
    "    print('Invalid submission or Wrong answer!')"
   ]
  },
  {
   "cell_type": "markdown",
   "metadata": {
    "id": "GSL3kn0RQ2kC"
   },
   "source": [
    "## Bài 5. Tìm Từ\n",
    "\n",
    "Cho một đoạn văn gồm nhiều từ và dấu câu, mỗi từ trong đoạn văn cách nhau bằng ít nhất một dấu cách.  \n",
    "\n",
    "**Yêu cầu**: Tìm các từ xuất hiện đúng <code>k</code> lần trong đoạn văn.  \n",
    "\n",
    "**Input**: Một số nguyên *0 < k < 10<sup>6</sup>* và một đoạn văn dưới dạng <code>str</code> với độ dài < 10<sup>6</sup> ký tự.  \n",
    "**Output**: Một <code>str</code> chứa các từ xuất hiện đúng <code>k</code> lần trong đoạn văn, mỗi từ cách nhau bằng một dấu cách, sắp xếp theo thứ tự bảng chữ cái. Định dạng các từ theo dạng viết thường (lowercase). Trả về <code>str</code> rỗng (<code>\"\"</code>) nếu không tìm thấy.  \n",
    "**Ví dụ**:\n",
    "- Input: <code>2</code>, <code>\"The cat is chasing the rat. The dog is also chasing the rat.\"</code>\n",
    "- Output: <code>\"chasing is rat\"</code>\n",
    "- Giải thích: Mỗi từ trong output xuất hiện đúng 2 lần trong đoạn văn."
   ]
  },
  {
   "cell_type": "code",
   "execution_count": 122,
   "metadata": {
    "executionInfo": {
     "elapsed": 2,
     "status": "ok",
     "timestamp": 1699155998613,
     "user": {
      "displayName": "Bảo Lâm Nguyễn Hà (BLam)",
      "userId": "15465939600187015693"
     },
     "user_tz": -420
    },
    "id": "pCIoxh52Q2kC"
   },
   "outputs": [],
   "source": [
    "def find_word(frequency, inp_str):\n",
    "    inp_str = inp_str.replace(\".\", \"\").replace(\",\", \"\")\n",
    "    arr = inp_str.split(\" \")\n",
    "    for i in range(len(arr)): arr[i] = arr[i].lower()\n",
    "    arr = sorted(arr)\n",
    "    new_arr = []\n",
    "    cnt = 1\n",
    "    for i in range(1, len(arr)):\n",
    "      if arr[i] == arr[i - 1]: cnt += 1\n",
    "      else:\n",
    "        if cnt == frequency: new_arr.append(arr[i - 1])\n",
    "        cnt = 1\n",
    "    if len(new_arr) == 0: return \"\"\n",
    "    else: return \" \".join(new_arr)"
   ]
  },
  {
   "cell_type": "code",
   "execution_count": 119,
   "metadata": {
    "colab": {
     "base_uri": "https://localhost:8080/"
    },
    "executionInfo": {
     "elapsed": 349,
     "status": "ok",
     "timestamp": 1699155976207,
     "user": {
      "displayName": "Bảo Lâm Nguyễn Hà (BLam)",
      "userId": "15465939600187015693"
     },
     "user_tz": -420
    },
    "id": "6A7iYGXTQ2kC",
    "outputId": "12f03d5d-790b-4bd5-d479-9123624f857d"
   },
   "outputs": [
    {
     "name": "stdout",
     "output_type": "stream",
     "text": [
      "Correct answer on sample test!\n"
     ]
    }
   ],
   "source": [
    "# test before submission\n",
    "try:\n",
    "    assert(find_word(2, \"The cat is chasing the rat. The dog is also chasing the rat.\") == \"chasing is rat\")\n",
    "    print('Correct answer on sample test!')\n",
    "except:\n",
    "    print('Invalid submission or Wrong answer!')"
   ]
  },
  {
   "cell_type": "markdown",
   "metadata": {
    "id": "bRxRWEb8Q2kC"
   },
   "source": [
    "## Bài 6. Khoảng Cách Ngắn Nhất\n",
    "\n",
    "Ta định nghĩa khoảng cách giữa hai số *a* và *b* là giá trị tuyệt đối của hiệu hai số: *distance(a, b) = |b - a|*.\n",
    "\n",
    "**Yêu cầu**: Cho một dãy các số nguyên, tìm khoảng cách ngắn nhất giữa hai phần tử trong dãy số.\n",
    "\n",
    "**Input**: Một <code>list</code> chứa *1 < n < 10<sup>5</sup>* số nguyên. Mỗi phần tử có giá trị trong khoảng [-10<sup>9</sup>, 10<sup>9</sup>].  \n",
    "**Output**: Trả về một số nguyên duy nhất là khoảng cách ngắn nhất giữa hai phần tử.  \n",
    "**Ví dụ**:  \n",
    "\n",
    "Ví dụ 1:\n",
    "- Input: <code>[1, 5, 3, 2]</code>\n",
    "- Output: <code>1</code>\n",
    "- Giải thích: Các cặp phần tử <code>(1, 2)</code> và <code>(3, 2)</code> có khoảng cách là <code>1</code> và là khoảng cách ngắn nhất.\n",
    "\n",
    "Ví dụ 2:\n",
    "- Input: <code>[1, 5, 3, 2, 5]</code>\n",
    "- Output: <code>0</code>\n",
    "- Giải thích: Cặp phần tử <code>(5, 5)</code> có khoảng cách là <code>0</code> và là khoảng cách ngắn nhất."
   ]
  },
  {
   "cell_type": "code",
   "execution_count": 120,
   "metadata": {
    "executionInfo": {
     "elapsed": 531,
     "status": "ok",
     "timestamp": 1699155988370,
     "user": {
      "displayName": "Bảo Lâm Nguyễn Hà (BLam)",
      "userId": "15465939600187015693"
     },
     "user_tz": -420
    },
    "id": "tUCVg1dWQ2kC"
   },
   "outputs": [],
   "source": [
    "def find_closest_distance(arr):\n",
    "    arr = sorted(arr)\n",
    "    if len(arr) == 2: return abs(arr[0] - arr[1])\n",
    "    minn = arr[1] - arr[0]\n",
    "    for i in range(1, len(arr)):\n",
    "      if i == len(arr) - 1: minn = min(minn, abs(arr[i] - arr[i - 1]))\n",
    "      else: minn = min(minn, abs(arr[i + 1] - arr[i]))\n",
    "    return minn"
   ]
  },
  {
   "cell_type": "code",
   "execution_count": 93,
   "metadata": {
    "colab": {
     "base_uri": "https://localhost:8080/"
    },
    "executionInfo": {
     "elapsed": 320,
     "status": "ok",
     "timestamp": 1699154968244,
     "user": {
      "displayName": "Bảo Lâm Nguyễn Hà (BLam)",
      "userId": "15465939600187015693"
     },
     "user_tz": -420
    },
    "id": "BCcBsztTQ2kC",
    "outputId": "86332fb2-8b85-4b4e-84c3-c24ae0f4ab7a"
   },
   "outputs": [
    {
     "name": "stdout",
     "output_type": "stream",
     "text": [
      "[1, 2, 3, 5]\n",
      "Correct answer on sample test!\n"
     ]
    }
   ],
   "source": [
    "# test before submission\n",
    "try:\n",
    "    assert(find_closest_distance([1, 5, 3, 2]) == 1)\n",
    "    print('Correct answer on sample test!')\n",
    "except:\n",
    "    print('Invalid submission or Wrong answer!')"
   ]
  },
  {
   "cell_type": "markdown",
   "metadata": {
    "id": "wnI0WVzyQ2kC"
   },
   "source": [
    "# END"
   ]
  }
 ],
 "metadata": {
  "colab": {
   "provenance": [
    {
     "file_id": "1T0XvW2JVe7Pivm8UT75G3TQ_Qa4OuROo",
     "timestamp": 1699150562631
    }
   ]
  },
  "kernelspec": {
   "display_name": "Python 3 (ipykernel)",
   "language": "python",
   "name": "python3"
  },
  "language_info": {
   "codemirror_mode": {
    "name": "ipython",
    "version": 3
   },
   "file_extension": ".py",
   "mimetype": "text/x-python",
   "name": "python",
   "nbconvert_exporter": "python",
   "pygments_lexer": "ipython3",
   "version": "3.10.9"
  }
 },
 "nbformat": 4,
 "nbformat_minor": 1
}
