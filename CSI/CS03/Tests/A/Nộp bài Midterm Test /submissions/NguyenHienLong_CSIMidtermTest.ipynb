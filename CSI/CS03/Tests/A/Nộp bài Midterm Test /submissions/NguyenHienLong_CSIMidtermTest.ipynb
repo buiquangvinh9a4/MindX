{
  "cells": [
    {
      "cell_type": "markdown",
      "metadata": {
        "id": "JT1QRkA7Srgc"
      },
      "source": [
        "## <center>Computer Science Intensive Course - MindX</center>\n",
        "![](./assets/logo.png)\n",
        "# <center>KIỂM TRA GIỮA KHÓA</center>"
      ]
    },
    {
      "cell_type": "markdown",
      "metadata": {
        "id": "lwnS1JgKSrgh"
      },
      "source": [
        "**Hướng dẫn làm bài**:\n",
        "- Dùng kiến thức đã học để cài đặt các thuật toán giải quyết yêu cầu đề bài.\n",
        "- Nộp đáp án của mỗi bài dưới dạng function. Giữ nguyên tên và parameter được cho sẵn. Trả về kết quả bằng lệnh <code>return</code>, không dùng <code>print()</code> trong bài nộp.\n",
        "- Không <code>import</code> thư viện. Chỉ dùng các cấu trúc dữ liệu và hàm cho sẵn trong Python.\n",
        "  + Hợp lệ: <code>arr = list([1, 2, 3])</code>, <code>sorted_arr = sorted(arr)</code>, <code>index = arr.index(2)</code>\n",
        "  + Không hợp lệ: <code>import numpy</code>, <code>math.sqrt(9)</code>\n",
        "- Đáp án phải được tìm bằng thuật toán, không dùng kết quả ngẫu nhiên.\n",
        "- Có thể sử dụng hàm <code>help()</code> để xem thông tin về các cấu trúc dữ liệu và hàm. Ví dụ: <code>help(sorted)</code>\n",
        "\n",
        "**Đánh giá điểm**:\n",
        "- Mỗi bài được chạy trên 10 test cases với kích thước input tăng dần.  \n",
        "  Bài nộp được chấp nhận trên một test case nếu trả về đúng kết quả trong thời gian tối đa **1 giây**.\n",
        "- Có tổng cộng 60 test cases cho 6 bài, mỗi test case 2 điểm. Điểm cao nhất có thể đạt được là **120 điểm**.\n",
        "\n",
        "**Nộp bài**:\n",
        "- Chạy đoạn test cho sẵn để kiểm tra bài nộp hợp lệ.\n",
        "- Định dạng tên file: <code>FullName-CSIMidtermTest.ipynb</code>\n",
        "\n",
        "**Chúc các bạn thành công!**"
      ]
    },
    {
      "cell_type": "markdown",
      "metadata": {
        "id": "c9xPq1WxSrgi"
      },
      "source": [
        "## Bài 1. Tìm Mode\n",
        "\n",
        "Mode của một tập hợp được định nghĩa là phần tử xuất hiện lặp lại nhiều lần nhất trong tập hợp đó. Một tập hợp có thể:\n",
        "- Không có mode vì không có phần tử nào lặp lại. Ví dụ: <code>[1, 2, 3, 4]</code>\n",
        "- Có một mode. Ví dụ: <code>[1, 2, 2, 2, 3, 3]</code> có mode là <code>2</code>\n",
        "- Có nhiều mode. Ví dụ: <code>[1, 2, 1, 2, 3]</code> có mode là <code>1</code> và <code>2</code>\n",
        "\n",
        "**Yêu cầu**: Cho một danh sách các số nguyên, tìm mode có giá trị lớn nhất trong danh sách.\n",
        "\n",
        "**Input**: Một <code>list</code> chứa *0 < n < 10<sup>6</sup>* số nguyên. Mỗi phần tử có giá trị trong khoảng [-10<sup>9</sup>, 10<sup>9</sup>].  \n",
        "**Output**: Một số nguyên duy nhất là mode có giá trị lớn nhất trong danh sách. Trả về <code>None</code> nếu không tìm thấy.  \n",
        "**Ví dụ**:\n",
        "- Input: <code>[1, 2, 3, 2, 3]</code>\n",
        "- Output: <code>3</code>\n",
        "- Giải thích: Danh sách có hai mode là <code>2</code> và <code>3</code>. Ta trả về mode lớn nhất là <code>3</code>"
      ]
    },
    {
      "cell_type": "code",
      "execution_count": 4,
      "metadata": {
        "id": "9OQBCVeHSrgi"
      },
      "outputs": [],
      "source": [
        "def find_mode(arr):\n",
        "    # handle trivial cases\n",
        "    if len(arr) < 2:\n",
        "        return None\n",
        "\n",
        "    # init\n",
        "    count = {}      # occurences of each value\n",
        "    max_occur = 2   # largest number of occurences\n",
        "    mode_list = []  # list of modes in the sequence\n",
        "\n",
        "    # traverse arr to find modes\n",
        "    for el in arr:\n",
        "        count[el] = count.get(el, 0) + 1  # count the element\n",
        "        if count[el] > max_occur:         # found element with more occurences\n",
        "            max_occur = count[el]         # => update max_occur and reset mode_list\n",
        "            mode_list = [el]\n",
        "        elif count[el] == max_occur:      # found element with same occurences as current modes\n",
        "            mode_list.append(el)          # => add to mode_list\n",
        "\n",
        "    # return result\n",
        "    if len(mode_list) == 0:\n",
        "        return None\n",
        "\n",
        "    mode_list.sort()\n",
        "    return mode_list[-1]"
      ]
    },
    {
      "cell_type": "code",
      "execution_count": 3,
      "metadata": {
        "colab": {
          "base_uri": "https://localhost:8080/"
        },
        "id": "xkk4b9iESrgk",
        "outputId": "408a0048-41fb-4b83-b7cc-abb63a45905c"
      },
      "outputs": [
        {
          "output_type": "stream",
          "name": "stdout",
          "text": [
            "Correct answer on sample test!\n"
          ]
        }
      ],
      "source": [
        "# test before submission\n",
        "try:\n",
        "    assert(find_mode([1, 2, 3, 2, 3]) == 3)\n",
        "    print('Correct answer on sample test!')\n",
        "except:\n",
        "    print('Invalid submission or Wrong answer!')"
      ]
    },
    {
      "cell_type": "markdown",
      "metadata": {
        "id": "xcaM044iSrgl"
      },
      "source": [
        "## Bài 2. Mua Kem\n",
        "\n",
        "Thủy và An được cho <code>m</code> đồng để mua kem. Quầy kem có <code>n</code> loại kem với mệnh giá không trùng nhau.\n",
        "\n",
        "**Yêu cầu**: Hãy giúp Thủy và An dùng hết <code>m</code> đồng để mua 2 cây kem khác loại.\n",
        "\n",
        "**Input**: Một số nguyên *0 < m < 10<sup>9</sup>* và <code>list</code> chứa *0 < n < 10<sup>5</sup>* mệnh giá số nguyên, mỗi mệnh giá nằm trong khoảng [1, 10<sup>9</sup>].  \n",
        "**Output**: Hai số nguyên là index của hai loại kem, index nhỏ hơn đứng trước. Test cases đảm bảo tồn tại ít nhất một đáp án.  \n",
        "**Ví dụ**:\n",
        "- Input: <code>4</code>, <code>[1, 4, 5, 3, 2]</code>\n",
        "- Output: <code>0, 3</code>\n",
        "- Giải thích: Các mệnh giá tại index 0 và 3 là <code>1, 3</code>, với <code>m = 4 = 1 + 3</code>"
      ]
    },
    {
      "cell_type": "code",
      "execution_count": 64,
      "metadata": {
        "id": "Up0GN6M8Srgl"
      },
      "outputs": [],
      "source": [
        "def buy_icecream(budget, prices):\n",
        "    def sort(data_list):\n",
        "      def find_min(data_list, from_index):\n",
        "        min_id = from_index\n",
        "        for i in range(from_index+2, len(data_list)):\n",
        "          if data_list[i] < data_list(min_id):\n",
        "            min_id = 1\n",
        "        return min_id\n",
        "\n",
        "      for i in range(len(data_list)-1):\n",
        "        min_id = find_min(data_list, i)\n",
        "        if min_id !=i:\n",
        "          data_list[i], data_list[min_id] = data_list[min_id], data_list[i]\n",
        "\n",
        "    for i in range(len(prices)):\n",
        "      _1st_price = prices[i]\n",
        "      _other_price = budget - _1st_price\n",
        "      found = False\n",
        "      a_index = -1\n",
        "      try:\n",
        "        a_index = prices.index(_other_price)\n",
        "        found = True\n",
        "      except IndexError:\n",
        "        a_index = -1\n",
        "        found = False\n",
        "      if found == True and a_index != -1: return [i, a_index]\n",
        ""
      ]
    },
    {
      "cell_type": "code",
      "execution_count": 66,
      "metadata": {
        "colab": {
          "base_uri": "https://localhost:8080/"
        },
        "id": "u-wnpCuOSrgm",
        "outputId": "99dbbd4d-3537-4503-f8e4-b7a30a59b635"
      },
      "outputs": [
        {
          "output_type": "stream",
          "name": "stdout",
          "text": [
            "Correct answer on sample test!\n"
          ]
        }
      ],
      "source": [
        "# test before submission\n",
        "try:\n",
        "    index1, index2 = buy_icecream(4, [1, 4, 5, 3, 2])\n",
        "    assert(index1 == 0 and index2 == 3)\n",
        "    print('Correct answer on sample test!')\n",
        "except:\n",
        "    print('Invalid submission or Wrong answer!')"
      ]
    },
    {
      "cell_type": "markdown",
      "metadata": {
        "id": "BbrRK56WSrgn"
      },
      "source": [
        "## Bài 3. Tìm Tổng\n",
        "\n",
        "Dãy con liên tục là một dãy các phần tử liên tiếp nhau của một dãy nào đó. Một dãy con liên tục có độ dài nhỏ nhất bằng một và độ dài lớn nhất bằng dãy chứa nó.\n",
        "\n",
        "**Yêu cầu**: Cho một dãy các số nguyên, kiểm tra có tồn tại dãy con liên tục có tổng các phần tử bằng một giá trị cho trước hay không.\n",
        "\n",
        "**Input**: Một số nguyên *0 < k < 10<sup>9</sup>* và một <code>list</code> chứa *0 < n < 10<sup>5</sup>* số nguyên. Mỗi phần tử có giá trị trong khoảng [1, 10<sup>5</sup>].  \n",
        "**Output**: Trả về <code>True</code> nếu tồn tại một dãy con liên tục có tổng các phần tử bằng <code>k</code>. Ngược lại trả về <code>False</code>.  \n",
        "**Ví dụ**:  \n",
        "\n",
        "Ví dụ 1:\n",
        "- Input: <code>8, [1, 5, 3, 2, 5]</code>\n",
        "- Output: <code>True</code>\n",
        "- Giải thích: Tồn tại một dãy con liên tục là <code>[5, 3]</code> có tổng bằng <code>8</code>.\n",
        "\n",
        "Ví dụ 2:\n",
        "- Input: <code>5, [1, 5, 3, 2, 5]</code>\n",
        "- Output: <code>True</code>\n",
        "- Giải thích: Tồn tại ba dãy con liên tục là <code>[5]</code>, <code>[3, 2]</code> và <code>[5]</code> có tổng bằng <code>5</code>."
      ]
    },
    {
      "cell_type": "code",
      "execution_count": 65,
      "metadata": {
        "id": "brBEdvzSSrgn"
      },
      "outputs": [],
      "source": [
        "def has_sequence_with_sum(target_sum, arr):\n",
        "    start = 0\n",
        "    end = 0\n",
        "    current_sum = arr[start]\n",
        "\n",
        "    while start <= end and end < len(arr):\n",
        "        if current_sum == target_sum:\n",
        "            return True\n",
        "        elif current_sum < target_sum:\n",
        "            end += 1\n",
        "            current_sum += arr[end]\n",
        "        else:\n",
        "            current_sum -= arr[start]\n",
        "            start += 1\n",
        "\n",
        "    return False"
      ]
    },
    {
      "cell_type": "code",
      "execution_count": 67,
      "metadata": {
        "colab": {
          "base_uri": "https://localhost:8080/"
        },
        "id": "mMMWB6AnSrgn",
        "outputId": "b1329c8d-d1c8-4ca5-ea6f-c610c1adcf61"
      },
      "outputs": [
        {
          "output_type": "stream",
          "name": "stdout",
          "text": [
            "Correct answer on sample test!\n"
          ]
        }
      ],
      "source": [
        "# test before submission\n",
        "try:\n",
        "    assert(has_sequence_with_sum(8, [1, 5, 3, 2, 5]) == True)\n",
        "    print('Correct answer on sample test!')\n",
        "except:\n",
        "    print('Invalid submission or Wrong answer!')"
      ]
    },
    {
      "cell_type": "markdown",
      "metadata": {
        "id": "3jrGxY_YSrgo"
      },
      "source": [
        "## Bài 4. Đổi Chỗ\n",
        "\n",
        "Trong các thuật toán đã học, ta thường đổi chỗ các phần tử trong quá trình sắp xếp để đưa chúng về vị trí thích hợp. Một bước đổi chỗ *(swap)* được định nghĩa là quá trình hoán đổi vị trí giữa hai phần tử khác nhau trong dãy.  \n",
        "\n",
        "Ví dụ ta có mảng <code>arr = [2, 5, 3, 1]</code>, một bước đổi chỗ thực hiện trên hai phần tử <code>arr[1]</code> và <code>arr[3]</code> sẽ biến mảng <code>arr</code> thành <code>[2, 1, 3, 5]</code>.\n",
        "\n",
        "**Yêu cầu**: Cho một dãy các số nguyên không trùng nhau, hãy tìm số lần đổi chỗ ít nhất để đưa dãy về trạng thái đã sắp xếp theo thứ tự tăng dần.\n",
        "\n",
        "**Input**: Một <code>list</code> chứa *0 < n < 10<sup>5</sup>* số nguyên. Mỗi phần tử có giá trị trong khoảng [-10<sup>9</sup>, 10<sup>9</sup>].  \n",
        "**Output**: Trả về một số nguyên là số lần đổi chỗ ít nhất để đưa dãy về trạng thái đã sắp xếp tăng dần.  \n",
        "**Ví dụ**:  \n",
        "\n",
        "Ví dụ 1:\n",
        "- Input: <code>[2, 5, 3, 1]</code>\n",
        "- Output: <code>2</code>\n",
        "- Giải thích: Ta thực hiện hai bước đổi chỗ như sau:\n",
        "  <pre>\n",
        "  swap(0, 3) => arr = [1, 5, 3, 2]\n",
        "  swap(1, 3) => arr = [1, 2, 3, 5]\n",
        "  </pre>\n",
        "\n",
        "Ví dụ 2:\n",
        "- Input: <code>[5, 2, 3, 1]</code>\n",
        "- Output: <code>1</code>\n",
        "- Giải thích: Ta thực hiện 1 bước đổi chỗ cho phần tử đầu và phần tử cuối."
      ]
    },
    {
      "cell_type": "code",
      "execution_count": 31,
      "metadata": {
        "id": "D12EjHfVSrgo"
      },
      "outputs": [],
      "source": [
        "def count_swap(arr):\n",
        "    n = len(arr)\n",
        "    count = 0\n",
        "    for i in range(n):\n",
        "        min_id = i\n",
        "        for j in range(i + 1, n):\n",
        "            if arr[j] < arr[min_id]:\n",
        "                min_id = j\n",
        "        if min_id != i:\n",
        "            arr[i], arr[min_id] = arr[min_id], arr[i]\n",
        "            count += 1\n",
        "    return count"
      ]
    },
    {
      "cell_type": "code",
      "execution_count": 68,
      "metadata": {
        "colab": {
          "base_uri": "https://localhost:8080/"
        },
        "id": "Xl_-ISQjSrgp",
        "outputId": "f8442550-4749-4148-ac1a-dced5f74c8eb"
      },
      "outputs": [
        {
          "output_type": "stream",
          "name": "stdout",
          "text": [
            "Correct answer on sample test!\n"
          ]
        }
      ],
      "source": [
        "# test before submission\n",
        "try:\n",
        "    assert(count_swap([2, 5, 3, 1]) == 2)\n",
        "    print('Correct answer on sample test!')\n",
        "except:\n",
        "    print('Invalid submission or Wrong answer!')"
      ]
    },
    {
      "cell_type": "markdown",
      "metadata": {
        "id": "2F0S3EZ8Srgq"
      },
      "source": [
        "## Bài 5. Tìm Từ\n",
        "\n",
        "Cho một đoạn văn gồm nhiều từ và dấu câu, mỗi từ trong đoạn văn cách nhau bằng ít nhất một dấu cách.  \n",
        "\n",
        "**Yêu cầu**: Tìm các từ xuất hiện đúng <code>k</code> lần trong đoạn văn.  \n",
        "\n",
        "**Input**: Một số nguyên *0 < k < 10<sup>6</sup>* và một đoạn văn dưới dạng <code>str</code> với độ dài < 10<sup>6</sup> ký tự.  \n",
        "**Output**: Một <code>str</code> chứa các từ xuất hiện đúng <code>k</code> lần trong đoạn văn, mỗi từ cách nhau bằng một dấu cách, sắp xếp theo thứ tự bảng chữ cái. Định dạng các từ theo dạng viết thường (lowercase). Trả về <code>str</code> rỗng (<code>\"\"</code>) nếu không tìm thấy.  \n",
        "**Ví dụ**:\n",
        "- Input: <code>2</code>, <code>\"The cat is chasing the rat. The dog is also chasing the rat.\"</code>\n",
        "- Output: <code>\"chasing is rat\"</code>\n",
        "- Giải thích: Mỗi từ trong output xuất hiện đúng 2 lần trong đoạn văn."
      ]
    },
    {
      "cell_type": "code",
      "execution_count": 62,
      "metadata": {
        "id": "oDZIi2-PSrgq"
      },
      "outputs": [],
      "source": [
        "def find_word(frequency, inp_str):\n",
        "    words = inp_str.lower().split()\n",
        "    words = [word.strip('.,!?\"()[]{}') for word in words]\n",
        "    word_count = {}\n",
        "    for word in words:\n",
        "        if word in word_count:\n",
        "            word_count[word] += 1\n",
        "        else:\n",
        "            word_count[word] = 1\n",
        "    result = [word for word, count in word_count.items() if count == frequency]\n",
        "    result.sort()\n",
        "    return ' '.join(result)"
      ]
    },
    {
      "cell_type": "code",
      "execution_count": 69,
      "metadata": {
        "colab": {
          "base_uri": "https://localhost:8080/"
        },
        "id": "1GX7lCBcSrgq",
        "outputId": "be5892df-51a1-4c8d-cb06-4200bf726e2d"
      },
      "outputs": [
        {
          "output_type": "stream",
          "name": "stdout",
          "text": [
            "Correct answer on sample test!\n"
          ]
        }
      ],
      "source": [
        "# test before submission\n",
        "try:\n",
        "    assert(find_word(2, \"The cat is chasing the rat. The dog is also chasing the rat.\") == \"chasing is rat\")\n",
        "    print('Correct answer on sample test!')\n",
        "except:\n",
        "    print('Invalid submission or Wrong answer!')"
      ]
    },
    {
      "cell_type": "markdown",
      "metadata": {
        "id": "MhfzbAjISrgq"
      },
      "source": [
        "## Bài 6. Khoảng Cách Ngắn Nhất\n",
        "\n",
        "Ta định nghĩa khoảng cách giữa hai số *a* và *b* là giá trị tuyệt đối của hiệu hai số: *distance(a, b) = |b - a|*.\n",
        "\n",
        "**Yêu cầu**: Cho một dãy các số nguyên, tìm khoảng cách ngắn nhất giữa hai phần tử trong dãy số.\n",
        "\n",
        "**Input**: Một <code>list</code> chứa *1 < n < 10<sup>5</sup>* số nguyên. Mỗi phần tử có giá trị trong khoảng [-10<sup>9</sup>, 10<sup>9</sup>].  \n",
        "**Output**: Trả về một số nguyên duy nhất là khoảng cách ngắn nhất giữa hai phần tử.  \n",
        "**Ví dụ**:  \n",
        "\n",
        "Ví dụ 1:\n",
        "- Input: <code>[1, 5, 3, 2]</code>\n",
        "- Output: <code>1</code>\n",
        "- Giải thích: Các cặp phần tử <code>(1, 2)</code> và <code>(3, 2)</code> có khoảng cách là <code>1</code> và là khoảng cách ngắn nhất.\n",
        "\n",
        "Ví dụ 2:\n",
        "- Input: <code>[1, 5, 3, 2, 5]</code>\n",
        "- Output: <code>0</code>\n",
        "- Giải thích: Cặp phần tử <code>(5, 5)</code> có khoảng cách là <code>0</code> và là khoảng cách ngắn nhất."
      ]
    },
    {
      "cell_type": "code",
      "execution_count": 47,
      "metadata": {
        "id": "MlyQ7kx5Srgr"
      },
      "outputs": [],
      "source": [
        "def find_closest_distance(arr):\n",
        "    if len(arr) < 2:\n",
        "        return 0\n",
        "\n",
        "    arr.sort()\n",
        "\n",
        "    closest_distance = float('inf')\n",
        "    for i in range(1, len(arr)):\n",
        "        distance = abs(arr[i] - arr[i - 1])\n",
        "        closest_distance = min(closest_distance, distance)\n",
        "\n",
        "    return closest_distance"
      ]
    },
    {
      "cell_type": "code",
      "execution_count": 70,
      "metadata": {
        "colab": {
          "base_uri": "https://localhost:8080/"
        },
        "id": "Zs96TFMUSrgr",
        "outputId": "2b071be6-1ee8-4467-d5b8-308600c086e0"
      },
      "outputs": [
        {
          "output_type": "stream",
          "name": "stdout",
          "text": [
            "Correct answer on sample test!\n"
          ]
        }
      ],
      "source": [
        "# test before submission\n",
        "try:\n",
        "    assert(find_closest_distance([1, 5, 3, 2, 5]) == 0)\n",
        "    print('Correct answer on sample test!')\n",
        "except:\n",
        "    print('Invalid submission or Wrong answer!')"
      ]
    },
    {
      "cell_type": "markdown",
      "metadata": {
        "id": "yhxOP8fgSrgr"
      },
      "source": [
        "# END"
      ]
    }
  ],
  "metadata": {
    "kernelspec": {
      "display_name": "Python 3 (ipykernel)",
      "language": "python",
      "name": "python3"
    },
    "language_info": {
      "codemirror_mode": {
        "name": "ipython",
        "version": 3
      },
      "file_extension": ".py",
      "mimetype": "text/x-python",
      "name": "python",
      "nbconvert_exporter": "python",
      "pygments_lexer": "ipython3",
      "version": "3.10.11"
    },
    "colab": {
      "provenance": []
    }
  },
  "nbformat": 4,
  "nbformat_minor": 0
}