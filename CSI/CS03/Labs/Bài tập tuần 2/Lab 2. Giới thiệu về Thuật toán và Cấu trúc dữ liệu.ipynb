{
 "cells": [
  {
   "attachments": {},
   "cell_type": "markdown",
   "metadata": {},
   "source": [
    "## <center>Computer Science Intensive Course - MindX</center>\n",
    "![](./assets/logo.png)\n",
    "# <center>LAB 2. GIỚI THIỆU VỀ THUẬT TOÁN VÀ CẤU TRÚC DỮ LIỆU</center>"
   ]
  },
  {
   "cell_type": "code",
   "execution_count": 4,
   "metadata": {},
   "outputs": [],
   "source": [
    "# run this cell FIRST\n",
    "%run test_cases_2.ipynb"
   ]
  },
  {
   "attachments": {},
   "cell_type": "markdown",
   "metadata": {},
   "source": [
    "## Bài 1. Xâu Đối Xứng\n",
    "Xâu đối xứng là một chuỗi ký tự có dạng đối xứng gương, nửa cuối của xâu bằng nửa đầu của xâu viết theo hướng ngược lại.  \n",
    "**Input**: Một chuỗi ký tự (string) với độ dài tối thiểu 1 và không quá 255 ký tự.  \n",
    "**Output**: Trả về True nếu chuỗi ký tự đối xứng, ngược lại trả về False.  \n",
    "**Ví dụ**:  \n",
    "Ví dụ 1:\n",
    "- Input: string = \"abcba\"\n",
    "- Output: True  \n",
    "\n",
    "Ví dụ 2:\n",
    "- Input: string = \"abccba\"\n",
    "- Output: True.  \n",
    "\n",
    "Ví dụ 3:\n",
    "- Input: string = \"abcabc\"\n",
    "- Output: False.  "
   ]
  },
  {
   "cell_type": "code",
   "execution_count": 2,
   "metadata": {},
   "outputs": [
    {
     "data": {
      "text/plain": [
       "False"
      ]
     },
     "execution_count": 2,
     "metadata": {},
     "output_type": "execute_result"
    }
   ],
   "source": [
    "def is_symmetric(inp):\n",
    "    return inp == inp[::-1]   # True or False?\n",
    "\n",
    "is_symmetric(\"Haha\")"
   ]
  },
  {
   "cell_type": "code",
   "execution_count": 5,
   "metadata": {},
   "outputs": [
    {
     "name": "stdout",
     "output_type": "stream",
     "text": [
      "Testing on 9 cases.\n",
      "- Test 1 PASSED.\n",
      "- Test 2 PASSED.\n",
      "- Test 3 PASSED.\n",
      "- Test 4 PASSED.\n",
      "- Test 5 PASSED.\n",
      "- Test 6 PASSED.\n",
      "- Test 7 PASSED.\n",
      "- Test 8 PASSED.\n",
      "- Test 9 PASSED.\n",
      "CONGRATULATIONS! All test cases passed!\n"
     ]
    }
   ],
   "source": [
    "# !!! DO NOT MODIFY THIS CELL\n",
    "# Check result on test cases\n",
    "test1(is_symmetric)"
   ]
  },
  {
   "attachments": {},
   "cell_type": "markdown",
   "metadata": {},
   "source": [
    "## Bài 2. Số Siêu Nguyên Tố\n",
    "Số siêu nguyên tố là một số nguyên tố với tính chất: khi ta xóa một số lượng chữ số tận cùng bất kỳ của nó, ta vẫn được một số nguyên tố.  \n",
    "**Input**: Một số nguyên *0 < n < 10^9*   \n",
    "**Output**: Trả về True nếu số vừa nhập là số siêu nguyên tố, ngược lại trả về False.   \n",
    "**Ví dụ**:  \n",
    "\n",
    "Ví dụ 1:\n",
    "- Input: n = 3739\n",
    "- Output: True\n",
    "- Giải thích: 3739, 373, 37, 3 đều là số nguyên tố\n",
    "\n",
    "Ví dụ 2:\n",
    "- Input: n = 47\n",
    "- Output: False\n",
    "- Giải thích: 47 là số nguyên tố nhưng 4 không phải số nguyên tố"
   ]
  },
  {
   "cell_type": "code",
   "execution_count": 9,
   "metadata": {},
   "outputs": [
    {
     "data": {
      "text/plain": [
       "False"
      ]
     },
     "execution_count": 9,
     "metadata": {},
     "output_type": "execute_result"
    }
   ],
   "source": [
    "import math\n",
    "\n",
    "# VD:  n = 6  -> Các ước của 6 là:    1 2 3 6\n",
    "\n",
    "def is_prime_number(num):  # đếm từ 1 đến num xem có bao nhiêu ước -> 2 -> True\n",
    "    if num < 2:\n",
    "        return False\n",
    "    else:\n",
    "        for i in range(2, int(math.sqrt(num)) + 1):   # O(n^1/2)\n",
    "            if num % i == 0:\n",
    "                return False \n",
    "        return True\n",
    "\n",
    "def is_super_prime(num):\n",
    "    while num != 0:   # O(n)      ->   O(n) * O(n^1/2)   ->   O(n^3/2)\n",
    "        if is_prime_number(num) == False:   # O(n)\n",
    "            return False      # 1 số đã vi phạm không phải siêu nguyên tố\n",
    "        num = num // 10   \n",
    "    return True\n",
    "\n",
    "is_super_prime(47)"
   ]
  },
  {
   "cell_type": "code",
   "execution_count": 11,
   "metadata": {},
   "outputs": [
    {
     "name": "stdout",
     "output_type": "stream",
     "text": [
      "Testing on 12 cases.\n",
      "- Test 1 PASSED.\n",
      "- Test 2 PASSED.\n",
      "- Test 3 PASSED.\n",
      "- Test 4 PASSED.\n",
      "- Test 5 PASSED.\n",
      "- Test 6 PASSED.\n",
      "- Test 7 PASSED.\n",
      "- Test 8 PASSED.\n",
      "- Test 9 PASSED.\n",
      "- Test 10 PASSED.\n",
      "- Test 11 PASSED.\n",
      "- Test 12 PASSED.\n",
      "CONGRATULATIONS! All test cases passed!\n"
     ]
    }
   ],
   "source": [
    "# !!! DO NOT MODIFY THIS CELL\n",
    "# Check result on test cases\n",
    "test2(is_super_prime)"
   ]
  },
  {
   "attachments": {},
   "cell_type": "markdown",
   "metadata": {},
   "source": [
    "## Bài 3. Kiểm Tra Tam Giác\n",
    "**Input**: Ba số thực -10^9 < a, b, c < 10^9.  \n",
    "**Output**: Kiểm tra a, b, c có thể là độ dài ba cạnh của tam giác hay không. Nếu có, kiểm tra tam giác được tạo thành là tam giác nhọn (1), vuông (2) hay tù (3). Trả về 0 nếu không thể tạo thành tam giác; trả về 1, 2 hoặc 3 trong các trường hợp tam giác tương ứng.  \n",
    "**Ví dụ**:\n",
    "\n",
    "Ví dụ 1:\n",
    "- Input: a = 1, b = 2, c = 5\n",
    "- Output: 0\n",
    "- Giải thích: Ba đoạn thẳng với độ dài 1, 2, 5 không thể tạo thành một tam giác\n",
    "\n",
    "Ví dụ 2:\n",
    "- Input: a = 4, b = 3, c = 6\n",
    "- Output: 3\n",
    "- Giải thích: Ba đoạn thẳng với độ dài 3, 4, 6 tạo thành một tam giác tù (có góc đối diện cạnh c > 90 độ)"
   ]
  },
  {
   "cell_type": "code",
   "execution_count": 16,
   "metadata": {},
   "outputs": [],
   "source": [
    "# sort 3 numbers ascending\n",
    "\n",
    "# a , b, c   ->   c^2 = a^2 + b^2   -> tam giác vuông\n",
    "             #    c^2 < a^2 + b^2   -> tam giác nhọn\n",
    "            #     c^2 > a^2 + b^2   -> tam giác tù\n",
    "\n",
    "def get_triangle_type(a, b, c):\n",
    "    pass"
   ]
  },
  {
   "cell_type": "code",
   "execution_count": 17,
   "metadata": {},
   "outputs": [
    {
     "name": "stdout",
     "output_type": "stream",
     "text": [
      "Testing on 13 cases.\n",
      "- Test 1 PASSED.\n",
      "- Test 2 PASSED.\n",
      "- Test 3 PASSED.\n",
      "- Test 4 PASSED.\n",
      "- Test 5 PASSED.\n",
      "- Test 6 PASSED.\n",
      "- Test 7 PASSED.\n",
      "- Test 8 PASSED.\n",
      "- Test 9 PASSED.\n",
      "- Test 10 PASSED.\n",
      "- Test 11 PASSED.\n",
      "- Test 12 PASSED.\n",
      "- Test 13 PASSED.\n",
      "CONGRATULATIONS! All test cases passed!\n"
     ]
    }
   ],
   "source": [
    "# !!! DO NOT MODIFY THIS CELL\n",
    "# Check result on test cases\n",
    "test3(get_triangle_type)"
   ]
  },
  {
   "attachments": {},
   "cell_type": "markdown",
   "metadata": {},
   "source": [
    "## Bài 4. Đèn Tắt Mở\n",
    "Cho một dãy *n* bóng đèn. Mỗi bóng đèn có 2 trạng thái là Tắt hoặc Mở. Có *n* công tắc có thể thay đổi trạng thái của bóng đèn tương ứng (từ Tắt thành Mở và ngược lại). Tìm số lần ấn công tắc ít nhất sao cho tất cả bóng đèn đều ở cùng một trạng thái (cùng tắt hoặc cùng mở).  \n",
    "**Input**: Mảng *0 < n < 10^8* phần tử boolean, với True tương ứng trạng thái mở và False tương đương trạng thái tắt.    \n",
    "**Output**: Một số nguyên duy nhất là số lần ấn công tắc ít nhất để tất cả bóng đèn về cùng một trạng thái.    \n",
    "**Ví dụ**:\n",
    "\n",
    "Ví dụ 1:\n",
    "- Input: n = 3, arr = [True, True, False]\n",
    "- Output: result = 1\n",
    "- Giải thích: Ấn công tắc cuối cùng để tất cả bóng đèn đều mở\n",
    "\n",
    "Ví dụ 2:\n",
    "- Input: n = 4, arr = [True, True, False, False]\n",
    "- Output: result = 2\n",
    "- Giải thích: Ấn hai công tắc đầu tiên hoặc hai công tắc cuối cùng."
   ]
  },
  {
   "cell_type": "code",
   "execution_count": 24,
   "metadata": {},
   "outputs": [],
   "source": [
    "\n",
    "# METHOD: Count the number of Trues and Falses, then return the smaller value\n",
    "def count_switches(arr):\n",
    "    pass"
   ]
  },
  {
   "cell_type": "code",
   "execution_count": 25,
   "metadata": {},
   "outputs": [
    {
     "name": "stdout",
     "output_type": "stream",
     "text": [
      "Testing on 10 cases.\n",
      "- Test 1 PASSED.\n",
      "- Test 2 PASSED.\n",
      "- Test 3 FAILED: Wrong Answer.\n",
      "- Test 4 FAILED: Wrong Answer.\n",
      "- Test 5 FAILED: Wrong Answer.\n",
      "- Test 6 FAILED: Wrong Answer.\n",
      "- Test 7 FAILED: Wrong Answer.\n",
      "- Test 8 FAILED: Wrong Answer.\n",
      "- Test 9 FAILED: Wrong Answer.\n",
      "- Test 10 FAILED: Wrong Answer.\n",
      "Some test failed. Maybe check some code?\n"
     ]
    }
   ],
   "source": [
    "# !!! DO NOT MODIFY THIS CELL\n",
    "# Check result on test cases\n",
    "test4(count_switches)"
   ]
  },
  {
   "cell_type": "code",
   "execution_count": 13,
   "metadata": {},
   "outputs": [
    {
     "name": "stdout",
     "output_type": "stream",
     "text": [
      "6\n",
      "5\n",
      "1\n"
     ]
    }
   ],
   "source": [
    "arr = [True, True,True,True,True, False]\n",
    "N = len(arr)\n",
    "count_True = arr.count(True)\n",
    "count_False = arr.count(False)\n",
    "print(N)\n",
    "print(count_True)\n",
    "print(count_False)"
   ]
  },
  {
   "cell_type": "code",
   "execution_count": null,
   "metadata": {},
   "outputs": [],
   "source": []
  },
  {
   "cell_type": "code",
   "execution_count": null,
   "metadata": {},
   "outputs": [],
   "source": []
  },
  {
   "cell_type": "code",
   "execution_count": null,
   "metadata": {},
   "outputs": [],
   "source": []
  },
  {
   "cell_type": "code",
   "execution_count": null,
   "metadata": {},
   "outputs": [],
   "source": []
  }
 ],
 "metadata": {
  "kernelspec": {
   "display_name": "Python 3 (ipykernel)",
   "language": "python",
   "name": "python3"
  },
  "language_info": {
   "codemirror_mode": {
    "name": "ipython",
    "version": 3
   },
   "file_extension": ".py",
   "mimetype": "text/x-python",
   "name": "python",
   "nbconvert_exporter": "python",
   "pygments_lexer": "ipython3",
   "version": "3.10.13"
  }
 },
 "nbformat": 4,
 "nbformat_minor": 4
}
