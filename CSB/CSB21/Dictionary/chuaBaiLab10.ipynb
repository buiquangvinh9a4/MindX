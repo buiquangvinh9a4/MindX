{
 "cells": [
  {
   "attachments": {},
   "cell_type": "markdown",
   "metadata": {},
   "source": [
    "<h1> Chữa bài Lab 10 </h1>"
   ]
  },
  {
   "attachments": {},
   "cell_type": "markdown",
   "metadata": {},
   "source": [
    "<h2> Bài 1 </h2>"
   ]
  },
  {
   "cell_type": "code",
   "execution_count": 2,
   "metadata": {},
   "outputs": [
    {
     "name": "stdout",
     "output_type": "stream",
     "text": [
      "Số Ả Rập của V là: 5\n"
     ]
    }
   ],
   "source": [
    "numbers = {'I': 1, 'II': 2, 'III': 3, 'IV': 4, 'V': 5,\n",
    "'VI': 6, 'VII': 7, 'VIII': 8, 'IX': 9, 'X': 10}\n",
    "\n",
    "roman = input(\"Nhập số la mã: \")\n",
    "if roman in numbers:\n",
    "    print(f\"Số Ả Rập của {roman} là: {numbers[roman]}\")\n",
    "else:\n",
    "    print(\"Không tìm thấy!\")"
   ]
  },
  {
   "attachments": {},
   "cell_type": "markdown",
   "metadata": {},
   "source": [
    "<h2> Bài 2 </h2>"
   ]
  },
  {
   "cell_type": "code",
   "execution_count": 9,
   "metadata": {},
   "outputs": [
    {
     "name": "stdout",
     "output_type": "stream",
     "text": [
      "Số Ả Rập của XV là: 15\n"
     ]
    }
   ],
   "source": [
    "numbers_2 = {'XI': 11, 'XII': 12, 'XIII': 13, 'XIV': 14, 'XV': 15,\n",
    "'XVI': 16, 'XVII': 17, 'XVIII': 18, 'XIX': 19, 'XX': 20}\n",
    "\n",
    "numbers.update(numbers_2)\n",
    "\n",
    "\n",
    "roman = input(\"Nhập số la mã: \")\n",
    "if roman in numbers:\n",
    "    print(f\"Số Ả Rập của {roman} là: {numbers[roman]}\")\n",
    "else:\n",
    "    print(\"Không tìm thấy!\")"
   ]
  },
  {
   "attachments": {},
   "cell_type": "markdown",
   "metadata": {},
   "source": [
    "<h2> Bài 3 </h2>"
   ]
  },
  {
   "cell_type": "code",
   "execution_count": 16,
   "metadata": {},
   "outputs": [
    {
     "name": "stdout",
     "output_type": "stream",
     "text": [
      "Số Ả Rập của XV là: 15\n"
     ]
    }
   ],
   "source": [
    "number_list = ['I', 'II', 'III', 'IV', 'V', 'VI', 'VII', 'VIII', 'IX', 'X',\n",
    "'XI', 'XII', 'XIII', 'XIV', 'XV', 'XVI', 'XVII', 'XVIII', 'XIX', 'XX']\n",
    "# number_list -> dictionary\n",
    "dic = {}\n",
    "for i in range(len(number_list)):\n",
    "    key = number_list[i]  # key: La Mã\n",
    "    value = i + 1         # value: Ả Rập\n",
    "    dic[key] = value\n",
    "\n",
    "roman = input(\"Nhập số la mã: \")\n",
    "if roman in dic:\n",
    "    print(f\"Số Ả Rập của {roman} là: {dic[roman]}\")\n",
    "else:\n",
    "    print(\"Không tìm thấy!\")"
   ]
  },
  {
   "attachments": {},
   "cell_type": "markdown",
   "metadata": {},
   "source": [
    "<h2> Bài 4 </h2>\n",
    "<p> List of students: </p>\n",
    "<p> - Nikki Roysden </p>\n",
    "<p> - Mervin Friedland </p>\n",
    "<p> - Aron Wilkins </p>"
   ]
  },
  {
   "cell_type": "code",
   "execution_count": 26,
   "metadata": {},
   "outputs": [
    {
     "name": "stdout",
     "output_type": "stream",
     "text": [
      "List of students:\n",
      "- Nikki Roysden\n",
      "- Mervin Friedland\n",
      "- Aron Wilkins\n"
     ]
    }
   ],
   "source": [
    "students = [{'firstName': 'Nikki', 'lastName': 'Roysden'},\n",
    "            {'firstName': 'Mervin', 'lastName': 'Friedland'},\n",
    "            {'firstName': 'Aron', 'lastName': 'Wilkins'}]\n",
    "\n",
    "print(\"List of students:\")\n",
    "for student in students:\n",
    "    fname = student[\"firstName\"]\n",
    "    lname = student[\"lastName\"]\n",
    "    print(f\"- {fname} {lname}\")   "
   ]
  },
  {
   "attachments": {},
   "cell_type": "markdown",
   "metadata": {},
   "source": [
    "<h2> Bài 5 </h2>"
   ]
  },
  {
   "cell_type": "code",
   "execution_count": 27,
   "metadata": {},
   "outputs": [
    {
     "name": "stdout",
     "output_type": "stream",
     "text": [
      "List of students:\n",
      "- Nikki Roysden\n",
      "- Mervin Friedland\n",
      "- Aron Wilkins\n",
      "List of teachers:\n",
      "- Amberly Calico\n",
      "- Regine Agtarap\n"
     ]
    }
   ],
   "source": [
    "names = {\n",
    "    'students': [\n",
    "                {'firstName': 'Nikki', 'lastName': 'Roysden'},\n",
    "                {'firstName': 'Mervin', 'lastName': 'Friedland'},\n",
    "                {'firstName': 'Aron', 'lastName': 'Wilkins'}\n",
    "                ],\n",
    "    'teachers': [\n",
    "                {'firstName': 'Amberly', 'lastName': 'Calico'},\n",
    "                {'firstName': 'Regine', 'lastName': 'Agtarap'}\n",
    "                ]\n",
    "}\n",
    "print('List of students:')\n",
    "value_students = names[\"students\"]\n",
    "for student in value_students:\n",
    "    fname = student[\"firstName\"]\n",
    "    lname = student[\"lastName\"]\n",
    "    print(f\"- {fname} {lname}\") \n",
    "\n",
    "print('List of teachers:')\n",
    "value_teachers = names[\"teachers\"]\n",
    "for teacher in value_teachers:\n",
    "    fname = teacher[\"firstName\"]\n",
    "    lname = teacher[\"lastName\"]\n",
    "    print(f\"- {fname} {lname}\")\n"
   ]
  },
  {
   "attachments": {},
   "cell_type": "markdown",
   "metadata": {},
   "source": [
    "<h2> Bài 6 </h2>"
   ]
  },
  {
   "cell_type": "code",
   "execution_count": 31,
   "metadata": {},
   "outputs": [
    {
     "name": "stdout",
     "output_type": "stream",
     "text": [
      "- l:1\n",
      "- u:2\n",
      "- o:1\n",
      "- n:2\n",
      "- g:2\n",
      "- space:2\n",
      "- b:1\n",
      "- a:1\n",
      "- d:1\n"
     ]
    }
   ],
   "source": [
    "s = input(\"Nhập vào xâu s: \")\n",
    "dic = {}\n",
    "for word in s:\n",
    "    if word == \" \":\n",
    "        word = \"space\"\n",
    "    if word not in dic:\n",
    "        dic[word] = 1\n",
    "    else:\n",
    "        dic[word] = dic[word] + 1\n",
    "\n",
    "for key, value in dic.items():\n",
    "    print(f\"- {key}:{value}\")\n"
   ]
  },
  {
   "cell_type": "code",
   "execution_count": 34,
   "metadata": {},
   "outputs": [
    {
     "name": "stdout",
     "output_type": "stream",
     "text": [
      "1060000\n"
     ]
    }
   ],
   "source": [
    "dic = {\n",
    "    \"A\": 10000,\n",
    "    \"B\": 1,\n",
    "    \"C\": 50000,\n",
    "    \"D\": 999999\n",
    "}\n",
    "lst_value = list(dic.values())\n",
    "print(sum(lst_value))"
   ]
  },
  {
   "cell_type": "code",
   "execution_count": 38,
   "metadata": {},
   "outputs": [
    {
     "name": "stdout",
     "output_type": "stream",
     "text": [
      "Lấy 6 máy MACBOOK, tổng tiền phải trả: 6000\n"
     ]
    },
    {
     "data": {
      "text/plain": [
       "{'HP': 20, 'DELL': 50, 'MACBOOK': 6, 'ASUS': 30}"
      ]
     },
     "execution_count": 38,
     "metadata": {},
     "output_type": "execute_result"
    }
   ],
   "source": [
    "kho = {\"HP\": 20,\n",
    "        \"DELL\": 50,\n",
    "        \"MACBOOK\": 12,\n",
    "        \"ASUS\": 30}\n",
    "gia = {\"HP\": 100,\n",
    "        \"DELL\": 200,\n",
    "        \"MACBOOK\": 1000,\n",
    "        \"ASUS\": 250}\n",
    "\n",
    "while True:\n",
    "    model = input(\"Bạn muốn xuất mã nào: \")\n",
    "    if model in kho:\n",
    "        break\n",
    "    print(f\"{model} không nằm trong kho. Vui lòng nhập lại!\")\n",
    "\n",
    "while True:\n",
    "    sl = int(input(f\"Nhập số lượng của {model} muốn xuất: \"))\n",
    "    if sl <= kho[model]:\n",
    "        break\n",
    "    print(f\"Số máy {model} trong kho còn {kho[model]} cái, không đủ để xuất. Vui lòng nhập lại!\")\n",
    "\n",
    "\n",
    "\n",
    "giaXuatKho = gia[model] * sl\n",
    "print(f\"Lấy {sl} máy {model}, tổng tiền phải trả: {giaXuatKho}\")\n",
    "kho[model] = kho[model] - sl\n",
    "\n",
    "kho"
   ]
  },
  {
   "cell_type": "code",
   "execution_count": 39,
   "metadata": {},
   "outputs": [
    {
     "data": {
      "text/plain": [
       "'HELLO'"
      ]
     },
     "execution_count": 39,
     "metadata": {},
     "output_type": "execute_result"
    }
   ],
   "source": [
    "\"Hello\".upper()"
   ]
  },
  {
   "cell_type": "code",
   "execution_count": null,
   "metadata": {},
   "outputs": [],
   "source": []
  }
 ],
 "metadata": {
  "kernelspec": {
   "display_name": "base",
   "language": "python",
   "name": "python3"
  },
  "language_info": {
   "codemirror_mode": {
    "name": "ipython",
    "version": 3
   },
   "file_extension": ".py",
   "mimetype": "text/x-python",
   "name": "python",
   "nbconvert_exporter": "python",
   "pygments_lexer": "ipython3",
   "version": "3.10.13"
  },
  "orig_nbformat": 4
 },
 "nbformat": 4,
 "nbformat_minor": 2
}
