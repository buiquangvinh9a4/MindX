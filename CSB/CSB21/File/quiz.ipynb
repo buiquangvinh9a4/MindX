{
 "cells": [
  {
   "cell_type": "code",
   "execution_count": 8,
   "metadata": {},
   "outputs": [
    {
     "name": "stdout",
     "output_type": "stream",
     "text": [
      "Câu 1 :\n",
      "Ai là tác giả của bài \"Đất nước\"?\n",
      "['Tô Hoài', 'Nguyễn Khoa Điềm', 'Tô Lâm', 'Hoàng Phủ Ngọc Tường']\n",
      "Câu 2 :\n",
      "Mặt trời mọc ở đằng nào?\n",
      "['Đông', 'Tây', 'Nam', 'Bắc']\n"
     ]
    }
   ],
   "source": [
    "\"\"\"\n",
    "    key: Question\n",
    "    value:  Answer -> list\n",
    "\"\"\"\n",
    "\n",
    "def cvStr(s):      # cắt kí hiệu \\n trong xâu s\n",
    "    return s[:-1]\n",
    "\n",
    "dic_ques = {}\n",
    "\n",
    "with open(\"quiz.txt\", \"r\") as fr:\n",
    "    while True:\n",
    "        ques = cvStr(fr.readline())     # đọc 1 dòng bằng readline()\n",
    "        if ques == \"\":    # nếu như hết file\n",
    "            break\n",
    "        ans_A = cvStr(fr.readline())\n",
    "        ans_B = cvStr(fr.readline())\n",
    "        ans_C = cvStr(fr.readline())\n",
    "        ans_D = cvStr(fr.readline())\n",
    "    \n",
    "        dic_ques[ques] = [ans_A, ans_B, ans_C, ans_D]   # thêm câu hỏi\n",
    "\n",
    "i = 1\n",
    "for key, value in dic_ques.items():\n",
    "    print(\"Câu\", i, \":\")\n",
    "    print(key)\n",
    "    print(value)\n",
    "    i += 1"
   ]
  },
  {
   "cell_type": "code",
   "execution_count": null,
   "metadata": {},
   "outputs": [],
   "source": []
  }
 ],
 "metadata": {
  "kernelspec": {
   "display_name": "base",
   "language": "python",
   "name": "python3"
  },
  "language_info": {
   "codemirror_mode": {
    "name": "ipython",
    "version": 3
   },
   "file_extension": ".py",
   "mimetype": "text/x-python",
   "name": "python",
   "nbconvert_exporter": "python",
   "pygments_lexer": "ipython3",
   "version": "3.10.13"
  },
  "orig_nbformat": 4
 },
 "nbformat": 4,
 "nbformat_minor": 2
}
