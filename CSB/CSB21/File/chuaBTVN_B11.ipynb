{
 "cells": [
  {
   "cell_type": "code",
   "execution_count": 6,
   "metadata": {},
   "outputs": [
    {
     "ename": "FileNotFoundError",
     "evalue": "[Errno 2] No such file or directory: 'names.txt'",
     "output_type": "error",
     "traceback": [
      "\u001b[0;31m---------------------------------------------------------------------------\u001b[0m",
      "\u001b[0;31mFileNotFoundError\u001b[0m                         Traceback (most recent call last)",
      "Cell \u001b[0;32mIn[6], line 2\u001b[0m\n\u001b[1;32m      1\u001b[0m lst \u001b[39m=\u001b[39m []\n\u001b[0;32m----> 2\u001b[0m \u001b[39mwith\u001b[39;00m \u001b[39mopen\u001b[39;49m(\u001b[39m\"\u001b[39;49m\u001b[39mnames.txt\u001b[39;49m\u001b[39m\"\u001b[39;49m, \u001b[39m\"\u001b[39;49m\u001b[39mr\u001b[39;49m\u001b[39m\"\u001b[39;49m) \u001b[39mas\u001b[39;00m fr:\n\u001b[1;32m      3\u001b[0m     \u001b[39mfor\u001b[39;00m name \u001b[39min\u001b[39;00m fr:\n\u001b[1;32m      4\u001b[0m         \u001b[39mif\u001b[39;00m \u001b[39m\"\u001b[39m\u001b[39m\\n\u001b[39;00m\u001b[39m\"\u001b[39m \u001b[39min\u001b[39;00m name:\n",
      "File \u001b[0;32m~/anaconda3/lib/python3.10/site-packages/IPython/core/interactiveshell.py:284\u001b[0m, in \u001b[0;36m_modified_open\u001b[0;34m(file, *args, **kwargs)\u001b[0m\n\u001b[1;32m    277\u001b[0m \u001b[39mif\u001b[39;00m file \u001b[39min\u001b[39;00m {\u001b[39m0\u001b[39m, \u001b[39m1\u001b[39m, \u001b[39m2\u001b[39m}:\n\u001b[1;32m    278\u001b[0m     \u001b[39mraise\u001b[39;00m \u001b[39mValueError\u001b[39;00m(\n\u001b[1;32m    279\u001b[0m         \u001b[39mf\u001b[39m\u001b[39m\"\u001b[39m\u001b[39mIPython won\u001b[39m\u001b[39m'\u001b[39m\u001b[39mt let you open fd=\u001b[39m\u001b[39m{\u001b[39;00mfile\u001b[39m}\u001b[39;00m\u001b[39m by default \u001b[39m\u001b[39m\"\u001b[39m\n\u001b[1;32m    280\u001b[0m         \u001b[39m\"\u001b[39m\u001b[39mas it is likely to crash IPython. If you know what you are doing, \u001b[39m\u001b[39m\"\u001b[39m\n\u001b[1;32m    281\u001b[0m         \u001b[39m\"\u001b[39m\u001b[39myou can use builtins\u001b[39m\u001b[39m'\u001b[39m\u001b[39m open.\u001b[39m\u001b[39m\"\u001b[39m\n\u001b[1;32m    282\u001b[0m     )\n\u001b[0;32m--> 284\u001b[0m \u001b[39mreturn\u001b[39;00m io_open(file, \u001b[39m*\u001b[39;49margs, \u001b[39m*\u001b[39;49m\u001b[39m*\u001b[39;49mkwargs)\n",
      "\u001b[0;31mFileNotFoundError\u001b[0m: [Errno 2] No such file or directory: 'names.txt'"
     ]
    }
   ],
   "source": [
    "lst = []\n",
    "with open(\"names.txt\", \"r\") as fr:\n",
    "    for name in fr:\n",
    "        if \"\\n\" in name:\n",
    "            name = name[:-1]\n",
    "        lst.append(name)\n",
    "\n",
    "print(\"List of names: \")\n",
    "for name in lst:\n",
    "    print(\"-\", name)"
   ]
  },
  {
   "cell_type": "code",
   "execution_count": 12,
   "metadata": {},
   "outputs": [
    {
     "name": "stdout",
     "output_type": "stream",
     "text": [
      "List of names: \n",
      "- Nikki Roysden\n",
      "- Mervin Friedland\n",
      "- Aron Wilkins\n"
     ]
    }
   ],
   "source": [
    "import os\n",
    "\n",
    "path = input(\"Nhập vào file cần kiểm tra: \")\n",
    "check = os.path.exists(path)  # kiểm tra sự tồn tại của file/đường dẫn\n",
    "if (check):\n",
    "    lst = []\n",
    "    with open(path, \"r\") as fr:\n",
    "        for name in fr:\n",
    "            if \"\\n\" in name:\n",
    "                name = name[:-1]\n",
    "            lst.append(name)\n",
    "\n",
    "    print(\"List of names: \")\n",
    "    for name in lst:\n",
    "        print(\"-\", name)\n",
    "else:\n",
    "    print(\"File not found!\")\n",
    "\n"
   ]
  },
  {
   "cell_type": "code",
   "execution_count": 16,
   "metadata": {},
   "outputs": [],
   "source": [
    "i = 1"
   ]
  },
  {
   "cell_type": "code",
   "execution_count": 18,
   "metadata": {},
   "outputs": [
    {
     "name": "stdout",
     "output_type": "stream",
     "text": [
      "End.\n"
     ]
    }
   ],
   "source": [
    "with open(\"user-inputs.txt\", \"a\") as fw:\n",
    "    while True:\n",
    "        s = input(\"Enter a text: \")\n",
    "        if s == \"\" or s == \"\\n\":\n",
    "            print(\"End.\")\n",
    "            break\n",
    "        else:\n",
    "            fw.write(f\"-{i}: {s}\\n\")\n",
    "            i += 1"
   ]
  },
  {
   "cell_type": "code",
   "execution_count": 24,
   "metadata": {},
   "outputs": [
    {
     "name": "stdout",
     "output_type": "stream",
     "text": [
      "End.\n"
     ]
    }
   ],
   "source": [
    "import datetime \n",
    "\n",
    "with open(\"input-logs.txt\", \"a\") as fw:\n",
    "    while True:\n",
    "        s = input(\"Enter a text: \")\n",
    "        if s == \"\" or s == \"\\n\":\n",
    "            print(\"End.\")\n",
    "            break\n",
    "        timer = str(datetime.datetime.now())\n",
    "        fw.write(f\"===={timer}====\\n\")\n",
    "        fw.write(s + \"\\n\\n\")"
   ]
  },
  {
   "cell_type": "code",
   "execution_count": 4,
   "metadata": {},
   "outputs": [
    {
     "name": "stdout",
     "output_type": "stream",
     "text": [
      "Question 1: 1 + 2 = \n",
      "3\n",
      "3\n",
      "Question 2: 32 / 8 = \n",
      "4\n",
      "4\n",
      "Question 3: 7 x 6 = \n",
      "42\n",
      "42\n",
      "Question 4: 100 - 19 = \n",
      "81\n",
      "81\n",
      "Question 5: 7 x 8 = \n",
      "56\n",
      "56\n",
      "Question 6: 11 * 12 = \n",
      "132\n",
      "132\n",
      "=== You get 6/6 points ===\n"
     ]
    }
   ],
   "source": [
    "dic = {\n",
    "    # key: question\n",
    "    # value: answer\n",
    "}\n",
    "\n",
    "with open(\"question-bank.txt\", \"r\") as fr:\n",
    "    for line in fr:\n",
    "        if \"\\n\" in line:\n",
    "            line = line[:-1]\n",
    "        lst_ques = line.split(\",\")\n",
    "        dic[lst_ques[0]] = lst_ques[1]\n",
    "    \n",
    "length = len(dic)\n",
    "i = 1\n",
    "your_score = 0\n",
    "\n",
    "for ques, ans in dic.items():\n",
    "    print(f\"Question {i}: {ques}\")\n",
    "    your_ans = input(\"- Enter your answer: \")\n",
    "    print(ans)\n",
    "    print(your_ans)\n",
    "    if ans == your_ans:\n",
    "        your_score += 1\n",
    "    i += 1\n",
    "    \n",
    "print(f\"=== You get {your_score}/{length} points ===\")\n"
   ]
  },
  {
   "cell_type": "code",
   "execution_count": null,
   "metadata": {},
   "outputs": [],
   "source": []
  }
 ],
 "metadata": {
  "kernelspec": {
   "display_name": "base",
   "language": "python",
   "name": "python3"
  },
  "language_info": {
   "codemirror_mode": {
    "name": "ipython",
    "version": 3
   },
   "file_extension": ".py",
   "mimetype": "text/x-python",
   "name": "python",
   "nbconvert_exporter": "python",
   "pygments_lexer": "ipython3",
   "version": "3.10.13"
  },
  "orig_nbformat": 4
 },
 "nbformat": 4,
 "nbformat_minor": 2
}
