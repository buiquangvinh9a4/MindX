{
 "cells": [
  {
   "cell_type": "code",
   "execution_count": 25,
   "metadata": {},
   "outputs": [
    {
     "name": "stdout",
     "output_type": "stream",
     "text": [
      "[3, 53, 32, 423, 536, 4653, 1, 241]\n"
     ]
    }
   ],
   "source": [
    "\"\"\"\n",
    "    Bước 1: Đọc file bằng lệnh open()\n",
    "    Bước 2: Trích xuất dữ liệu từ file -> Lưu vào biến phù hợp\n",
    "    Bước 3: Xử lý dữ liệu theo yêu cầu\n",
    "    Bước 4: Đóng file\n",
    "\"\"\"\n",
    "\n",
    "file = open(\"number.txt\")  # default: r -> read \n",
    "lst = []\n",
    "for line in file:\n",
    "    if \"\\n\" in line:\n",
    "        line = line[:-1]\n",
    "    if \"\" != line:\n",
    "        lst.append(int(line))\n",
    "\n",
    "print(lst)\n",
    "\n",
    "file.close()"
   ]
  },
  {
   "cell_type": "code",
   "execution_count": 12,
   "metadata": {},
   "outputs": [
    {
     "name": "stdout",
     "output_type": "stream",
     "text": [
      "Hello\n",
      "Baby\n"
     ]
    }
   ],
   "source": [
    "\"\"\"\n",
    "    Bài 1: Tạo file có tên: number.inp chứa các số nguyên dương\n",
    "    Mỗi số là 1 dòng.\n",
    "    Sau đó, hãy đọc file và xử lý để hiển thị ra màn hình\n",
    "    số lượng các số chia hết cho 2 và 3.\n",
    "    Ví dụ:\n",
    "    - Input:\n",
    "        4\n",
    "        6\n",
    "        10\n",
    "        12\n",
    "        24\n",
    "        35\n",
    "    - Output: 3\n",
    "\"\"\""
   ]
  },
  {
   "cell_type": "code",
   "execution_count": 34,
   "metadata": {},
   "outputs": [
    {
     "name": "stdout",
     "output_type": "stream",
     "text": [
      "[232, 24245, 1313, 43544, 323, 424, 523, 52, 424, 5241, 98, 67, 6, 76, 655, 422323, 424, 353, 5, 2]\n",
      "Có 5 số nguyên tố trong file\n"
     ]
    }
   ],
   "source": [
    "import math\n",
    "def isPrimeNumber(number):\n",
    "    if number < 2:\n",
    "        return False\n",
    "    for i in range(2, int(math.sqrt(number)) + 1):\n",
    "        if number % i == 0:\n",
    "            return False\n",
    "    return True\n",
    "\n",
    "\n",
    "file2 = open(\"number2.txt\")\n",
    "lst = []\n",
    "for line in file2:\n",
    "    if \"\\n\" in line:\n",
    "        line = line[:-1]\n",
    "    line = line.split(\" \")\n",
    "    for number in line:\n",
    "        if number != \"\":\n",
    "            lst.append(int(number))\n",
    "count = 0\n",
    "for number in lst:\n",
    "    if isPrimeNumber(number):\n",
    "        count += 1\n",
    "print(lst)\n",
    "print(f\"Có {count} số nguyên tố trong file\")"
   ]
  },
  {
   "cell_type": "code",
   "execution_count": 30,
   "metadata": {},
   "outputs": [
    {
     "name": "stdout",
     "output_type": "stream",
     "text": [
      "['232', '24245', '1313', '43544', '323', '424', '523']\n"
     ]
    }
   ],
   "source": [
    "s = \"232 24245 1313 43544 323 424 523\"\n",
    "print(s.split())"
   ]
  },
  {
   "cell_type": "code",
   "execution_count": 46,
   "metadata": {},
   "outputs": [
    {
     "name": "stdout",
     "output_type": "stream",
     "text": [
      "Ghi file thành công\n"
     ]
    }
   ],
   "source": [
    "def isPrimeNumber(number):\n",
    "    if number < 2:\n",
    "        return False\n",
    "    for i in range(2, int(math.sqrt(number)) + 1):\n",
    "        if number % i == 0:\n",
    "            return False\n",
    "    return True\n",
    "\n",
    "lst = []\n",
    "with open(\"number2.txt\", \"r\") as fr:\n",
    "    for line in fr:\n",
    "        if \"\\n\" in line:\n",
    "            line = line[:-1]\n",
    "        line = line.split()\n",
    "        for number in line:\n",
    "            if number != \"\":\n",
    "                lst.append(int(number))\n",
    "\n",
    "lst_primeNumber = []\n",
    "for number in lst:\n",
    "    if isPrimeNumber(number):\n",
    "        lst_primeNumber.append(number)\n",
    "\n",
    "with open(\"primeNumber.txt\", \"w\") as fw:\n",
    "    fw.write(f\"Có {len(lst_primeNumber)} số nguyên tố trong file.\\n\")\n",
    "    for number in lst_primeNumber:\n",
    "        fw.write(str(number) + \" \")\n",
    "    print(\"Ghi file thành công\")\n",
    "\n"
   ]
  },
  {
   "cell_type": "code",
   "execution_count": null,
   "metadata": {},
   "outputs": [],
   "source": []
  }
 ],
 "metadata": {
  "kernelspec": {
   "display_name": "base",
   "language": "python",
   "name": "python3"
  },
  "language_info": {
   "codemirror_mode": {
    "name": "ipython",
    "version": 3
   },
   "file_extension": ".py",
   "mimetype": "text/x-python",
   "name": "python",
   "nbconvert_exporter": "python",
   "pygments_lexer": "ipython3",
   "version": "3.10.13"
  },
  "orig_nbformat": 4
 },
 "nbformat": 4,
 "nbformat_minor": 2
}
