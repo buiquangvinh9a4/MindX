{
 "cells": [
  {
   "cell_type": "code",
   "execution_count": 1,
   "metadata": {},
   "outputs": [],
   "source": [
    "lst = [\n",
    "    [\"account1\",\"12345678\",\"0123456\",\"Nguyễn Văn A\",\"12000000\"],\n",
    "    [\"account2\",\"12345678\",\"0123456\",\"Nguyễn Văn B\",\"12000000\"],\n",
    "    [\"account3\",\"12345678\",\"0123456\",\"Nguyễn Văn C\",\"12000000\"]\n",
    "]"
   ]
  },
  {
   "cell_type": "code",
   "execution_count": 7,
   "metadata": {},
   "outputs": [
    {
     "data": {
      "text/plain": [
       "0"
      ]
     },
     "execution_count": 7,
     "metadata": {},
     "output_type": "execute_result"
    }
   ],
   "source": [
    "username = \"account3\"\n",
    "\n",
    "def find_index_account(username):\n",
    "    index = 0\n",
    "\n",
    "    for i in range(len(lst)):\n",
    "        if lst[i][0] == username:\n",
    "            index = i\n",
    "            return index\n",
    "        \n",
    "find_index_account(\"account1\")\n",
    "\n"
   ]
  },
  {
   "cell_type": "code",
   "execution_count": null,
   "metadata": {},
   "outputs": [],
   "source": []
  }
 ],
 "metadata": {
  "kernelspec": {
   "display_name": "base",
   "language": "python",
   "name": "python3"
  },
  "language_info": {
   "codemirror_mode": {
    "name": "ipython",
    "version": 3
   },
   "file_extension": ".py",
   "mimetype": "text/x-python",
   "name": "python",
   "nbconvert_exporter": "python",
   "pygments_lexer": "ipython3",
   "version": "3.10.13"
  },
  "orig_nbformat": 4
 },
 "nbformat": 4,
 "nbformat_minor": 2
}
