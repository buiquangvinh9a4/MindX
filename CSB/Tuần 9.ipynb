{
 "cells": [
  {
   "cell_type": "code",
   "execution_count": 4,
   "id": "44781884",
   "metadata": {},
   "outputs": [
    {
     "name": "stdout",
     "output_type": "stream",
     "text": [
      "5\n",
      "1\n",
      "2\n",
      "3\n",
      "4\n",
      "5\n",
      "1 4 9 16 25 "
     ]
    }
   ],
   "source": [
    "lst = []\n",
    "n = int(input())  # n = 5 nhập 5 số\n",
    "\n",
    "# sử dụng hàm append() đẩy các phần tử vào list\n",
    "for i in range(n):\n",
    "    x = int(input())\n",
    "    lst.append(x)\n",
    "\n",
    "# duyệt các phần tử và bình phương nó   end = ' '\n",
    "for i in range(n):\n",
    "    print(lst[i] * lst[i], end = ' ')\n",
    "\n"
   ]
  },
  {
   "cell_type": "code",
   "execution_count": 12,
   "id": "328cd1fc",
   "metadata": {},
   "outputs": [
    {
     "name": "stdout",
     "output_type": "stream",
     "text": [
      "Nhập số phần tử của list: 5\n",
      "- Nhập phần tử thứ 1: 1\n",
      "- Nhập phần tử thứ 2: 4\n",
      "- Nhập phần tử thứ 3: 9\n",
      "- Nhập phần tử thứ 4: 11\n",
      "- Nhập phần tử thứ 5: 17\n",
      "[11, 17]\n"
     ]
    }
   ],
   "source": [
    "# cú pháp khai báo 1 hàm trong Python\n",
    "\"\"\"\n",
    "    def ten_ham(tham_so_truyen_vao):\n",
    "        something....\n",
    "\n",
    "\"\"\"\n",
    "from math import sqrt\n",
    "\n",
    "# # khai báo 1 hàm kiểm tra số nguyên tố        \n",
    "# def isPrimeNumber_Phong(number):\n",
    "#     count = 0  # biến để lưu ước của number\n",
    "#     for i in range(1, number + 1):\n",
    "#         if number % i == 0:\n",
    "#             count += 1\n",
    "#     if count == 2:\n",
    "#         return True\n",
    "#     else:\n",
    "#         return False\n",
    "\n",
    "def isPrimeNumber(number):\n",
    "    if number < 2:\n",
    "        return False\n",
    "    else:\n",
    "        for i in range(2, int(sqrt(number)) + 1):\n",
    "            if number % i == 0:\n",
    "                return False\n",
    "        return True\n",
    "    \n",
    "# khai báo số phần tử của list\n",
    "n = int(input('Nhập số phần tử của list: '))\n",
    "lst = []\n",
    "\n",
    "for i in range(n):\n",
    "    x = int(input(f'- Nhập phần tử thứ {i + 1}: '))\n",
    "    lst.append(x)\n",
    "    \n",
    "    \n",
    "lst_primeNumber = []    # khai báo 1 list rỗng chứa các số nguyên tố\n",
    "\n",
    "for number in lst:      # duyệt các phần tử number trong lst\n",
    "    if isPrimeNumber(number) == True:\n",
    "        lst_primeNumber.append(number)\n",
    "        \n",
    "print(lst_primeNumber)\n",
    "    \n",
    "            \n",
    "        \n",
    "\n"
   ]
  },
  {
   "cell_type": "markdown",
   "id": "20d9c438",
   "metadata": {},
   "source": [
    "<h2> Kiểm tra số Amstrong </h2>"
   ]
  },
  {
   "cell_type": "code",
   "execution_count": 20,
   "id": "1a662e5d",
   "metadata": {},
   "outputs": [
    {
     "name": "stdout",
     "output_type": "stream",
     "text": [
      "- Nhập vào số cần kiểm tra: 256\n",
      "256 không phải là một số Amstrong\n"
     ]
    }
   ],
   "source": [
    "# đếm các chữ số có trong số number\n",
    "def demChuSo(number):\n",
    "    number = str(number)\n",
    "    return len(number)\n",
    "\n",
    "# tính tổng lũy thừa bậc k các chữ số của số number\n",
    "def tinhTong(number):\n",
    "    k = demChuSo(number)              # số lượng các chữ số có trong number\n",
    "    s = 0                             # biến để tính tổng\n",
    "    \n",
    "    while number > 0:\n",
    "        tmp = number % 10            # lấy giá trị chữ số hàng đơn vị\n",
    "        s = s + tmp ** k             # cộng dồn vào biến s\n",
    "        number = number // 10        # tách giá trị chữ số hàng đơn vị\n",
    "        \n",
    "    return s\n",
    "    \n",
    "\n",
    "#----------------- Hàm main---------------\n",
    "n = int(input('- Nhập vào số cần kiểm tra: '))\n",
    "\n",
    "if n == tinhTong(n):\n",
    "    print(f'{n} là một số Amstrong')\n",
    "else:\n",
    "    print(f'{n} không phải là một số Amstrong')\n",
    "    \n",
    "\n",
    "    \n"
   ]
  },
  {
   "cell_type": "code",
   "execution_count": null,
   "id": "cb86255c",
   "metadata": {},
   "outputs": [],
   "source": []
  },
  {
   "cell_type": "markdown",
   "id": "9660bbf3",
   "metadata": {},
   "source": [
    "## "
   ]
  }
 ],
 "metadata": {
  "kernelspec": {
   "display_name": "Python 3 (ipykernel)",
   "language": "python",
   "name": "python3"
  },
  "language_info": {
   "codemirror_mode": {
    "name": "ipython",
    "version": 3
   },
   "file_extension": ".py",
   "mimetype": "text/x-python",
   "name": "python",
   "nbconvert_exporter": "python",
   "pygments_lexer": "ipython3",
   "version": "3.10.10"
  }
 },
 "nbformat": 4,
 "nbformat_minor": 5
}
