{
 "cells": [
  {
   "cell_type": "code",
   "execution_count": 2,
   "id": "cd46db94",
   "metadata": {},
   "outputs": [
    {
     "name": "stdout",
     "output_type": "stream",
     "text": [
      "This is a string\n",
      "stringstringstring\n"
     ]
    }
   ],
   "source": [
    "a = \"This is a \"\n",
    "b = \"string\"\n",
    "print(a + b)\n",
    "print(b * 3)"
   ]
  },
  {
   "cell_type": "code",
   "execution_count": 3,
   "id": "3ee74d8d",
   "metadata": {},
   "outputs": [
    {
     "name": "stdout",
     "output_type": "stream",
     "text": [
      "Welcome, Bùi Quang Vinh. Height : 170\n"
     ]
    }
   ],
   "source": [
    "name = \"Bùi Quang Vinh\"\n",
    "h = 170\n",
    "print(f\"Welcome, {name}. Height : {h}\")"
   ]
  },
  {
   "cell_type": "code",
   "execution_count": 5,
   "id": "48fd786f",
   "metadata": {},
   "outputs": [
    {
     "name": "stdout",
     "output_type": "stream",
     "text": [
      "Length string: 15\n"
     ]
    }
   ],
   "source": [
    "name = \"Bùi Quang Vinh\"\n",
    "l = len(name)   # len() là hàm lấy độ dài của xâu name\n",
    "print(f\"Length string: {l}\")"
   ]
  },
  {
   "cell_type": "code",
   "execution_count": 10,
   "id": "11e97a5f",
   "metadata": {},
   "outputs": [
    {
     "name": "stdout",
     "output_type": "stream",
     "text": [
      "Vinh\n"
     ]
    }
   ],
   "source": [
    "# cú pháp cắt xâu:  name_string[start : end + 1 : step]\n",
    "# vị trí đầu tiên của xâu -> luôn luôn là 0\n",
    "name = \"Bùi Quang Vinh\"\n",
    "lname = name[0:3:1]  # name[:3]\n",
    "m_name = name[4:9:1] # name[4:9]\n",
    "f_name = name[10:14:1]   # name[10:]\n",
    "print(f_name)\n",
    "\n",
    "# quy tắc cắt xâu\n",
    "\"\"\"\n",
    "    1. Nếu như start là 0 -> bỏ trống \n",
    "    2. Nếu như step là 1 -> bỏ trống\n",
    "    3. Nếu như end = độ dài xâu -> bỏ trống\n",
    "    \n",
    "    hoặc\n",
    "    1. Nếu như cắt từ đầu đến vị trí x -> s[:x + 1]\n",
    "    2. Nếu như cắt từ x đến hết hết xâu -> s[x : ]\n",
    "\"\"\""
   ]
  },
  {
   "cell_type": "code",
   "execution_count": 17,
   "id": "b623c612",
   "metadata": {},
   "outputs": [
    {
     "name": "stdout",
     "output_type": "stream",
     "text": [
      "9\n"
     ]
    }
   ],
   "source": [
    "s = \"0123456789\"\n",
    "x = s[::-1]\n",
    "print(s[-1])  # vị trí cuối cùng của 1 xâu:  -1\n",
    "\n"
   ]
  },
  {
   "cell_type": "code",
   "execution_count": 20,
   "id": "5d47d50b",
   "metadata": {},
   "outputs": [
    {
     "name": "stdout",
     "output_type": "stream",
     "text": [
      "bùi quang vinh\n",
      "BÙI QUANG VINH\n",
      "Bùi Quang Vinh\n"
     ]
    }
   ],
   "source": [
    "# Chuẩn hoá xâu -> biến xâu về 1 dạng theo quy chuẩn\n",
    "name = \"bÙI qUANg VinH\"\n",
    "\"\"\"\n",
    "    upper(): viết hoa tất cả các kí tự\n",
    "    lower(): viết thường tất cả các kí tự\n",
    "    title(): đặt theo quy chuẩn họ tên\n",
    "\"\"\"\n",
    "name_lower = name.lower()\n",
    "name_upper = name.upper()\n",
    "name_title = name.title()\n",
    "\n",
    "print(name_lower)\n",
    "print(name_upper)\n",
    "print(name_title)"
   ]
  },
  {
   "cell_type": "code",
   "execution_count": 25,
   "id": "2f2fc419",
   "metadata": {},
   "outputs": [
    {
     "name": "stdout",
     "output_type": "stream",
     "text": [
      "Name\t\t:\tBùi Quang Vinh\n",
      "Birthday\t:\t11/11/1111\n"
     ]
    }
   ],
   "source": [
    "name = \"Bùi Quang Vinh\"\n",
    "birthday = \"11/11/1111\"\n",
    "\n",
    "print(f\"Name\\t\\t:\\t{name}\")\n",
    "print(f\"Birthday\\t:\\t{birthday}\")"
   ]
  },
  {
   "cell_type": "code",
   "execution_count": 33,
   "id": "ba4cdc92",
   "metadata": {},
   "outputs": [
    {
     "name": "stdout",
     "output_type": "stream",
     "text": [
      "<class 'float'>\n"
     ]
    }
   ],
   "source": [
    "# kiểm tra kiểu của biến: type()\n",
    "number = 3.14\n",
    "print(type(number))\n"
   ]
  },
  {
   "cell_type": "code",
   "execution_count": 36,
   "id": "f4e3dc91",
   "metadata": {},
   "outputs": [
    {
     "name": "stdout",
     "output_type": "stream",
     "text": [
      "<class 'bool'>\n",
      "False\n"
     ]
    }
   ],
   "source": [
    "# Boolean datatype\n",
    "check = True\n",
    "check = False\n",
    "check = 5 == 3\n",
    "print(type(check))\n",
    "print(check)"
   ]
  },
  {
   "cell_type": "code",
   "execution_count": 45,
   "id": "12295e5b",
   "metadata": {},
   "outputs": [
    {
     "ename": "IndentationError",
     "evalue": "expected an indented block after 'if' statement on line 11 (2347670116.py, line 12)",
     "output_type": "error",
     "traceback": [
      "\u001b[0;36m  Cell \u001b[0;32mIn[45], line 12\u001b[0;36m\u001b[0m\n\u001b[0;31m    print(\"A và B bằng nhau\")\u001b[0m\n\u001b[0m    ^\u001b[0m\n\u001b[0;31mIndentationError\u001b[0m\u001b[0;31m:\u001b[0m expected an indented block after 'if' statement on line 11\n"
     ]
    }
   ],
   "source": [
    "#\"Cú pháp câu lệnh rẽ nhánh - điều kiện\"\n",
    "\"\"\"\n",
    "if biểu_thức_điều_kiện :\n",
    "    <thực hiện code nếu btđk đúng>\n",
    "else:\n",
    "    <thực hiện code nếu btđk sai>\n",
    "\"\"\"\n",
    "a = 5\n",
    "b = 5\n",
    "\n",
    "if a == b:\n",
    "    print(\"A và B bằng nhau\")\n",
    "else:\n",
    "    if a < b:\n",
    "        print(\"A nhỏ hơn B\")\n",
    "    else:\n",
    "        print(\"A lớn hơn B\")\n"
   ]
  },
  {
   "cell_type": "code",
   "execution_count": 47,
   "id": "6473520f",
   "metadata": {},
   "outputs": [
    {
     "name": "stdout",
     "output_type": "stream",
     "text": [
      "Nhập vào 1 số nguyên dương: -2\n",
      "Số nguyên âm\n",
      "Số chẵn\n"
     ]
    }
   ],
   "source": [
    "# nếu n chia hết cho i:   n % i == 0\n",
    "# nếu là số chẵn:   n % 2 == 0\n",
    "n = int(input(\"Nhập vào 1 số nguyên dương: \"))\n",
    "\n",
    "if n == 0:\n",
    "    print(\"Không dương không âm\\nSố chẵn\")\n",
    "\n",
    "if n > 0:\n",
    "    print(\"Số nguyên dương\")\n",
    "    if n % 2 == 0:\n",
    "        print(\"Số chẵn\")\n",
    "    else:\n",
    "        print(\"Số lẻ\")\n",
    "        \n",
    "if n < 0:\n",
    "    print(\"Số nguyên âm\")\n",
    "    if n % 2 == 0:\n",
    "        print(\"Số chẵn\")\n",
    "    else:\n",
    "        print(\"Số lẻ\")"
   ]
  },
  {
   "cell_type": "code",
   "execution_count": 49,
   "id": "3b16473a",
   "metadata": {},
   "outputs": [
    {
     "name": "stdout",
     "output_type": "stream",
     "text": [
      "Nhập số a: 5.5\n",
      "Nhập số b: 2.3\n",
      "Nhập số c: 9.0\n",
      "Số nhỏ nhất: 2.3\n"
     ]
    }
   ],
   "source": [
    "a = float(input(\"Nhập số a: \"))\n",
    "b = float(input(\"Nhập số b: \"))\n",
    "c = float(input(\"Nhập số c: \"))\n",
    "\n",
    "minNum = a \n",
    "if minNum > b:\n",
    "    minNum = b\n",
    "if minNum > c:\n",
    "    minNum = c\n",
    "    \n",
    "print(f\"Số nhỏ nhất: {minNum}\")\n"
   ]
  },
  {
   "cell_type": "code",
   "execution_count": 52,
   "id": "b8643d20",
   "metadata": {},
   "outputs": [
    {
     "name": "stdout",
     "output_type": "stream",
     "text": [
      "Month: 2\n",
      "Year: 2023\n",
      "Day of Month: 28\n"
     ]
    }
   ],
   "source": [
    "month = int(input(\"Month: \"))\n",
    "year = int(input(\"Year: \"))\n",
    "\n",
    "day = 31\n",
    "\n",
    "if month in [4, 6, 9, 11]:\n",
    "    day = 30\n",
    "else:\n",
    "    if month == 2:\n",
    "        if (year % 4 == 0 and year % 100 != 0) or (year % 400 == 0):\n",
    "            day = 29\n",
    "        else:\n",
    "            day = 28\n",
    "\n",
    "print(f\"Day of Month: {day}\")"
   ]
  },
  {
   "cell_type": "code",
   "execution_count": null,
   "id": "e527347e",
   "metadata": {},
   "outputs": [],
   "source": []
  }
 ],
 "metadata": {
  "kernelspec": {
   "display_name": "Python 3 (ipykernel)",
   "language": "python",
   "name": "python3"
  },
  "language_info": {
   "codemirror_mode": {
    "name": "ipython",
    "version": 3
   },
   "file_extension": ".py",
   "mimetype": "text/x-python",
   "name": "python",
   "nbconvert_exporter": "python",
   "pygments_lexer": "ipython3",
   "version": "3.10.9"
  }
 },
 "nbformat": 4,
 "nbformat_minor": 5
}
