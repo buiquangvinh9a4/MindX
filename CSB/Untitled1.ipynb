{
 "cells": [
  {
   "cell_type": "code",
   "execution_count": 3,
   "id": "9f5c651d",
   "metadata": {},
   "outputs": [
    {
     "name": "stdout",
     "output_type": "stream",
     "text": [
      "1 2 3 4 5 6 7 8 9 10 11 12 13 14 15 16 17 18 19 20 21 22 23 24 25 26 27 28 29 30 31 32 33 34 35 36 37 38 39 40 41 42 43 44 45 46 47 48 49 50 51 52 53 54 55 56 57 58 59 60 61 62 63 64 65 66 67 68 69 70 71 72 73 74 75 76 77 78 79 80 81 82 83 84 85 86 87 88 89 90 91 92 93 94 95 96 97 98 99 100 "
     ]
    }
   ],
   "source": [
    "# vòng lặp while\n",
    "\n",
    "start = 1\n",
    "end = 100\n",
    "while start <= end:    # phản ví dụ: start > end\n",
    "    print(start, end = ' ')\n",
    "    start = start - 1"
   ]
  },
  {
   "cell_type": "code",
   "execution_count": 4,
   "id": "26b2f7c8",
   "metadata": {},
   "outputs": [
    {
     "name": "stdout",
     "output_type": "stream",
     "text": [
      "16\n"
     ]
    }
   ],
   "source": [
    "# năm nay cha 36 tuổi, con 10 tuổi. Hỏi bao nhiêu năm nữa\n",
    "# tuổi cha gấp đôi tuổi con.\n",
    "\n",
    "tuoicha = 36\n",
    "tuoicon = 10\n",
    "sonam = 0\n",
    "\n",
    "# tuoicha == 2 * tuoicon\n",
    "while tuoicha != 2 * tuoicon:\n",
    "    tuoicha += 1   # tuoicha = tuoicha + 1\n",
    "    tuoicon += 1   # tuoicon = tuoicon + 1\n",
    "    sonam += 1\n",
    "print(sonam)\n",
    "    "
   ]
  },
  {
   "cell_type": "code",
   "execution_count": 5,
   "id": "8fba2eb4",
   "metadata": {},
   "outputs": [
    {
     "data": {
      "text/plain": [
       "'\\n    VD:   a = 24  b = 36 ->  UCLN: 12\\n    - 24:  1, 2, 3, 4, 8, 12, 24\\n    - 36:  1, 2, 3, 6, 12, 36\\n'"
      ]
     },
     "execution_count": 5,
     "metadata": {},
     "output_type": "execute_result"
    }
   ],
   "source": [
    "# Tìm ước chung lớn nhất của 2 số\n",
    "\"\"\"\n",
    "    VD:   a = 24  b = 36 ->  UCLN: 12\n",
    "    - 24:  1, 2, 3, 4, 8, 12, 24\n",
    "    - 36:  1, 2, 3, 6, 12, 36\n",
    "\"\"\""
   ]
  },
  {
   "cell_type": "code",
   "execution_count": 8,
   "id": "9ac53d4e",
   "metadata": {},
   "outputs": [
    {
     "name": "stdout",
     "output_type": "stream",
     "text": [
      "55\n"
     ]
    }
   ],
   "source": [
    "s = 0\n",
    "for number in [1, 2, 3, 4, 5, 6, 7, 8, 9, 10]:\n",
    "    s = s + number\n",
    "print(s)"
   ]
  },
  {
   "cell_type": "code",
   "execution_count": 10,
   "id": "75d6d1a5",
   "metadata": {},
   "outputs": [
    {
     "name": "stdout",
     "output_type": "stream",
     "text": [
      "55\n"
     ]
    }
   ],
   "source": [
    "s = 0\n",
    "for number in range(1, 11):\n",
    "    s = s + number\n",
    "print(s)"
   ]
  },
  {
   "cell_type": "code",
   "execution_count": 17,
   "id": "a20ca69d",
   "metadata": {},
   "outputs": [
    {
     "name": "stdout",
     "output_type": "stream",
     "text": [
      "2\n",
      "4\n",
      "6\n",
      "8\n",
      "10\n"
     ]
    }
   ],
   "source": [
    "\"\"\"\n",
    "    break:  cú pháp thoát lặp\n",
    "    continue: bỏ qua - tiếp tục\n",
    "\"\"\"\n",
    "for number in range(1, 11):\n",
    "    if number % 2 != 0:\n",
    "        continue\n",
    "    print(number)\n",
    "    \n",
    "    \n",
    "    \"\"\"\n",
    "        kết quả sẽ là?\n",
    "        A. 1 -> 10\n",
    "        B. 1\n",
    "        C. 1 3 5 7 9\n",
    "        D. 2 4 6 8 10 \n",
    "    \"\"\""
   ]
  },
  {
   "cell_type": "code",
   "execution_count": 18,
   "id": "c7648a11",
   "metadata": {},
   "outputs": [
    {
     "data": {
      "text/plain": [
       "'\\n    Bài 1: Tính tổng các số chẵn từ 1 đến n (n nhập vào từ bàn phím)\\n    - Lặp từ 1 đến n\\n    - Kiểm tra số đó có phải số chẵn hay không\\n    - Nếu là số chẵn, cộng dồn vào biến tổng\\n    \\n    Bài 2: Hiển thị ra màn hình các ước số của n (n nhập vào từ bàn phím)\\n    - Lặp từ 1 đến n\\n    - Kiểm tra số n có chia hết cho số đó hay không\\n    - Nếu chia hết, hiển thị số đó ra màn hình\\n    \\n    VD: 36 -> 1, 2, 3, 6, 12, 36\\n    \\n    Bài 3 (advanced): Nhập n từ bàn phím. Kiểm tra n có phải là\\n                      số nguyên tố hay không.\\n\\n'"
      ]
     },
     "execution_count": 18,
     "metadata": {},
     "output_type": "execute_result"
    }
   ],
   "source": [
    "\"\"\"\n",
    "    Bài 1: Tính tổng các số chẵn từ 1 đến n (n nhập vào từ bàn phím)\n",
    "    - Lặp từ 1 đến n\n",
    "    - Kiểm tra số đó có phải số chẵn hay không\n",
    "    - Nếu là số chẵn, cộng dồn vào biến tổng\n",
    "    \n",
    "    Bài 2: Hiển thị ra màn hình các ước số của n (n nhập vào từ bàn phím)\n",
    "    - Lặp từ 1 đến n\n",
    "    - Kiểm tra số n có chia hết cho số đó hay không\n",
    "    - Nếu chia hết, hiển thị số đó ra màn hình\n",
    "    \n",
    "    VD: 36 -> 1, 2, 3, 6, 12, 36\n",
    "    \n",
    "    Bài 3 (advanced): Nhập n từ bàn phím. Kiểm tra n có phải là\n",
    "                      số nguyên tố hay không.\n",
    "\n",
    "\"\"\""
   ]
  },
  {
   "cell_type": "code",
   "execution_count": 20,
   "id": "bcdadd2b",
   "metadata": {},
   "outputs": [
    {
     "name": "stdout",
     "output_type": "stream",
     "text": [
      "n : 10\n",
      "30\n"
     ]
    }
   ],
   "source": [
    "# Bài 1\n",
    "n = int(input(\"n : \"))\n",
    "s = 0\n",
    "\n",
    "for i in range(1, n + 1):\n",
    "    if i % 2 == 0:\n",
    "        s = s + i\n",
    "\n",
    "print(s)"
   ]
  },
  {
   "cell_type": "code",
   "execution_count": 21,
   "id": "63e65b0d",
   "metadata": {},
   "outputs": [
    {
     "name": "stdout",
     "output_type": "stream",
     "text": [
      "n : 36\n",
      "1 2 3 4 6 9 12 18 36 "
     ]
    }
   ],
   "source": [
    "# Bài 2\n",
    "n = int(input(\"n : \"))\n",
    "\n",
    "for i in range(1, n + 1):\n",
    "    if n % i == 0:\n",
    "        print(i, end = ' ')\n"
   ]
  },
  {
   "cell_type": "code",
   "execution_count": 35,
   "id": "15df78f7",
   "metadata": {},
   "outputs": [
    {
     "name": "stdout",
     "output_type": "stream",
     "text": [
      "Number: 10000000\n",
      "10000000 is not prime number\n",
      "- Thời gian chạy: 0.8867571354 giây\n"
     ]
    }
   ],
   "source": [
    "# Bài 3 - cách 1: đếm ước\n",
    "number = int(input(\"Number: \"))\n",
    "count = 0\n",
    "\n",
    "for i in range(1, number + 1):\n",
    "    if number % i == 0:\n",
    "        count += 1\n",
    "if count == 2:\n",
    "    print(f\"{number} is prime number\")\n",
    "else:\n",
    "    print(f\"{number} is not prime number\")"
   ]
  },
  {
   "cell_type": "code",
   "execution_count": 36,
   "id": "d5736d84",
   "metadata": {},
   "outputs": [
    {
     "name": "stdout",
     "output_type": "stream",
     "text": [
      "Number: 10000000\n",
      "10000000 is not prime number\n",
      "- Thời gian chạy: 0.0008568764 giây\n"
     ]
    }
   ],
   "source": [
    "# Bài 3 - cách 2: tìm phản ví dụ\n",
    "\n",
    "number = int(input(\"Number: \"))\n",
    "isPrimeNumber = True      # mặc định number là số nguyên tố\n",
    "\n",
    "if number < 2:\n",
    "    isPrimeNumber = False\n",
    "else:\n",
    "    sqr = number ** 0.5    # can bac hai cua number\n",
    "    for i in range(2, int(sqr) + 1):\n",
    "        if number % i == 0:\n",
    "            isPrimeNumber = False\n",
    "            \n",
    "if isPrimeNumber == True:\n",
    "    print(f\"{number} is prime number\")\n",
    "else:\n",
    "    print(f\"{number} is not prime number\")\n",
    "\n"
   ]
  },
  {
   "cell_type": "code",
   "execution_count": null,
   "id": "d1035da8",
   "metadata": {},
   "outputs": [],
   "source": []
  }
 ],
 "metadata": {
  "kernelspec": {
   "display_name": "Python 3 (ipykernel)",
   "language": "python",
   "name": "python3"
  },
  "language_info": {
   "codemirror_mode": {
    "name": "ipython",
    "version": 3
   },
   "file_extension": ".py",
   "mimetype": "text/x-python",
   "name": "python",
   "nbconvert_exporter": "python",
   "pygments_lexer": "ipython3",
   "version": "3.10.9"
  }
 },
 "nbformat": 4,
 "nbformat_minor": 5
}
