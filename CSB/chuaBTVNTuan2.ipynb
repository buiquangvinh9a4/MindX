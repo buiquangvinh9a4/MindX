{
 "cells": [
  {
   "cell_type": "code",
   "execution_count": 4,
   "id": "5df3d156",
   "metadata": {},
   "outputs": [
    {
     "name": "stdout",
     "output_type": "stream",
     "text": [
      "Enter string: h\n",
      "Yes\n"
     ]
    }
   ],
   "source": [
    "# Bài 1\n",
    "s = input(\"Enter string: \")\n",
    "\n",
    "s_rever = s[::-1]  \n",
    "\n",
    "if s == s_rever:\n",
    "    print(\"Yes\")\n",
    "else:\n",
    "    print(\"No\")"
   ]
  },
  {
   "cell_type": "code",
   "execution_count": 5,
   "id": "9cf83e50",
   "metadata": {},
   "outputs": [
    {
     "name": "stdout",
     "output_type": "stream",
     "text": [
      "Enter number a: 1\n",
      "Enter number b: -2\n",
      "Enter number c: 1\n",
      "1\n"
     ]
    }
   ],
   "source": [
    "# Bài 2\n",
    "a = float(input(\"Enter number a: \"))\n",
    "b = float(input(\"Enter number b: \"))\n",
    "c = float(input(\"Enter number c: \"))\n",
    "\n",
    "# Tính delta \n",
    "delta = b * b - 4 * a * c\n",
    "\n",
    "if delta > 0:\n",
    "    print(2)\n",
    "elif delta == 0:\n",
    "    print(1)\n",
    "else:\n",
    "    print(0)"
   ]
  },
  {
   "cell_type": "code",
   "execution_count": 8,
   "id": "fbf77aa7",
   "metadata": {},
   "outputs": [
    {
     "name": "stdout",
     "output_type": "stream",
     "text": [
      "Enter salary: 35000000\n",
      "10500000 24500000\n"
     ]
    }
   ],
   "source": [
    "# Bài 3\n",
    "luong = int(input(\"Enter salary: \"))\n",
    "\n",
    "thue = 0\n",
    "thucnhan = 0\n",
    "\n",
    "# tinh tien thue bi tru \n",
    "if luong < 10000000:\n",
    "    thue = 0\n",
    "elif 10000000 <= luong <= 15000000:\n",
    "    thue = 0.1 * luong \n",
    "elif 15000000 <= luong <= 30000000:\n",
    "    thue = 0.2 * luong \n",
    "else:\n",
    "    thue = 0.3 * luong \n",
    "\n",
    "thue = int(thue)  # de tranh bi dau phay vao ket qua\n",
    "\n",
    "# tinh tien thuc nhan sau khi tru thue   \n",
    "thucnhan = luong - thue\n",
    "    \n",
    "# Hien thi ket qua ra man hinh\n",
    "print(thue, thucnhan)"
   ]
  },
  {
   "cell_type": "code",
   "execution_count": 10,
   "id": "3f53bed0",
   "metadata": {},
   "outputs": [
    {
     "name": "stdout",
     "output_type": "stream",
     "text": [
      "42\n",
      "546000\n"
     ]
    }
   ],
   "source": [
    "# Bài 4\n",
    "km = int(input())\n",
    "\n",
    "money = 10000\n",
    "\n",
    "if km <= 20:\n",
    "    money = money + 13600 * km\n",
    "elif 20 < km <= 50:\n",
    "    money = money + 13600 * 20 + (km - 20) * 12000\n",
    "else:\n",
    "    money = money + 13600 * 20 + 12000 * 30 + (km - 50) * 11000\n",
    "\n",
    "print(money)"
   ]
  },
  {
   "cell_type": "code",
   "execution_count": null,
   "id": "0aafe852",
   "metadata": {},
   "outputs": [],
   "source": []
  }
 ],
 "metadata": {
  "kernelspec": {
   "display_name": "Python 3 (ipykernel)",
   "language": "python",
   "name": "python3"
  },
  "language_info": {
   "codemirror_mode": {
    "name": "ipython",
    "version": 3
   },
   "file_extension": ".py",
   "mimetype": "text/x-python",
   "name": "python",
   "nbconvert_exporter": "python",
   "pygments_lexer": "ipython3",
   "version": "3.10.9"
  }
 },
 "nbformat": 4,
 "nbformat_minor": 5
}
