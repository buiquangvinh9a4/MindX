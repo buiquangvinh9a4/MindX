{
 "cells": [
  {
   "cell_type": "code",
   "execution_count": 3,
   "id": "53696de9",
   "metadata": {},
   "outputs": [
    {
     "name": "stdout",
     "output_type": "stream",
     "text": [
      "5.0\n",
      "14\n",
      "Welcome Binh\n"
     ]
    }
   ],
   "source": [
    "import math\n",
    "# 2 loại: hàm có return - không return \n",
    "\n",
    "def tong2So(a, b):\n",
    "    s = a + b\n",
    "    return s\n",
    "\n",
    "def sayHi(name):\n",
    "    print(\"Welcome\", name)\n",
    "\n",
    "# math.sqrt(25)  ->  5\n",
    "print(math.sqrt(25))\n",
    "# tong2So(5, 9)  ->  14\n",
    "print(tong2So(5, 9))\n",
    "\n",
    "# sayHi(\"Binh\")  -> Welcome Binh\n",
    "sayHi(\"Binh\")"
   ]
  },
  {
   "cell_type": "code",
   "execution_count": null,
   "id": "bc1b2712",
   "metadata": {},
   "outputs": [],
   "source": []
  }
 ],
 "metadata": {
  "kernelspec": {
   "display_name": "Python 3 (ipykernel)",
   "language": "python",
   "name": "python3"
  },
  "language_info": {
   "codemirror_mode": {
    "name": "ipython",
    "version": 3
   },
   "file_extension": ".py",
   "mimetype": "text/x-python",
   "name": "python",
   "nbconvert_exporter": "python",
   "pygments_lexer": "ipython3",
   "version": "3.10.9"
  }
 },
 "nbformat": 4,
 "nbformat_minor": 5
}
