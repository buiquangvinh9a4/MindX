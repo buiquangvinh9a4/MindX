{
 "cells": [
  {
   "cell_type": "code",
   "execution_count": 3,
   "id": "2db83490",
   "metadata": {},
   "outputs": [
    {
     "name": "stdout",
     "output_type": "stream",
     "text": [
      "m = 2\n",
      "n = 3\n",
      "A[0][0] = 1\n",
      "A[0][1] = 2\n",
      "A[0][2] = 3\n",
      "A[1][0] = 4\n",
      "A[1][1] = 5\n",
      "A[1][2] = 6\n",
      "Before Matrix: \n",
      "1 2 3 \n",
      "4 5 6 \n",
      "After Matrix: \n",
      "1 4 \n",
      "2 5 \n",
      "3 6 \n"
     ]
    }
   ],
   "source": [
    "m = int(input(\"m = \"))\n",
    "n = int(input(\"n = \"))\n",
    "\n",
    "lst = []\n",
    "for i in range(m):\n",
    "    tmp = []\n",
    "    for j in range(n):\n",
    "        number = int(input(f\"A[{i}][{j}] = \"))\n",
    "        tmp.append(number)\n",
    "    lst.append(tmp)\n",
    "    \n",
    "print(\"Before Matrix: \")\n",
    "for i in range(m):\n",
    "    for j in range(n):\n",
    "        print(lst[i][j], end = \" \")\n",
    "    print()\n",
    "    \n",
    "print(\"After Matrix: \")\n",
    "for i in range(n):\n",
    "    for j in range(m):\n",
    "        print(lst[j][i], end = \" \")\n",
    "    print()\n",
    "    \n",
    "        "
   ]
  },
  {
   "cell_type": "code",
   "execution_count": null,
   "id": "425120f9",
   "metadata": {},
   "outputs": [],
   "source": []
  }
 ],
 "metadata": {
  "kernelspec": {
   "display_name": "Python 3 (ipykernel)",
   "language": "python",
   "name": "python3"
  },
  "language_info": {
   "codemirror_mode": {
    "name": "ipython",
    "version": 3
   },
   "file_extension": ".py",
   "mimetype": "text/x-python",
   "name": "python",
   "nbconvert_exporter": "python",
   "pygments_lexer": "ipython3",
   "version": "3.10.9"
  }
 },
 "nbformat": 4,
 "nbformat_minor": 5
}
