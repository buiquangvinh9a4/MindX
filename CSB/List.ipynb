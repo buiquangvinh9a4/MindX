{
 "cells": [
  {
   "cell_type": "code",
   "execution_count": 5,
   "id": "17d5d891",
   "metadata": {},
   "outputs": [
    {
     "name": "stdout",
     "output_type": "stream",
     "text": [
      "['Nam Anh', 'Nam Khánh', 'Bình', 'Hùng', 100, 200]\n",
      "Học sinh số 1: Nam Anh\n",
      "Học sinh số 2: Nam Khánh\n",
      "Học sinh số 3: Bình\n",
      "Học sinh số 4: Hùng\n",
      "Học sinh số 5: 100\n",
      "Học sinh số 6: 200\n"
     ]
    }
   ],
   "source": [
    "lst_students = [\"Nam Anh\", \"Nam Khánh\", \"Bình\", \"Hùng\",100, 200]\n",
    "\n",
    "# cách 1: in ra biến\n",
    "print(lst_students)\n",
    "\n",
    "# cách 2: lặp qua từng phần tử để hiển thị\n",
    "i = 1\n",
    "for name in lst_students:\n",
    "    print(f\"Học sinh số {i}: {name}\")\n",
    "    i += 1\n",
    "    "
   ]
  },
  {
   "cell_type": "code",
   "execution_count": 13,
   "id": "7787e74b",
   "metadata": {},
   "outputs": [
    {
     "name": "stdout",
     "output_type": "stream",
     "text": [
      "['Ổi', 'Bưởi', 'Ổi', 'Bưởi']\n"
     ]
    }
   ],
   "source": [
    "# truy xuất:   lst_name[index] với index là vị trí trong danh sách\n",
    "lst1 = [\"Chuối\", \"Táo\", \"Lê\", \"Cam\"]\n",
    "lst2 = [\"Ổi\", \"Bưởi\"]\n",
    "print(lst2 * 2)"
   ]
  },
  {
   "cell_type": "code",
   "execution_count": 16,
   "id": "4c6e1776",
   "metadata": {},
   "outputs": [
    {
     "name": "stdout",
     "output_type": "stream",
     "text": [
      "Có\n"
     ]
    }
   ],
   "source": [
    "if \"Vải\" not in lst1:\n",
    "    print(\"Có\")\n",
    "else:\n",
    "    print(\"Không\")"
   ]
  },
  {
   "cell_type": "code",
   "execution_count": 23,
   "id": "6c393287",
   "metadata": {},
   "outputs": [
    {
     "name": "stdout",
     "output_type": "stream",
     "text": [
      "['Hùng', 'Khánh', 'Anh']\n",
      "['Hùng', 'Khánh', 'Anh', 'Vinh']\n"
     ]
    }
   ],
   "source": [
    "lst1 = [\"Hùng\", \"Khánh\"]\n",
    "\n",
    "# cách 1: cộng với 1 list mới\n",
    "lst1 = lst1 + [\"Anh\"]\n",
    "print(lst1)\n",
    "\n",
    "# cách 2: sử dụng 1 hàm: append()\n",
    "lst1.append(\"Vinh\")\n",
    "print(lst1)"
   ]
  },
  {
   "cell_type": "code",
   "execution_count": 27,
   "id": "713a9b68",
   "metadata": {},
   "outputs": [
    {
     "name": "stdout",
     "output_type": "stream",
     "text": [
      "Bạn muốn nhập bao nhiêu số: 5\n",
      "- Nhập số thứ 1: 4\n",
      "- Nhập số thứ 2: 8\n",
      "- Nhập số thứ 3: 5\n",
      "- Nhập số thứ 4: 2\n",
      "- Nhập số thứ 5: -1\n",
      "18\n",
      "8\n"
     ]
    }
   ],
   "source": [
    "# nhập 1 list gồm n phần tử vào từ bàn phím. Hiển thị list đó ra màn hình\n",
    "n = int(input(\"Bạn muốn nhập bao nhiêu số: \"))\n",
    "lst = []\n",
    "\n",
    "\n",
    "for i in range(n):\n",
    "    x = int(input(f\"- Nhập số thứ {i + 1}: \"))\n",
    "    lst.append(x)\n",
    "    \n",
    "# hiển thị tổng của list\n",
    "print(sum(lst))\n",
    "\n",
    "# hiển thị số lớn nhất trong list\n",
    "print(max(lst))\n",
    "\n",
    "\n",
    "    "
   ]
  },
  {
   "cell_type": "code",
   "execution_count": 29,
   "id": "d8bd803a",
   "metadata": {},
   "outputs": [
    {
     "name": "stdout",
     "output_type": "stream",
     "text": [
      "Có bao nhiêu con cá: 3\n",
      "- Giá cá số 1: 675\n",
      "- Giá cá số 2: 2\n",
      "- Giá cá số 3: 56\n",
      "Giá cá đắt nhất là: 675\n",
      "Giá cá rẻ nhất là: 2\n",
      "Tổng giá cá trong danh sách: 733\n"
     ]
    }
   ],
   "source": [
    "n = int(input(\"Có bao nhiêu con cá: \"))\n",
    "lst = []\n",
    "\n",
    "for i in range(n):\n",
    "    x = int(input(f\"- Giá cá số {i + 1}: \"))\n",
    "    lst.append(x)\n",
    "    \n",
    "print(f\"Giá cá đắt nhất là: {max(lst)}\")\n",
    "print(f\"Giá cá rẻ nhất là: {min(lst)}\")\n",
    "print(f\"Tổng giá cá trong danh sách: {sum(lst)}\")"
   ]
  },
  {
   "cell_type": "code",
   "execution_count": 35,
   "id": "349031fd",
   "metadata": {},
   "outputs": [
    {
     "name": "stdout",
     "output_type": "stream",
     "text": [
      "Nhập vào số lượng cán bộ: 2\n",
      "- Nhập chiều cao cho cán bộ 1: 150\n",
      "- Nhập cân nặng cho cán bộ 1: 44\n",
      "- Nhập chiều cao cho cán bộ 2: 170\n",
      "- Nhập cân nặng cho cán bộ 2: 67\n",
      "[0.0, 0.0]\n",
      "Có tổng số 0 cán bộ bị BÉO PHÌ\n"
     ]
    }
   ],
   "source": [
    "n = int(input(\"Nhập vào số lượng cán bộ: \"))\n",
    "\n",
    "BMI_lst = []\n",
    "\n",
    "for i in range(n):\n",
    "    h = float(input(f\"- Nhập chiều cao cho cán bộ {i + 1}: \"))\n",
    "    w = float(input(f\"- Nhập cân nặng cho cán bộ {i + 1}: \"))\n",
    "    BMI = w / (h * h)\n",
    "    BMI_lst.append(round(BMI, 2))\n",
    "    \n",
    "    \n",
    "count = 0\n",
    "for BMI in BMI_lst:\n",
    "    if BMI >= 30:\n",
    "        count += 1\n",
    "    \n",
    "print(BMI_lst)\n",
    "print(f\"Có tổng số {count} cán bộ bị BÉO PHÌ\")\n"
   ]
  },
  {
   "cell_type": "code",
   "execution_count": 41,
   "id": "15e9823b",
   "metadata": {},
   "outputs": [
    {
     "name": "stdout",
     "output_type": "stream",
     "text": [
      "6\n"
     ]
    }
   ],
   "source": [
    "A = [[1, 2, 3, 4], [54, 41, 30, 12]]\n",
    "B = [[5, 2, 4, 1], [54, 41, 30, 12]]\n",
    "\n",
    "print(A[0][0] + B[0][0])"
   ]
  },
  {
   "cell_type": "code",
   "execution_count": 46,
   "id": "1083d35e",
   "metadata": {},
   "outputs": [
    {
     "name": "stdout",
     "output_type": "stream",
     "text": [
      "Nhập số dòng: 2\n",
      "Nhập số cột: 2\n",
      "Nhập ma trận A: \n",
      "- Nhập phần tử [0][0]: 1\n",
      "- Nhập phần tử [0][1]: 2\n",
      "- Nhập phần tử [1][0]: 3\n",
      "- Nhập phần tử [1][1]: 4\n",
      "Nhập ma trận B: \n",
      "- Nhập phần tử [0][0]: 5\n",
      "- Nhập phần tử [0][1]: 6\n",
      "- Nhập phần tử [1][0]: 7\n",
      "- Nhập phần tử [1][1]: 8\n",
      "Ma trận tổng là: \n",
      "6 8 \n",
      "10 12 \n"
     ]
    }
   ],
   "source": [
    "m = int(input(\"Nhập số dòng: \"))\n",
    "n = int(input(\"Nhập số cột: \"))\n",
    "\n",
    "A = []     # ma trận A \n",
    "B = []     # ma trận B\n",
    "\n",
    "print(\"Nhập ma trận A: \")\n",
    "for i in range(m):  # nhập ma trận A\n",
    "    x = []   # danh sách con\n",
    "    for j in range(n):\n",
    "        value = int(input(f\"- Nhập phần tử [{i}][{j}]: \"))\n",
    "        x.append(value)\n",
    "    A.append(x)\n",
    "    \n",
    "print(\"Nhập ma trận B: \")\n",
    "for i in range(m):  # nhập ma trận B\n",
    "    x = []   # danh sách con\n",
    "    for j in range(n):\n",
    "        value = int(input(f\"- Nhập phần tử [{i}][{j}]: \"))\n",
    "        x.append(value)\n",
    "    B.append(x)\n",
    "    \n",
    "    \n",
    "print(\"Ma trận tổng là: \")\n",
    "# cách 1: tính và hiển thị ra luôn\n",
    "# for i in range(m):\n",
    "#     for j in range(n):\n",
    "#         value = A[i][j] + B[i][j]\n",
    "#         print(value, end = \" \")\n",
    "#     print()\n",
    "    \n",
    "    \n",
    "# cách 2: lưu trữ vào ma trận C \n",
    "C = []\n",
    "for i in range(m):\n",
    "    c_child = []\n",
    "    for j in range(n):\n",
    "        value = A[i][j] + B[i][j]\n",
    "        c_child.append(value)\n",
    "    C.append(c_child)\n",
    "\n",
    "for i in range(m):\n",
    "    for j in range(n):\n",
    "        print(C[i][j], end = \" \")\n",
    "    print()\n",
    "        "
   ]
  },
  {
   "cell_type": "code",
   "execution_count": 42,
   "id": "dfd8e389",
   "metadata": {},
   "outputs": [
    {
     "name": "stdout",
     "output_type": "stream",
     "text": [
      "6 5 9 \n",
      "7 10 12 \n"
     ]
    }
   ],
   "source": [
    "for i in range(m):\n",
    "    for j in range(n):\n",
    "        print(lst[i][j], end = \" \")\n",
    "    print()"
   ]
  },
  {
   "cell_type": "code",
   "execution_count": null,
   "id": "4147392a",
   "metadata": {},
   "outputs": [],
   "source": []
  }
 ],
 "metadata": {
  "kernelspec": {
   "display_name": "Python 3 (ipykernel)",
   "language": "python",
   "name": "python3"
  },
  "language_info": {
   "codemirror_mode": {
    "name": "ipython",
    "version": 3
   },
   "file_extension": ".py",
   "mimetype": "text/x-python",
   "name": "python",
   "nbconvert_exporter": "python",
   "pygments_lexer": "ipython3",
   "version": "3.10.9"
  }
 },
 "nbformat": 4,
 "nbformat_minor": 5
}
