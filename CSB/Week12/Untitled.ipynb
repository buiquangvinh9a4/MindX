{
 "cells": [
  {
   "cell_type": "code",
   "execution_count": 13,
   "id": "0cbbc3e0",
   "metadata": {},
   "outputs": [
    {
     "name": "stdout",
     "output_type": "stream",
     "text": [
      "<_io.TextIOWrapper name='vanban.txt' mode='r' encoding='UTF-8'>\n"
     ]
    }
   ],
   "source": [
    "fh = open(\"vanban.txt\")\n",
    "print(fh)"
   ]
  },
  {
   "cell_type": "code",
   "execution_count": 8,
   "id": "fd3d964f",
   "metadata": {},
   "outputs": [
    {
     "name": "stdout",
     "output_type": "stream",
     "text": [
      "Ha Noi hom nay troi 14 do\n",
      "\n",
      "Rat la lanh\n",
      "\n",
      "Iphone 15 Promax co gia tu 37tr\n"
     ]
    }
   ],
   "source": [
    "# đọc dữ liệu từ file\n",
    "for line in fh:\n",
    "    print(line)"
   ]
  },
  {
   "cell_type": "code",
   "execution_count": 14,
   "id": "63d602f7",
   "metadata": {},
   "outputs": [
    {
     "data": {
      "text/plain": [
       "['Ha Noi hom nay troi 14 do', 'Rat la lanh', 'Iphone 15 Promax co gia tu 37tr']"
      ]
     },
     "execution_count": 14,
     "metadata": {},
     "output_type": "execute_result"
    }
   ],
   "source": [
    "lst = []\n",
    "for line in fh:\n",
    "    line = line.replace(\"\\n\", \"\")  # hàm thay thế \\n\n",
    "    lst.append(line)\n",
    "lst"
   ]
  },
  {
   "cell_type": "code",
   "execution_count": 15,
   "id": "39220f07",
   "metadata": {},
   "outputs": [
    {
     "data": {
      "text/plain": [
       "'\\n    Luồng hoạt động của file:\\n    1. Đọc file bằng hàm open()   -> là phải đọc được\\n    2. Duyệt từng dòng để đẩy vào list\\n    3. Xử lý file list\\n'"
      ]
     },
     "execution_count": 15,
     "metadata": {},
     "output_type": "execute_result"
    }
   ],
   "source": [
    "\"\"\"\n",
    "    Luồng hoạt động của file:\n",
    "    1. Đọc file bằng hàm open()   -> là phải đọc được\n",
    "    2. Duyệt từng dòng để đẩy vào list\n",
    "    3. Xử lý file list\n",
    "\"\"\""
   ]
  },
  {
   "cell_type": "code",
   "execution_count": 25,
   "id": "b5a0e4e6",
   "metadata": {},
   "outputs": [
    {
     "name": "stdout",
     "output_type": "stream",
     "text": [
      "Có 6 số chẵn ở trong file\n"
     ]
    }
   ],
   "source": [
    "file = open(\"number.txt\")\n",
    "\n",
    "lst_numbers = []\n",
    "\n",
    "for line in file:   # lặp từng dòng ở trong file \n",
    "    tmp = line.split(\" \")   # tách từng chữ số -> string\n",
    "    for number in tmp:       # lặp từng chữ số\n",
    "        lst_numbers.append(int(number))   # ép kiểu -> lst_numbers\n",
    "    \n",
    "file.close()\n",
    "# ---------------------------------------    \n",
    "    \n",
    "# đếm số chẵn trong file\n",
    "count = 0\n",
    "for number in lst_numbers:\n",
    "    if number % 2 == 0:\n",
    "        count += 1\n",
    "print(f\"Có {count} số chẵn ở trong file\")"
   ]
  },
  {
   "cell_type": "code",
   "execution_count": 22,
   "id": "b9513ed4",
   "metadata": {},
   "outputs": [
    {
     "data": {
      "text/plain": [
       "['2', '20', '15', '1', '-25', '36', '123', '976543', '12234']"
      ]
     },
     "execution_count": 22,
     "metadata": {},
     "output_type": "execute_result"
    }
   ],
   "source": []
  },
  {
   "cell_type": "code",
   "execution_count": 26,
   "id": "53002ab8",
   "metadata": {},
   "outputs": [
    {
     "data": {
      "text/plain": [
       "[12, 20, 15, 1, -25, 36, 123, 976543, 12234, 2314, 41254214]"
      ]
     },
     "execution_count": 26,
     "metadata": {},
     "output_type": "execute_result"
    }
   ],
   "source": [
    "with open(\"number.txt\") as file:\n",
    "    lst_numbers = []\n",
    "\n",
    "    for line in file:   # lặp từng dòng ở trong file \n",
    "        tmp = line.split(\" \")   # tách từng chữ số -> string\n",
    "        for number in tmp:       # lặp từng chữ số\n",
    "            lst_numbers.append(int(number))   # ép kiểu -> lst_numbers\n",
    "\n",
    "lst_numbers\n"
   ]
  },
  {
   "cell_type": "code",
   "execution_count": 32,
   "id": "c3b4034f",
   "metadata": {},
   "outputs": [
    {
     "name": "stdout",
     "output_type": "stream",
     "text": [
      "1\n",
      "\n",
      "2\n",
      "\n",
      "\n",
      "\n"
     ]
    }
   ],
   "source": [
    "with open(\"number.txt\") as file:\n",
    "    a = file.readline()\n",
    "    b = file.readline()\n",
    "    c = file.readline()\n",
    "    \n",
    "    \n",
    "    print(a)\n",
    "    print(b)\n",
    "    \n",
    "    file.seek(3)\n",
    "    d = file.readline()\n",
    "    print(d)\n",
    "    \n",
    "\n"
   ]
  },
  {
   "cell_type": "code",
   "execution_count": 43,
   "id": "6c1c0c63",
   "metadata": {},
   "outputs": [
    {
     "name": "stdout",
     "output_type": "stream",
     "text": [
      "Ghi file thành công!\n"
     ]
    }
   ],
   "source": [
    "with open(\"number.txt\") as file:\n",
    "    lst = []\n",
    "    for line in file:\n",
    "        for number in line.split():\n",
    "            lst.append(int(number))\n",
    "# ------------------------------------ \n",
    "# 1. Đếm các số nguyên không trùng nhau\n",
    "lstNotDup = []\n",
    "\n",
    "for number in lst:\n",
    "    if number not in lstNotDup:\n",
    "        lstNotDup.append(number)\n",
    "    \n",
    "\n",
    "\n",
    "# 2. Thống kê tần suất xuất hiện\n",
    "dic = {}\n",
    "\n",
    "for number in lst:\n",
    "    if number not in dic.keys():\n",
    "        dic[number] = 1\n",
    "    else:\n",
    "        dic[number] = dic[number] + 1\n",
    "        \n",
    "#--------- WRITE FILE ----------------------- \n",
    "with open(\"testWrite.txt\", \"a+\") as file:\n",
    "    file.write(f\"Số lượng các số không trùng lặp trong file: {len(lstNotDup)}\\n\")\n",
    "    for key, value in dic.items():\n",
    "        s = str(key) + \": \" + str(value) + \"\\n\"\n",
    "        file.write(s)\n",
    "    print(\"Ghi file thành công!\")"
   ]
  },
  {
   "cell_type": "code",
   "execution_count": 36,
   "id": "6364fc40",
   "metadata": {},
   "outputs": [],
   "source": [
    "with open(\"testWrite.txt\", \"w\") as file:\n",
    "    file.write(\"Hello các bạn\")\n",
    "   # print(\"Hello các bạn\")"
   ]
  },
  {
   "cell_type": "code",
   "execution_count": 46,
   "id": "83b49873",
   "metadata": {},
   "outputs": [
    {
     "ename": "AttributeError",
     "evalue": "'str' object has no attribute 'isnumber'",
     "output_type": "error",
     "traceback": [
      "\u001b[0;31m---------------------------------------------------------------------------\u001b[0m",
      "\u001b[0;31mAttributeError\u001b[0m                            Traceback (most recent call last)",
      "Cell \u001b[0;32mIn[46], line 7\u001b[0m\n\u001b[1;32m      1\u001b[0m \u001b[38;5;124;03m\"\"\"\u001b[39;00m\n\u001b[1;32m      2\u001b[0m \u001b[38;5;124;03m    1.  isupper() : check chữ hoa\u001b[39;00m\n\u001b[1;32m      3\u001b[0m \u001b[38;5;124;03m    2.  islower() : check chữ thường\u001b[39;00m\n\u001b[1;32m      4\u001b[0m \u001b[38;5;124;03m    3.  \u001b[39;00m\n\u001b[1;32m      5\u001b[0m \u001b[38;5;124;03m\"\"\"\u001b[39;00m\n\u001b[1;32m      6\u001b[0m s \u001b[38;5;241m=\u001b[39m \u001b[38;5;124m\"\u001b[39m\u001b[38;5;124ma\u001b[39m\u001b[38;5;124m\"\u001b[39m\n\u001b[0;32m----> 7\u001b[0m \u001b[38;5;28mprint\u001b[39m(\u001b[43ms\u001b[49m\u001b[38;5;241;43m.\u001b[39;49m\u001b[43misnumber\u001b[49m())\n",
      "\u001b[0;31mAttributeError\u001b[0m: 'str' object has no attribute 'isnumber'"
     ]
    }
   ],
   "source": [
    "\"\"\"\n",
    "    1.  isupper() : check chữ hoa\n",
    "    2.  islower() : check chữ thường\n",
    "    3.  \"0\" <= kí tự <= \"9\" : check chữ số  <-> isdigit()\n",
    "    4.  Ngược lại là kí tự đặc biệt\n",
    "\"\"\"\n",
    "s = \"a\"\n",
    "print(s.isnumber())"
   ]
  },
  {
   "cell_type": "code",
   "execution_count": 53,
   "id": "e3c9666b",
   "metadata": {},
   "outputs": [
    {
     "name": "stdout",
     "output_type": "stream",
     "text": [
      "Ghi file thành công!\n"
     ]
    }
   ],
   "source": [
    "with open(\"vanban.inp\", \"r\") as file:\n",
    "    lst = [0, 0, 0, 0]\n",
    "    for line in file:\n",
    "        line = line.replace(\"\\n\", \"\")\n",
    "        for word in line:\n",
    "            if word.islower():\n",
    "                lst[0] += 1\n",
    "            elif word.isupper():\n",
    "                lst[1] += 1\n",
    "            elif word.isdigit():\n",
    "                lst[2] += 1\n",
    "            else:\n",
    "                lst[3] += 1\n",
    "with open(\"vanban.out\", \"a+\") as file:\n",
    "    for number in lst:\n",
    "        file.write(str(number) + \" \")\n",
    "    print(\"Ghi file thành công!\")\n",
    "    "
   ]
  },
  {
   "cell_type": "code",
   "execution_count": null,
   "id": "9f48f406",
   "metadata": {},
   "outputs": [],
   "source": []
  }
 ],
 "metadata": {
  "kernelspec": {
   "display_name": "Python 3 (ipykernel)",
   "language": "python",
   "name": "python3"
  },
  "language_info": {
   "codemirror_mode": {
    "name": "ipython",
    "version": 3
   },
   "file_extension": ".py",
   "mimetype": "text/x-python",
   "name": "python",
   "nbconvert_exporter": "python",
   "pygments_lexer": "ipython3",
   "version": "3.10.9"
  }
 },
 "nbformat": 4,
 "nbformat_minor": 5
}
