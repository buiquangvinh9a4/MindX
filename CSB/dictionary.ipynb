{
 "cells": [
  {
   "cell_type": "code",
   "execution_count": 19,
   "id": "07d12a62",
   "metadata": {},
   "outputs": [
    {
     "name": "stdout",
     "output_type": "stream",
     "text": [
      "123456 Bùi Quang Vinh\n",
      "345678 Nguyễn Văn A\n",
      "234562 Nam Khánh\n",
      "102033 Nam Anh\n",
      "123456\n",
      "345678\n",
      "234562\n",
      "102033\n",
      "Bùi Quang Vinh\n",
      "Nguyễn Văn A\n",
      "Nam Khánh\n",
      "Nam Anh\n",
      "345678 Nguyễn Văn A\n",
      "234562 Nam Khánh\n",
      "123456 Bùi Quang Vinh\n",
      "102033 Nam Anh\n"
     ]
    }
   ],
   "source": [
    "dic = {123456 : \"Bùi Quang Vinh\",\n",
    "       345678 : \"Nguyễn Văn A\",\n",
    "       234562 : \"Nam Khánh\",\n",
    "       102033 : \"Nam Anh\"}\n",
    "\n",
    "# duyệt tất cả phần tử\n",
    "for key, value in dic.items():\n",
    "    print(key, value)\n",
    "\n",
    "    \n",
    "# duyệt theo khoá\n",
    "for key in dic.keys():\n",
    "    print(key)\n",
    "    \n",
    "# duyệt theo giá trị\n",
    "for value in dic.values():\n",
    "    print(value)\n",
    "\n",
    "sapxep = dict(sorted(dic.items(), reverse = True))\n",
    "\n",
    "\n",
    "for key, value in sapxep.items():\n",
    "    print(key, value)"
   ]
  },
  {
   "cell_type": "code",
   "execution_count": 13,
   "id": "608e9052",
   "metadata": {},
   "outputs": [
    {
     "name": "stdout",
     "output_type": "stream",
     "text": [
      "Nhập số người muốn thêm vào danh bạ: 3\n",
      "- Nhập họ tên người 1: Bùi Quang Vinh\n",
      "- Nhập số điện thoại người 1: 0397026573\n",
      "- Nhập họ tên người 2: Nguyễn Vân Anh\n",
      "- Nhập số điện thoại người 2: 0312943210\n",
      "- Nhập họ tên người 3: Trần Văn Giang\n",
      "- Nhập số điện thoại người 3: 0542123598\n",
      "{'Bùi Quang Vinh': '0397026573', 'Nguyễn Vân Anh': '0312943210', 'Trần Văn Giang': '0542123598'}\n"
     ]
    }
   ],
   "source": [
    "# nhập phần tử\n",
    "\n",
    "# B1: khai báo số lượng phần tử muốn nhập\n",
    "n = int(input(\"Nhập số người muốn thêm vào danh bạ: \"))\n",
    "\n",
    "# B2: khai báo dictionary trống\n",
    "danhba = {}\n",
    "\n",
    "# B3: sử dụng vòng lặp for để nhập:  key - value \n",
    "for i in range(n):\n",
    "    ten = input(f\"- Nhập họ tên người {i + 1}: \")\n",
    "    sdt = input(f\"- Nhập số điện thoại người {i + 1}: \")\n",
    "    \n",
    "    # cách đẩy 1: sử dụng định nghĩa \n",
    "    danhba[ten] = sdt\n",
    "    \n",
    "    # cách đẩy 2: sử dụng hàm update()\n",
    "    danhba.update({ten : sdt})\n",
    "    \n",
    "\n",
    "print(danhba)"
   ]
  },
  {
   "cell_type": "code",
   "execution_count": 20,
   "id": "b33ed1e8",
   "metadata": {},
   "outputs": [
    {
     "name": "stdout",
     "output_type": "stream",
     "text": [
      "Nhập số học sinh: 3\n",
      "- Nhập họ tên học sinh 1: Vinh\n",
      "- Nhập điểm trung bình học sinh 1: 7\n",
      "- Nhập họ tên học sinh 2: Khánh\n",
      "- Nhập điểm trung bình học sinh 2: 5\n",
      "- Nhập họ tên học sinh 3: Bình\n",
      "- Nhập điểm trung bình học sinh 3: 9\n",
      "{'Vinh': 7.0, 'Khánh': 5.0, 'Bình': 9.0}\n",
      "{'Khánh': 5.0, 'Vinh': 7.0, 'Bình': 9.0}\n"
     ]
    }
   ],
   "source": [
    "# Bài 1\n",
    "\n",
    "# nhập phần tử\n",
    "\n",
    "# B1: khai báo số lượng phần tử muốn nhập\n",
    "n = int(input(\"Nhập số học sinh: \"))\n",
    "\n",
    "# B2: khai báo dictionary trống\n",
    "ds = {}\n",
    "\n",
    "# B3: sử dụng vòng lặp for để nhập:  key - value \n",
    "for i in range(n):\n",
    "    ten = input(f\"- Nhập họ tên học sinh {i + 1}: \")\n",
    "    diem = float(input(f\"- Nhập điểm trung bình học sinh {i + 1}: \"))\n",
    "    \n",
    "    # cách đẩy 2: sử dụng hàm update()\n",
    "    ds.update({ten : diem})\n",
    "    \n",
    "# sắp xếp theo chiều giảm dần key\n",
    "ds1 = dict(sorted(ds.items(), reverse = True))\n",
    "\n",
    "# sắp xếp theo chiều tăng dần của value\n",
    "ds2 = dict(sorted(ds.items(), key = lambda x : x[1]))\n",
    "\n",
    "print(ds1)\n",
    "print(ds2)"
   ]
  },
  {
   "cell_type": "code",
   "execution_count": 25,
   "id": "14e06aac",
   "metadata": {},
   "outputs": [
    {
     "name": "stdout",
     "output_type": "stream",
     "text": [
      "Nhập số mặt hàng: 3\n",
      "- Nhập tên mặt hàng 1: Samsung\n",
      "- Nhập giá tiền mặt hàng 1: 10\n",
      "- Nhập tên mặt hàng 2: Iphone\n",
      "- Nhập giá tiền mặt hàng 2: 20\n",
      "- Nhập tên mặt hàng 3: Xiaomi\n",
      "- Nhập giá tiền mặt hàng 3: 15\n",
      "Mặt hàng đắt nhất là:  Iphone - 20\n",
      "Mặt hàng rẻ nhất là:  Samsung - 10\n"
     ]
    }
   ],
   "source": [
    "# Bài 2\n",
    "\n",
    "# B1: khai báo số lượng phần tử muốn nhập\n",
    "n = int(input(\"Nhập số mặt hàng: \"))\n",
    "\n",
    "# B2: khai báo dictionary trống\n",
    "ds = {}\n",
    "\n",
    "# B3: sử dụng vòng lặp for để nhập:  key - value \n",
    "for i in range(n):\n",
    "    ten = input(f\"- Nhập tên mặt hàng {i + 1}: \")\n",
    "    tien = int(input(f\"- Nhập giá tiền mặt hàng {i + 1}: \"))\n",
    "    \n",
    "    # cách đẩy 2: sử dụng hàm update()\n",
    "    ds.update({ten : tien})\n",
    "    \n",
    "# lấy ra giá trị tiền lớn nhất \n",
    "ds_tien = ds.values()\n",
    "sotienMax = max(ds_tien)\n",
    "sotienMin = min(ds_tien)\n",
    "\n",
    "\n",
    "# duyệt danh sách tìm max\n",
    "print(\"Mặt hàng đắt nhất là: \", end = \" \")\n",
    "for ten, tien in ds.items():\n",
    "    if sotienMax == tien:\n",
    "        print(f\"{ten} - {tien}\")\n",
    "        break\n",
    "    \n",
    "# duyệt danh sách tìm min\n",
    "print(\"Mặt hàng rẻ nhất là: \", end = \" \")\n",
    "for ten, tien in ds.items():\n",
    "    if sotienMin == tien:\n",
    "        print(f\"{ten} - {tien}\")\n",
    "        break\n",
    "\n"
   ]
  },
  {
   "cell_type": "code",
   "execution_count": null,
   "id": "f4c246a9",
   "metadata": {},
   "outputs": [],
   "source": []
  }
 ],
 "metadata": {
  "kernelspec": {
   "display_name": "Python 3 (ipykernel)",
   "language": "python",
   "name": "python3"
  },
  "language_info": {
   "codemirror_mode": {
    "name": "ipython",
    "version": 3
   },
   "file_extension": ".py",
   "mimetype": "text/x-python",
   "name": "python",
   "nbconvert_exporter": "python",
   "pygments_lexer": "ipython3",
   "version": "3.10.9"
  }
 },
 "nbformat": 4,
 "nbformat_minor": 5
}
