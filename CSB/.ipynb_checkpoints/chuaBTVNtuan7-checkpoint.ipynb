{
 "cells": [
  {
   "cell_type": "code",
   "execution_count": 6,
   "id": "e92425d6",
   "metadata": {},
   "outputs": [
    {
     "name": "stdout",
     "output_type": "stream",
     "text": [
      "- Enter number: XI\n",
      "Error\n"
     ]
    }
   ],
   "source": [
    "# Bài 1\n",
    "numbers = {'I': 1, 'II': 2, 'III': 3, 'IV': 4, 'V': 5,\n",
    "               'VI': 6, 'VII': 7, 'VIII': 8, 'IX': 9, 'X': 10}\n",
    "\n",
    "input_number = input(\"- Enter number: \")\n",
    "\n",
    "if input_number not in numbers.keys():\n",
    "    print(\"Error\")\n",
    "else:\n",
    "    print(numbers[input_number])"
   ]
  },
  {
   "cell_type": "code",
   "execution_count": 7,
   "id": "89362a95",
   "metadata": {},
   "outputs": [
    {
     "name": "stdout",
     "output_type": "stream",
     "text": [
      "{'I': 1, 'II': 2, 'III': 3, 'IV': 4, 'V': 5, 'VI': 6, 'VII': 7, 'VIII': 8, 'IX': 9, 'X': 10, 'XI': 11, 'XII': 12, 'XIII': 13, 'XIV': 14, 'XV': 15, 'XVI': 16, 'XVII': 17, 'XVIII': 18, 'XIX': 19, 'XX': 20}\n"
     ]
    }
   ],
   "source": [
    "# Bài 2\n",
    "numbers_2 = {'XI': 11, 'XII': 12, 'XIII': 13, 'XIV': 14, 'XV': 15,\n",
    "                   'XVI': 16, 'XVII': 17, 'XVIII': 18, 'XIX': 19, 'XX': 20}\n",
    "\n",
    "\n",
    "numbers.update(numbers_2)\n",
    "print(numbers)\n",
    "\n",
    "input_number = input(\"- Enter number: \")\n",
    "\n",
    "if input_number not in numbers.keys():\n",
    "    print(\"Error\")\n",
    "else:\n",
    "    print(numbers[input_number])"
   ]
  },
  {
   "cell_type": "code",
   "execution_count": 8,
   "id": "7416afb4",
   "metadata": {},
   "outputs": [
    {
     "name": "stdout",
     "output_type": "stream",
     "text": [
      "{'I': 1, 'II': 2, 'III': 3, 'IV': 4, 'V': 5, 'VI': 6, 'VII': 7, 'VIII': 8, 'IX': 9, 'X': 10, 'XI': 11, 'XII': 12, 'XIII': 13, 'XIV': 14, 'XV': 15, 'XVI': 16, 'XVII': 17, 'XVIII': 18, 'XIX': 19, 'XX': 20}\n"
     ]
    }
   ],
   "source": [
    "# Bài 3\n",
    "number_list = ['I', 'II', 'III', 'IV', 'V', 'VI', 'VII', 'VIII', 'IX', 'X',\n",
    "                 'XI', 'XII', 'XIII', 'XIV', 'XV', 'XVI', 'XVII', 'XVIII', 'XIX', 'XX']\n",
    "\n",
    "dic = {}\n",
    "i = 1\n",
    "\n",
    "for number in number_list:\n",
    "    dic.update({number : i})\n",
    "    i = i + 1\n",
    "    \n",
    "print(dic)"
   ]
  },
  {
   "cell_type": "code",
   "execution_count": 16,
   "id": "0f22a50e",
   "metadata": {},
   "outputs": [
    {
     "name": "stdout",
     "output_type": "stream",
     "text": [
      "List of Students: \n",
      "- Nikki Roysden\n",
      "- Mervin Friedland\n",
      "- Aron Wilkins\n"
     ]
    }
   ],
   "source": [
    "# Bài 4\n",
    "students = [{'firstName': 'Nikki', 'lastName': 'Roysden'},\n",
    "            {'firstName': 'Mervin', 'lastName': 'Friedland'},\n",
    "            {'firstName': 'Aron', 'lastName': 'Wilkins'}]\n",
    "\n",
    "print(\"List of Students: \")\n",
    "for student in students:\n",
    "    #print(student)\n",
    "    print(f\"- {student['firstName']} {student['lastName']}\")\n",
    "    "
   ]
  },
  {
   "cell_type": "code",
   "execution_count": 24,
   "id": "6750d318",
   "metadata": {},
   "outputs": [
    {
     "name": "stdout",
     "output_type": "stream",
     "text": [
      "List of students: \n",
      "- Nikki Roysden\n",
      "- Mervin Friedland\n",
      "- Aron Wilkins\n",
      "List of teachers: \n",
      "- Amberly Calico\n",
      "- Regine Agtarap\n"
     ]
    }
   ],
   "source": [
    "# Bài 5\n",
    "names = {\n",
    "  'students': [\n",
    "    {'firstName': 'Nikki', 'lastName': 'Roysden'},\n",
    "    {'firstName': 'Mervin', 'lastName': 'Friedland'},\n",
    "    {'firstName': 'Aron', 'lastName': 'Wilkins'}\n",
    "  ],\n",
    "  'teachers': [\n",
    "    {'firstName': 'Amberly', 'lastName': 'Calico'},\n",
    "    {'firstName': 'Regine', 'lastName': 'Agtarap'}\n",
    "  ]\n",
    "}\n",
    "\n",
    "lst_students = names[\"students\"]\n",
    "print(\"List of students: \")\n",
    "for student in lst_students:\n",
    "    print(f\"- {student['firstName']} {student['lastName']}\")\n",
    "    \n",
    "lst_teachers = names[\"teachers\"]\n",
    "print(\"List of teachers: \")\n",
    "for teachers in lst_teachers:\n",
    "    print(f\"- {teachers['firstName']} {teachers['lastName']}\")"
   ]
  },
  {
   "cell_type": "code",
   "execution_count": 26,
   "id": "d644db16",
   "metadata": {},
   "outputs": [
    {
     "name": "stdout",
     "output_type": "stream",
     "text": [
      "Enter string: Binh Binh    Binh\n",
      "{'B': 3, 'i': 3, 'n': 3, 'h': 3, ' ': 5}\n"
     ]
    }
   ],
   "source": [
    "# Bài 6\n",
    "\n",
    "string = input(\"Enter string: \")  #ABACD\n",
    "\n",
    "dic = {}       # {\"A\": 2, \"B\": 1}        \n",
    "\n",
    "for char in string:\n",
    "    if char not in dic.keys():\n",
    "        dic[char] = 1\n",
    "    else:\n",
    "        dic[char] = dic[char] + 1\n",
    "        \n",
    "print(dic)\n",
    "    "
   ]
  },
  {
   "cell_type": "code",
   "execution_count": null,
   "id": "8686ecd1",
   "metadata": {},
   "outputs": [],
   "source": []
  }
 ],
 "metadata": {
  "kernelspec": {
   "display_name": "Python 3 (ipykernel)",
   "language": "python",
   "name": "python3"
  },
  "language_info": {
   "codemirror_mode": {
    "name": "ipython",
    "version": 3
   },
   "file_extension": ".py",
   "mimetype": "text/x-python",
   "name": "python",
   "nbconvert_exporter": "python",
   "pygments_lexer": "ipython3",
   "version": "3.10.9"
  }
 },
 "nbformat": 4,
 "nbformat_minor": 5
}
