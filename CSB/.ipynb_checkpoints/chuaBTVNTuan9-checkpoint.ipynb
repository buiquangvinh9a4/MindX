{
 "cells": [
  {
   "cell_type": "code",
   "execution_count": 6,
   "id": "87ed74c8",
   "metadata": {},
   "outputs": [
    {
     "name": "stdout",
     "output_type": "stream",
     "text": [
      "5.5 is not an integer\n"
     ]
    }
   ],
   "source": [
    "# Bài 1:\n",
    "\n",
    "def is_int(number):\n",
    "    tmp = number // 1\n",
    "    if number == tmp:\n",
    "        return True\n",
    "    return False\n",
    "\n",
    "num = 5.5\n",
    "if is_int(num):\n",
    "    print(f'{int(num)} is an integer')\n",
    "else:\n",
    "    print(f'{num} is not an integer')"
   ]
  },
  {
   "cell_type": "code",
   "execution_count": 10,
   "id": "8e56da85",
   "metadata": {},
   "outputs": [
    {
     "data": {
      "text/plain": [
       "False"
      ]
     },
     "execution_count": 10,
     "metadata": {},
     "output_type": "execute_result"
    }
   ],
   "source": [
    "# Bài 2\n",
    "def isPrimeNumber(num):\n",
    "    if num < 2:\n",
    "        return False\n",
    "    else:\n",
    "        for i in range(2, int(num ** 0.5) + 1):\n",
    "            if num % i == 0:\n",
    "                return False\n",
    "        return True\n",
    "    \n",
    "isPrimeNumber(6)"
   ]
  },
  {
   "cell_type": "code",
   "execution_count": 12,
   "id": "8b713b6d",
   "metadata": {},
   "outputs": [
    {
     "name": "stdout",
     "output_type": "stream",
     "text": [
      "- Enter n: 5\n",
      "2 3 5 7 11 "
     ]
    }
   ],
   "source": [
    "# Bài 3\n",
    "def isPrimeNumber(num):\n",
    "    if num < 2:\n",
    "        return False\n",
    "    else:\n",
    "        for i in range(2, int(num ** 0.5) + 1):\n",
    "            if num % i == 0:\n",
    "                return False\n",
    "        return True\n",
    "    \n",
    "    \n",
    "# -----------------------------------------    \n",
    "n = int(input(\"- Enter n: \"))\n",
    "\n",
    "count = 0\n",
    "i = 2\n",
    "\n",
    "while count < n:\n",
    "    if isPrimeNumber(i) == True:\n",
    "        print(i, end = \" \")\n",
    "        count = count + 1\n",
    "        \n",
    "    i = i + 1"
   ]
  },
  {
   "cell_type": "code",
   "execution_count": 17,
   "id": "dcbfa3e7",
   "metadata": {},
   "outputs": [
    {
     "name": "stdout",
     "output_type": "stream",
     "text": [
      "- Enter n: 5\n",
      "34\n"
     ]
    }
   ],
   "source": [
    "# Bài 4\n",
    "\n",
    "# def giaiThua(number):\n",
    "#     result = 1\n",
    "#     for i in range(1, number + 1):\n",
    "#         result = result * i\n",
    "        \n",
    "#     return result\n",
    "\n",
    "def giaiThua(n):\n",
    "    if n == 1:\n",
    "        return 1\n",
    "    return n * giaiThua(n - 1)\n",
    "\n",
    "\"\"\"\n",
    "    Hàm đệ quy\n",
    "    n = 5\n",
    "    \n",
    "    ->  5  * giaiThua(4)\n",
    "    ->  5  * 4 * giaiThua(3)\n",
    "    ->  5  * 4 * 3 * giaiThua(2)\n",
    "    ->  5  * 4 * 3 * 2 * giaiThua(1)\n",
    "    ->  5  * 4 * 3 * 2 * 1\n",
    "\n",
    "    Giả sử giaiThua(n) ->  S(n)\n",
    "    \n",
    "    S(n) =  1              <=>  n = 1\n",
    "            n * S(n - 1)   <=>  n > 1\n",
    "\n",
    "\"\"\"\n",
    "\n",
    "n = int(input(\"- Enter n: \"))\n",
    "\n",
    "s = 0\n",
    "for i in range(1, n + 1):\n",
    "    s = s + giaiThua(i) / i\n",
    "\n",
    "print(int(s))"
   ]
  },
  {
   "cell_type": "code",
   "execution_count": 19,
   "id": "a0e045dd",
   "metadata": {},
   "outputs": [
    {
     "name": "stdout",
     "output_type": "stream",
     "text": [
      "5\n"
     ]
    }
   ],
   "source": [
    "print(25//5)"
   ]
  },
  {
   "cell_type": "code",
   "execution_count": null,
   "id": "9c4c3513",
   "metadata": {},
   "outputs": [],
   "source": []
  }
 ],
 "metadata": {
  "kernelspec": {
   "display_name": "Python 3 (ipykernel)",
   "language": "python",
   "name": "python3"
  },
  "language_info": {
   "codemirror_mode": {
    "name": "ipython",
    "version": 3
   },
   "file_extension": ".py",
   "mimetype": "text/x-python",
   "name": "python",
   "nbconvert_exporter": "python",
   "pygments_lexer": "ipython3",
   "version": "3.10.9"
  }
 },
 "nbformat": 4,
 "nbformat_minor": 5
}
