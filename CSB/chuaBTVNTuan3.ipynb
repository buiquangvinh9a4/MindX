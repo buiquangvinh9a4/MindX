{
 "cells": [
  {
   "cell_type": "code",
   "execution_count": 4,
   "id": "a0d60b11",
   "metadata": {},
   "outputs": [
    {
     "name": "stdout",
     "output_type": "stream",
     "text": [
      "Nhập n: 45\n",
      "Tổng các số từ 1 đến 45 thoả mãn ĐK = 168\n"
     ]
    }
   ],
   "source": [
    "# Bài 1: Tổng các số vừa chia hết 2, và 3\n",
    "n = int(input(\"Nhập n: \"))\n",
    "\n",
    "s = 0\n",
    "for i in range(1, n + 1):\n",
    "    if i % 2 == 0 and i % 3 == 0:\n",
    "        s = s + i\n",
    "        \n",
    "        \n",
    "print(f\"Tổng các số từ 1 đến {n} thoả mãn ĐK = {s}\")"
   ]
  },
  {
   "cell_type": "code",
   "execution_count": 9,
   "id": "63cb9fbe",
   "metadata": {},
   "outputs": [
    {
     "name": "stdout",
     "output_type": "stream",
     "text": [
      "Tuổi cha: 30\n",
      "Tuổi con: 12\n",
      "Sau 6 năm nữa, tuổi cha gấp đôi tuổi con\n"
     ]
    }
   ],
   "source": [
    "# Bài 2: Tuổi cha con\n",
    "cha = int(input(\"Tuổi cha: \"))\n",
    "con = int(input(\"Tuổi con: \"))\n",
    "\n",
    "nam = 0\n",
    "while cha != 2 * con:\n",
    "    cha = cha + 1\n",
    "    con = con + 1\n",
    "    nam = nam + 1\n",
    "    \n",
    "print(f\"Sau {nam} năm nữa, tuổi cha gấp đôi tuổi con\")"
   ]
  },
  {
   "cell_type": "code",
   "execution_count": 12,
   "id": "1b367d9f",
   "metadata": {},
   "outputs": [
    {
     "name": "stdout",
     "output_type": "stream",
     "text": [
      "Nhập số: 8661\n",
      "Tổng các số trong 8661 = 21\n"
     ]
    }
   ],
   "source": [
    "# Bài 3: tính tổng các chữ số trong một số\n",
    "number = int(input(\"Nhập số: \"))\n",
    "number_x = number     # kỹ thuật thay thế - bảo toàn giá trị\n",
    "\n",
    "# 8661 -> 8661 % 10 = 1\n",
    "# 8661 -> 866 -> 8661 // 10 = 866 -> number\n",
    "\n",
    "s = 0\n",
    "while number_x > 0:\n",
    "    x = number_x % 10  # lấy giá trị ở hàng đơn vị\n",
    "    s = s + x \n",
    "    number_x = number_x // 10  # tách giá trị ở hàng đơn vị\n",
    "    \n",
    "print(f\"Tổng các số trong {number} = {s}\")\n",
    "    \n",
    "    "
   ]
  },
  {
   "cell_type": "code",
   "execution_count": 16,
   "id": "2242b2fc",
   "metadata": {},
   "outputs": [
    {
     "name": "stdout",
     "output_type": "stream",
     "text": [
      "Nhập n: 1000\n",
      "3.141\n"
     ]
    }
   ],
   "source": [
    "# Bài 4: tính số Pi bằng công thức Euler\n",
    "\n",
    "# pi^2/6 = S\n",
    "# pi^2 = 6S\n",
    "# pi = sqrt(6S)\n",
    "\n",
    "import math\n",
    "n = int(input(\"Nhập n: \"))\n",
    "S = 0\n",
    "\n",
    "for i in range(1, n + 1):\n",
    "    S = S + (1 / i ** 2)\n",
    "    \n",
    "pi = math.sqrt(6 * S)    \n",
    "print(f\"{pi:.3f}\")"
   ]
  },
  {
   "cell_type": "code",
   "execution_count": 21,
   "id": "3a68f261",
   "metadata": {},
   "outputs": [
    {
     "name": "stdout",
     "output_type": "stream",
     "text": [
      "Nhập số cần kiểm tra: 407\n",
      "YES\n"
     ]
    }
   ],
   "source": [
    "# Bài 5: Số amstrong\n",
    "\n",
    "# 153 = 1^3 + 5^3 + 3^3 = 1 + 125 + 27 = 153\n",
    "#      = 1^k + 5^k + 3^k\n",
    "\n",
    "\"\"\"\n",
    "    Bước 1: tìm hệ số k \n",
    "    Bước 2: Tính tổng luỹ thừa bậc k các chữ số\n",
    "    Bước 3: So sánh tổng vừa tính với số ban đầu\n",
    "      - Nếu = : YES\n",
    "      - Nếu != : NO\n",
    "\"\"\"\n",
    "\n",
    "number = int(input(\"Nhập số cần kiểm tra: \"))\n",
    "\n",
    "# Bước 1: tìm hệ số k\n",
    "k = len(str(number))\n",
    "\n",
    "# Bước 2: tính tổng luỹ thừa bậc k các chữ số\n",
    "s = 0\n",
    "m = number\n",
    "while m > 0:\n",
    "    x = m % 10\n",
    "    s = s + (x ** k)\n",
    "    m = m // 10\n",
    "    \n",
    "# Bước 3: so sánh tổng vừa tính với số ban đầu\n",
    "if s == number:\n",
    "    print(\"YES\")\n",
    "else:\n",
    "    print(\"NO\")\n",
    "    \n"
   ]
  },
  {
   "cell_type": "code",
   "execution_count": null,
   "id": "b0c24c8f",
   "metadata": {},
   "outputs": [],
   "source": []
  }
 ],
 "metadata": {
  "kernelspec": {
   "display_name": "Python 3 (ipykernel)",
   "language": "python",
   "name": "python3"
  },
  "language_info": {
   "codemirror_mode": {
    "name": "ipython",
    "version": 3
   },
   "file_extension": ".py",
   "mimetype": "text/x-python",
   "name": "python",
   "nbconvert_exporter": "python",
   "pygments_lexer": "ipython3",
   "version": "3.10.9"
  }
 },
 "nbformat": 4,
 "nbformat_minor": 5
}
