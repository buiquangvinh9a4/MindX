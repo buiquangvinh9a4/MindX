{
 "cells": [
  {
   "cell_type": "code",
   "execution_count": 3,
   "id": "44d535b4",
   "metadata": {},
   "outputs": [
    {
     "name": "stdout",
     "output_type": "stream",
     "text": [
      "[2, 5, 8, 1, 2, 3]\n"
     ]
    }
   ],
   "source": [
    "# Bai 1\n",
    "lst = [2, 5, 8, 1, 2, 3]  # lst[0] -> lst[7]   max: lst[5]\n",
    "\n",
    "for i in range(len(lst) - 1, -1, -1):\n",
    "    if lst[i] < 0:\n",
    "        lst.pop(i)\n",
    "        \n",
    "print(lst)"
   ]
  },
  {
   "cell_type": "code",
   "execution_count": 6,
   "id": "e81e4d67",
   "metadata": {},
   "outputs": [
    {
     "data": {
      "text/plain": [
       "8"
      ]
     },
     "execution_count": 6,
     "metadata": {},
     "output_type": "execute_result"
    }
   ],
   "source": [
    "dic = {\"Điện thoại thông minh\": 2,\n",
    "       \"Điều hoà thông minh\": 5,\n",
    "       \"Điện thoại cục gạch\": 1}\n",
    "\n",
    "lst_value = dic.values()\n",
    "sum(lst_value)"
   ]
  },
  {
   "cell_type": "code",
   "execution_count": null,
   "id": "52a8a6d1",
   "metadata": {},
   "outputs": [],
   "source": []
  }
 ],
 "metadata": {
  "kernelspec": {
   "display_name": "Python 3 (ipykernel)",
   "language": "python",
   "name": "python3"
  },
  "language_info": {
   "codemirror_mode": {
    "name": "ipython",
    "version": 3
   },
   "file_extension": ".py",
   "mimetype": "text/x-python",
   "name": "python",
   "nbconvert_exporter": "python",
   "pygments_lexer": "ipython3",
   "version": "3.10.9"
  }
 },
 "nbformat": 4,
 "nbformat_minor": 5
}
