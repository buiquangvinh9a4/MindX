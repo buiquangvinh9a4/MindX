{
 "cells": [
  {
   "cell_type": "markdown",
   "id": "a7c18181",
   "metadata": {},
   "source": [
    "<h2> Phần 4 </h2>\n"
   ]
  },
  {
   "cell_type": "code",
   "execution_count": 5,
   "id": "f1439dce",
   "metadata": {},
   "outputs": [
    {
     "name": "stdout",
     "output_type": "stream",
     "text": [
      "4 10 88 100 12 "
     ]
    }
   ],
   "source": [
    "lst = [4, 9, 10, 13, 88, 109, 45, 100, 12]\n",
    "\n",
    "# for i in range(len(lst)):           # duyệt theo chỉ số\n",
    "#     if lst[i] % 2 == 0:\n",
    "#         print(lst[i], end = ' ')\n",
    " \n",
    "for number in lst:                    # duyệt theo phần tử\n",
    "    if number % 2 == 0:\n",
    "        print(number, end = ' ')"
   ]
  },
  {
   "cell_type": "code",
   "execution_count": 6,
   "id": "c34150c6",
   "metadata": {},
   "outputs": [
    {
     "name": "stdout",
     "output_type": "stream",
     "text": [
      "- Nhập phần tử vào list: 5\n",
      "- Nhập phần tử vào list: 4\n",
      "- Nhập phần tử vào list: 1\n",
      "- Nhập phần tử vào list: 8\n",
      "- Nhập phần tử vào list: 9\n",
      "- Nhập phần tử vào list: 2\n",
      "- Nhập phần tử vào list: 4\n",
      "- Nhập phần tử vào list: 11\n",
      "- Nhập phần tử vào list: 44\n",
      "- Nhập phần tử vào list: 654\n",
      "- Nhập phần tử vào list: 0\n",
      "4 8 2 4 44 654 "
     ]
    }
   ],
   "source": [
    "# nhập phần tử của list từ bàn phím, nhập đến số 0 thì dừng\n",
    "\n",
    "lst = []                 # khởi tạo 1 list rỗng\n",
    "while True:\n",
    "    number = int(input('- Nhập phần tử vào list: '))\n",
    "    \n",
    "    if number == 0:           # nhập đến số 0 thì dừng\n",
    "        break        \n",
    "    else:\n",
    "        lst.append(number)\n",
    "\n",
    "# in ra tất cả các phần tử của lst là số chẵn\n",
    "for number in lst:                    # duyệt theo phần tử\n",
    "    if number % 2 == 0:\n",
    "        print(number, end = ' ')\n",
    "        "
   ]
  },
  {
   "cell_type": "markdown",
   "id": "5c015ad3",
   "metadata": {},
   "source": [
    "<h2> Phần 5 </h2>\n"
   ]
  },
  {
   "cell_type": "code",
   "execution_count": 16,
   "id": "3433a3f0",
   "metadata": {
    "scrolled": true
   },
   "outputs": [
    {
     "name": "stdout",
     "output_type": "stream",
     "text": [
      "3\n",
      "0\n",
      "Đống Đa\n",
      "Ba Đình\n"
     ]
    }
   ],
   "source": [
    "nameCity = ['Ba Đình', 'Bắc Từ Liêm', 'Cầu Giấy', 'Đống Đa', 'Hai Bà Trưng']\n",
    "popu = [247100, 333300, 266800, 420900, 318000]   \n",
    "\n",
    "# ------------------- Không sử dụng hàm max và min\n",
    "maxPopu = minPopu = popu[0]        \n",
    "indexMax = indexMin = 0\n",
    "\n",
    "# duyệt list popu để tìm max và vị trí\n",
    "for i in range(len(popu)):\n",
    "    if maxPopu < popu[i]:\n",
    "        maxPopu = popu[i]\n",
    "        indexMax = i\n",
    "    if minPopu > popu[i]:\n",
    "        minPopu = popu[i]\n",
    "        indexMin = i\n",
    "        \n",
    "# ----------------- Sử dụng hàm max() và min() và index() để tìm vị trí\n",
    "maxPopu = max(popu)\n",
    "minPopu = min(popu)\n",
    "\n",
    "indexMax = popu.index(maxPopu)\n",
    "indexMin = popu.index(minPopu)\n",
    "\n",
    "print(indexMax)\n",
    "print(indexMin)\n",
    "\n",
    "# hiển thị ra tên Quận tại vị trí indexMax và indexMin\n",
    "print(nameCity[indexMax])\n",
    "print(nameCity[indexMin])\n",
    "        \n",
    "\n"
   ]
  },
  {
   "cell_type": "code",
   "execution_count": null,
   "id": "bd632465",
   "metadata": {},
   "outputs": [],
   "source": []
  }
 ],
 "metadata": {
  "kernelspec": {
   "display_name": "Python 3 (ipykernel)",
   "language": "python",
   "name": "python3"
  },
  "language_info": {
   "codemirror_mode": {
    "name": "ipython",
    "version": 3
   },
   "file_extension": ".py",
   "mimetype": "text/x-python",
   "name": "python",
   "nbconvert_exporter": "python",
   "pygments_lexer": "ipython3",
   "version": "3.10.9"
  }
 },
 "nbformat": 4,
 "nbformat_minor": 5
}
