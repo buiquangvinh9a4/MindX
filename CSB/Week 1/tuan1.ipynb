{
 "cells": [
  {
   "cell_type": "code",
   "execution_count": 1,
   "id": "2e5d0f97",
   "metadata": {},
   "outputs": [
    {
     "name": "stdout",
     "output_type": "stream",
     "text": [
      "Hello!\n"
     ]
    }
   ],
   "source": [
    "# hiển thị ra màn hình nội dung\n",
    "\n",
    "print(\"Hello!\")"
   ]
  },
  {
   "cell_type": "code",
   "execution_count": 11,
   "id": "9a2a7c36",
   "metadata": {},
   "outputs": [
    {
     "name": "stdout",
     "output_type": "stream",
     "text": [
      "Bùi Quang Vinh 4.0\n",
      "My name is Bùi Quang Vinh, GPA: 4.0\n"
     ]
    },
    {
     "data": {
      "text/plain": [
       "'\\n    - Không trùng với từ khoá: print, if, for, while,...\\n    - Không bắt đầu bằng một kí tự số: 1a, 2variable, ... \\n    - Không chứa một số kí tự đặc biệt: name 1,  a*b,...\\n'"
      ]
     },
     "execution_count": 11,
     "metadata": {},
     "output_type": "execute_result"
    }
   ],
   "source": [
    "# khai báo biến\n",
    "name = \"Bùi Quang Vinh\"\n",
    "money = 1000000000\n",
    "GPA = 4.0\n",
    "\n",
    "#print(name, GPA)\n",
    "print(name, end = \" \")\n",
    "print(GPA)\n",
    "\n",
    "# f-string\n",
    "print(f\"My name is {name}, GPA: {GPA}\")\n",
    "\n",
    "\n",
    "# quy tắc đặt tên biến\n",
    "\"\"\"\n",
    "    - Không trùng với từ khoá: print, if, for, while,...\n",
    "    - Không bắt đầu bằng một kí tự số: 1a, 2variable, ... \n",
    "    - Không chứa một số kí tự đặc biệt: name 1,  a*b,...\n",
    "\"\"\""
   ]
  },
  {
   "cell_type": "code",
   "execution_count": 12,
   "id": "3735d65b",
   "metadata": {},
   "outputs": [
    {
     "name": "stdout",
     "output_type": "stream",
     "text": [
      "Input full name: Bùi Quang Vinh\n",
      "Welcome, Bùi Quang Vinh!!!!\n"
     ]
    }
   ],
   "source": [
    "# Input: sử dụng hàm input()\n",
    "name = input(\"Input full name: \")\n",
    "\n",
    "print(f\"Welcome, {name}!!!!\")\n"
   ]
  },
  {
   "cell_type": "code",
   "execution_count": 26,
   "id": "9b88f3f4",
   "metadata": {},
   "outputs": [
    {
     "name": "stdout",
     "output_type": "stream",
     "text": [
      "Input number a: 2\n",
      "Input number b: 3\n",
      "Sum 2 * 3 = 33\n",
      "------------------------------\n"
     ]
    }
   ],
   "source": [
    "a = int(input(\"Input number a: \"))\n",
    "b = input(\"Input number b: \")\n",
    "\n",
    "print(f\"Sum {a} * {b} = {a * b}\")\n",
    "\n",
    "\"\"\"\n",
    "\n",
    "\"\"\"\n",
    "print(30 * \"-\")\n"
   ]
  },
  {
   "cell_type": "code",
   "execution_count": 31,
   "id": "e87d0d58",
   "metadata": {},
   "outputs": [
    {
     "name": "stdout",
     "output_type": "stream",
     "text": [
      "Hello world\n",
      "Hello world11\n"
     ]
    },
    {
     "ename": "TypeError",
     "evalue": "can only concatenate str (not \"int\") to str",
     "output_type": "error",
     "traceback": [
      "\u001b[0;31m---------------------------------------------------------------------------\u001b[0m",
      "\u001b[0;31mTypeError\u001b[0m                                 Traceback (most recent call last)",
      "Cell \u001b[0;32mIn[31], line 16\u001b[0m\n\u001b[1;32m     13\u001b[0m \u001b[38;5;28mprint\u001b[39m(\u001b[38;5;124m\"\u001b[39m\u001b[38;5;124mHello world11\u001b[39m\u001b[38;5;124m\"\u001b[39m)\n\u001b[1;32m     15\u001b[0m a \u001b[38;5;241m=\u001b[39m \u001b[38;5;124m\"\u001b[39m\u001b[38;5;124mVip pro\u001b[39m\u001b[38;5;124m\"\u001b[39m\n\u001b[0;32m---> 16\u001b[0m \u001b[38;5;28mprint\u001b[39m(\u001b[43ma\u001b[49m\u001b[43m \u001b[49m\u001b[38;5;241;43m+\u001b[39;49m\u001b[43m \u001b[49m\u001b[38;5;241;43m2\u001b[39;49m)\n\u001b[1;32m     18\u001b[0m \u001b[38;5;28mprint\u001b[39m(\u001b[38;5;124m\"\u001b[39m\u001b[38;5;124mHello world 2222\u001b[39m\u001b[38;5;124m\"\u001b[39m)\n",
      "\u001b[0;31mTypeError\u001b[0m: can only concatenate str (not \"int\") to str"
     ]
    }
   ],
   "source": [
    "# kiểu dữ liệu\n",
    "\"\"\"\n",
    "    - số nguyên (int)\n",
    "    - số thực (float)\n",
    "    - logic/boolean (bool)\n",
    "    - xâu kí tự (string)\n",
    "    - ....\n",
    "\"\"\"\n",
    "\n",
    "# Biên dịch (C++) vs Thông dịch (Python)\n",
    "\"\"\"\n",
    "    chạy đến khi nào gặp lỗi thì thôi\n",
    "\"\"\"\n",
    "\n",
    "print(\"Hello world\")\n",
    "print(\"Hello world11\")\n",
    "\n",
    "a = \"Vip pro\"\n",
    "print(a + 2)   # dòng 19 bị lỗi: str + int\n",
    "\n",
    "print(\"Hello world 2222\")\n"
   ]
  },
  {
   "cell_type": "code",
   "execution_count": 36,
   "id": "1df53fdf",
   "metadata": {},
   "outputs": [
    {
     "name": "stdout",
     "output_type": "stream",
     "text": [
      "True\n"
     ]
    }
   ],
   "source": [
    "\"\"\"\n",
    "    - and: phép và (TRUE khi cả 2 vế đều đúng)\n",
    "    - or : phép hoặc  (TRUE khi 1 trong 2 vế đều đúng)\n",
    "    - not : phép phủ định\n",
    "    \n",
    "    (toán hạng 1)  and/or/not (toán hạng 2)\n",
    "\"\"\"\n",
    "a = 5\n",
    "b = 5\n",
    "\n",
    "print(not(a > b))\n",
    "#.        false \n",
    "\n"
   ]
  },
  {
   "cell_type": "code",
   "execution_count": 38,
   "id": "3a668bed",
   "metadata": {},
   "outputs": [
    {
     "name": "stdout",
     "output_type": "stream",
     "text": [
      "Bạn làm được bao nhiêu tiền 1 giờ (VNĐ): 175000\n",
      "Tháng này bạn làm bao nhiêu giờ: 230\n",
      "Bạn làm được 40250000 VNĐ tiền lương!\n"
     ]
    }
   ],
   "source": [
    "# money : số tiền làm được 1 giờ\n",
    "# hours : số giờ làm việc trong 1 tháng\n",
    "\n",
    "money = int(input(\"Bạn làm được bao nhiêu tiền 1 giờ (VNĐ): \"))\n",
    "hours = float(input(\"Tháng này bạn làm bao nhiêu giờ: \"))\n",
    "\n",
    "salary = money * hours\n",
    "print(f\"Bạn làm được {int(salary)} VNĐ tiền lương!\")"
   ]
  },
  {
   "cell_type": "code",
   "execution_count": 43,
   "id": "9d8300bb",
   "metadata": {},
   "outputs": [
    {
     "name": "stdout",
     "output_type": "stream",
     "text": [
      "Nhập vào chiều cao: 15\n",
      "Vận tốc = 17.15\n",
      "Vận tốc = 17.15\n"
     ]
    }
   ],
   "source": [
    "# v^2 = 2 * g * h \n",
    "# v = (2 * 9.8 * h) ^ (1/2)\n",
    "\n",
    "h = float(input(\"Nhập vào chiều cao: \"))\n",
    "\n",
    "g = 9.8\n",
    "v = (2 * g * h) ** (1/2)\n",
    "print(f\"Vận tốc = {round(v, 2)}\")\n",
    "print(f\"Vận tốc = {v:.2f}\")\n",
    "\n",
    "\n",
    "\n",
    "# cách để làm tròn (lấy n chữ số thập phân)\n",
    "# cách 1: sử dụng hàm round(number, n) -> round(number, 2)\n",
    "# cách 2: sử dụng f-string"
   ]
  },
  {
   "cell_type": "code",
   "execution_count": null,
   "id": "4af025bb",
   "metadata": {},
   "outputs": [],
   "source": []
  }
 ],
 "metadata": {
  "kernelspec": {
   "display_name": "Python 3 (ipykernel)",
   "language": "python",
   "name": "python3"
  },
  "language_info": {
   "codemirror_mode": {
    "name": "ipython",
    "version": 3
   },
   "file_extension": ".py",
   "mimetype": "text/x-python",
   "name": "python",
   "nbconvert_exporter": "python",
   "pygments_lexer": "ipython3",
   "version": "3.10.9"
  }
 },
 "nbformat": 4,
 "nbformat_minor": 5
}
