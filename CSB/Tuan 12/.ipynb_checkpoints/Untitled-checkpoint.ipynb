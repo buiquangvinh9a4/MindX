{
 "cells": [
  {
   "cell_type": "code",
   "execution_count": 5,
   "id": "fdf8004c",
   "metadata": {},
   "outputs": [
    {
     "name": "stdout",
     "output_type": "stream",
     "text": [
      "[9, 5, 4, 1, 1, 8, 3, 1, 3, 4, 7, 1, 6, 1, 13, 1, 2, 3, 4, 9]\n"
     ]
    }
   ],
   "source": [
    "with open('matran.inp', 'r') as file:\n",
    "    lst_number = []    # tạo danh sách chứa các số trong file\n",
    "    for line in file:  # duyệt từng dòng trong file matran.inp\n",
    "        line = line.replace('\\n', '')   # loại bỏ kí tự xuống dòng\n",
    "        line_split = line.split()       # tách từng kí tự ra khỏi xâu\n",
    "        for number in line_split:       # duyệt từng kí tự trong biến tách\n",
    "            lst_number.append(int(number))  # thêm kí tự, ép kiểu số vào lst_number\n",
    "print(lst_number)\n",
    "\n",
    "# tìm max, min, average??\n",
    "max_number = max(lst_number)\n",
    "min_number = min(lst_number)\n",
    "average_lst = sum(lst_number) / len(lst_number)\n",
    "\n",
    "\n",
    "# tìm số lượng các số nguyên tố\n",
    "\n",
    "# ghi vào file bằng with open với mode = 'w'\n",
    "with open('matran.out', 'w') as file:\n",
    "    file.write(f'{max_number} {min_number} {average_lst}\\n')"
   ]
  },
  {
   "cell_type": "code",
   "execution_count": null,
   "id": "42224a48",
   "metadata": {},
   "outputs": [],
   "source": [
    "matrix = [[9, 5, 4, 1, 1],\n",
    "          [8, 3, 1, 3, 4],\n",
    "          [7, 1, 6, 1, 13],\n",
    "          [1, 2, 3, 4, 9]]"
   ]
  }
 ],
 "metadata": {
  "kernelspec": {
   "display_name": "Python 3 (ipykernel)",
   "language": "python",
   "name": "python3"
  },
  "language_info": {
   "codemirror_mode": {
    "name": "ipython",
    "version": 3
   },
   "file_extension": ".py",
   "mimetype": "text/x-python",
   "name": "python",
   "nbconvert_exporter": "python",
   "pygments_lexer": "ipython3",
   "version": "3.10.11"
  }
 },
 "nbformat": 4,
 "nbformat_minor": 5
}
