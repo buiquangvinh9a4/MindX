{
 "cells": [
  {
   "cell_type": "code",
   "execution_count": 7,
   "id": "0f2d6e6b",
   "metadata": {},
   "outputs": [
    {
     "name": "stdout",
     "output_type": "stream",
     "text": [
      "Nhập n: 100\n",
      "S1 = 0.990\n",
      "S2 = 2.303\n",
      "S3 = 1.980\n"
     ]
    }
   ],
   "source": [
    "import math \n",
    "\n",
    "# Bài 3\n",
    "n = int(input(\"Nhập n: \"))\n",
    "\n",
    "s1 = 0\n",
    "\n",
    "# S1\n",
    "for i in range(1, n + 1):\n",
    "    s1 = s1 + 1 / (i * (i + 1))\n",
    "    \n",
    "# S2\n",
    "s2 = 0\n",
    "for i in range(n):\n",
    "    s2 = math.sqrt(3 + s2)\n",
    "    \n",
    "# S3\n",
    "s3 = 0\n",
    "s3_mau = 0\n",
    "for i in range(1, n + 1):\n",
    "    s3_mau = s3_mau + i    # tính tổng của mẫu\n",
    "    s3 = s3 + 1 / s3_mau\n",
    "\n",
    "\n",
    "    \n",
    "print(f\"S1 = {s1:.3f}\")\n",
    "print(f\"S2 = {s2:.3f}\")\n",
    "print(f\"S3 = {s3:.3f}\")"
   ]
  },
  {
   "cell_type": "code",
   "execution_count": 9,
   "id": "8c6758c9",
   "metadata": {},
   "outputs": [
    {
     "name": "stdout",
     "output_type": "stream",
     "text": [
      "Nhập n: 5\n",
      "    *\n",
      "   ***\n",
      "  *****\n",
      " *******\n",
      "*********\n"
     ]
    }
   ],
   "source": [
    "# bài 4\n",
    "n = int(input(\"Nhập n: \"))\n",
    "\n",
    "for i in range(1, n + 1):\n",
    "    print(\" \" * (n - i), end = \"\")   # in dấu cách\n",
    "    print(\"*\" * (2 * i - 1))         # in dấu *"
   ]
  },
  {
   "cell_type": "code",
   "execution_count": null,
   "id": "e0cae553",
   "metadata": {},
   "outputs": [],
   "source": []
  }
 ],
 "metadata": {
  "kernelspec": {
   "display_name": "Python 3 (ipykernel)",
   "language": "python",
   "name": "python3"
  },
  "language_info": {
   "codemirror_mode": {
    "name": "ipython",
    "version": 3
   },
   "file_extension": ".py",
   "mimetype": "text/x-python",
   "name": "python",
   "nbconvert_exporter": "python",
   "pygments_lexer": "ipython3",
   "version": "3.10.9"
  }
 },
 "nbformat": 4,
 "nbformat_minor": 5
}
