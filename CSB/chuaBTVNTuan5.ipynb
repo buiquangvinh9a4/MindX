{
 "cells": [
  {
   "cell_type": "code",
   "execution_count": 3,
   "id": "1d522ef1",
   "metadata": {},
   "outputs": [
    {
     "name": "stdout",
     "output_type": "stream",
     "text": [
      "Nhập n: 5\n",
      "- Nhập: 11\n",
      "[11]\n",
      "- Nhập: 23\n",
      "[11, 23]\n",
      "- Nhập: 76\n",
      "[11, 23, 76]\n",
      "- Nhập: 54\n",
      "[11, 23, 76, 54]\n",
      "- Nhập: 33\n",
      "[11, 23, 76, 54, 33]\n",
      "Tổng các số chẵn trong dãy: 130\n"
     ]
    }
   ],
   "source": [
    "# Bai 1: Tinh tong cac phan tu chan trong day\n",
    "\n",
    "n = int(input(\"Nhập n: \"))\n",
    "lst = []   # khai báo 1 list rỗng\n",
    "\n",
    "for i in range(n):\n",
    "    x = int(input(\"- Nhập: \"))\n",
    "\n",
    "    lst.append(x)        # đẩy phần tử x vào list\n",
    "    \n",
    "# tính tổng các số chẵn \n",
    "s = 0\n",
    "for number in lst:\n",
    "    if number % 2 == 0:\n",
    "        s = s + number\n",
    "\n",
    "print(f\"Tổng các số chẵn trong dãy: {s}\")"
   ]
  },
  {
   "cell_type": "code",
   "execution_count": 4,
   "id": "f3636d27",
   "metadata": {},
   "outputs": [
    {
     "name": "stdout",
     "output_type": "stream",
     "text": [
      "Nhập n: 5\n",
      "- Nhập: 1\n",
      "- Nhập: 2\n",
      "- Nhập: 3\n",
      "- Nhập: 4\n",
      "- Nhập: 5\n",
      "Có 3 số nguyên tố trong dãy\n"
     ]
    }
   ],
   "source": [
    "# Bài 2\n",
    "n = int(input(\"Nhập n: \"))\n",
    "lst = []   # khai báo 1 list rỗng\n",
    "\n",
    "for i in range(n):\n",
    "    x = int(input(\"- Nhập: \"))\n",
    "\n",
    "    lst.append(x)        # đẩy phần tử x vào list\n",
    "    \n",
    "    \n",
    "# duyệt list để kiểm tra các số nguyên tố \n",
    "count = 0      # biến đếm các số nguyên tố trong list\n",
    "for number in lst:\n",
    "    tmp = 0       # biến để đếm ước của number \n",
    "    for i in range(1, number + 1):\n",
    "        if number % i == 0:\n",
    "            tmp = tmp + 1\n",
    "    if tmp == 2:\n",
    "        count = count + 1\n",
    "        \n",
    "print(f\"Có {count} số nguyên tố trong dãy\")\n",
    "        "
   ]
  },
  {
   "cell_type": "code",
   "execution_count": 6,
   "id": "b8ecc39c",
   "metadata": {},
   "outputs": [
    {
     "name": "stdout",
     "output_type": "stream",
     "text": [
      "Nhập n: 5\n",
      "- Nhập: 11\n",
      "- Nhập: 22\n",
      "- Nhập: 33\n",
      "- Nhập: 33\n",
      "- Nhập: 22\n",
      "2 3 "
     ]
    }
   ],
   "source": [
    "# bài 3:\n",
    "n = int(input(\"Nhập n: \"))\n",
    "lst = []   # khai báo 1 list rỗng\n",
    "\n",
    "for i in range(n):\n",
    "    x = int(input(\"- Nhập: \"))\n",
    "\n",
    "    lst.append(x)        # đẩy phần tử x vào list\n",
    "    \n",
    "\n",
    "# tìm gía trị lớn nhất ở trong list bằng hàm max()\n",
    "maxNumber = max(lst)\n",
    "\n",
    "for i in range(len(lst)):\n",
    "    if lst[i] == maxNumber:\n",
    "        print(i, end = \" \")"
   ]
  },
  {
   "cell_type": "code",
   "execution_count": 9,
   "id": "512bf6b4",
   "metadata": {},
   "outputs": [
    {
     "name": "stdout",
     "output_type": "stream",
     "text": [
      "Nhap vao so luong cac chu so: 5\n",
      "Nhap vao cac phan tu trong day so:\n",
      "Phan tu thu 1 la: 8\n",
      "Phan tu thu 2 la: 8\n",
      "Phan tu thu 3 la: 7\n",
      "Phan tu thu 4 la: 10\n",
      "Phan tu thu 5 la: 10\n",
      "Dãy trước khi sắp xếp:  [8, 8, 7, 10, 10]\n",
      "Dãy sau khi sắp xếp:  [10, 10, 8, 8, 7]\n",
      "8\n"
     ]
    }
   ],
   "source": [
    "# bài 4:\n",
    "#bài 4:\n",
    "n = int(input(\"Nhap vao so luong cac chu so: \"))\n",
    "print(\"Nhap vao cac phan tu trong day so:\")\n",
    "a = []\n",
    "for i in range(0, n):\n",
    "    print(\"Phan tu thu\", (i+1), \"la:\", end=\" \")\n",
    "    a.append(int(input()))\n",
    "    \n",
    "print(\"Dãy trước khi sắp xếp: \", a)\n",
    "a.sort(reverse=True)  # sắp xếp dãy giảm dần\n",
    "\n",
    "print(\"Dãy sau khi sắp xếp: \", a)\n",
    "\n",
    "for i in range(0, len(a) - 1):\n",
    "    if a[i] != a[i + 1]:\n",
    "        print(a[i + 1])\n",
    "        break\n",
    "        \n",
    "\n",
    "#print(a[1])"
   ]
  },
  {
   "cell_type": "code",
   "execution_count": 2,
   "id": "ecdf5f3c",
   "metadata": {},
   "outputs": [
    {
     "name": "stdout",
     "output_type": "stream",
     "text": [
      "Nhập số loại nấm đã hái được: 6\n",
      "- Dinh dưỡng nấm 1: 6\n",
      "- Độc tố nấm 1: 3\n",
      "- Dinh dưỡng nấm 2: 4\n",
      "- Độc tố nấm 2: 9\n",
      "- Dinh dưỡng nấm 3: 12\n",
      "- Độc tố nấm 3: 5\n",
      "- Dinh dưỡng nấm 4: 42\n",
      "- Độc tố nấm 4: 24\n",
      "- Dinh dưỡng nấm 5: 5\n",
      "- Độc tố nấm 5: 14\n",
      "- Dinh dưỡng nấm 6: 10\n",
      "- Độc tố nấm 6: 2\n",
      "Các loại nấm có thể ăn được:  (6, 3) (12, 5) (10, 2) Nấm có độc tố cao nhất là (42, 24)\n",
      "(4, 9) (5, 14) (6, 3) (10, 2) (12, 5) (42, 24) "
     ]
    }
   ],
   "source": [
    "n = int(input(\"Nhập số loại nấm đã hái được: \"))\n",
    "\n",
    "dinhduong = []\n",
    "docto = []\n",
    "\n",
    "for i in range(n):\n",
    "    x = int(input(f\"- Dinh dưỡng nấm {i + 1}: \"))\n",
    "    y = int(input(f\"- Độc tố nấm {i + 1}: \"))\n",
    "    \n",
    "    dinhduong.append(x)\n",
    "    docto.append(y)\n",
    "\n",
    "# nấm có chỉ số dinh dưỡng gấp đôi lượng độc tố (>=)\n",
    "print(\"Các loại nấm có thể ăn được: \", end = \" \")\n",
    "for i in range(n):\n",
    "    if dinhduong[i] >= 2 * docto[i]:\n",
    "        print(f\"({dinhduong[i]}, {docto[i]})\", end = \" \")\n",
    "        \n",
    "# tìm giá trị độc tố lớn nhất\n",
    "maxDoc = max(docto)\n",
    "vitriMax = docto.index(maxDoc)   # vị trí độc tố lớn nhất\n",
    "print(f\"Nấm có độc tố cao nhất là ({dinhduong[vitriMax]}, {docto[vitriMax]})\")\n",
    "\n",
    "# sắp xếp tăng dần \n",
    "for i in range(n - 1):\n",
    "    for j in range(i + 1, n):\n",
    "        if dinhduong[i] > dinhduong[j]:\n",
    "            dinhduong[i], dinhduong[j] = dinhduong[j], dinhduong[i]\n",
    "            docto[i], docto[j] = docto[j], docto[i]\n",
    "\n",
    "for i in range(n):\n",
    "    print(f\"({dinhduong[i]}, {docto[i]})\", end = \" \")\n",
    "    "
   ]
  },
  {
   "cell_type": "code",
   "execution_count": 8,
   "id": "c9c1dbab",
   "metadata": {},
   "outputs": [
    {
     "name": "stdout",
     "output_type": "stream",
     "text": [
      "m : 2\n",
      "n : 3\n",
      "lst[0][0] = 1\n",
      "lst[0][1] = 2\n",
      "lst[0][2] = 3\n",
      "lst[1][0] = 4\n",
      "lst[1][1] = 5\n",
      "lst[1][2] = 6\n",
      "Before Swap Matrix: \n",
      "1 2 3 \n",
      "4 5 6 \n",
      "After Swap Matrix: \n",
      "1 4 \n",
      "2 5 \n",
      "3 6 \n"
     ]
    }
   ],
   "source": [
    "m = int(input(\"m : \"))   # dòng\n",
    "n = int(input(\"n : \"))   # cột\n",
    "\n",
    "lst = []\n",
    "\n",
    "for i in range(m):\n",
    "    x = []\n",
    "    for j in range(n):\n",
    "        number = int(input(f\"lst[{i}][{j}] = \"))\n",
    "        x.append(number)\n",
    "    lst.append(x)\n",
    "    \n",
    "print(\"Before Swap Matrix: \")\n",
    "for i in range(m):\n",
    "    for j in range(n):\n",
    "        print(lst[i][j], end = \" \")\n",
    "    print()\n",
    "    \n",
    "print(\"After Swap Matrix: \")\n",
    "for i in range(n):\n",
    "    for j in range(m):\n",
    "        print(lst[j][i], end = \" \")\n",
    "    print()"
   ]
  },
  {
   "cell_type": "code",
   "execution_count": null,
   "id": "f79c2fa3",
   "metadata": {},
   "outputs": [],
   "source": [
    " "
   ]
  }
 ],
 "metadata": {
  "kernelspec": {
   "display_name": "Python 3 (ipykernel)",
   "language": "python",
   "name": "python3"
  },
  "language_info": {
   "codemirror_mode": {
    "name": "ipython",
    "version": 3
   },
   "file_extension": ".py",
   "mimetype": "text/x-python",
   "name": "python",
   "nbconvert_exporter": "python",
   "pygments_lexer": "ipython3",
   "version": "3.10.9"
  }
 },
 "nbformat": 4,
 "nbformat_minor": 5
}
