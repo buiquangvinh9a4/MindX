{
 "cells": [
  {
   "cell_type": "code",
   "execution_count": 12,
   "id": "3020177a",
   "metadata": {},
   "outputs": [
    {
     "name": "stdout",
     "output_type": "stream",
     "text": [
      "<_io.TextIOWrapper name='vanban.txt' mode='r' encoding='UTF-8'>\n"
     ]
    }
   ],
   "source": [
    "# doc bang ham open(filename, [mode] - default:r)\n",
    "file = open(\"vanban.txt\", \"r\")\n",
    "print(file)"
   ]
  },
  {
   "cell_type": "code",
   "execution_count": 13,
   "id": "0dccde08",
   "metadata": {},
   "outputs": [
    {
     "name": "stdout",
     "output_type": "stream",
     "text": [
      "['MindX School Technology', '29T1 Hoang Dao Thuy', 'Trung Hoa', 'Cau Giay', 'Ha Noi']\n"
     ]
    }
   ],
   "source": [
    "# Hiển thị file đã đọc ra màn hình - for/while\n",
    "\n",
    "lst = []\n",
    "\n",
    "for line in file:\n",
    "    line = line.replace(\"\\n\", \"\") # thay thế \\n thành rỗng\n",
    "    lst.append(line)\n",
    "    \n",
    "print(lst)"
   ]
  },
  {
   "cell_type": "code",
   "execution_count": 30,
   "id": "4fc427dd",
   "metadata": {},
   "outputs": [
    {
     "name": "stdout",
     "output_type": "stream",
     "text": [
      "[12, 76, 77, 10, 23, 11, 23, 3113, 43, 14, 634, 1, 213, 531, 123, 13, 5, 3, 2, 31, 65, 112, 55, 1323]\n",
      "Ghi file thành công!\n"
     ]
    }
   ],
   "source": [
    "file = open(\"number.txt\", \"r\")\n",
    "\n",
    "lst = []  # list chứa các số đã đọc\n",
    "\n",
    "for line in file:\n",
    "    line = line.replace(\"\\n\", \"\") # thay thế \\n thành rỗng\n",
    "    \n",
    "    line = line.split()\n",
    "    for number in line:\n",
    "        lst.append(int(number))\n",
    "\n",
    "file.close()\n",
    "        \n",
    "print(lst)\n",
    "\n",
    "# ghi file - write()\n",
    "fileW = open(\"output_primeNumber.txt\", \"w\")\n",
    "s_w = \"\"   # quy định chuỗi ghi vào file\n",
    "\n",
    "for number in lst:\n",
    "    if number % 2 == 0:\n",
    "        s_w = s_w + str(number) + \" \"  # ép kiểu và cộng số thoả mãn vào s_w\n",
    "        \n",
    "fileW.write(s_w)       # ghi file bằng hàm write(string)\n",
    "print(\"Ghi file thành công!\")"
   ]
  },
  {
   "cell_type": "code",
   "execution_count": null,
   "id": "18067c3a",
   "metadata": {},
   "outputs": [],
   "source": []
  },
  {
   "cell_type": "code",
   "execution_count": null,
   "id": "e348b663",
   "metadata": {},
   "outputs": [],
   "source": []
  }
 ],
 "metadata": {
  "kernelspec": {
   "display_name": "Python 3 (ipykernel)",
   "language": "python",
   "name": "python3"
  },
  "language_info": {
   "codemirror_mode": {
    "name": "ipython",
    "version": 3
   },
   "file_extension": ".py",
   "mimetype": "text/x-python",
   "name": "python",
   "nbconvert_exporter": "python",
   "pygments_lexer": "ipython3",
   "version": "3.10.9"
  }
 },
 "nbformat": 4,
 "nbformat_minor": 5
}
