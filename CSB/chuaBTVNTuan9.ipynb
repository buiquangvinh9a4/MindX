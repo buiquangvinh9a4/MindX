{
 "cells": [
  {
   "cell_type": "code",
   "execution_count": 6,
   "id": "e6db0033",
   "metadata": {},
   "outputs": [
    {
     "name": "stdout",
     "output_type": "stream",
     "text": [
      "5.5 is not an integer\n"
     ]
    }
   ],
   "source": [
    "# Bài 1:\n",
    "\n",
    "def is_int(number):\n",
    "    tmp = number // 1\n",
    "    if number == tmp:\n",
    "        return True\n",
    "    return False\n",
    "\n",
    "num = 5.5\n",
    "if is_int(num):\n",
    "    print(f'{int(num)} is an integer')\n",
    "else:\n",
    "    print(f'{num} is not an integer')"
   ]
  },
  {
   "cell_type": "code",
   "execution_count": 10,
   "id": "495fcadc",
   "metadata": {},
   "outputs": [
    {
     "data": {
      "text/plain": [
       "False"
      ]
     },
     "execution_count": 10,
     "metadata": {},
     "output_type": "execute_result"
    }
   ],
   "source": [
    "# Bài 2\n",
    "def isPrimeNumber(num):\n",
    "    if num < 2:\n",
    "        return False\n",
    "    else:\n",
    "        for i in range(2, int(num ** 0.5) + 1):\n",
    "            if num % i == 0:\n",
    "                return False\n",
    "        return True\n",
    "    \n",
    "isPrimeNumber(6)"
   ]
  },
  {
   "cell_type": "code",
   "execution_count": 12,
   "id": "b6602813",
   "metadata": {},
   "outputs": [
    {
     "name": "stdout",
     "output_type": "stream",
     "text": [
      "- Enter n: 5\n",
      "2 3 5 7 11 "
     ]
    }
   ],
   "source": [
    "# Bài 3\n",
    "def isPrimeNumber(num):\n",
    "    if num < 2:\n",
    "        return False\n",
    "    else:\n",
    "        for i in range(2, int(num ** 0.5) + 1):\n",
    "            if num % i == 0:\n",
    "                return False\n",
    "        return True\n",
    "    \n",
    "    \n",
    "# -----------------------------------------    \n",
    "n = int(input(\"- Enter n: \"))\n",
    "\n",
    "count = 0\n",
    "i = 2\n",
    "\n",
    "while count < n:\n",
    "    if isPrimeNumber(i) == True:\n",
    "        print(i, end = \" \")\n",
    "        count = count + 1\n",
    "        \n",
    "    i = i + 1"
   ]
  },
  {
   "cell_type": "code",
   "execution_count": 17,
   "id": "ba024e0f",
   "metadata": {},
   "outputs": [
    {
     "name": "stdout",
     "output_type": "stream",
     "text": [
      "- Enter n: 5\n",
      "34\n"
     ]
    }
   ],
   "source": [
    "# Bài 4\n",
    "\n",
    "# def giaiThua(number):\n",
    "#     result = 1\n",
    "#     for i in range(1, number + 1):\n",
    "#         result = result * i\n",
    "        \n",
    "#     return result\n",
    "\n",
    "def giaiThua(n):\n",
    "    if n == 1:\n",
    "        return 1\n",
    "    return n * giaiThua(n - 1)\n",
    "\n",
    "\"\"\"\n",
    "    Hàm đệ quy\n",
    "    n = 5\n",
    "    \n",
    "    ->  5  * giaiThua(4)\n",
    "    ->  5  * 4 * giaiThua(3)\n",
    "    ->  5  * 4 * 3 * giaiThua(2)\n",
    "    ->  5  * 4 * 3 * 2 * giaiThua(1)\n",
    "    ->  5  * 4 * 3 * 2 * 1\n",
    "\n",
    "    Giả sử giaiThua(n) ->  S(n)\n",
    "    \n",
    "    S(n) =  1              <=>  n = 1\n",
    "            n * S(n - 1)   <=>  n > 1\n",
    "\n",
    "\"\"\"\n",
    "\n",
    "n = int(input(\"- Enter n: \"))\n",
    "\n",
    "s = 0\n",
    "for i in range(1, n + 1):\n",
    "    s = s + giaiThua(i) / i\n",
    "\n",
    "print(int(s))"
   ]
  },
  {
   "cell_type": "code",
   "execution_count": 25,
   "id": "5bd5442b",
   "metadata": {},
   "outputs": [
    {
     "name": "stdout",
     "output_type": "stream",
     "text": [
      "Enter n: 5\n",
      "[1, 1, 2, 3, 5]\n",
      "5\n"
     ]
    }
   ],
   "source": [
    "# Fibonacci\n",
    "lst = [1, 1]\n",
    "\n",
    "n = int(input(\"Enter n: \"))\n",
    "\n",
    "for i in range(2, n):\n",
    "    x = lst[i - 1] + lst[i - 2]\n",
    "    lst.append(x)\n",
    "    \n",
    "print(lst)\n",
    "print(lst[n - 1])"
   ]
  },
  {
   "cell_type": "code",
   "execution_count": 43,
   "id": "a15e1253",
   "metadata": {},
   "outputs": [
    {
     "name": "stdout",
     "output_type": "stream",
     "text": [
      "- Thời gian chạy: 1.7815711498 giây\n"
     ]
    }
   ],
   "source": [
    "# Fibonacci chỉ có For\n",
    "\n",
    "def fibo1(n):   # vote: \n",
    "    f1 = 1\n",
    "    f2 = 1\n",
    "    if n <= 2:\n",
    "        return f1\n",
    "    else:\n",
    "        for i in range(2, n):\n",
    "            f3 = f1 + f2\n",
    "            f1 = f2\n",
    "            f2 = f3\n",
    "\n",
    "        return f3\n",
    "    \n",
    "def fibo2(n):       # vote: * * * *\n",
    "    if n == 1 or n == 2:\n",
    "        return 1\n",
    "    return fibo2(n - 1) + fibo2(n - 2)\n",
    "    \n",
    "    \n",
    "    \n",
    "import time\n",
    "\n",
    "start_time = time.time()\n",
    "\n",
    "fibo2(35)\n",
    "\n",
    "end_time = time.time()\n",
    "elapsed_time = end_time - start_time\n",
    "print(f\"- Thời gian chạy: {elapsed_time:.10f} giây\")"
   ]
  },
  {
   "cell_type": "code",
   "execution_count": 69,
   "id": "fcec1260",
   "metadata": {},
   "outputs": [
    {
     "name": "stdout",
     "output_type": "stream",
     "text": [
      "12\n",
      "13\n",
      "1\n",
      "12 13\n"
     ]
    },
    {
     "data": {
      "text/plain": [
       "'\\n    a = 24, b = 36\\n    \\n    Lần 1:  UCLN(36, 12)\\n    \\n    Lần 2:  UCLN = b = 12\\n\\n'"
      ]
     },
     "execution_count": 69,
     "metadata": {},
     "output_type": "execute_result"
    }
   ],
   "source": [
    "def UCLN(a, b):\n",
    "    if a % b == 0:\n",
    "        return b\n",
    "    else:\n",
    "        return UCLN(b, a % b)\n",
    "    \n",
    "a = int(input())\n",
    "b = int(input())\n",
    "\n",
    "print(UCLN(a, b))\n",
    "x = UCLN(a, b)\n",
    "\n",
    "a1 = int(a / x)\n",
    "b1 = int(b / x)\n",
    "\n",
    "print(a1, b1)\n",
    "\n",
    "\n",
    "        \n",
    "\"\"\"\n",
    "    a = 24, b = 36\n",
    "    \n",
    "    Lần 1:  UCLN(36, 12)\n",
    "    \n",
    "    Lần 2:  UCLN = b = 12\n",
    "\n",
    "\"\"\"\n"
   ]
  },
  {
   "cell_type": "code",
   "execution_count": null,
   "id": "0be6d62e",
   "metadata": {},
   "outputs": [],
   "source": []
  }
 ],
 "metadata": {
  "kernelspec": {
   "display_name": "Python 3 (ipykernel)",
   "language": "python",
   "name": "python3"
  },
  "language_info": {
   "codemirror_mode": {
    "name": "ipython",
    "version": 3
   },
   "file_extension": ".py",
   "mimetype": "text/x-python",
   "name": "python",
   "nbconvert_exporter": "python",
   "pygments_lexer": "ipython3",
   "version": "3.10.9"
  }
 },
 "nbformat": 4,
 "nbformat_minor": 5
}
