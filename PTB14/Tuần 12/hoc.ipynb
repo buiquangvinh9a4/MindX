{
 "cells": [
  {
   "attachments": {},
   "cell_type": "markdown",
   "metadata": {},
   "source": [
    "<h2> Hàm trong Python </h2>"
   ]
  },
  {
   "cell_type": "code",
   "execution_count": 11,
   "metadata": {},
   "outputs": [
    {
     "name": "stdout",
     "output_type": "stream",
     "text": [
      "Ngày 24, tháng 08, năm 2022\n",
      "Ngày 30, tháng 08, năm 2024\n"
     ]
    }
   ],
   "source": [
    "def sayHello():\n",
    "    print(\"Hello\")\n",
    "\n",
    "def sua():\n",
    "    print(\"Gâu gâu\")\n",
    "\n",
    "def welcome(name):\n",
    "    print(\"Welcome,\", name)\n",
    "\n",
    "def tong(a, b):\n",
    "    return a + b\n",
    "\n",
    "def ngayThang(s):\n",
    "    s = s.split(\"/\")\n",
    "    return f\"Ngày {s[0]}, tháng {s[1]}, năm {s[2]}\"\n",
    "\n",
    "time1 = ngayThang(\"24/08/2022\")\n",
    "time2 = ngayThang(\"30/08/2024\")\n",
    "print(time1)\n",
    "print(time2)\n"
   ]
  },
  {
   "cell_type": "code",
   "execution_count": 24,
   "metadata": {},
   "outputs": [
    {
     "name": "stdout",
     "output_type": "stream",
     "text": [
      "3\n"
     ]
    }
   ],
   "source": [
    "tienTra = 0\n",
    "lst = [1, 2, 3, 4, 5]\n",
    "\n",
    "def tangTien(tienTra):\n",
    "    tienTra = tienTra + lst[2]\n",
    "    return tienTra\n",
    "\n",
    "tienTra = tangTien(tienTra)\n",
    "print(tienTra)\n"
   ]
  },
  {
   "cell_type": "code",
   "execution_count": 32,
   "metadata": {},
   "outputs": [
    {
     "name": "stdout",
     "output_type": "stream",
     "text": [
      "201 | 18\n"
     ]
    }
   ],
   "source": [
    "def tong(a, b, c, d):\n",
    "    tu = a * d + b * c \n",
    "    mau = b * d\n",
    "    return tu, mau\n",
    "\n",
    "#  a/b + c/d \n",
    "a = 12\n",
    "b = 3\n",
    "c = 43\n",
    "d = 6\n",
    "tu, mau = tong(a, b, c, d)\n",
    "print(tu, \"|\", mau)"
   ]
  },
  {
   "cell_type": "code",
   "execution_count": 1,
   "metadata": {},
   "outputs": [
    {
     "name": "stdout",
     "output_type": "stream",
     "text": [
      "M\n",
      "Mi\n",
      "Min\n",
      "Mind\n",
      "MindX\n"
     ]
    }
   ],
   "source": [
    "def bai1(n):\n",
    "    for i in range(len(n)):\n",
    "        print(n[0:i + 1])\n",
    "\n",
    "n = input(\"Nhập n: \")\n",
    "bai1(n)"
   ]
  },
  {
   "cell_type": "code",
   "execution_count": 13,
   "metadata": {},
   "outputs": [
    {
     "name": "stdout",
     "output_type": "stream",
     "text": [
      "9.0\n"
     ]
    }
   ],
   "source": [
    "def bai2(lst):\n",
    "    tong = 0\n",
    "    for i in range(len(lst)):  \n",
    "        if i == len(lst) - 1:    # vị trí hiện tại == vị trí cuối cùng\n",
    "            tong = tong + lst[i] * 2\n",
    "        else:\n",
    "            tong = tong + lst[i] \n",
    "    \n",
    "    return tong / (len(lst) + 1)\n",
    "\n",
    "lst = [10, 9, 8, 7, 10]\n",
    "print(bai2(lst)) "
   ]
  },
  {
   "cell_type": "code",
   "execution_count": 10,
   "metadata": {},
   "outputs": [
    {
     "data": {
      "text/plain": [
       "9.0"
      ]
     },
     "execution_count": 10,
     "metadata": {},
     "output_type": "execute_result"
    }
   ],
   "source": [
    "phepToan = (10 + 9 + 8 + 7 + 10 * 2) / 6\n",
    "phepToan "
   ]
  },
  {
   "cell_type": "code",
   "execution_count": 14,
   "metadata": {},
   "outputs": [
    {
     "ename": "SyntaxError",
     "evalue": "'(' was never closed (3576734553.py, line 4)",
     "output_type": "error",
     "traceback": [
      "\u001b[0;36m  Cell \u001b[0;32mIn[14], line 4\u001b[0;36m\u001b[0m\n\u001b[0;31m    lst.append(int(input())\u001b[0m\n\u001b[0m              ^\u001b[0m\n\u001b[0;31mSyntaxError\u001b[0m\u001b[0;31m:\u001b[0m '(' was never closed\n"
     ]
    }
   ],
   "source": [
    "n = int(input())\n",
    "lst = []\n",
    "for i in range(n):\n",
    "    lst.append(int(input()))\n",
    "            \n",
    "for number in lst:\n",
    "    print(number, end = \" \")\n",
    "               \n"
   ]
  },
  {
   "cell_type": "code",
   "execution_count": null,
   "metadata": {},
   "outputs": [],
   "source": []
  }
 ],
 "metadata": {
  "kernelspec": {
   "display_name": "Python 3",
   "language": "python",
   "name": "python3"
  },
  "language_info": {
   "codemirror_mode": {
    "name": "ipython",
    "version": 3
   },
   "file_extension": ".py",
   "mimetype": "text/x-python",
   "name": "python",
   "nbconvert_exporter": "python",
   "pygments_lexer": "ipython3",
   "version": "3.11.4"
  },
  "orig_nbformat": 4
 },
 "nbformat": 4,
 "nbformat_minor": 2
}
