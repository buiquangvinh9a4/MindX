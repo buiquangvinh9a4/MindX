{
 "cells": [
  {
   "attachments": {},
   "cell_type": "markdown",
   "metadata": {},
   "source": [
    "<h2> Bài 11: Xâu (chuỗi) kí tự </h2>"
   ]
  },
  {
   "cell_type": "code",
   "execution_count": 18,
   "metadata": {},
   "outputs": [
    {
     "name": "stdout",
     "output_type": "stream",
     "text": [
      "Số kí tự trong tên:  14\n",
      "B\n",
      "Họ: Bùi\n",
      "Họ: Bùi\n",
      "Tên đệm: Quang\n",
      "Tên: Vinh\n"
     ]
    }
   ],
   "source": [
    "name = \"Bùi Quang Vinh\"\n",
    "\n",
    "print(\"Số kí tự trong tên: \", len(name))\n",
    "print(name[0])\n",
    "\n",
    "# cắt string: start : end - 1 : step\n",
    "print(\"Họ:\", name[0] + name[1] + name[2])\n",
    "print(\"Họ:\", name[:3])\n",
    "print(\"Tên đệm:\", name[4:9])\n",
    "print(\"Tên:\", name[10:])\n",
    "\n",
    "\n"
   ]
  },
  {
   "attachments": {},
   "cell_type": "markdown",
   "metadata": {},
   "source": [
    "<h2> Duyệt ký tự </h2>"
   ]
  },
  {
   "cell_type": "code",
   "execution_count": 13,
   "metadata": {},
   "outputs": [
    {
     "name": "stdout",
     "output_type": "stream",
     "text": [
      "I\n",
      "p\n",
      "h\n",
      "o\n",
      "n\n",
      "e\n",
      " \n",
      "1\n",
      "5\n",
      " \n",
      "P\n",
      "r\n",
      "o\n",
      " \n",
      "M\n",
      "a\n",
      "x\n"
     ]
    }
   ],
   "source": [
    "s = \"Iphone 15 Pro Max\"\n",
    "\n",
    "# cách 1: dùng giá trị\n",
    "for word in s:\n",
    "    print(word)\n",
    "\n",
    "# cách 2: dùng chỉ số index\n",
    "for i in range(len(s)):\n",
    "    print(s[i])"
   ]
  },
  {
   "attachments": {},
   "cell_type": "markdown",
   "metadata": {},
   "source": [
    "<h2> Toán tử <i>in<i> </h2>"
   ]
  },
  {
   "cell_type": "code",
   "execution_count": 14,
   "metadata": {},
   "outputs": [
    {
     "name": "stdout",
     "output_type": "stream",
     "text": [
      "True\n"
     ]
    }
   ],
   "source": [
    "s = \"Bùi Quang Vinh\"\n",
    "\n",
    "print(\"Quang\" in s)"
   ]
  },
  {
   "attachments": {},
   "cell_type": "markdown",
   "metadata": {},
   "source": [
    "<h2> Hàm find </h2>"
   ]
  },
  {
   "cell_type": "code",
   "execution_count": 16,
   "metadata": {},
   "outputs": [
    {
     "name": "stdout",
     "output_type": "stream",
     "text": [
      "10\n",
      "-1\n"
     ]
    }
   ],
   "source": [
    "s = \"Bùi Quang Vinh\"\n",
    "\n",
    "viTri1 = s.find(\"Vinh\")\n",
    "viTri2 = s.find(\"Dũng\")\n",
    "print(viTri1)\n",
    "print(viTri2)\n"
   ]
  },
  {
   "attachments": {},
   "cell_type": "markdown",
   "metadata": {},
   "source": [
    "<h2> Hàm SPLIT </h2>"
   ]
  },
  {
   "cell_type": "code",
   "execution_count": 27,
   "metadata": {},
   "outputs": [
    {
     "name": "stdout",
     "output_type": "stream",
     "text": [
      "Họ: Hồ\n",
      "Tên đệm: \n",
      "Tên: Nam\n"
     ]
    }
   ],
   "source": [
    "s = \"Hồ Sỹ Bảo Nam\"\n",
    "lst = s.split(\" \");\n",
    "\n",
    "ho = lst[0]\n",
    "dem = \" \".join(lst[1:len(lst) - 1])\n",
    "ten = lst[len(lst) - 1]\n",
    "\n",
    "\n",
    "print(\"Họ:\", ho)\n",
    "print(\"Tên đệm:\", dem)\n",
    "print(\"Tên:\", ten) \n"
   ]
  },
  {
   "attachments": {},
   "cell_type": "markdown",
   "metadata": {},
   "source": [
    "<h2> Chuẩn hóa xâu </h2>"
   ]
  },
  {
   "cell_type": "code",
   "execution_count": 35,
   "metadata": {},
   "outputs": [
    {
     "name": "stdout",
     "output_type": "stream",
     "text": [
      "Upper: LÊ ĐĂNG GIÁP\n",
      "Lower: lê đăng giáp\n",
      "Title: Lê Đăng Giáp\n"
     ]
    }
   ],
   "source": [
    "name = \"lÊ đĂnG gIáP\"\n",
    "name = name.upper()   # viết hoa tất cả các kí tự\n",
    "print(\"Upper:\",name)\n",
    "\n",
    "name = name.lower()   # viết thường tất cả các kí tự\n",
    "print(\"Lower:\",name)\n",
    "\n",
    "name = name.title()   # format theo họ tên\n",
    "print(\"Title:\",name)"
   ]
  },
  {
   "cell_type": "code",
   "execution_count": 40,
   "metadata": {},
   "outputs": [
    {
     "name": "stdout",
     "output_type": "stream",
     "text": [
      "Khuất Khuất Tuấn Phương\n"
     ]
    }
   ],
   "source": [
    "s = \"Lê Lê Tuấn Phương\"\n",
    "s_new = s.replace(\"Lê\", \"Khuất\", 2)\n",
    "print(s_new)"
   ]
  },
  {
   "cell_type": "code",
   "execution_count": 3,
   "metadata": {},
   "outputs": [
    {
     "name": "stdout",
     "output_type": "stream",
     "text": [
      "9876543210\n"
     ]
    },
    {
     "data": {
      "text/plain": [
       "'  \\n    i = 0    b = a[0] + \"\"  = 0\\n    i = 1    b = a[1] + 0 = \\n'"
      ]
     },
     "execution_count": 3,
     "metadata": {},
     "output_type": "execute_result"
    }
   ],
   "source": [
    "a = \"0123456789\"\n",
    "b = \"\"\n",
    "\n",
    "for i in range(len(a)):\n",
    "    b = a[i] + b\n",
    "\n",
    "print(b)\n",
    "\"\"\"  \n",
    "    i = 0    b = a[0] + \"\"  = 0\n",
    "    i = 1    b = a[1] + 0 =  10\n",
    "    i = 2    b = a[2] + 10  = 210\n",
    "\"\"\""
   ]
  },
  {
   "cell_type": "code",
   "execution_count": 4,
   "metadata": {},
   "outputs": [
    {
     "name": "stdout",
     "output_type": "stream",
     "text": [
      "4\n"
     ]
    }
   ],
   "source": [
    "s = \"ab bc cd 123 456 00\"\n",
    "print(s.find(\"c\"))"
   ]
  },
  {
   "cell_type": "code",
   "execution_count": 8,
   "metadata": {},
   "outputs": [
    {
     "name": "stdout",
     "output_type": "stream",
     "text": [
      "Ngày 22, tháng 08, năm 2024\n"
     ]
    }
   ],
   "source": [
    "#dd/mm/yyyy\n",
    "s = input(\"Nhập ngày từ bàn phím: \")\n",
    "\n",
    "# Ngày dd tháng mm năm yyyy\n",
    "lstTime = s.split(\"/\")\n",
    "print(f\"Ngày {lstTime[0]}, tháng {lstTime[1]}, năm {lstTime[2]}\")"
   ]
  },
  {
   "cell_type": "code",
   "execution_count": 16,
   "metadata": {},
   "outputs": [
    {
     "name": "stdout",
     "output_type": "stream",
     "text": [
      "Số điểm 10 trong danh sách là: 3\n",
      "[10.0, 9.0, 10.0, 9.5, 8.0, 7.0, 1.0, 0.0, 10.0]\n"
     ]
    }
   ],
   "source": [
    "s = input(\"Nhập vào danh sách điểm\")\n",
    "s = s.split(\" \")\n",
    "\n",
    "lstScore = []\n",
    "for score in s:\n",
    "    lstScore.append(float(score))\n",
    "\n",
    "# kiểm tra có điểm 10 trong danh sách hay không\n",
    "if 10 in lstScore:\n",
    "    count = lstScore.count(10)\n",
    "    print(\"Số điểm 10 trong danh sách là:\", count)\n",
    "else:\n",
    "    print(\"Không có điểm 10 nào trong danh sách\")\n",
    "print(lstScore)"
   ]
  },
  {
   "cell_type": "code",
   "execution_count": 14,
   "metadata": {},
   "outputs": [
    {
     "data": {
      "text/plain": [
       "2"
      ]
     },
     "execution_count": 14,
     "metadata": {},
     "output_type": "execute_result"
    }
   ],
   "source": [
    "lst = [10.0, 9.0, 8.0, 7.5, 10.0, 9.0]\n",
    "lst.count(10)\n",
    "10"
   ]
  },
  {
   "cell_type": "code",
   "execution_count": null,
   "metadata": {},
   "outputs": [],
   "source": []
  }
 ],
 "metadata": {
  "kernelspec": {
   "display_name": "Python 3",
   "language": "python",
   "name": "python3"
  },
  "language_info": {
   "codemirror_mode": {
    "name": "ipython",
    "version": 3
   },
   "file_extension": ".py",
   "mimetype": "text/x-python",
   "name": "python",
   "nbconvert_exporter": "python",
   "pygments_lexer": "ipython3",
   "version": "3.11.4"
  },
  "orig_nbformat": 4
 },
 "nbformat": 4,
 "nbformat_minor": 2
}
