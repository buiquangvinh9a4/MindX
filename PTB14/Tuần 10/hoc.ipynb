{
 "cells": [
  {
   "attachments": {},
   "cell_type": "markdown",
   "metadata": {},
   "source": [
    "<h2> BÀI 9 : DANH SÁCH NÂNG CAO </h2>"
   ]
  },
  {
   "cell_type": "code",
   "execution_count": 5,
   "metadata": {},
   "outputs": [
    {
     "name": "stdout",
     "output_type": "stream",
     "text": [
      "Messi không bằng Ronaldo\n"
     ]
    }
   ],
   "source": [
    "nyc = [\"Ngọc\", \"Nga\", \"Faker\", \"Tokuda\", \"Ronaldo\"]\n",
    "\n",
    "# sử dụng toán tử in   : phép so sánh -> True/False\n",
    "if \"Messi\" in nyc:\n",
    "    print(\"Tôi đã yêu Messi\")\n",
    "else:\n",
    "    print(\"Messi không bằng Ronaldo\")"
   ]
  },
  {
   "cell_type": "code",
   "execution_count": 10,
   "metadata": {},
   "outputs": [
    {
     "name": "stdout",
     "output_type": "stream",
     "text": [
      "Trước khi thêm:  [2, 3, 5, 7, 11]\n",
      "Sau khi thêm:  [13, 2, 3, 5, 7, 11]\n",
      "Sau khi thêm vào giữa:  [13, 2, 100, 3, 5, 7, 11]\n"
     ]
    }
   ],
   "source": [
    "primeNumber = [2, 3, 5, 7, 11]\n",
    "print(\"Trước khi thêm: \", primeNumber)\n",
    "\n",
    "#primeNumber.append(13)\n",
    "primeNumber = [13] + primeNumber\n",
    "\n",
    "print(\"Sau khi thêm: \", primeNumber)\n"
   ]
  },
  {
   "cell_type": "code",
   "execution_count": null,
   "metadata": {},
   "outputs": [],
   "source": [
    "# Hãy viết 1 chương trình khởi tạo list như sau:\n",
    "\"\"\"\n",
    "    lst = [1, 2, 3]\n",
    "\n",
    "    Hãy tính tổng của 3 giá trị trong list\n",
    "    Và thêm vào cuối list\n",
    "\n",
    "\"\"\"\n"
   ]
  },
  {
   "cell_type": "code",
   "execution_count": 11,
   "metadata": {},
   "outputs": [
    {
     "name": "stdout",
     "output_type": "stream",
     "text": [
      "[1, 2, 3, 6]\n"
     ]
    }
   ],
   "source": [
    "lst = [1, 2, 3]\n",
    "# Cách 1: sử dụng truyền thống\n",
    "_sum = lst[0] + lst[1] + lst[2]\n",
    "lst.append(_sum)\n",
    "\n",
    "print(lst)"
   ]
  },
  {
   "cell_type": "code",
   "execution_count": 12,
   "metadata": {},
   "outputs": [
    {
     "name": "stdout",
     "output_type": "stream",
     "text": [
      "[1, 2, 3, 6]\n"
     ]
    }
   ],
   "source": [
    "lst = [1, 2, 3]\n",
    "# Cách 2: sử dụng hàm sum()\n",
    "_sum = sum(lst)\n",
    "lst.append(_sum)\n",
    "\n",
    "print(lst)"
   ]
  },
  {
   "cell_type": "code",
   "execution_count": 13,
   "metadata": {},
   "outputs": [
    {
     "name": "stdout",
     "output_type": "stream",
     "text": [
      "[1, 2, 100, 3, 6]\n"
     ]
    }
   ],
   "source": [
    "lst.insert(2, 100)\n",
    "print(lst)  "
   ]
  },
  {
   "attachments": {},
   "cell_type": "markdown",
   "metadata": {},
   "source": [
    "<h2> Lệnh remove </h2>"
   ]
  },
  {
   "cell_type": "code",
   "execution_count": 14,
   "metadata": {},
   "outputs": [
    {
     "name": "stdout",
     "output_type": "stream",
     "text": [
      "Danh sách trước khi xoá: ['Nam', 'Giáp', 'Dũng', 'Phương']\n",
      "Danh sách sau khi xoá: ['Nam', 'Dũng', 'Phương']\n"
     ]
    }
   ],
   "source": [
    "lst = [\"Nam\", \"Giáp\", \"Dũng\", \"Phương\"]\n",
    "print(\"Danh sách trước khi xoá:\", lst)\n",
    "lst.remove(\"Giáp\")\n",
    "print(\"Danh sách sau khi xoá:\", lst)\n"
   ]
  },
  {
   "attachments": {},
   "cell_type": "markdown",
   "metadata": {},
   "source": [
    "<h2> Lệnh pop"
   ]
  },
  {
   "cell_type": "code",
   "execution_count": 2,
   "metadata": {},
   "outputs": [
    {
     "name": "stdout",
     "output_type": "stream",
     "text": [
      "Danh sách trước khi xoá: ['Nam', 'Giáp', 'Dũng', 'Phương']\n",
      "Danh sách sau khi xoá: ['Nam', 'Giáp', 'Dũng']\n"
     ]
    }
   ],
   "source": [
    "lst = [\"Nam\", \"Giáp\", \"Dũng\", \"Phương\"]\n",
    "print(\"Danh sách trước khi xoá:\", lst)\n",
    "lst.pop()\n",
    "print(\"Danh sách sau khi xoá:\", lst)"
   ]
  },
  {
   "attachments": {},
   "cell_type": "markdown",
   "metadata": {},
   "source": [
    "<h2> Lệnh Clear </h2>"
   ]
  },
  {
   "cell_type": "code",
   "execution_count": 16,
   "metadata": {},
   "outputs": [
    {
     "name": "stdout",
     "output_type": "stream",
     "text": [
      "Danh sách trước khi xoá: ['Nam', 'Giáp', 'Dũng', 'Phương']\n",
      "Danh sách sau khi xoá: []\n"
     ]
    }
   ],
   "source": [
    "lst = [\"Nam\", \"Giáp\", \"Dũng\", \"Phương\"]\n",
    "print(\"Danh sách trước khi xoá:\", lst)\n",
    "lst.clear()\n",
    "print(\"Danh sách sau khi xoá:\", lst)"
   ]
  },
  {
   "attachments": {},
   "cell_type": "markdown",
   "metadata": {},
   "source": [
    "<h2> Cập nhật phần tử trong danh sách </h2>"
   ]
  },
  {
   "cell_type": "code",
   "execution_count": 17,
   "metadata": {},
   "outputs": [
    {
     "name": "stdout",
     "output_type": "stream",
     "text": [
      "Danh sách trước khi cập nhật: ['Nam', 'Giáp', 'Dũng', 'Phương']\n",
      "Danh sách sau khi cập nhật: ['Nam', 'Gay', 'Dũng', 'Phương']\n"
     ]
    }
   ],
   "source": [
    "lst = [\"Nam\", \"Giáp\", \"Dũng\", \"Phương\"]\n",
    "print(\"Danh sách trước khi cập nhật:\", lst)\n",
    "lst[1] = \"Gay\"\n",
    "print(\"Danh sách sau khi cập nhật:\", lst)"
   ]
  },
  {
   "attachments": {},
   "cell_type": "markdown",
   "metadata": {},
   "source": [
    "<h2> Danh sách được sắp xếp  - SORTED </h2>"
   ]
  },
  {
   "cell_type": "code",
   "execution_count": 28,
   "metadata": {},
   "outputs": [
    {
     "name": "stdout",
     "output_type": "stream",
     "text": [
      "[16, 100, 28, 1, 24, 69, 65, 37, 47, 84]\n",
      "[100, 84, 69, 65, 47, 37, 28, 24, 16, 1]\n"
     ]
    }
   ],
   "source": [
    "import random \n",
    "lst = []\n",
    "\n",
    "for i in range(10):\n",
    "    number = random.randint(0, 100)\n",
    "    lst.append(number)\n",
    "\n",
    "print(lst)\n",
    "sorted(lst)\n",
    "lst.sort(reverse = True)\n",
    "print(lst)\n"
   ]
  },
  {
   "attachments": {},
   "cell_type": "markdown",
   "metadata": {},
   "source": [
    "<h2> Nối 2 danh sách </h2>"
   ]
  },
  {
   "cell_type": "code",
   "execution_count": 29,
   "metadata": {},
   "outputs": [
    {
     "name": "stdout",
     "output_type": "stream",
     "text": [
      "['Giáp', 'Nam', 'Phương', 'Dũng']\n"
     ]
    }
   ],
   "source": [
    "# cách 1: toán tử cộng\n",
    "lst1 = [\"Giáp\", \"Nam\"]\n",
    "lst2 = [\"Phương\", \"Dũng\"]\n",
    "lst_new = lst1 + lst2\n",
    "\n",
    "# cách 2: dùng hàm extend\n",
    "lst1.extend(lst2)\n",
    "\n",
    "print(lst_new)"
   ]
  },
  {
   "attachments": {},
   "cell_type": "markdown",
   "metadata": {},
   "source": [
    "1. Hệ thống order của nhà hàng\n",
    "2. Hệ thống order của quán trà sữa\n",
    "3. Hệ thống siêu thi điện thoại\n",
    "\n",
    "=== MIXUE XIN CHÀO ===\n",
    "1. Xem danh sách trà sữa\n",
    "2. Thêm món\n",
    "3. Xoá món\n",
    "4. Xem menu order\n",
    "5. Thoát\n",
    "======================\n",
    "Yêu cầu:\n",
    " - Hệ thống sử dụng 1 danh sách (list) để lưu trữ tên của trà sữa.\n",
    " - Hệ thống sử dụng 1 danh sách (list) để lưu trữ tên trà sữa khách order.\n",
    " - Khi chọn số (1), hiển thị ra danh sách trà sữa đang có.\n",
    " - Khi chọn số (2), yêu cầu người dùng nhập tên trà sữa muốn order.\n",
    " - Khi chọn số (3), yêu cầu người dùng nhập tên trà sữa muốn xoá.\n",
    " - Khi chọn số (4), hiển thị ra danh sách trà sữa mà khách đã order. Có tích hợp thanh toán.\n",
    " - Khi chọn số (5), thoát khỏi chương trình."
   ]
  },
  {
   "cell_type": "code",
   "execution_count": 33,
   "metadata": {},
   "outputs": [
    {
     "name": "stdout",
     "output_type": "stream",
     "text": [
      "{41: True}\n"
     ]
    }
   ],
   "source": [
    "\n",
    "def isPrimeNumber(n):\n",
    "    if n < 2:\n",
    "        return False\n",
    "    for i in range(2, int(n**0.5) + 1):\n",
    "        if n % i == 0:\n",
    "            return False\n",
    "    return True\n",
    "\n",
    "def S(n, i):\n",
    "    return isPrimeNumber(n**2 + n + i)\n",
    "\n",
    "intervals = {}\n",
    "for i in range(1, 10001):\n",
    "    all_primes = True\n",
    "    for n in range(40):  # Kiểm tra trong khoảng [0, 39]\n",
    "        if not S(n, i):\n",
    "            all_primes = False\n",
    "            break\n",
    "    if all_primes == True:\n",
    "        intervals[i] = True\n",
    "\n",
    "print(intervals)\n"
   ]
  },
  {
   "cell_type": "code",
   "execution_count": 11,
   "metadata": {},
   "outputs": [
    {
     "name": "stdout",
     "output_type": "stream",
     "text": [
      "[7, 8, 1, 9]\n"
     ]
    }
   ],
   "source": [
    "a= [7,3,8,1,9]\n",
    "a. remove (3)\n",
    "print(a)"
   ]
  },
  {
   "attachments": {},
   "cell_type": "markdown",
   "metadata": {},
   "source": [
    "Tự luận (2.0đ): Viết chương trình nhập vào một số nguyên dương n là số bài kiểm tra mà em đã làm, nhập n số tiếp lần lượt là điểm số của em cho các bài kiểm tra tương ứng. Hãy:\n",
    "1 . Sắp xếp danh sách điểm số theo chiều tăng dần\n",
    "2. Xoá số điểm nhỏ nhất (Nếu có hai số điểm nhỏ nhất thì xoá cả hai)\n",
    "3. Xuất danh sách điểm sau khi đã xử lý yêu cầu 1 và 2\n",
    "4. Đếm số lượng điểm lớn hơn hoặc bằng 8 và xuất ra màn hình"
   ]
  },
  {
   "cell_type": "code",
   "execution_count": 19,
   "metadata": {},
   "outputs": [
    {
     "name": "stdout",
     "output_type": "stream",
     "text": [
      "Điểm tăng dần:  [5.0, 5.0, 5.0, 8.0, 9.0]\n",
      "Danh sách sau khi xóa điểm kém nhất:  [8.0, 9.0]\n",
      "Số lượng bài kiểm tra lớn hơn hoặc bằng 8:  2\n"
     ]
    }
   ],
   "source": [
    "n = int(input(\"Nhập số bài kiểm tra đã làm: \"))\n",
    "\n",
    "scores = []\n",
    "for i in range(n):\n",
    "    score = float(input(f\"- Điểm bài kiểm tra số {i + 1}: \"))\n",
    "    scores.append(score)\n",
    "\n",
    "# 1. Sắp xếp điểm theo chiều tăng dần\n",
    "scores.sort()\n",
    "print(\"Điểm tăng dần: \", scores)\n",
    "\n",
    "# 2. Xóa điểm nhỏ nhất:  lấy điểm nhỏ nhất,  dùng hàm remove\n",
    "min_score = min(scores)\n",
    "count_min_score = scores.count(min_score)\n",
    "for i in range(count_min_score):\n",
    "    scores.remove(min_score)\n",
    "print(\"Danh sách sau khi xóa điểm kém nhất: \", scores)\n",
    "\n",
    "# 4. Đếm số lượng bài kiểm tra >= 8\n",
    "count_score_greater_8 = 0\n",
    "for score in scores:\n",
    "    if score >= 8:\n",
    "        count_score_greater_8 += 1\n",
    "\n",
    "print(\"Số lượng bài kiểm tra lớn hơn hoặc bằng 8: \", count_score_greater_8)\n"
   ]
  },
  {
   "cell_type": "code",
   "execution_count": null,
   "metadata": {},
   "outputs": [],
   "source": []
  }
 ],
 "metadata": {
  "kernelspec": {
   "display_name": "Python 3",
   "language": "python",
   "name": "python3"
  },
  "language_info": {
   "codemirror_mode": {
    "name": "ipython",
    "version": 3
   },
   "file_extension": ".py",
   "mimetype": "text/x-python",
   "name": "python",
   "nbconvert_exporter": "python",
   "pygments_lexer": "ipython3",
   "version": "3.11.4"
  },
  "orig_nbformat": 4
 },
 "nbformat": 4,
 "nbformat_minor": 2
}
