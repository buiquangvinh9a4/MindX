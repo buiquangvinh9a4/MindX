{
 "cells": [
  {
   "cell_type": "code",
   "execution_count": 3,
   "metadata": {},
   "outputs": [
    {
     "name": "stdout",
     "output_type": "stream",
     "text": [
      "<class 'float'>\n"
     ]
    }
   ],
   "source": [
    "value = float(input(\"Nhập: \"))\n",
    "print(type(value))"
   ]
  },
  {
   "cell_type": "code",
   "execution_count": 4,
   "metadata": {},
   "outputs": [
    {
     "name": "stdout",
     "output_type": "stream",
     "text": [
      "15.5\n"
     ]
    }
   ],
   "source": [
    "a = str(10 + 5.5)\n",
    "print(a)"
   ]
  },
  {
   "cell_type": "code",
   "execution_count": 9,
   "metadata": {},
   "outputs": [
    {
     "name": "stdout",
     "output_type": "stream",
     "text": [
      "105.5\n"
     ]
    }
   ],
   "source": [
    "a = float(\"10\" + \"5.5\")  # \"105.5\"\n",
    "print(a)"
   ]
  },
  {
   "cell_type": "code",
   "execution_count": 7,
   "metadata": {},
   "outputs": [
    {
     "name": "stdout",
     "output_type": "stream",
     "text": [
      "105.5\n"
     ]
    }
   ],
   "source": [
    "name = \"10\" + \"5.5\"\n",
    "print(name)"
   ]
  },
  {
   "cell_type": "code",
   "execution_count": 10,
   "metadata": {},
   "outputs": [
    {
     "data": {
      "text/plain": [
       "3"
      ]
     },
     "execution_count": 10,
     "metadata": {},
     "output_type": "execute_result"
    }
   ],
   "source": [
    "\n",
    "\"\"\"\n",
    "   ((16 - 13 // 4) % 4)\n",
    "=> ((16 - 3) % 4)\n",
    "=> (13   %  4)\n",
    "=> 1\n",
    "\n",
    "\"\"\"\n",
    "\n"
   ]
  },
  {
   "cell_type": "code",
   "execution_count": 13,
   "metadata": {},
   "outputs": [
    {
     "name": "stdout",
     "output_type": "stream",
     "text": [
      "GiangGiangGiangGiangGiangGiang\n"
     ]
    }
   ],
   "source": [
    "print(\"Giang\" * 6)"
   ]
  },
  {
   "cell_type": "code",
   "execution_count": 14,
   "metadata": {},
   "outputs": [
    {
     "name": "stdout",
     "output_type": "stream",
     "text": [
      "Số kẹo mỗi bạn nhận được: 5\n",
      "Số kẹo còn dư: 2\n"
     ]
    }
   ],
   "source": [
    "n = int(input(\"Số kẹo mà thầy đang có: \"))\n",
    "m = int(input(\"Số học sinh trong lớp: \"))\n",
    "\n",
    "soKeo1Ban = n // m   \n",
    "soKeoDu = n % m\n",
    "\n",
    "print(\"Số kẹo mỗi bạn nhận được:\", soKeo1Ban)\n",
    "print(\"Số kẹo còn dư:\", soKeoDu)\n",
    "        "
   ]
  },
  {
   "cell_type": "code",
   "execution_count": 27,
   "metadata": {},
   "outputs": [
    {
     "name": "stdout",
     "output_type": "stream",
     "text": [
      "2 giờ 43 phút 20 giây!\n"
     ]
    }
   ],
   "source": [
    "giay = int(input(\"Số giây cần chuyển đổi: \"))\n",
    "\n",
    "gio = giay // 3600   # đi tìm giờ\n",
    "giay = giay % 3600   \n",
    "\n",
    "phut = giay // 60    # đi tìm phút\n",
    "giay = giay % 60     # đi tìm giây\n",
    "\n",
    "s = str(gio) + \" giờ \" + str(phut) + \" phút \" + str(giay) + \" giây!\" \n",
    "print(s)\n"
   ]
  },
  {
   "cell_type": "code",
   "execution_count": null,
   "metadata": {},
   "outputs": [],
   "source": [
    "\"\"\"\n",
    "    Giây: 5000 giây\n",
    "    Giờ:  3600 giây = 1 giờ \n",
    "    -> Giây:  5000 - 3600 = 1400 \n",
    "\n",
    "    Phút:  1400 giây // 60 = 23 phút\n",
    "\n",
    "    -> Giây:  1400 - (23 * 60) = 1400 - 1380 = 20 giây\n",
    "\"\"\""
   ]
  },
  {
   "cell_type": "code",
   "execution_count": 31,
   "metadata": {},
   "outputs": [
    {
     "name": "stdout",
     "output_type": "stream",
     "text": [
      "False\n",
      "True\n",
      "True\n"
     ]
    }
   ],
   "source": [
    "cau1 = 2 > 3   # -> False\n",
    "cau2 = 5 != 6   # -> True\n",
    "cau3 = 10 == 10   # -> True\n",
    "print(cau1)\n",
    "print(cau2)\n",
    "print(cau3)"
   ]
  },
  {
   "cell_type": "code",
   "execution_count": null,
   "metadata": {},
   "outputs": [],
   "source": [
    "\"\"\"\n",
    "    Hãy điền True/False vào các biểu thức logic sau:\n",
    "    1.    5 > 4            -> True\n",
    "    2.    (5 + 4) < 9            -> False\n",
    "    3.    (10 % 5) == 0           ->   True\n",
    "    4.    (10 // 8) != 1                 -> False\n",
    "    5.    (10 ** 2) >= (150 % 130)        ->  True\n",
    "\"\"\"\n",
    "\n",
    "\"\"\" \n",
    "    (Giang là con gái)  và  (Giáp là đàn ông)\n",
    "    (Giang == \"cao\") or (Giap == \"gầy\")  # True/False\n",
    "        False         or       False  -> False\n",
    "\n",
    "\n",
    "\"\"\""
   ]
  },
  {
   "cell_type": "code",
   "execution_count": 34,
   "metadata": {},
   "outputs": [
    {
     "name": "stdout",
     "output_type": "stream",
     "text": [
      "Số lẻ\n"
     ]
    }
   ],
   "source": [
    "n = int(input(\"Nhập n = \"))\n",
    "\n",
    "if n % 2 == 0:\n",
    "    print(\"Số chẵn\")\n",
    "else:\n",
    "    print(\"Số lẻ\")"
   ]
  },
  {
   "cell_type": "code",
   "execution_count": 2,
   "metadata": {},
   "outputs": [
    {
     "name": "stdout",
     "output_type": "stream",
     "text": [
      "['1h', '2h']\n",
      "['1h', '2h', '3h']\n"
     ]
    }
   ],
   "source": [
    "tg = [\"1h\", \"2h\"]\n",
    "# sử dụng lệnh .append(value)\n",
    "print(tg)\n",
    "\n",
    "tg.append(\"3h\")\n",
    "print(tg)\n"
   ]
  },
  {
   "cell_type": "code",
   "execution_count": null,
   "metadata": {},
   "outputs": [],
   "source": []
  }
 ],
 "metadata": {
  "kernelspec": {
   "display_name": "base",
   "language": "python",
   "name": "python3"
  },
  "language_info": {
   "codemirror_mode": {
    "name": "ipython",
    "version": 3
   },
   "file_extension": ".py",
   "mimetype": "text/x-python",
   "name": "python",
   "nbconvert_exporter": "python",
   "pygments_lexer": "ipython3",
   "version": "3.11.4"
  },
  "orig_nbformat": 4
 },
 "nbformat": 4,
 "nbformat_minor": 2
}
