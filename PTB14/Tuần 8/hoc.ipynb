{
 "cells": [
  {
   "cell_type": "code",
   "execution_count": null,
   "metadata": {},
   "outputs": [],
   "source": [
    "a1 = 1\n",
    "a2 = 4\n",
    "a3 = 5\n",
    "a4 = 6\n",
    "a5 = 7\n",
    "a6 = 2\n",
    "a7 = 3\n",
    "a8 = 9\n",
    "a9 = 10\n",
    "a10 = 11\n",
    "tong = a1 + a2 + a3 + a4 + a5 + a6 + a7 + a8 + a9 + a10\n",
    "print(tong)"
   ]
  },
  {
   "cell_type": "code",
   "execution_count": 10,
   "metadata": {},
   "outputs": [
    {
     "name": "stdout",
     "output_type": "stream",
     "text": [
      "55\n"
     ]
    }
   ],
   "source": [
    "\"\"\" \n",
    "    skibidi_toilet \n",
    "    amazon123\n",
    "    2024kaka  -> bắt đầu bằng số\n",
    "    messi ronaldo    ->  chứa kí tự space\n",
    "\n",
    "    6h50\"    ->  bắt đầu bằng số, chứa kí tự đặc biệt\n",
    "    print   -> Trùng với từ khoá của python\n",
    "    \n",
    "    \n",
    "    1. Chứa các kí tự trên A -> Z,  a-> z,   0 -> 9 ,  _ \n",
    "    2. Không trùng từ khoá\n",
    "    3. Không bắt đầu bằng số\n",
    "    \n",
    "\"\"\""
   ]
  },
  {
   "cell_type": "code",
   "execution_count": 11,
   "metadata": {},
   "outputs": [
    {
     "name": "stdout",
     "output_type": "stream",
     "text": [
      "['Giang', 'Bảo', 'Minh', 'Minh', 'Huy']\n"
     ]
    }
   ],
   "source": [
    "lst_students = [\"Giang\", \"Bảo\", \"Minh\", \"Minh\", \"Huy\"]\n",
    "\n",
    "print(lst_students)"
   ]
  },
  {
   "cell_type": "code",
   "execution_count": 25,
   "metadata": {},
   "outputs": [
    {
     "name": "stdout",
     "output_type": "stream",
     "text": [
      "5\n",
      "- Top 1: Aya\n",
      "- Top 2: Triệu Vân\n",
      "- Top 3: Điêu Thuyền\n",
      "- Top 4: Skud\n",
      "- Top 5: Nakroth\n",
      "Tên tướng:  Aya\n",
      "Tên tướng:  Triệu Vân\n",
      "Tên tướng:  Điêu Thuyền\n",
      "Tên tướng:  Skud\n",
      "Tên tướng:  Nakroth\n"
     ]
    }
   ],
   "source": [
    "# 1. Hãy khởi tạo danh sách chứa tên các vị tướng yêu thích trong LQ\n",
    "# 2. Hãy khởi tạo danh sách chứa tên các game trong Roblox\n",
    "\n",
    "lst_champ = [\"Aya\", \"Triệu Vân\", \"Điêu Thuyền\", \"Skud\", \"Nakroth\"]\n",
    "\n",
    "print(len(lst_champ))\n",
    "\n",
    "# cách 1: sử dụng range và index :  duyệt theo thứ tự \n",
    "for i in range(len(lst_champ)):\n",
    "    print(f\"- Top {i + 1}: {lst_champ[i]}\")\n",
    "\n",
    "# cách 2: duyệt theo giá trị của phần tử\n",
    "for champ in lst_champ:\n",
    "    print(\"Tên tướng: \", champ)\n",
    "\n"
   ]
  },
  {
   "cell_type": "code",
   "execution_count": null,
   "metadata": {},
   "outputs": [],
   "source": [
    "donHang = []   # khởi tạo đơn hàng trống\n",
    "\n",
    "print(\"=== NGUYÊN BẢO MART ===\")\n",
    "\n",
    "while True:\n",
    "    sanPham = input(\"- Nhập vào sản phẩm cần thêm: \")\n",
    "\n",
    "    # thêm sản phẩm vào đơn hàng\n",
    "    donHang = donHang + [sanPham]\n",
    "\n",
    "    # hiển thị thông báo\n",
    "    print(\"Đã thêm sản phẩm, đơn hàng hiện tại: \", donHang) \n",
    "\n",
    "    # hỏi người dùng muốn nhập tiếp không\n",
    "    tiepTuc = input(\"Nhấn (y) để tiếp tục, nhấn (n) để thoát: \")\n",
    "\n",
    "    if tiepTuc == \"n\":   # điều kiện dừng của vòng lặp\n",
    "        print(\"Đơn hàng của bạn là: \", donHang)\n",
    "        print(\"==== THANK YOU ====\")\n",
    "        break"
   ]
  }
 ],
 "metadata": {
  "kernelspec": {
   "display_name": "Python 3",
   "language": "python",
   "name": "python3"
  },
  "language_info": {
   "codemirror_mode": {
    "name": "ipython",
    "version": 3
   },
   "file_extension": ".py",
   "mimetype": "text/x-python",
   "name": "python",
   "nbconvert_exporter": "python",
   "pygments_lexer": "ipython3",
   "version": "3.11.4"
  },
  "orig_nbformat": 4
 },
 "nbformat": 4,
 "nbformat_minor": 2
}
