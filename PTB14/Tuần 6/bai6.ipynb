{
 "cells": [
  {
   "cell_type": "code",
   "execution_count": 19,
   "metadata": {},
   "outputs": [
    {
     "name": "stdout",
     "output_type": "stream",
     "text": [
      "10 11 12 13 14 15 16 17 18 19 20 21 22 23 24 25 26 27 28 29 30 31 32 33 34 35 36 37 38 39 40 41 42 43 44 45 46 47 48 49 50 \n",
      "10 12 14 16 18 20 22 24 26 28 30 32 34 36 38 40 42 44 46 48 50 \n",
      "Số lượng số chẵn từ 10 đến 50: 21\n",
      "Tổng các số chẵn từ 10 đến 50: 630\n"
     ]
    }
   ],
   "source": [
    "\"\"\"\n",
    "for i in range(<vùng>):\n",
    "    <các câu lệnh cần lặp>\n",
    "\"\"\"\n",
    "\n",
    "# Bài 1: Hiển thị các số từ 10 đến 50\n",
    "for i in range(10, 51):\n",
    "    print(i, end = \" \")\n",
    "\n",
    "print()\n",
    "# Bài 2: Hiển thị các số chẵn từ 10 đến 50\n",
    "for i in range(10, 51):\n",
    "    if i % 2 == 0:\n",
    "        print(i, end = \" \")\n",
    "print()\n",
    "\n",
    "# Bài 3: Đếm số lượng số chẵn từ 10 đến 50 và hiển thị ra màn hình\n",
    "dem = 0\n",
    "for i in range(10, 51):\n",
    "    if i % 2 == 0:\n",
    "        dem += 1  # dem = dem + 1\n",
    "print(\"Số lượng số chẵn từ 10 đến 50:\", dem)\n",
    "\n",
    "# Bài 4: Tính tổng các số chẵn từ 10 đến 50 và hiển thị ra màn hình\n",
    "tong = 0\n",
    "for i in range(10, 51):\n",
    "    if i % 2 == 0:\n",
    "        tong += i   # tong = tong + i\n",
    "print(\"Tổng các số chẵn từ 10 đến 50:\", tong)\n"
   ]
  },
  {
   "cell_type": "code",
   "execution_count": 22,
   "metadata": {},
   "outputs": [
    {
     "name": "stdout",
     "output_type": "stream",
     "text": [
      "10\n",
      "12\n",
      "14\n",
      "16\n",
      "18\n",
      "20\n",
      "22\n",
      "24\n",
      "26\n",
      "28\n",
      "30\n",
      "32\n",
      "34\n",
      "36\n",
      "38\n",
      "40\n",
      "42\n",
      "44\n",
      "46\n",
      "48\n",
      "50\n"
     ]
    }
   ],
   "source": [
    "#  range(start, stop, step)\n",
    "\n",
    "for i in range(10, 51, 2):\n",
    "    print(i)"
   ]
  },
  {
   "cell_type": "code",
   "execution_count": 28,
   "metadata": {},
   "outputs": [
    {
     "name": "stdout",
     "output_type": "stream",
     "text": [
      "Tổng các số chẵn từ 10 đến 50 là 630\n"
     ]
    }
   ],
   "source": [
    "a = int(input(\"Nhập số a: \"))\n",
    "b = int(input(\"Nhập số b: \"))\n",
    "\n",
    "tong = 0\n",
    "for i in range(a, b + 1):\n",
    "    if i % 2 == 0:\n",
    "        tong += i\n",
    "\n",
    "print(f\"Tổng các số chẵn từ {a} đến {b} là {tong}\")\n",
    "# f-string \n",
    "\n",
    "\n",
    "\n",
    "\n",
    "\n",
    "\n"
   ]
  },
  {
   "cell_type": "code",
   "execution_count": 32,
   "metadata": {},
   "outputs": [
    {
     "name": "stdout",
     "output_type": "stream",
     "text": [
      "Bảng CC 2:\n",
      "2 * 1 = 2\n",
      "2 * 2 = 4\n",
      "2 * 3 = 6\n",
      "2 * 4 = 8\n",
      "2 * 5 = 10\n",
      "2 * 6 = 12\n",
      "2 * 7 = 14\n",
      "2 * 8 = 16\n",
      "2 * 9 = 18\n",
      "2 * 10 = 20\n"
     ]
    }
   ],
   "source": [
    "# Nhập 1 chữ số (1 - 10) từ bàn phím. \n",
    "# Hiển thị bảng cửu chương của số đó.\n",
    "# Ví dụ: Nhập 3, chương trình hiển thị bảng cửu chương của 3\n",
    "\n",
    "\n",
    "print(\"Bảng CC 2:\")\n",
    "for i in range(1, 11):\n",
    "    #print(f\"2 x {i} = {2 * i}\")\n",
    "    print(\"2\", \"*\", i, \"=\", 2 * i)"
   ]
  },
  {
   "cell_type": "code",
   "execution_count": 2,
   "metadata": {},
   "outputs": [
    {
     "name": "stdout",
     "output_type": "stream",
     "text": [
      "3\n"
     ]
    }
   ],
   "source": [
    "n = int(input())\n",
    "\n",
    "for i in range(1, n):\n",
    "    n += i\n",
    "print(n)\n",
    "\n",
    "\"\"\" \n",
    "    n = 5 \n",
    "    1 -> 4\n",
    "    i = 1   ->  n = 5 + 1 = 6\n",
    "    i = 2   ->  n = 6 + 2 = 8\n",
    "    i = 3   ->  n = 11\n",
    "    i = 4   ->  n = 15\n",
    "\"\"\"\n"
   ]
  },
  {
   "cell_type": "code",
   "execution_count": null,
   "metadata": {},
   "outputs": [],
   "source": []
  }
 ],
 "metadata": {
  "kernelspec": {
   "display_name": "base",
   "language": "python",
   "name": "python3"
  },
  "language_info": {
   "codemirror_mode": {
    "name": "ipython",
    "version": 3
   },
   "file_extension": ".py",
   "mimetype": "text/x-python",
   "name": "python",
   "nbconvert_exporter": "python",
   "pygments_lexer": "ipython3",
   "version": "3.10.13"
  },
  "orig_nbformat": 4
 },
 "nbformat": 4,
 "nbformat_minor": 2
}
