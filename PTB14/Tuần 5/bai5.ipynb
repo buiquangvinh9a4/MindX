{
 "cells": [
  {
   "cell_type": "code",
   "execution_count": null,
   "metadata": {},
   "outputs": [],
   "source": [
    "\"\"\"\n",
    "    == : so sánh bằng\n",
    "    != : so sánh khác\n",
    "    >  :  lớn hơn\n",
    "    >=  :  lớn hơn hoặc bằng\n",
    "    <  :   nhỏ hơn\n",
    "    <=  :   nhỏ hơn hoặc bằng\n",
    "\n",
    "\"\"\""
   ]
  },
  {
   "cell_type": "code",
   "execution_count": 2,
   "metadata": {},
   "outputs": [
    {
     "name": "stdout",
     "output_type": "stream",
     "text": [
      "False\n"
     ]
    }
   ],
   "source": [
    "print(2 > 4)"
   ]
  },
  {
   "cell_type": "code",
   "execution_count": 3,
   "metadata": {},
   "outputs": [
    {
     "name": "stdout",
     "output_type": "stream",
     "text": [
      "False\n",
      "<class 'bool'>\n"
     ]
    }
   ],
   "source": [
    "a = 10\n",
    "b = 15\n",
    "c = a > b - 5\n",
    "print(c)\n",
    "print(type(c))"
   ]
  },
  {
   "cell_type": "code",
   "execution_count": null,
   "metadata": {},
   "outputs": [],
   "source": [
    "\"\"\"\n",
    "    if <điều kiện: biểu thức logic -> True >:\n",
    "        <thực thi nếu điều kiện đúng>\n",
    "    else:\n",
    "        <thực thi nếu điều kiện sai>\n",
    "\n",
    "\"\"\"\n",
    "a = 5  #  rectangle ->"
   ]
  },
  {
   "cell_type": "code",
   "execution_count": 4,
   "metadata": {},
   "outputs": [],
   "source": [
    "\"\"\" \n",
    "    AND, OR, NOT:\n",
    "\n",
    "    AND (và):  đúng khi cả 2 vế đều đúng\n",
    "    VD:    2 < 3   and   5 > 4   -> True\n",
    "           5 == 5  and   0 != 0   ->  False\n",
    "\n",
    "    OR  (hoặc):  đúng khi 1 hoặc 2 vế đều đúng\n",
    "    VD:     \"Giáp\" == \"Giáp\"  or   \"Dũng\" == \"Bd\"  ->   True\n",
    "            \"Dũng\" == \"OMG\"   or    \"Nam\"  == \"Đang nghịch\" -> False\n",
    "\n",
    "    NOT (phủ định - ngược lại - lá bài hoán đổi):\n",
    "    VD:    not(\"Giáp\" == HOCGIOI)   -> False\n",
    "           not(    \"Dũng\" == \"Love Nam\")   -> True\n",
    "\n",
    "\n",
    "    if  not A + B < C\n",
    "\n",
    "    A.     not (A + B < C)\n",
    "    B.     not (A + B) < C\n",
    "\n",
    "\"\"\""
   ]
  },
  {
   "cell_type": "code",
   "execution_count": 7,
   "metadata": {},
   "outputs": [
    {
     "name": "stdout",
     "output_type": "stream",
     "text": [
      "A\n"
     ]
    }
   ],
   "source": [
    "A = 5\n",
    "B = 6\n",
    "C = 7\n",
    "if not A + B < C:\n",
    "    print (\"A\")\n",
    "else:\n",
    "    print (\"B\")"
   ]
  },
  {
   "cell_type": "code",
   "execution_count": 8,
   "metadata": {},
   "outputs": [
    {
     "name": "stdout",
     "output_type": "stream",
     "text": [
      "Có\n"
     ]
    }
   ],
   "source": [
    "\"\"\"\n",
    "  Viết chương trình nhập vào hai số nguyên dương a và b\n",
    "  là đại diện cho a chiếc kẹo và b em bé.\n",
    "  Hãy kiểm tra xem a chiếc kẹo có chia đều được cho b\n",
    "  em bé hay không và thông báo ra màn hình \"Có\" hoặc \"Không\".\n",
    " \"\"\"\n",
    "a = int(input(\"Nhập số kẹo a: \"))\n",
    "b = int(input(\"Nhập số em bé b: \"))\n",
    "\n",
    "if a % b == 0:\n",
    "    print(\"Có\")\n",
    "else:\n",
    "    print(\"Không\")\n"
   ]
  },
  {
   "cell_type": "code",
   "execution_count": 10,
   "metadata": {},
   "outputs": [
    {
     "name": "stdout",
     "output_type": "stream",
     "text": [
      "Người cao nhất có chiều cao là:  200\n",
      "Người cao nhất tên là:  Dũng\n"
     ]
    }
   ],
   "source": [
    "\"\"\"\n",
    "Giang có hai người bạn là Giáp và Dũng, ba người bạn đang so sánh \n",
    "ai cao nhất. Em hãy viết chương trình nhập vào chiều cao của\n",
    "Giang, Giáp và Dũng, xử lý và xuất ra màn hình người cao nhất\n",
    "trong 3 bạn nhé!   -> cm\n",
    "\n",
    "-> Tìm ra xem ông nào cao nhất\n",
    " \"\"\"\n",
    "\n",
    "Giang = int(input(\"Xin mời nhập chiều cao của Giang: \"))\n",
    "Giap = int(input(\"Xin mời nhập chiều cao của Giáp: \"))\n",
    "Dung = int(input(\"Xin mời nhập chiều cao của Dũng: \"))\n",
    "\n",
    "maxCao = Giang   # lưu chiều cao\n",
    "nameCao = \"Giang\"    # lưu tên\n",
    "if Giap > maxCao:\n",
    "    maxCao = Giap\n",
    "    nameCao = \"Giáp\"\n",
    "if Dung > maxCao:\n",
    "    maxCao = Dung\n",
    "    nameCao = \"Dũng\"\n",
    "\n",
    "print(\"Người cao nhất có chiều cao là: \", maxCao)\n",
    "print(\"Người cao nhất tên là: \", nameCao)\n"
   ]
  },
  {
   "cell_type": "code",
   "execution_count": 14,
   "metadata": {},
   "outputs": [
    {
     "name": "stdout",
     "output_type": "stream",
     "text": [
      "55\n",
      "<class 'int'>\n"
     ]
    }
   ],
   "source": [
    "check = int(\"55\")\n",
    "print(check)\n",
    "print(type(check))"
   ]
  },
  {
   "cell_type": "code",
   "execution_count": 15,
   "metadata": {},
   "outputs": [
    {
     "name": "stdout",
     "output_type": "stream",
     "text": [
      "Hello Phương\n"
     ]
    }
   ],
   "source": [
    "name = \"Nam\"\n",
    "\n",
    "\n",
    "\n",
    "if name == \"Giang\":\n",
    "    print(\"Hello Giang\")\n",
    "elif name == \"Nam\":\n",
    "    print(\"Hello Nam\")\n",
    "elif name == \"Giáp\":\n",
    "    print(\"Skibidi Giáp\")\n",
    "else:\n",
    "    print(\"Hello Phương\")\n",
    "\n",
    "if name == \"Giang\":\n",
    "    print(\"Hello Giang\")\n",
    "else:\n",
    "    if name == \"Nam\":\n",
    "        print(\"Hello Nam\")\n",
    "    else:\n",
    "        if "
   ]
  },
  {
   "cell_type": "code",
   "execution_count": 29,
   "metadata": {},
   "outputs": [
    {
     "name": "stdout",
     "output_type": "stream",
     "text": [
      "<class 'bool'>\n",
      "True\n"
     ]
    }
   ],
   "source": [
    "check = bool(input(\"Đúng/Sai:\"))\n",
    "print(type(check))\n",
    "print(check)\n",
    "# if check == True:\n",
    "#     print(\"Đúng\")\n",
    "# else:\n",
    "#     print(\"Sai\")"
   ]
  },
  {
   "cell_type": "code",
   "execution_count": 31,
   "metadata": {},
   "outputs": [
    {
     "name": "stdout",
     "output_type": "stream",
     "text": [
      "-5\n"
     ]
    }
   ],
   "source": [
    "a = 5\n",
    "a -= 10   #  a = a - 10\n",
    "\n",
    "print(a)"
   ]
  },
  {
   "cell_type": "code",
   "execution_count": 32,
   "metadata": {},
   "outputs": [
    {
     "name": "stdout",
     "output_type": "stream",
     "text": [
      "<class 'str'>\n"
     ]
    }
   ],
   "source": [
    "a = 25\n",
    "a = str(a)\n",
    "print(type(a))"
   ]
  },
  {
   "cell_type": "code",
   "execution_count": null,
   "metadata": {},
   "outputs": [],
   "source": [
    "\"\"\" \n",
    "    int :  số nguyên\n",
    "    float : số thực\n",
    "    string : xâu kí tự\n",
    "    bool : logic -> True/False\n",
    "\"\"\""
   ]
  }
 ],
 "metadata": {
  "kernelspec": {
   "display_name": "base",
   "language": "python",
   "name": "python3"
  },
  "language_info": {
   "codemirror_mode": {
    "name": "ipython",
    "version": 3
   },
   "file_extension": ".py",
   "mimetype": "text/x-python",
   "name": "python",
   "nbconvert_exporter": "python",
   "pygments_lexer": "ipython3",
   "version": "3.10.13"
  },
  "orig_nbformat": 4
 },
 "nbformat": 4,
 "nbformat_minor": 2
}
