{
 "cells": [
  {
   "cell_type": "code",
   "execution_count": 1,
   "metadata": {},
   "outputs": [
    {
     "name": "stdout",
     "output_type": "stream",
     "text": [
      "Max: 7\n",
      "Min: 0\n"
     ]
    }
   ],
   "source": [
    "A = [4, 1, 7, 4, 0]\n",
    "\n",
    "# tìm max - tìm min\n",
    "max_A = max(A)   \n",
    "min_A = min(A)\n",
    "\n",
    "print(f\"Max: {max_A}\")\n",
    "print(f\"Min: {min_A}\")\n"
   ]
  },
  {
   "cell_type": "code",
   "execution_count": 5,
   "metadata": {},
   "outputs": [
    {
     "ename": "IndexError",
     "evalue": "list index out of range",
     "output_type": "error",
     "traceback": [
      "\u001b[0;31m---------------------------------------------------------------------------\u001b[0m",
      "\u001b[0;31mIndexError\u001b[0m                                Traceback (most recent call last)",
      "Cell \u001b[0;32mIn[5], line 3\u001b[0m\n\u001b[1;32m      1\u001b[0m A \u001b[39m=\u001b[39m []\n\u001b[0;32m----> 3\u001b[0m _max \u001b[39m=\u001b[39m A[\u001b[39m0\u001b[39;49m]\n\u001b[1;32m      4\u001b[0m \u001b[39mfor\u001b[39;00m i \u001b[39min\u001b[39;00m \u001b[39mrange\u001b[39m(\u001b[39m1\u001b[39m, \u001b[39mlen\u001b[39m(A)):\n\u001b[1;32m      5\u001b[0m     \u001b[39mif\u001b[39;00m _max \u001b[39m<\u001b[39m A[i]:  \n",
      "\u001b[0;31mIndexError\u001b[0m: list index out of range"
     ]
    }
   ],
   "source": [
    "A = []\n",
    "\n",
    "_max = A[0]\n",
    "for i in range(1, len(A)):\n",
    "    if _max < A[i]:  \n",
    "        _max = A[i]\n",
    "_min = A[0]\n",
    "for i in range(1, len(A)):\n",
    "    if _min > A[i]:  \n",
    "        _min = A[i]\n",
    "\n",
    "print(_max)  \n",
    "print(_min)"
   ]
  },
  {
   "cell_type": "code",
   "execution_count": 11,
   "metadata": {},
   "outputs": [
    {
     "name": "stdout",
     "output_type": "stream",
     "text": [
      "- Tổng chi tiêu: 305\n",
      "Ngày chi tiêu nhiều nhất: Thứ 4 Thứ 5 \n",
      "- Trung bình chi tiêu: 50.8\n"
     ]
    }
   ],
   "source": [
    "chiTieu = []\n",
    "for i in range(6):\n",
    "    tien = int(input(f\"Nhập số tiền thứ {i + 2}: \"))\n",
    "    chiTieu.append(tien)\n",
    "\n",
    "# Tổng chi tiêu\n",
    "tongChiTieu = 0\n",
    "for i in range(len(chiTieu)):\n",
    "    tongChiTieu = tongChiTieu + chiTieu[i]\n",
    "print(\"- Tổng chi tiêu:\", tongChiTieu) \n",
    "\n",
    "# Tìm max \n",
    "print(\"Ngày chi tiêu nhiều nhất:\", end = \" \")\n",
    "maxChiTieu = max(chiTieu)\n",
    "for i in range(len(chiTieu)):\n",
    "    if chiTieu[i] == maxChiTieu:\n",
    "        print(\"Thứ\", i + 2, end = \" \")\n",
    "print()\n",
    "\n",
    "# Trung bình = Tổng / 6 (số ngày)\n",
    "trungBinhChiTieu = tongChiTieu / 6\n",
    "print(\"- Trung bình chi tiêu:\", round(trungBinhChiTieu, 1))\n",
    "\n",
    "\n"
   ]
  },
  {
   "cell_type": "code",
   "execution_count": null,
   "metadata": {},
   "outputs": [],
   "source": []
  },
  {
   "cell_type": "code",
   "execution_count": null,
   "metadata": {},
   "outputs": [],
   "source": []
  }
 ],
 "metadata": {
  "kernelspec": {
   "display_name": "Python 3",
   "language": "python",
   "name": "python3"
  },
  "language_info": {
   "codemirror_mode": {
    "name": "ipython",
    "version": 3
   },
   "file_extension": ".py",
   "mimetype": "text/x-python",
   "name": "python",
   "nbconvert_exporter": "python",
   "pygments_lexer": "ipython3",
   "version": "3.11.4"
  },
  "orig_nbformat": 4
 },
 "nbformat": 4,
 "nbformat_minor": 2
}
