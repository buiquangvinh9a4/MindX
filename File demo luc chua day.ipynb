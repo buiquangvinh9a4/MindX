{
 "cells": [
  {
   "cell_type": "code",
   "execution_count": 2,
   "metadata": {},
   "outputs": [
    {
     "name": "stdout",
     "output_type": "stream",
     "text": [
      "Thời tiết ở Hanoi:\n",
      "Nhiệt độ: 24°C\n",
      "Mô tả: clear sky\n",
      "Độ ẩm: 82%\n",
      "Tốc độ gió: 1.01 m/s\n",
      "{'coord': {'lon': 105.8412, 'lat': 21.0245}, 'weather': [{'id': 800, 'main': 'Clear', 'description': 'clear sky', 'icon': '01n'}], 'base': 'stations', 'main': {'temp': 24, 'feels_like': 24.6, 'temp_min': 24, 'temp_max': 24, 'pressure': 1014, 'humidity': 82, 'sea_level': 1014, 'grnd_level': 1013}, 'visibility': 10000, 'wind': {'speed': 1.01, 'deg': 293, 'gust': 1.07}, 'clouds': {'all': 10}, 'dt': 1729531950, 'sys': {'type': 1, 'id': 9308, 'country': 'VN', 'sunrise': 1729551276, 'sunset': 1729592837}, 'timezone': 25200, 'id': 1581130, 'name': 'Hanoi', 'cod': 200}\n"
     ]
    }
   ],
   "source": [
    "import requests\n",
    "\n",
    "# Thay 'your_api_key' bằng API Key bạn nhận được sau khi đăng ký trên OpenWeatherMap\n",
    "api_key = \"f6dec252fc46bbcab1ef973c05a768de\"\n",
    "\n",
    "# URL API OpenWeatherMap với thông tin thời tiết hiện tại của thành phố Hà Nội\n",
    "city = \"Hanoi\"\n",
    "url = f\"http://api.openweathermap.org/data/2.5/weather?q={city}&appid={api_key}&units=metric\"\n",
    "\n",
    "# Gửi yêu cầu GET đến API\n",
    "response = requests.get(url)\n",
    "\n",
    "# Kiểm tra trạng thái phản hồi\n",
    "if response.status_code == 200:\n",
    "    # Nhận kết quả dưới dạng JSON\n",
    "    weather_data = response.json()\n",
    "\n",
    "    # Lấy một số thông tin cơ bản từ phản hồi\n",
    "    temperature = weather_data['main']['temp']\n",
    "    weather_description = weather_data['weather'][0]['description']\n",
    "    humidity = weather_data['main']['humidity']\n",
    "    wind_speed = weather_data['wind']['speed']\n",
    "\n",
    "    # In ra kết quả\n",
    "    print(f\"Thời tiết ở {city}:\")\n",
    "    print(f\"Nhiệt độ: {temperature}°C\")\n",
    "    print(f\"Mô tả: {weather_description}\")\n",
    "    print(f\"Độ ẩm: {humidity}%\")\n",
    "    print(f\"Tốc độ gió: {wind_speed} m/s\")\n",
    "    print(weather_data)\n",
    "\n",
    "else:\n",
    "    print(f\"Lỗi khi gọi API: {response.status_code}\")\n"
   ]
  },
  {
   "cell_type": "code",
   "execution_count": 19,
   "id": "541f7824",
   "metadata": {},
   "outputs": [
    {
     "name": "stdout",
     "output_type": "stream",
     "text": [
      "{1: 3, 3: 3, 2: 3}\n",
      "1 1 1 3 3 3 2 2 2 "
     ]
    }
   ],
   "source": [
    "N, C = map(int, input().split())\n",
    "nums = list(map(int, input().split()))\n",
    "\n",
    "dic = {}\n",
    "\n",
    "for i in range(len(nums)):\n",
    "    if nums[i] not in dic.keys():\n",
    "        dic[nums[i]] = 1\n",
    "    else:\n",
    "        dic[nums[i]] += 1\n",
    "\n",
    "dic = dict(sorted(dic.items(), key = lambda x : x[1], reverse = True))\n",
    "\n",
    "for key in dic.keys():\n",
    "    for k in range(0, dic[key]):\n",
    "        print(key, end = ' ')\n"
   ]
  },
  {
   "cell_type": "code",
   "execution_count": 5,
   "id": "2ece2a4d",
   "metadata": {},
   "outputs": [
    {
     "name": "stdout",
     "output_type": "stream",
     "text": [
      "9\n"
     ]
    }
   ],
   "source": [
    "def bai3(N, M):\n",
    "    lst = [ ]\n",
    "    for i in range(N // 2):\n",
    "        lst.append(i + 1)\n",
    "        lst.append(N - i)\n",
    "    \n",
    "    return sum(lst[:M])\n",
    "\n",
    "N = int(input())\n",
    "M = int(input())\n",
    "print(bai3(N, M))\n"
   ]
  },
  {
   "cell_type": "code",
   "execution_count": 18,
   "id": "43af7146",
   "metadata": {},
   "outputs": [
    {
     "name": "stdout",
     "output_type": "stream",
     "text": [
      "3\n"
     ]
    }
   ],
   "source": [
    "def UCLN(a, b):\n",
    "    if b == 0:\n",
    "        return a\n",
    "    return UCLN(b, a % b)\n",
    "\n",
    "def rutgon(a, b):\n",
    "    if a == 0:\n",
    "        return a, b\n",
    "    else:\n",
    "        return int(a / UCLN(a,b)), int(b/ UCLN(a, b))\n",
    "\n",
    "A = int(input())\n",
    "B = int(input())\n",
    "C = int(input())\n",
    "\n",
    "lst = [A, B, A, C, B, A, B, C, C, A, C, B]\n",
    "lst_value = [A/B, A/C, B/A, B/C, C/A, C/B]\n",
    "min_value = min(lst_value)\n",
    "index_min = lst_value.index(min_value)\n",
    "tu = lst[index_min * 2]\n",
    "mau = lst[index_min * 2 + 1]\n",
    "\n",
    "tu, mau = rutgon(tu,mau)\n",
    "print(tu + mau)\n"
   ]
  },
  {
   "cell_type": "code",
   "execution_count": 38,
   "id": "13522218",
   "metadata": {},
   "outputs": [
    {
     "name": "stdout",
     "output_type": "stream",
     "text": [
      "0\n"
     ]
    }
   ],
   "source": [
    "A = int(input())\n",
    "B = int(input())\n",
    "C = int(input())\n",
    "\n",
    "lst = [A, B, C]\n",
    "tich = 1\n",
    "if A == 0 and B == 0 and C == 0:\n",
    "    print(0)\n",
    "elif A == 500 or B == 500 or C == 500:\n",
    "    print(0)\n",
    "else:\n",
    "    for number in lst:\n",
    "        if number != 0:\n",
    "            tich *= number\n",
    "    print(tich)"
   ]
  },
  {
   "cell_type": "code",
   "execution_count": 41,
   "id": "07e28737",
   "metadata": {},
   "outputs": [
    {
     "name": "stdout",
     "output_type": "stream",
     "text": [
      "9\n"
     ]
    }
   ],
   "source": [
    "n = int(input())\n",
    "s = 0\n",
    "for i in range(1, 2 * n, 2):\n",
    "    s = s + i\n",
    "print(s)"
   ]
  },
  {
   "cell_type": "code",
   "execution_count": null,
   "id": "9257b8c1",
   "metadata": {},
   "outputs": [],
   "source": []
  }
 ],
 "metadata": {
  "kernelspec": {
   "display_name": "Python 3",
   "language": "python",
   "name": "python3"
  },
  "language_info": {
   "codemirror_mode": {
    "name": "ipython",
    "version": 3
   },
   "file_extension": ".py",
   "mimetype": "text/x-python",
   "name": "python",
   "nbconvert_exporter": "python",
   "pygments_lexer": "ipython3",
   "version": "3.undefined.undefined"
  }
 },
 "nbformat": 4,
 "nbformat_minor": 5
}
